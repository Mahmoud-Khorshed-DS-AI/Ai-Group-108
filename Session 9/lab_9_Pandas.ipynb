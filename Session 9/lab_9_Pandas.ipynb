{
 "cells": [
  {
   "cell_type": "markdown",
   "metadata": {},
   "source": [
    "# Session 9"
   ]
  },
  {
   "cell_type": "code",
   "execution_count": 1,
   "metadata": {},
   "outputs": [],
   "source": [
    "import pandas as pd\n",
    "import numpy as np"
   ]
  },
  {
   "cell_type": "markdown",
   "metadata": {},
   "source": [
    "#### Filling null values\n",
    "\n",
    "Sometimes rather than dropping NA values, you'd rather replace them with a valid value.\n",
    "This value might be a single number like zero, or it might be some sort of imputation or interpolation from the good values.\n",
    "You could do this in-place using the ``isnull()`` method as a mask, but because it is such a common operation Pandas provides the ``fillna()`` method, which returns a copy of the array with the null values replaced.\n",
    "\n"
   ]
  },
  {
   "cell_type": "code",
   "execution_count": 2,
   "metadata": {},
   "outputs": [
    {
     "data": {
      "text/html": [
       "<div>\n",
       "<style scoped>\n",
       "    .dataframe tbody tr th:only-of-type {\n",
       "        vertical-align: middle;\n",
       "    }\n",
       "\n",
       "    .dataframe tbody tr th {\n",
       "        vertical-align: top;\n",
       "    }\n",
       "\n",
       "    .dataframe thead th {\n",
       "        text-align: right;\n",
       "    }\n",
       "</style>\n",
       "<table border=\"1\" class=\"dataframe\">\n",
       "  <thead>\n",
       "    <tr style=\"text-align: right;\">\n",
       "      <th></th>\n",
       "      <th>0</th>\n",
       "      <th>1</th>\n",
       "      <th>2</th>\n",
       "    </tr>\n",
       "  </thead>\n",
       "  <tbody>\n",
       "    <tr>\n",
       "      <th>0</th>\n",
       "      <td>1.0</td>\n",
       "      <td>NaN</td>\n",
       "      <td>2.0</td>\n",
       "    </tr>\n",
       "    <tr>\n",
       "      <th>1</th>\n",
       "      <td>2.0</td>\n",
       "      <td>3.0</td>\n",
       "      <td>5.0</td>\n",
       "    </tr>\n",
       "    <tr>\n",
       "      <th>2</th>\n",
       "      <td>NaN</td>\n",
       "      <td>4.0</td>\n",
       "      <td>NaN</td>\n",
       "    </tr>\n",
       "  </tbody>\n",
       "</table>\n",
       "</div>"
      ],
      "text/plain": [
       "     0    1    2\n",
       "0  1.0  NaN  2.0\n",
       "1  2.0  3.0  5.0\n",
       "2  NaN  4.0  NaN"
      ]
     },
     "execution_count": 2,
     "metadata": {},
     "output_type": "execute_result"
    }
   ],
   "source": [
    "df = pd.DataFrame([[1,      np.nan, 2],\n",
    "                   [2,      3,      5],\n",
    "                   [np.nan, 4,   None]])\n",
    "df"
   ]
  },
  {
   "cell_type": "markdown",
   "metadata": {},
   "source": [
    "We can fill NA entries with a single value, such as zero:"
   ]
  },
  {
   "cell_type": "code",
   "execution_count": 3,
   "metadata": {},
   "outputs": [
    {
     "data": {
      "text/html": [
       "<div>\n",
       "<style scoped>\n",
       "    .dataframe tbody tr th:only-of-type {\n",
       "        vertical-align: middle;\n",
       "    }\n",
       "\n",
       "    .dataframe tbody tr th {\n",
       "        vertical-align: top;\n",
       "    }\n",
       "\n",
       "    .dataframe thead th {\n",
       "        text-align: right;\n",
       "    }\n",
       "</style>\n",
       "<table border=\"1\" class=\"dataframe\">\n",
       "  <thead>\n",
       "    <tr style=\"text-align: right;\">\n",
       "      <th></th>\n",
       "      <th>0</th>\n",
       "      <th>1</th>\n",
       "      <th>2</th>\n",
       "    </tr>\n",
       "  </thead>\n",
       "  <tbody>\n",
       "    <tr>\n",
       "      <th>0</th>\n",
       "      <td>1.0</td>\n",
       "      <td>NaN</td>\n",
       "      <td>2.0</td>\n",
       "    </tr>\n",
       "    <tr>\n",
       "      <th>1</th>\n",
       "      <td>2.0</td>\n",
       "      <td>3.0</td>\n",
       "      <td>5.0</td>\n",
       "    </tr>\n",
       "    <tr>\n",
       "      <th>2</th>\n",
       "      <td>NaN</td>\n",
       "      <td>4.0</td>\n",
       "      <td>NaN</td>\n",
       "    </tr>\n",
       "  </tbody>\n",
       "</table>\n",
       "</div>"
      ],
      "text/plain": [
       "     0    1    2\n",
       "0  1.0  NaN  2.0\n",
       "1  2.0  3.0  5.0\n",
       "2  NaN  4.0  NaN"
      ]
     },
     "execution_count": 3,
     "metadata": {},
     "output_type": "execute_result"
    }
   ],
   "source": [
    "df"
   ]
  },
  {
   "cell_type": "code",
   "execution_count": 4,
   "metadata": {},
   "outputs": [
    {
     "data": {
      "text/html": [
       "<div>\n",
       "<style scoped>\n",
       "    .dataframe tbody tr th:only-of-type {\n",
       "        vertical-align: middle;\n",
       "    }\n",
       "\n",
       "    .dataframe tbody tr th {\n",
       "        vertical-align: top;\n",
       "    }\n",
       "\n",
       "    .dataframe thead th {\n",
       "        text-align: right;\n",
       "    }\n",
       "</style>\n",
       "<table border=\"1\" class=\"dataframe\">\n",
       "  <thead>\n",
       "    <tr style=\"text-align: right;\">\n",
       "      <th></th>\n",
       "      <th>0</th>\n",
       "      <th>1</th>\n",
       "      <th>2</th>\n",
       "    </tr>\n",
       "  </thead>\n",
       "  <tbody>\n",
       "    <tr>\n",
       "      <th>0</th>\n",
       "      <td>1.0</td>\n",
       "      <td>0.0</td>\n",
       "      <td>2.0</td>\n",
       "    </tr>\n",
       "    <tr>\n",
       "      <th>1</th>\n",
       "      <td>2.0</td>\n",
       "      <td>3.0</td>\n",
       "      <td>5.0</td>\n",
       "    </tr>\n",
       "    <tr>\n",
       "      <th>2</th>\n",
       "      <td>0.0</td>\n",
       "      <td>4.0</td>\n",
       "      <td>0.0</td>\n",
       "    </tr>\n",
       "  </tbody>\n",
       "</table>\n",
       "</div>"
      ],
      "text/plain": [
       "     0    1    2\n",
       "0  1.0  0.0  2.0\n",
       "1  2.0  3.0  5.0\n",
       "2  0.0  4.0  0.0"
      ]
     },
     "execution_count": 4,
     "metadata": {},
     "output_type": "execute_result"
    }
   ],
   "source": [
    "df.fillna( 0 ,inplace=False) #True"
   ]
  },
  {
   "cell_type": "markdown",
   "metadata": {},
   "source": [
    "We can specify a forward-fill to propagate the previous value forward:"
   ]
  },
  {
   "cell_type": "code",
   "execution_count": 5,
   "metadata": {},
   "outputs": [
    {
     "data": {
      "text/html": [
       "<div>\n",
       "<style scoped>\n",
       "    .dataframe tbody tr th:only-of-type {\n",
       "        vertical-align: middle;\n",
       "    }\n",
       "\n",
       "    .dataframe tbody tr th {\n",
       "        vertical-align: top;\n",
       "    }\n",
       "\n",
       "    .dataframe thead th {\n",
       "        text-align: right;\n",
       "    }\n",
       "</style>\n",
       "<table border=\"1\" class=\"dataframe\">\n",
       "  <thead>\n",
       "    <tr style=\"text-align: right;\">\n",
       "      <th></th>\n",
       "      <th>0</th>\n",
       "      <th>1</th>\n",
       "      <th>2</th>\n",
       "    </tr>\n",
       "  </thead>\n",
       "  <tbody>\n",
       "    <tr>\n",
       "      <th>0</th>\n",
       "      <td>1.0</td>\n",
       "      <td>NaN</td>\n",
       "      <td>2.0</td>\n",
       "    </tr>\n",
       "    <tr>\n",
       "      <th>1</th>\n",
       "      <td>2.0</td>\n",
       "      <td>3.0</td>\n",
       "      <td>5.0</td>\n",
       "    </tr>\n",
       "    <tr>\n",
       "      <th>2</th>\n",
       "      <td>NaN</td>\n",
       "      <td>4.0</td>\n",
       "      <td>NaN</td>\n",
       "    </tr>\n",
       "  </tbody>\n",
       "</table>\n",
       "</div>"
      ],
      "text/plain": [
       "     0    1    2\n",
       "0  1.0  NaN  2.0\n",
       "1  2.0  3.0  5.0\n",
       "2  NaN  4.0  NaN"
      ]
     },
     "execution_count": 5,
     "metadata": {},
     "output_type": "execute_result"
    }
   ],
   "source": [
    "df"
   ]
  },
  {
   "cell_type": "code",
   "execution_count": 6,
   "metadata": {},
   "outputs": [
    {
     "data": {
      "text/html": [
       "<div>\n",
       "<style scoped>\n",
       "    .dataframe tbody tr th:only-of-type {\n",
       "        vertical-align: middle;\n",
       "    }\n",
       "\n",
       "    .dataframe tbody tr th {\n",
       "        vertical-align: top;\n",
       "    }\n",
       "\n",
       "    .dataframe thead th {\n",
       "        text-align: right;\n",
       "    }\n",
       "</style>\n",
       "<table border=\"1\" class=\"dataframe\">\n",
       "  <thead>\n",
       "    <tr style=\"text-align: right;\">\n",
       "      <th></th>\n",
       "      <th>0</th>\n",
       "      <th>1</th>\n",
       "      <th>2</th>\n",
       "    </tr>\n",
       "  </thead>\n",
       "  <tbody>\n",
       "    <tr>\n",
       "      <th>0</th>\n",
       "      <td>1.0</td>\n",
       "      <td>NaN</td>\n",
       "      <td>2.0</td>\n",
       "    </tr>\n",
       "    <tr>\n",
       "      <th>1</th>\n",
       "      <td>2.0</td>\n",
       "      <td>3.0</td>\n",
       "      <td>5.0</td>\n",
       "    </tr>\n",
       "    <tr>\n",
       "      <th>2</th>\n",
       "      <td>2.0</td>\n",
       "      <td>4.0</td>\n",
       "      <td>5.0</td>\n",
       "    </tr>\n",
       "  </tbody>\n",
       "</table>\n",
       "</div>"
      ],
      "text/plain": [
       "     0    1    2\n",
       "0  1.0  NaN  2.0\n",
       "1  2.0  3.0  5.0\n",
       "2  2.0  4.0  5.0"
      ]
     },
     "execution_count": 6,
     "metadata": {},
     "output_type": "execute_result"
    }
   ],
   "source": [
    "# forward-fill\n",
    "df.fillna(method='ffill')"
   ]
  },
  {
   "cell_type": "markdown",
   "metadata": {},
   "source": [
    "Or we can specify a back-fill to propagate the next values backward:"
   ]
  },
  {
   "cell_type": "code",
   "execution_count": 7,
   "metadata": {},
   "outputs": [
    {
     "data": {
      "text/html": [
       "<div>\n",
       "<style scoped>\n",
       "    .dataframe tbody tr th:only-of-type {\n",
       "        vertical-align: middle;\n",
       "    }\n",
       "\n",
       "    .dataframe tbody tr th {\n",
       "        vertical-align: top;\n",
       "    }\n",
       "\n",
       "    .dataframe thead th {\n",
       "        text-align: right;\n",
       "    }\n",
       "</style>\n",
       "<table border=\"1\" class=\"dataframe\">\n",
       "  <thead>\n",
       "    <tr style=\"text-align: right;\">\n",
       "      <th></th>\n",
       "      <th>0</th>\n",
       "      <th>1</th>\n",
       "      <th>2</th>\n",
       "    </tr>\n",
       "  </thead>\n",
       "  <tbody>\n",
       "    <tr>\n",
       "      <th>0</th>\n",
       "      <td>1.0</td>\n",
       "      <td>NaN</td>\n",
       "      <td>2.0</td>\n",
       "    </tr>\n",
       "    <tr>\n",
       "      <th>1</th>\n",
       "      <td>2.0</td>\n",
       "      <td>3.0</td>\n",
       "      <td>5.0</td>\n",
       "    </tr>\n",
       "    <tr>\n",
       "      <th>2</th>\n",
       "      <td>NaN</td>\n",
       "      <td>4.0</td>\n",
       "      <td>NaN</td>\n",
       "    </tr>\n",
       "  </tbody>\n",
       "</table>\n",
       "</div>"
      ],
      "text/plain": [
       "     0    1    2\n",
       "0  1.0  NaN  2.0\n",
       "1  2.0  3.0  5.0\n",
       "2  NaN  4.0  NaN"
      ]
     },
     "execution_count": 7,
     "metadata": {},
     "output_type": "execute_result"
    }
   ],
   "source": [
    "df"
   ]
  },
  {
   "cell_type": "code",
   "execution_count": 8,
   "metadata": {},
   "outputs": [
    {
     "data": {
      "text/html": [
       "<div>\n",
       "<style scoped>\n",
       "    .dataframe tbody tr th:only-of-type {\n",
       "        vertical-align: middle;\n",
       "    }\n",
       "\n",
       "    .dataframe tbody tr th {\n",
       "        vertical-align: top;\n",
       "    }\n",
       "\n",
       "    .dataframe thead th {\n",
       "        text-align: right;\n",
       "    }\n",
       "</style>\n",
       "<table border=\"1\" class=\"dataframe\">\n",
       "  <thead>\n",
       "    <tr style=\"text-align: right;\">\n",
       "      <th></th>\n",
       "      <th>0</th>\n",
       "      <th>1</th>\n",
       "      <th>2</th>\n",
       "    </tr>\n",
       "  </thead>\n",
       "  <tbody>\n",
       "    <tr>\n",
       "      <th>0</th>\n",
       "      <td>1.0</td>\n",
       "      <td>3.0</td>\n",
       "      <td>2.0</td>\n",
       "    </tr>\n",
       "    <tr>\n",
       "      <th>1</th>\n",
       "      <td>2.0</td>\n",
       "      <td>3.0</td>\n",
       "      <td>5.0</td>\n",
       "    </tr>\n",
       "    <tr>\n",
       "      <th>2</th>\n",
       "      <td>NaN</td>\n",
       "      <td>4.0</td>\n",
       "      <td>NaN</td>\n",
       "    </tr>\n",
       "  </tbody>\n",
       "</table>\n",
       "</div>"
      ],
      "text/plain": [
       "     0    1    2\n",
       "0  1.0  3.0  2.0\n",
       "1  2.0  3.0  5.0\n",
       "2  NaN  4.0  NaN"
      ]
     },
     "execution_count": 8,
     "metadata": {},
     "output_type": "execute_result"
    }
   ],
   "source": [
    "# back-fill\n",
    "df.fillna(method='bfill')"
   ]
  },
  {
   "cell_type": "markdown",
   "metadata": {},
   "source": [
    "For ``DataFrame``s, the options are similar, but we can also specify an ``axis`` along which the fills take place:"
   ]
  },
  {
   "cell_type": "code",
   "execution_count": 9,
   "metadata": {},
   "outputs": [
    {
     "data": {
      "text/html": [
       "<div>\n",
       "<style scoped>\n",
       "    .dataframe tbody tr th:only-of-type {\n",
       "        vertical-align: middle;\n",
       "    }\n",
       "\n",
       "    .dataframe tbody tr th {\n",
       "        vertical-align: top;\n",
       "    }\n",
       "\n",
       "    .dataframe thead th {\n",
       "        text-align: right;\n",
       "    }\n",
       "</style>\n",
       "<table border=\"1\" class=\"dataframe\">\n",
       "  <thead>\n",
       "    <tr style=\"text-align: right;\">\n",
       "      <th></th>\n",
       "      <th>0</th>\n",
       "      <th>1</th>\n",
       "      <th>2</th>\n",
       "    </tr>\n",
       "  </thead>\n",
       "  <tbody>\n",
       "    <tr>\n",
       "      <th>0</th>\n",
       "      <td>1.0</td>\n",
       "      <td>NaN</td>\n",
       "      <td>2.0</td>\n",
       "    </tr>\n",
       "    <tr>\n",
       "      <th>1</th>\n",
       "      <td>2.0</td>\n",
       "      <td>3.0</td>\n",
       "      <td>5.0</td>\n",
       "    </tr>\n",
       "    <tr>\n",
       "      <th>2</th>\n",
       "      <td>NaN</td>\n",
       "      <td>4.0</td>\n",
       "      <td>NaN</td>\n",
       "    </tr>\n",
       "  </tbody>\n",
       "</table>\n",
       "</div>"
      ],
      "text/plain": [
       "     0    1    2\n",
       "0  1.0  NaN  2.0\n",
       "1  2.0  3.0  5.0\n",
       "2  NaN  4.0  NaN"
      ]
     },
     "execution_count": 9,
     "metadata": {},
     "output_type": "execute_result"
    }
   ],
   "source": [
    "df"
   ]
  },
  {
   "cell_type": "markdown",
   "metadata": {},
   "source": [
    "Task\n",
    "\n",
    "1- Create dataframe with 3 rows 3 columns and put nulls\n",
    "\n",
    "2- drop rows with nulls\n",
    "\n",
    "3-  drop columns with nulls\n",
    "\n",
    "4- fill nulls in your data by forwardfill\n",
    "\n",
    "**Bonus**\n",
    "\n",
    "5- Fill using mean of column"
   ]
  },
  {
   "cell_type": "code",
   "execution_count": 11,
   "metadata": {},
   "outputs": [
    {
     "data": {
      "text/html": [
       "<div>\n",
       "<style scoped>\n",
       "    .dataframe tbody tr th:only-of-type {\n",
       "        vertical-align: middle;\n",
       "    }\n",
       "\n",
       "    .dataframe tbody tr th {\n",
       "        vertical-align: top;\n",
       "    }\n",
       "\n",
       "    .dataframe thead th {\n",
       "        text-align: right;\n",
       "    }\n",
       "</style>\n",
       "<table border=\"1\" class=\"dataframe\">\n",
       "  <thead>\n",
       "    <tr style=\"text-align: right;\">\n",
       "      <th></th>\n",
       "      <th>0</th>\n",
       "      <th>1</th>\n",
       "      <th>2</th>\n",
       "    </tr>\n",
       "  </thead>\n",
       "  <tbody>\n",
       "    <tr>\n",
       "      <th>0</th>\n",
       "      <td>1.0</td>\n",
       "      <td>NaN</td>\n",
       "      <td>2.0</td>\n",
       "    </tr>\n",
       "    <tr>\n",
       "      <th>1</th>\n",
       "      <td>2.0</td>\n",
       "      <td>3.0</td>\n",
       "      <td>5.0</td>\n",
       "    </tr>\n",
       "    <tr>\n",
       "      <th>2</th>\n",
       "      <td>NaN</td>\n",
       "      <td>4.0</td>\n",
       "      <td>NaN</td>\n",
       "    </tr>\n",
       "  </tbody>\n",
       "</table>\n",
       "</div>"
      ],
      "text/plain": [
       "     0    1    2\n",
       "0  1.0  NaN  2.0\n",
       "1  2.0  3.0  5.0\n",
       "2  NaN  4.0  NaN"
      ]
     },
     "execution_count": 11,
     "metadata": {},
     "output_type": "execute_result"
    }
   ],
   "source": [
    "df"
   ]
  },
  {
   "cell_type": "code",
   "execution_count": 10,
   "metadata": {},
   "outputs": [
    {
     "data": {
      "text/plain": [
       "0    1.5\n",
       "1    3.5\n",
       "2    3.5\n",
       "dtype: float64"
      ]
     },
     "execution_count": 10,
     "metadata": {},
     "output_type": "execute_result"
    }
   ],
   "source": [
    "df.mean()"
   ]
  },
  {
   "cell_type": "code",
   "execution_count": 12,
   "metadata": {},
   "outputs": [
    {
     "data": {
      "text/html": [
       "<div>\n",
       "<style scoped>\n",
       "    .dataframe tbody tr th:only-of-type {\n",
       "        vertical-align: middle;\n",
       "    }\n",
       "\n",
       "    .dataframe tbody tr th {\n",
       "        vertical-align: top;\n",
       "    }\n",
       "\n",
       "    .dataframe thead th {\n",
       "        text-align: right;\n",
       "    }\n",
       "</style>\n",
       "<table border=\"1\" class=\"dataframe\">\n",
       "  <thead>\n",
       "    <tr style=\"text-align: right;\">\n",
       "      <th></th>\n",
       "      <th>0</th>\n",
       "      <th>1</th>\n",
       "      <th>2</th>\n",
       "    </tr>\n",
       "  </thead>\n",
       "  <tbody>\n",
       "    <tr>\n",
       "      <th>0</th>\n",
       "      <td>1.0</td>\n",
       "      <td>3.5</td>\n",
       "      <td>2.0</td>\n",
       "    </tr>\n",
       "    <tr>\n",
       "      <th>1</th>\n",
       "      <td>2.0</td>\n",
       "      <td>3.0</td>\n",
       "      <td>5.0</td>\n",
       "    </tr>\n",
       "    <tr>\n",
       "      <th>2</th>\n",
       "      <td>1.5</td>\n",
       "      <td>4.0</td>\n",
       "      <td>3.5</td>\n",
       "    </tr>\n",
       "  </tbody>\n",
       "</table>\n",
       "</div>"
      ],
      "text/plain": [
       "     0    1    2\n",
       "0  1.0  3.5  2.0\n",
       "1  2.0  3.0  5.0\n",
       "2  1.5  4.0  3.5"
      ]
     },
     "execution_count": 12,
     "metadata": {},
     "output_type": "execute_result"
    }
   ],
   "source": [
    "df.fillna(df.mean())"
   ]
  },
  {
   "cell_type": "markdown",
   "metadata": {},
   "source": [
    "### Useful Pandas functions:\n",
    "\n",
    "![image.png](data:image/png;base64,iVBORw0KGgoAAAANSUhEUgAABLAAAAKvCAYAAAB6cTa7AAAK4GlDQ1BJQ0MgUHJvZmlsZQAASImVlwdUU1kagP/3UgkJARIQkBJ6E6QTQHoNoCAdRCUkAUIJMQEU7MrgCI4KIiJYBnBURMHREZCxIBasKDbsAzIoKOtgwYbKPmAJM7Nnd8/+79x3v/O///7lnnvP+R8ALZgrFqejigAZoixJmL8XKyY2jkV6BigQQQlsgc3lScWeoaHBgMnk/Fd5fxeQsfmWxZivf//+X0WZL5DyAJB4jBP5Ul4Gxq3YGOKJJVkAuMOYXn9xlniMb2PMlGAJYtw/xskT/GWME8cZrzhuExHmjbEBAJnK5UqSAahWmJ6Vw0vG/FBDMbYS8YUijFdh7MZL4fIxxuLCjIyMzDEexNgEsxcD0JgYsxP/5DP5L/4TZf653GQZT9Q1LmQfoVSczs39P7fmf0tGevZkDCNsUFMkAWHYrIbt3720zCAZixLnhEyykD9uP84p2QGRk8yTesdNMp/rEyRbmz4neJKThH4cmZ8sTsQkC6S+4ZMsyQyTxUqSeHtOMlcyFTc7LVKmTxFwZP7zUiKiJzlHGDVnkqVp4UFTNt4yvSQ7TJa/QOTvNRXXT1Z7hvRP9Qo5srVZKREBstq5U/kLRJ5TPqUxstz4Ah/fKZtImb04y0sWS5weKrMXpPvL9NKccNnaLOxwTq0Nle1hKjcwdJLBBwSQjj0siAQ7cAJrbPhAdJZgSdZYMd6Z4lyJMDkli+WJ3TgBiyPiWc5g2VjZ2ACM3d+JI/E2bPxeIqqnpnSZe7Cj/B67M8VTusRSgKYCLPSDKZ3BLgB6PkBjGy9bkjOhw4+9CEABOjBBHbRBH0zAAmzAAVzAA3whEEIgAmJhAfAgBTJAAothGayGAiiCzbAVKmA31MB+OARHoAlOwBm4AFfgBtyBh9ANffAShuA9jCAIQkJoCANRR3QQQ8QcsUHYiBviiwQjYUgskoAkIyIkG1mGrEWKkBKkAqlCapGfkePIGeQS0oncR3qQAeQN8hnFoVSUiWqhRuhMlI16okFoBDofTUYXoXloProRLUer0YNoI3oGvYLeQbvRl+gwDnDyOFWcLs4Cx8Z540JwcbgknAS3AleIK8NV4+pxLbh23C1cN24Q9wlPxDPwLLwF3gUfgI/E8/CL8CvwG/AV+P34Rvw5/C18D34I/41AI2gSzAnOBA4hhpBMWEwoIJQR9hKOEc4T7hD6CO+JRKIq0ZjoSAwgxhJTiUuJG4g7iQ3EVmInsZc4TCKR1EnmJFdSCIlLyiIVkLaTDpJOk26S+kgfyfJkHbIN2Y8cRxaR15DLyAfIp8g3yc/JI3KKcoZyznIhcny5XLlNcnvkWuSuy/XJjVCUKMYUV0oEJZWymlJOqaecpzyivJWXl9eTd5KfKy+UXyVfLn9Y/qJ8j/wnqjLVjOpNjadmUzdS91Fbqfepb2k0mhHNgxZHy6JtpNXSztKe0D4qMBQsFTgKfIWVCpUKjQo3FV7R5eiGdE/6AnoevYx+lH6dPqgop2ik6K3IVVyhWKl4XLFLcViJoWStFKKUobRB6YDSJaV+ZZKykbKvMl85X7lG+axyLwPH0Gd4M3iMtYw9jPOMPiaRaczkMFOZRcxDzA7mkIqyip1KlMoSlUqVkyrdqjhVI1WOarrqJtUjqndVP0/TmuY5TTBt/bT6aTenfVCbruahJlArVGtQu6P2WZ2l7quepl6s3qT+WAOvYaYxV2Oxxi6N8xqD05nTXabzphdOPzL9gSaqaaYZprlUs0bzquawlraWv5ZYa7vWWa1BbVVtD+1U7VLtU9oDOgwdNx2hTqnOaZ0XLBWWJyudVc46xxrS1dQN0M3WrdLt0B3RM9aL1Fuj16D3WJ+iz9ZP0i/Vb9MfMtAxmG2wzKDO4IGhnCHbMMVwm2G74QcjY6Noo3VGTUb9xmrGHOM84zrjRyY0E3eTRSbVJrdNiaZs0zTTnaY3zFAze7MUs0qz6+aouYO50HyneecMwgynGaIZ1TO6LKgWnhY5FnUWPZaqlsGWayybLF/NNJgZN7N4ZvvMb1b2VulWe6weWitbB1qvsW6xfmNjZsOzqbS5bUuz9bNdadts+9rO3E5gt8vunj3Dfrb9Ovs2+68Ojg4Sh3qHAUcDxwTHHY5dbCY7lL2BfdGJ4OTltNLphNMnZwfnLOcjzn+4WLikuRxw6Z9lPEswa8+sXlc9V65rlWu3G8stwe1Ht253XXeue7X7Uw99D77HXo/nnqaeqZ4HPV95WXlJvI55ffB29l7u3eqD8/H3KfTp8FX2jfSt8H3ip+eX7FfnN+Rv77/UvzWAEBAUUBzQxdHi8Di1nKFAx8DlgeeCqEHhQRVBT4PNgiXBLbPR2YGzt8x+NMdwjmhOUwiEcEK2hDwONQ5dFPrrXOLc0LmVc5+FWYctC2sPZ4QvDD8Q/j7CK2JTxMNIk8jsyLYoelR8VG3Uh2if6JLo7piZMctjrsRqxApjm+NIcVFxe+OG5/nO2zqvL94+viD+7nzj+UvmX1qgsSB9wcmF9IXchUcTCAnRCQcSvnBDuNXc4URO4o7EIZ43bxvvJd+DX8ofELgKSgTPk1yTSpL6k12TtyQPpLinlKUMCr2FFcLXqQGpu1M/pIWk7UsbTY9Ob8ggZyRkHBcpi9JE5zK1M5dkdorNxQXi7kXOi7YuGpIESfZKEel8aXMWE2uUrmabZH+X3ZPjllOZ83Fx1OKjS5SWiJZczTXLXZ/7PM8v76el+KW8pW3LdJetXtaz3HN51QpkReKKtpX6K/NX9q3yX7V/NWV12upra6zWlKx5tzZ6bUu+Vv6q/N7v/L+rK1AokBR0rXNZt/t7/PfC7zvW267fvv5bIb/wcpFVUVnRlw28DZd/sP6h/IfRjUkbOzY5bNq1mbhZtPlusXvx/hKlkryS3i2ztzSWskoLS99tXbj1Upld2e5tlG3Z27rLg8ubtxts37z9S0VKxZ1Kr8qGHZo71u/4sJO/8+Yuj131u7V2F+3+/KPwx3tV/lWN1UbVZTXEmpyaZ3ui9rT/xP6pdq/G3qK9X/eJ9nXvD9t/rtaxtvaA5oFNdWhddt3AwfiDNw75HGqut6ivalBtKDoMh7MPv/g54ee7R4KOtB1lH63/xfCXHccYxwobkcbcxqGmlKbu5tjmzuOBx9taXFqO/Wr5674TuicqT6qc3HSKcir/1OjpvNPDreLWwTPJZ3rbFrY9PBtz9va5uec6zgedv3jB78LZds/20xddL5645Hzp+GX25aYrDlcar9pfPXbN/tqxDoeOxuuO15tvON1o6ZzVeeqm+80zt3xuXbjNuX3lzpw7nXcj797riu/qvse/138//f7rBzkPRh6uekR4VPhY8XHZE80n1b+Z/tbQ7dB9ssen5+rT8KcPe3m9L3+X/v6lL/8Z7VnZc53ntf02/ScG/AZuvJj3ou+l+OXIYME/lP6x45XJq1/+8Pjj6lDMUN9ryevRNxveqr/d987uXdtw6PCT9xnvRz4UflT/uP8T+1P75+jPz0cWfyF9Kf9q+rXlW9C3R6MZo6NiroQ73grgsIEmJQG82Yf1x7EAjBsAlHkT/fW4IBP/BOME/4knevBxcQCo6QKIWAoQfA1gewXW0mL+6dh/QSgd07sAamsrG/8SaZKtzYQvqjvWmjweHX1rAkAqBvhaPDo6UjM6+rUGS/YhQGvuRF8/JooHAaroVnY+wfc/9sDfZaLn/1ONf59hLAM7+Pv8T6pjHbcuo1c6AAAAVmVYSWZNTQAqAAAACAABh2kABAAAAAEAAAAaAAAAAAADkoYABwAAABIAAABEoAIABAAAAAEAAASwoAMABAAAAAEAAAKvAAAAAEFTQ0lJAAAAU2NyZWVuc2hvdCXUB0gAAAHXaVRYdFhNTDpjb20uYWRvYmUueG1wAAAAAAA8eDp4bXBtZXRhIHhtbG5zOng9ImFkb2JlOm5zOm1ldGEvIiB4OnhtcHRrPSJYTVAgQ29yZSA2LjAuMCI+CiAgIDxyZGY6UkRGIHhtbG5zOnJkZj0iaHR0cDovL3d3dy53My5vcmcvMTk5OS8wMi8yMi1yZGYtc3ludGF4LW5zIyI+CiAgICAgIDxyZGY6RGVzY3JpcHRpb24gcmRmOmFib3V0PSIiCiAgICAgICAgICAgIHhtbG5zOmV4aWY9Imh0dHA6Ly9ucy5hZG9iZS5jb20vZXhpZi8xLjAvIj4KICAgICAgICAgPGV4aWY6UGl4ZWxZRGltZW5zaW9uPjY4NzwvZXhpZjpQaXhlbFlEaW1lbnNpb24+CiAgICAgICAgIDxleGlmOlBpeGVsWERpbWVuc2lvbj4xMjAwPC9leGlmOlBpeGVsWERpbWVuc2lvbj4KICAgICAgICAgPGV4aWY6VXNlckNvbW1lbnQ+U2NyZWVuc2hvdDwvZXhpZjpVc2VyQ29tbWVudD4KICAgICAgPC9yZGY6RGVzY3JpcHRpb24+CiAgIDwvcmRmOlJERj4KPC94OnhtcG1ldGE+Ch1EuhYAAEAASURBVHgB7J0HWBXHFsePimBDBFFRFLH33ruxJVFTNLGkmmqa6S+mmRdfeu/dxMR0TWIsKXaNGnuvWLGDWFBUqsCb/+Asc/fubdwLXOCc77vu7uzM7Mxv917dv+ecKZUtjNiYABNgAkyACTABJsAEmAATYAJMgAkwASbABJiAnxIo7afj4mExASbABJgAE2ACTIAJMAEmwASYABNgAkyACTABSYAFLH4QmAATYAJMgAkwASbABJgAE2ACTIAJMAEmwAT8mkCAp6Ob126Kp024PhNgAkyACTABJuADAoM2jvFBL9wFE2ACTIAJMAEmwASYABMoegTYA6vo3TMeMRNgAkyACTABJsAEmAATYAJMgAkwASbABEoUARawStTt5skyASbABJgAE2ACTIAJMAEmwASYABNgAkyg6BFgAavo3TMeMRNgAkyACTABJsAEmAATYAJMgAkwASbABEoUARawStTt5skyASbABJgAE2ACTIAJMAEmwASYABNgAkyg6BFgAavo3TMeMRNgAkyACTABJsAEmAATYAJMgAkwASbABEoUARawStTt5skyASbABJgAE2ACTIAJMAEmwASYABNgAkyg6BFgAavo3TMeMRNgAkyACTABJsAEmAATYAJMgAkwASbABEoUARawStTt5skyASbABJgAE2ACTIAJMAEmwASYABNgAkyg6BFgAavo3TMeMRNgAkyACTABJsAEmAATYAJMgAkwASbABEoUARawStTt5skyASbABJgAE2ACTIAJMAEmwASYABNgAkyg6BEIKHpD5hEzASbABJgAE2ACTIAJMIH8JzB16lSqU6cOde/ePf8v5sYV9u/fT9OmTTNq3nrrrVSrVi3jmHecE4iPj6cZM2bQqFGjKDQ01HllPssEmAATYAJ+R6BUtjBPRjWv3RRPqnNdJsAEmAATYAJMwEcEBm0c46OeuBtfEkhMTKStW7can5SUFIqOjqZ69erJT8uWLalq1aq+vGSR7CshIYGWLl1K/fv3LxLiwYULF6Q4lJSURF27dqWVK1facV+1ahWtWbOG9u3bRydOnJD3u2nTptS5c2dq0qSJXX1vC/7++28aPHiw0Q3GhLEpK0jGeIVYsmQJlStXjrp166aG4Nfbl156iZ577jk55p9++omuvfZah+PdvHkzqdckfJdDQkIc1uUT/kugIL8T/kuBR8YEig8B9sAqPveSZ8IEmAATYAJMgAkUIIFDhw7R/fffT3/++afTqwYGBtLw4cPp+eefJ4gbJdHmzp1LV111FWVkZFBQUJAUsiDy+LP9/PPPBPEK1rp1a5uh/vPPPzRhwgRavny5Tbk6KF26NI0dO5YgmBSUeFnQjPv27SvvI+YMIej3339X0/fLbVZWFk2aNEmODc9hhw4dHI4TQmufPn2M8w8++CB98MEHxjHvFA0CBf2dKBpUeJRMoGgT4BxYRfv+8eiZABNgAkyACTCBAiaAF+EPP/yQWrRo4VK8wtDS09MJYkj79u0JXh8l0aZMmSLFK8w9LS2NvvjiC7/H8PnnnxtjvOeee4x9eB0NGjTIoXiFinhGPvvsM7rsssuMdvm9U5CMd+/ebYhXmNfMmTPp8OHD+T1Fr/qfM2cOQXSGwYsNoaGO7P3337c59c033xhips0JPvBrAgX5nfBrEDw4JlCMCLCAVYxuJk+FCTABJsAEmAATyH8CTz31FD300EN0/vx5m4uVKVOGEC4Iz6JKlSrZnMMBztetW9euvCQUtGnTxmaa5mObk35wsGHDBlq7dq0cSceOHaX4iAPkUIK3EURJZfCw69mzp/TogXeZsrCwMPrxxx/VYb5vzUzNxzExMdS2bVvjs3jxYodjevjhh416I0eOtKsH8QfzU1azZk2qXr26OvTLrSNB0jzYAwcOSEFOLz937hx9/fXXehHvFzIBV88ohmf+DpiPC3kKfHkmwATyQIBDCPMAjZswASbABJgAE2ACJZMARI133nnHZvJIov3JJ59Ir5zy5cvLc8idAy+VZ599ln777TeqWLEiIX+RvyQDt5lAARw88MADVKpUKVqwYIH0fkF4nT+b7iGme19B9Dl79qwxdIhbf/zxB9WoUUOWpaam0rhx42SidXj8QNAsKHPFGLnZkNdJmT4PVaa2EHH0uqpcbfGcz5o1iz7++GMZEopr6+Kdqucv2yNHjhjeklFRUXTllVc6HNpHH31EmZmZdudRDuEazzFb4RNw9YxihK6+E4U/Cx4BE2ACnhJgActTYlyfCTABJsAEmAATKJEE4HVzxx132LzcDhw4UIYFmvMc4SUXSbx//fVXKVwhAXRJFa/wsMAjbfz48fLj7w8PPOuU51TlypXphhtuMIa8bNkyYx87r7zyiiFe4RgJzb/88ktZXtAeSQXNuEePHoRPUbCvvvrK+N7eddddhBxlVoZ7j7rK4F2nvO327t1Lf/31Fw0ZMkSd5q2fEyjo74Sf4+DhMYFiQYAFrGJxG3kSTIAJMAEmwASYQH4T+OWXX2jbtm3GZapUqULfffedyyTdzrw9Ll68KMPSVKcREREUEBBAR48epUWLFslcSiNGjKAKFSqoKnJ78uRJueohvLzgAdaqVSsZnujIOwQ5mY4dO2b0oa5jFIgdhMdhPDBcTw8RO336NCUnJ8tzEHXwQd3t27fT+vXrCSyQ4ytarL5oZbh+XFycsaobxB2IA8oc9Y9V9nbu3Ck9mRD+A082ZwbPmV27dhFCACFSdOrUiRo2bCi9Zk6dOkXwQoKZ56f3CfEKIWOwm2++2eaa6EO3HTt2EERMs1mJV+Z7Xbt2bdkMqxfCsw9eQriPmKf5fpv7tzp2xPj48eMy/xj61w1zUWVly5alatWqGc/ImTNnjKpIeK7qoRBiLTywUEeF0UK4Cw8PN9r46n6iQ/S1ceNGgoAEURhebxAmMC7MTZnVM41zeCaUKIXv1p133qma2G2//fZbOS91Al5mavEBlCGRu7sCli+exbz0YX7OFBdXvyloh+8OVlTF9wTPIfL8ueNZl5dxKsbYQiTEbxm+T1g1EB6N+D1p0KCBXk3+HqrfMXeeUUffCXRq5qS+j+h/4cKF8juIMWAFSlfmzfzxGwrG+J1iYwJMwDUBFrBcM+IaTIAJMAEmwASYABOQL9E6Bqwwp0LH9HJP9qdPn06jRo0ymqxevVp6KWGVO2Vdu3aVL+443rRpE9133320atUqddrYRkZG0ttvv23Tnzo5Y8YMuu6669ShFOLwcqob8jjt27dPFt144430ww8/GKdxDkIS7LnnnpOCErzRLly4YNTBDl4CIRYgybluWA0MibOVQZjCvJSZ+0e+MIRqqlUAUQ/iFUL7MDYrQxjnk08+aYgqqg4EPggR//3vf6UHDcpvuukm+v7771UVm62zXEkY57Rp04z68MCC8AMvLUfioapsvtcQZiBO4mVZN8z9lltukQsFQKhx1xwx7tevnxQGzP3AE0lZ8+bN6eWXX6Zhw4apImMLUUFPeI75Y9yXX345rVmzRtbDPkImlfnifh48eJDGjBlD+ncB/asVHnGuW7du6pK0Z88eSxEAXlMqwTzEKDwPVoawX32lQeQLw7yGDh1qrLA4b948+T1o1qyZVRdGmS+exbz2YX7OXP2mQDx68803pdegEqnVRCCkvvXWW/I3R5WZt3kdJ/rB7wd+T7AoBgQls0EsxD2pX7++PIXvsSfPqKPvBDozc4JAit9Ic+gsBGqI2rpAq4/Tm/lfc8018rcJvx34Puqhy/o1eJ8JMIFcAixg5bLgPSbABJgAE2ACTIAJOCSwZcsWm3NI5m1l8NKCF4OVwdMFL0lK7MBLs24QZ5SIpJdjHy+SSCCP/+23MnhYjB49Wr5s4eUMQogyeKt4Y/o4sZLi/v37pTeEuU946lxxxRX0wgsv0IQJE8ynHR7r/cOrDfltzIaXXQhPCMfUvWDQ9vrrr5cvpOY2OIZHBVYDdEcMWrdunfTeQjsIbK1bt8auYX379jX2sQNvEYwJ8wV7iJGOxA19jmiLvszPFMpxf7HqHcIV4YWHnE0FYd4+I/oY9bl6ej/RD0QrfL90LxvVP7xqsMKjsyT0qi62uiig5zPT62AfAhw8kJQpT63bb7/dELBwDmILRAsr88Wz6G0fOnuM0dlvCrwu8d1Agn8rg6B1//33E0QwPJO6eTtO/EZCUIRQ6cj+/PNPeU/goQgvz/x6RnH9q6++2lLonT9/vhTflVirxurt/OG5CkEOhr4g/D/zzDMOvVjVdXnLBEo6AesA8JJOhefPBJgAE2ACTIAJMAETAf1/5kNDQwkeT1aGvFd4abT6wHMlLS3Nqpks08UrPcRuxYoVduIVBKrGjRvbhLihE7wUvfbaaw6v4e0JeCpARIAhnAwhNkqQQxlexp5//nnpLYZjT02JVwhTswrfefHFF226xIs1BDvdIBTCa0PlJkNIIEIYXZkrsQMhfo8++qhdNxA+/ve//xE8meCxAU8dV6bEK9zHRo0a2QlseBasruWqX/N5eAnCewQCgG64ZyjHB88zwpjUsf7soY0qx9adkDL9Op7eT3gE3X333XbiFeaBVTwRBgjTxSb9evr+oUOHDK87PEtmz0C97vvvv28cYo4QJmEIAdY9Lc1hhkYjseOLZ9EXfehjcvSbgjrwolTiFb4zWNkPnpdggWdZ2ZQpU2jJkiXqUG69HSe+n2pVVoQkY/GDSZMmyd8OhIkqw++NWgEyv55RXAuehjB4GwYHB8t99QcENN3DEOXezt/svYrvnDsiuxoTb5lASSXAAlZJvfM8bybABJgAE2ACTMBtAvBEgLeNMoSN5Zfddttt0oMLK9rhmnjxRriU7nkFTxJ4p+AlHqvJwSNFrYCIcUFMQUhVflnNmjUJ4TnIxQVvLAgFAwYMMC4Hgevxxx83jj3dQUgeQuzQN14e9bnBS0qFG4HR008/bdP9f/7zH8kEL+4Yn75KoE1F0wHCFeFdBoPYo4d26lUR2ojwUUf5uLDSIkLP3n33Xb2Z5T68ezBP5P/BfZw8ebJNvxDmzInjLTtyUggvLuTZwlY39I1yfJYvXy49UNQxvOiUIReSKscWniqemrv3E/3Cu0l/diHu/fvvvzJHG8QwfCcQYumOwatFia0QxXShVW+P8FhddESYGkQ9GAQz/XoQHnCfzOaLZ9EXfZjHhWOr3xQIVVgZVRnE2/fee08K71htEXnH2rVrp05L7yB14Itx4vuD8E6s1ArxCJ5tCKObOHGi/M7DO0sZvKBgePbUs+jrZxTfeYh0+C1Dfjj8B4RuCHtW5ov59+rVS/6uo0/kG3z11VelUKyuwVsmwASsCbCAZc2FS5kAE2ACTIAJMAEmYBBALhiINspiY2N9Gs6i+sULGrwNWrZsKV+2VWJteCEow8s1BCv1v/Xw4IGghRBDZQi1MecOUue83UIEgPihe7Mg9xWEIogNyiCKKKFJlbmzhXCAl2kkBofBG0N5w+AYQh7CJWEQHvRE3ki6jnw+uuCFcEN4kLgy5LlRSclvvfVWmz7MbfHSjXBJXAteWVb22GOP0dSpU61OyTK8gEMIgfcJDLmdIGjpeZhQjpfqomye3E/MUw8NhFcK8rfpK3iiP9xPvcyKD549lbwd3kXwNnJkYA7PQWXmuhCAdPvoo48MYUyV++JZ9EUfajxqa/WbAq5KFEI9fH/17xjKUAceWcoQ8qZEdF+NEyIWxGB4s0KQR/g1frcgJkZHR6tL2ywiYBT6eOeJJ56gPn36yF7xvLzxxhs2V4CwpcwX88fvKLy4MG+EOT/yyCOqe94yASbghAALWE7g8CkmwASYABNgAkyACSgC8ERRBoFI9xJR5djCgwAvw+qje2/o9az2kaDdbHhx1A0eRlZ27733GqIWzpvbWbXJSxkSdOsJ2FUfCO958MEH1aFcWUwPXzJOuNjByl9KnFNVdU8QlCHMDIYXSd0eeOAB/dDYh0eUClcyCk07evL2sWPHms7aH8JjA/cCoYDwIMF9Nnv4/Pbbb/YNL5XghdnKIGKp0EecV6FNVnWLQpkn9xPz0e8p8jPpoWxqvuAMjypnhvxJSuhEPi09DFBvl5iYSAgL1A0iCpL+qw+ESD2nHATs2bNn601sxo0TeXkW9bnntQ+bQYkDq98U1NF/HyDGQjDGHPWPLtzhO6fyVflqnGCPvE+4xxAmIQYjNxy+r/DIUqa+7+o4P7a9e/e26Raimu5pq4/BV/PHBZHTz9OwXJuB8gETKGEEWMAqYTecp8sEmAATYAJMgAnkjYAuYKGHjz/+OG8dOWmlr/amquHlUjdHSb3hwaO3R/idI1NhVY7OOyt3JgTpXmroQwkIzvozn8OLrNnMgpY6b+4fniSOzJGAgfpI0IwVHmEQ6MwrNMoTTv5A4naIIFZCiKNmjjhCnImIiDCamedonCgiO57cT0xJn29e7yf60QVJZ8nbkXfJvPoeVmRErjX9o7yP0DfM7Cmnjxvn8zJ2X/SBa+um/ybo5ebfB/wmmD96feyrNr4YJ8Jm4bGJ0DmzIGS+ru4dZz7nq2NPnlNfzN9X4+Z+mEBJIxBQ0iZc1OYbWLUcVYwOoezMbEo/nUJpJ1MoM9l+mdmiNi8eLxPwRwL8ffPHu8JjYgL+Q6BLly42g8ELMrxA2rZta1Pu6wO1hLzqF55fVi/H8BBAjiBlTZs2Vbt2W+RbMhtyy7hjzpJn69dHX+axu9O/VR2Ic1bWoEEDm2J4Q1mxgcccXpgdmbtih6P2qhy5npB4Hbm3YMjXhJxJVvmywNE8frRB6JsuWvqKIfr2F3N0PzE+MFGreKpE91bjRriZI8NziBxtsIYNG1K/fv0sq0KUyqsQjZxiGAPCfWHme5mXZ9EXfVhO1KIQvw8bNmyQZ+AFZOVVaW6mPJJ8MU6ELCLXlDJ4YWGRC4wL3o3IhWb2clN1C2rr6Dn1xfwLag58HSZQ3AiwgOWHd7Ryi3Bq/EgHCm4USmVDgmxGmJlykRZ2/8GmzJcHTf7TicI65+b4yL6YRVsnLKML++3/oevL63JfTKCwCBTm962w5szXZQJMIG8EEIaEMJOlS5fKDvDye91119HPP/9MnTp1ylunbrTq0KGDTa0XXniBEFplNuRjSklJMYoRuqVM5ZNSx/A4gqeRslWrVhGSmLtjakUuPYky2mGlPz1xObymHHkZuXMdd+qY808hoXv//v3tQnKwKiNyzVgZxDzcQxiSKV9//fVW1YwysMMqi8hfY/bqAkOVRwsN4GFiJV7hHHL/YIU7c9ghVoDTBUYlkKCNL00XD5z16249Z314cg73VAlYeNaQWB/CoG4QCPWcb/o57H/55ZdGjiqEg5oZq/q///67TNqtjiF2mZ8pdQ5bhMTqohq8sNTKleZ2eXkWfdGHPl5n+/hdUQIWnmMkVDcLNhB+kX8PHoa6eTtOPN96COPw4cMJq7fq98lRqLQ+DrVfGM+ouja2ebnXqj282pBvzEp4V3V4ywSYQC4B6//Oyj2f/3ulS1HpwNI2n1IBHg6rlEh8aeqDRL9F0WoOqU+dvrqCwjpG2IlXmE/GubR8nVb5WpWkcAbxDJ/KzapSlTbVvb4m7qn5HpmPyYe3zHy9UmU9fKa0GZv7UuMuVcbzAau2+la7lLHr6Jp6O+x7My/jYm7umMfky2uXrRJE1XrXpqgbm1HT8Z2p7TuXUcsXe1K9O1tR9X5RVLF+iPiSe87b1dQK+/vmanxF+Ty82cK61qQKUTnJiYvyXHjsTEARwMsVkm4jobsyvHz06NGDnnvuOYIIpASktLQ0+aL71FNPyRdDVT8v21q1atmsBrZEJPXGCl0qsTte5nF95OtRhjHqXifR0dHqlNwibEeFzG3evJn0XDc2FR0cjBw5UrKAdxGEvNWrV0tBDMmIlQ0ePNjmhVSV+3ILwUEX6iAuIOk7PDcOHz4sxwUvOZ2N+fpYjU2FkGG1R7PYp9dHYnqstjhnzhyZRBzXUcIYVkdE7h6sUKasc+fOatdui1XNIGApjzasRoiQNTwzypCPyCwUqnOebuHVohsEC5XXB0KFbnpdeINhbjDca2/CT/VrONrHs6UbEupDIMBziu8bku1DfNFXBdXrw4NNrRIIYQA5xRwZxELdIMBigQJHH1xbt++//16uIokyXzyLvuhDH5+z/aFDhxqn4Z2I/HW6EITnGs9e69at5WIFehift+OMi4uzSZoP7ytdvMLvyfbt243xWe0U5jPq7fzVfCDMoi8I/XrCfHWet0yACdgTKHQPrOhbmgtvo442I7sQe5b+HT7DpszZQfuPB1B4t0ibKjtfXUWHp+2yKfP3g3IRFanlCz2plJMX9YzE/BWw8oNReI9IavdBf6fzwnWzM7Mo7ZQIk0wQnxNiufJ/DlP83FjKSs30aFjwWus953oqUy738c4SnmTLhv5GaceTPerL2diTdp2m1Tf9IcM73em0Stvq1PnrK+2qLur9E108l5OMFiedXdOusSjITMukjDOplHLsPCWuP06n18fT6dVxAqhV7byV+ZKpPoKgGhUo+taWVHtYIypTPvd+6XXUPuZ36MeddGhaDGVnZKniPG+L6/ctz0B82LDO6KbU5LFOVPqScHxm6wmKeX01JW3PDRXw4eW4KyZQoAQQOgLPj/vvv9+4Ll7+4U2DT0BAAAUHBxOSE/vSvvvuOynMKHEEK/7hA6FKiS/69d555x2bfFgIy0Fepfj4eFkNohcSo0OsUX3q7V3tw9vqzjvvlCGUVoIGxgWPsPw2vPQi/A/hnWocCOvCymvumrvhg/AKwgs9RDsYxBRcB14rmK/ueYXzEE/GjRuHXYeGMDdnoZ5IzO8rDyx42WCsihNEGoij9erVk2W6R4w5lxk8DPG8QHj49NNPCd6I+WXXXHON5Dpr1ix5CQhS8KDDxx2DqIhxwuAhGR4ebtkM84UgqQweMBAUnRlyo/Xq1YuWLVsmq0GwhrfX+PHjpQDj7bPoi+fZ2fj1c3h2sWonRDgYQvaQDwzenfhNgIgEIR6G+eE34/XXX5fH3o6zcePGMnm58jSEoA5BskmTJtLLzZ1VQwvzGfV2/oCI/0BQnp8QBxHKCq8zRznLJHj+gwkwAcq7W4ofwatU3/Z/lPxoaB4NpdZVDVyKPOlnip6AFRAc6HJeAFWqTGkqV70ihbQMp+qXRVHLiT2oz7yR1PSpLi7FDR105HAhhmjiFc6VFh5gUSMd5wLR2+v7zsZeuUkYRd+Wk/dAb+PtvrNrWvVdJqgMlatRkULb1aD6d7Wmjp8Oop6zhktvJl95SfmSqZoDvK16zb6O6oqtK/EKbeAdiBDXLt8OpvK1g1U3ed4W1+9bnoH4qGG5mhWpqbhPSrxCt1VaVaMWz/fw0RW4GyZQ+ASwqtfixYtleJh5NHjZdiZeIRG8vpqZub2jY7w44+XSnMzcLF7hxQrimjlpNVa5evbZZ+26V+IVcuDAE8BTU2KI3g6i2GeffUaOks3rdX2xD48riAiOQvVwDYgT5cuXNy4HTjB4zamQsL59+8oXaKOSaQcv11beUGBgFq/Q9KOPPnKaV0iNwXQZ4xCefRBFfWUQ2eC5pxs8buBdpZ4DdW706NFq19hu3LhRCqBmby2jgg93IARZhcnql0B4pm6Kp7uCpNn76o477nDruwlRUTcID/BMg3nzLKo+fdGH6svVFs+ovvoe7u28efNkmLQSr9AHWD/00EM23XkzTgipjz/+uNEf+CEUE2UQ0iASm++vUfnSTmE/o97MH1NQnptqXvh7AaI3GxNgAs4JFAsBy/kUi87ZmlfWtxvsxZQM2ik8F1aP+Ys2jFtAsd9statTnAvKCvEralRTGVKGEDZXhrA+1LcyiDClhdjjS2swtg1VrCfC2/zMKgiBp+kTnanrD0OpUgPvBN78YBpxRT0pRukih7sIKzetKkUvd+s7qsffN0dkvCsPqlpeitHmXio1rCLKfR8Gar4OHzOBgiIAsQPCB0QhV0JN1apVZXgO8s3gf93Lli1rDNMsZjlbTh3eEjt27JA5mnQxBp2hH4SrIT+Xo6TU8AaCsKQLPXjpRzjWb7/9JkOF1MDM41Ll2CJH1NSpU+2SVqMNEkEjR9Qtt9yiN7ETBswvavr1rBiY69t0Lg4QJga2SAKtezDAS+PGG28kiC96v9Wr56RHcFfswPUwhmnTpkmxzJzEWR8PBIF//vlHeqfp5eZ9JAHHPdWfB9TB84KQR/Shh0nhnM4JxzoXZ+dQF/bee+/Z5D7LKSW7MWBhAgg85ucM9eFlCNOvp4/DfE7nLhuKP8z1Vbnawltw4cKFcrzwrlNhnWiHkFGE8j3wwAOqutzinsbGxkoBBgXwbOvTp49NHXUAD0I8w8ogqEDAcsfMXl2HDh2iBQsWGE3z+iwaHYgdb/rQ7wv6tOKvrgXhGs8Z8rnBE89s0dHR0isI3mqRkbbRLqjrzTgR9gwvTZUYXl0bIj1CaV955RVVZLn19BlFJ/pz5w4nvb7VILyZP34n8HsFg9fuxIkT7XLqWV2Ty5hASSdQSrgsehRoNK/dFJ8yix7TwusQQoSLwQNFt6IYQth/1c0EbxrdtjyzlOL/jtWL8nUfuYfg/aTb9hdW0NHf9+hFHu1DrGj9am+P2lhVjp8XS1ueXGp1yiirMSia2rxu/Y8VVPJ0Lu6M/czmBFpz+98uQ/bcDSF055rGhN3YQYjhpkcX0amVuXlJ3GhmVPE10yrtqlPHzwcJDx3bZ924oIudxI3Haf398z0OLTV36w/fN/OY/O0YHnzNnu5KQeG5XgsXL2TQ1qcdfw9DWoULL7khdlNJPpxEy6/+3a6cCzwjMGjjGM8acO0CI4Dk3QgxQz4jhBXhZRpCCj54GTe/LHk7MHj9IKE0ctcgDAxJltVLvqu+4e2AdnjZR2iY+QXSqj36j4mJkacgYP3yyy8yhw0ENaz4hhdhCAvw8vEHQ7gTvOHAHob8UhCGlEHkg6ca8s58/fXXkh1yPbl6YVXtsUWfCFfEfcA9x8s+QqMcebJBMNG9RtAWnnXoB/l+4JGBcEErIUG/rrf7+Kc/7iVCIPEc4VlFeKDV3DEm5J6CVyGET4zN0fy8HZez9riXEIrgSafGCY+gDz/8UDbDM4wQNIin8JCEWIwwWqwIWdjm7rPobJy+6MNZ/+ocQvrwOwaPPDwT+ndG1XG2zcs44emF5xE56/B84bcGgqK75i/PKMabl/kj3BUCltm71t35cz0mUNII5PwXSkmbtR/OFyFvZvEKw0xYfMgPR+v9kJCT6tjMvTkdlRL/iyfmjzxLePktWznI8gIRg+rR0Rl7nQoxCEdzZlEiN483YpxV30hyH3VDM5mfyeq8r8rO7cnNp1JK/L0eVK2CQ1b6NfFctXm7L627e26echD5mmmDe9pailcZIg8Y7s2pVcfkS1Fwg1Cq0r461ehX15hO0o5TtOHBhV6LVyXt+2YA9HAHYZvIT6Zbusi35szOijxXEBkR0qrb/q9KlveoPnfeLxkEKleuLJO5I+yrIAwveAixcRVmYzUWiGl4ScTHG4P3FgQYfArbsFJdaGioEeJnznuEvE261a9fXx7Cywi5lSBCKWFEr+dsHysWwotCD8FyVt/ROfSDvEoFZbhv7t5/eIA58mLKz/FCEH7jjTdk7iV8t+D1pe4ZrgsPKiTfV6bOwQsR3kIQRKw8hlT9/Nzm9VnUx+SLPvT+3N2HEK2vTuqqnS/GCQ8xhFbjkxcrrGcUY/XF/M25vPLCgNswgZJEgAUsP7nbZUPtRRt4OniawNxPpuNyGFkZmbTjpZX29UQC+/DuteQKdIFVytmdj7g82qGAVblFuMsVE4Mbh1Fohxoy2bld514UNBrXnk6IpPMpR8970YvjpgglXTkyJ5mpXiugUlkqJ0SGinVDZM6rUJEo3soCypeltm9dRsuH/e7RM+VrphApwzrn/G+4Ps70xFRae+ccwgIOyk6viqODP+wgrBTYfEI3wfac9LzKFN8Lb62kfd+85eVR+6xsWn/ffIJYjFVMU+Iu0LHZ++jC/jMedcOVmQATYALuEoCHEMK/4DUyduxY6VWF8DGIfPCMQk4dhCQpgxePLsogTM5XidLVNXjrHQHkmYI48O233xJWBsSKmhAoYfBWw/2G55qym266Se3KrbPE+DYVfXzg7bOI4fiiDx9Py7K7ojJOy8H7oLCkz98HCLkLJpAnAixg5Qmb7xtZ5WaCyFPiTLz8nlx+lNaNnUfdp9mvIFRBCDWOzJWnkGqH5OFYrc+XhiTkzf/bndbfM8+X3brs6+L5DDq/O1F+js8/QGFdalLDe9sSwhXNhlX36o1pSfs+32w+5fDY10yR4FslWdUvemhqjI14pZ+L+3M/ndmUQJhrxlnfLGLA3zedsO/3s0TY6oEpzpe/9v1VuUcmwARKIgEke0ZYnkpCjkTQ+CDcDWFlCDszJ5pHYnSr3E4lkZ8/znny5MlSvMLYEFaGkFUYwnHhmaVWrpOF4g94IZoTq6tzBbn1xbPoiz4KYs5FZZz5xaKkzz+/uHK/TMAdAu4HGLvTG9fJO4HsvDctji3Pi3C5lGP23kxBVe29sjD/oGrlqcbAaDsUEEbMVr1PHYKQ4o1dTLb3AqrauSZFmsKtvLlGXtqeXh1Ha++aIwUfq/ZYNbFMxdzkwVZ1VFl+MA0Mtb5/acdzliRX1zZv4dnmK/FK9s3fNzNiPmYCTIAJFEkCeJFU4WP6BFCO3Fxm8QpJl80J5vV2vF/4BBDiapV7CWKWWbxCmCASkJsT4RfGLHzxLPqij4KYe1EZZ36xKOnzzy+u3C8TcIdAifTAChQiSJ2RTeXS7gi/Kle9AiGvy/m9Z8Qnkc5uPylyTx0mEt5ALk2EvEEQCW4aRsGNQqmS+GAVruRDSZS06zSdizlFxxccpLQTKXZd1b2pOZWtkhM6qLZ6JeTpafhAO6MIfSIUBwahBPlpdIv7e78I08kNwdLPIVl+QKXcpVkzU0UyzJ92UmbyRb2aX+2XEmzNlu3gntQe0UTkVbLVY5N2nqI9H26gyKsbEjyklJUqU1quVLj7vfWqyKMtwvn2frSBmo7vYteu8aMdpQdZ2olku3MFVZCdmU1bRJLtbj9fJfOK6dfFM1WtZyTFzz2gF1vu5wfTiyLPlZXVuqqhfLYx9vwyf/y+WX2PYyfn5IoC/xr9ouT3vIwIFU0+IH5TxDN9ZsuJnN8BB98FO36ufqPE71TCokOUGp8jInrKCdfLOJMmwz3VtSOurEeV6ueufomcdwe/3U6ZKU5+bxyNU4SOQtBGDjh44p3ZmKAu43Cb31x9+neIw1nwCSbgXwQ8SapckCNHAvI///xTrgI3fvx4udqg1fWReBwr8A0ZYr/IhFX9/CjzV4b5MVdv+hwzZgxdc8019PLLL8sVNREGajZ40I0aNUqGF5pXajTXLahjXzyLvuijIOZbVMaZXyxK+vzziyv3ywTcIZD7Vu9O7WJQp/FjHaV4UTrQdgW08uUrUfmalahar9pyludFvpZtzy0nJI12ZMgP1HxCV6rcNHdVG1U3uIkQtMSHhHiCpNVY/Q4vibrhBbVi3cp6kc0+xIb6d7W2KUNSd4RS1RragELb17A5h7E6ErCQZNy8UuPJZUfonAg/80er1KAKIeTNbGkn7f8RUzqwNNW5rom5qkj4voeQL+n4woOSl14BL7h7P9vkUT4ovf2hn2Mo4vJ6djm3ygYHymdi48OL9OoFvg8xAjnG2rzZ1+7aWGXSlYCVX0xTj1sLe3iWu/44VAqOCCHND/PH75vV9xgiNVYDxXdAN+STwqf28MZUc3B92vrUUkLuMGfm1m+U6KDh/e1o11tr5CIJeeF04WCSrYAlvCHNq5nCyw6LMFiZ03E2DKVg8al5ZU5LfJ9j3lhDaQnWzxJq5SdXX/4dYsWCy5iAvxJYvXq1EaaHpMv+ZgMGDJArzyG5N1bXwwf7WBWwefPmhETghW3XXXcdnThxwhiGyulkFPCOQQCi1Jtvvkmvv/46YXVI3M+DBw8SEt7jfmK1On8VBH3xLPqiDwNmPu4UlXHmF4KSPv/84sr9MgFnBEqUgNXokQ4UfUsLZzyMc/Ae6PDZIFpz21+WolDTJztLLy4rLyGjk0s7SFzd9u3L6NDPOynm9TXm054di5VjirtV7SaSuL/U03KaVknSI66sT4FhtqFpmSIHT9xf+2Ufx2bttROwsNJhrSEN6Mhvuy2v47JQOApBlISXU+mytmJotd5iyXThgRL/d6zLbvKzwomlhyk7M4vgcaYbxAJXll9M4Zl2ft8ZO3EG40GC/fYfDqCz207Ie+fIc9HV2H16vhC+b61f623JR58XwlU7fX0lrbhuhrjH1l5rnvxGBYiw0hbP96DqYsVHrHCZL+aApSfjxLhq9K9L+I3Y9dZaj1YU9QVXX/4dki+MuVMmkI8EsMR7UVjmHcvRe7OiWT4ilIKLeXXE/LxecegbIlVUVJT8FLX5+OJZ9EUfBcGtqIwzv1iU9PnnF1fulwlYEcivVxWraxVqWZV21WUCa08GUapMKSoTZK/xIcQmanQz8aLnmZiENnjxYiMqHVBGhOB1zvk81YVaTOxO7d7vR30XjqIOnwykoLDylpiQqNxsVonGE4SXBjzVYKfXxlvm04q6oam5K4+O4e22/6uccC9zw6ZPdCarle7M9fLzOCs9i+AZYzaEP7my/GQa+802p5cPaVlNhmf2njuCOk66XIgqUUSefdWc9u/vJ+Fl5Y7Be7Om8MS0srz+RgU3ESs8ORCarK7jbVlexxlQoSw1f7YrhbSp5vYQvOXqy79D3B40V2QCTIAJMAEmwASYABNgAkzAIGCvzhinitdOWKcIuwlhlT944CD0Drmwal5RjypG56xyl3Y6hTaOWyhzzugNEdbT6KH2epHcP702jvZ9sYUuHDhLeLkK7VBD5q9CPizdmjzekVaMnC3za6WdTKYy5XK8d+AlExRuWxftUs3JrbOtvS30axSFfeSrQlijJwbGp1Yes2kCzvDcMdvRmXtsiuCF1UCszqdbpQahctU+JD7Pq8UKAavGgLoyxEnvA8nKkSNrq8hFVZiG3EF6LiKMJaB8WfHcBRDyoFlZfjON+2OfyBNXjho/0tHq8kYZVisM6xghP8lHREjIF5uNHHBGJQ92itr3LVt815MPnSOEcyK82crq3tycjs20Dctz9Bul2iMMFzn/KtULsfHOS024QOvunksNx7U38sm5+7t0aqXnYZ/ujBNhghWigm3y96l5YGytXupFK0fOcp5bSzW4tM0rV1/9HWIaDh8yASbABJgAE2ACTIAJMAEm4CaBEiNghba1zRcFPljmfe/HGw1Uh37YQW3f7SdyRVWg9fcvoBTx0my2Fv/rIV4obUPGjgpxZPvz/xpV0ylFJnFPWHKIuk+7xkaYgmhSa0h9+SK+7q65RpsKwpui54xhxjF28JK59IpfbcpK6kHihuO08aFFduFS8OAwW7JI+nx6TbxNMe5R/XvaCOcSW1ceiGjeCFjZIjn1jv+toM5TBtt55EEQjZ8TSyf+OWwzloI8sPLAwvUDgss6FLAKgim+e1npmdTk8U42IoojNhVqB1PLF3pSoBB5D3zt3IPLUR9F6fuGhOWbHlts/AaFtK5GHUVIs74YAeZZsa4Q3PFIa7q21W8U6kKo3yry+l0Q+f1gCG1uJryYIgZGkxKvIJhtGf+PPI8/8vN3yd1xYhzhPSJFiGN3sdpoBRwahucCgtuuN90LzfaGq6/+DjEGzztMgAkwASbABJgAE2ACTIAJeESgxIQQlr7k6aTTQWhSkFiBUBlCztaNnUv/DpthvDiqc9jihS/ElD8o/XQqxby2Wq9m7GckptGeD+xXuqvStrpRh3ecE4DIET8vljaMW2AnuJSPFEn3xQqQZjN7pOB8atwFSlxnK2qhHEn7y4uXYG/s7LaTckVHqz6aPdNVeI+UtTpVIGVlgmzFVnXRjLNpatdmW5BMD/0UQ8uumk4HvttOGQ5WJ7QZnDho/FAHqndnK3NxsTrGSn3r75ln8xt0Vqw8qIvtasLwZNR/w6x+o1D35IqjtHrMn4Z4hTI8AxCrtj67jNYKMR3iVUGZJ+PEmE7+e5RWjJplrJSojzO8h3th2d5wxfV88XeIPm7eZwJMgAkwASbABJgAE2ACTMAzAiVGwEpcf9yODEKres+5XubZwUsxQqdKBZS28/JRDYOb2YeqZQvXh2p9c5J2I3G3+aO/XKp+KkQV/ko4aiz+tIVYhSTf5/YmElZbhLfIkv5TacuTSy1DhOqMbmrn9ZSdlU3wtrKyo6ZQK9RBHrMo0Y+3tvejjZZ5tsoJgbTxY5287T7P7a3EuYykNOH9lGXZZ0EzhbC4+511tPTyX2jbf5dLoSIrw3psasBYMQ9CW3G1Y7P3Wq4umODAky9QCOvKrH6jECq68+VVlH1Rc9NSDcQWix2kHC448QqXzss48R8CMRaeVvg9LVPBtTOxN1wxZl/8HYJ+2JgAE2ACTIAJMAEmwASYABPIGwHX/+rPW79etULydE/MvMqaVdvTa+Ko/l2t7U7peXZwEp4g8XNj6fC0XYT8QbpZJQFGsvHWr/TWq7ncZwGL6GJKBi0d9IvBCi/XjnIyGZW0Hbyw1r62kVaSswtBCsnhrQx5n6ys1tUNpXcLPDTyahj7jhdXUodPB9p1UXtYI/lMZYmVEQvSSgvvq6rd7b1TIBJaWWEyBftjs/fJD7xzom5sRtG3tpC5usxjxT3GPdv36SbzqWJxfG5vToifeTIIaQYncxihXs/qN+rUqmOW4qrerqD38zrOhEWHpLiHHHPK8BteuWlVQpixM/OGK/r1xd8hzsbH55gAE2ACTIAJMAEmwASYABNwTqDQPbCsvC3KRVR0e9UxJDi2WlXN3C9ebo78bpvY2wpN2eBAqnN9E+ry3ZCc1c+0Skg67AuDV44jMcWr/j3T/by6lC8aI2RTfTwRr3BtCBgBlQIth1GjX12y+oR3j7Ssj3te66oGluc8KYRQAC8PK2vx3+5OhQerNt6W1RnRRCZsN/dj5UmCOv7CFKFtEKcQynvaIuwTY60Y7QdejPn0fUs/lYIpWtrF5JyVNS1PikKr36hki5UoHbUvqPLAKrkClLqmWjVUHTvaWs2nohu/zd5wxVh88XeIozlxORNgAkyACTABJsAEmAATYAKuCRS6gJWemGo3SiRJV6sB2p00FVRqGGqXmBtVkJtKt+zMbNrxwgqKeWO1ZR4VvS72kTuozZt9Sc9XlXHGOm+Qua07x868KNxpb1XHmSgGb5xiY0I4iBrdzKfT8XRFREcXj3lrLWEFS7OVF6tcWq1eaa7nq+OwLjWp0cMdLLtDyJid+SHT1PgLtPmJJZaeeUHVhchdyJZv3zfrSD85Wywa4MysfqMChEDrb2blZWv+TwdHYw6obD8fRzndbPrwgiv68cXfITbj4QMmwASYABNgAkyACTABJsAEPCJgHVPlURfeVcYy6VaG5eERkuXKUM/KUo9fsCoWybZj5AeremFlqypii/2ACvaJthGqVK13bTqzKUH2lRRz2rLPI9N3W5Y7KkQYEFYY9LUFVStv2SVCw6w8HiwrF4HC8J61xeprvvXAgWCKcLtTK455ReBiUjrFvL6G2rzex64fhDkVhCFEtc0bfai0yOdmtuRDSXRm8wlzMfkrUwgyELnL17TNeZUpQlAL2/zx+2b1GyVFeHiLORFwCpql5TjbVLNbUdE8rsCwcmQVgp2085S5ar4de/N3SL4NijtmAkyACTABJsAEmAATYAIlgEChC1hnxOpayIcUUN5WQKp1VUOCMJS03fGLSWj7GhRxeT2724QX3nO7rMUmVRmreuEDw+pSNa+oRw0fbE/IaaVbWKcI4xDL0JvtwsGzLoU2vOimiwTErrwnzH07O7byVqjSBqsbbrdrVqN/XbuyolxQV+RHsjJX4VWqDXLmWHnAwQvLWwEL1zg+7wAliIT+1ftGqUsWyBa5o+qMaiK908pWzk3srV9856ur9UNjv6CZVhAhgO0/GkBxIu/Vvs83G+Mw7wSGlycZUmw64ex3wVTVJ4dF5ftm9RuFxSpqi7DoI7/s8gmLgIqBBI9Ob3K65XWcjR/raCfMIm9hQSehB8i8/B3ikxvAnTABJsAEmAATYAJMgAkwgRJKoNAFrGyx4tjJZUcoYpCtEIXl4Tt9eQVtF2F/8X/H2t2eSJEYu9nTXexWoUNFJPq19DYQXgiNhEiVLrw6Dn6bK/RkpWbS0Rl7CQJA40c62lxL/9/+CwfO2iVRrlg3hLCCYexXW23aqYMaA6Op1Us96bxIzLx5/BJKOXpenfJqa+VhFt6rNoW0DKez204afZerWZEa3NvWOC7qO8jxU7WrfWLyU6vjaP2989yaHvKm9Zk3Ut5vvQE88nC/4aXkre18ZTWFdYxwmKfL2/7RvkzFslRe5IvDPYYHVaTIC2YlzKlrYXVG5OkyW0EzrdSwCnX4fJAUi/FsBlWrQDteWUUkVpDUDfNr+85lliHCZ7fnPuN6m/zaLyrfN6vfKDBpLMJJEWYHcVU3iOstX+xFiSLX2P4vt+in5L6VSIXfZvzOOMqlZteJRYGn4yThDdtgbBuqNcQ+V925GPv/WLC4pG+KvPw7xDeD4F6YABNgAkyACTABJsAEmEDJJFDoAhaw73p7HVXtFklIpq0bcsxghb9G49oTXlhTjp2nCrWDKaRFuKVXBtqmnUyhPR9u0LuR+6UCSskXNXhawSrVC6Gdr68miFfSxItJReGpYDabUBfxgo2XPIhgujW8vx0FCs+tfZ9vIoSQkegruHGYEOWiKfr2lvIFvHLzqtT1p6to+/P/UsJiIbB5aSlHz9n1gJCxNm9fJsS4PZQhQhTLiLDIujc1J33FLrtGRazAUa4qT8I4s9KzCGJO9C0tbGYPz6yo0U1FnrQ1NuV5OcBKf7vfX0/Nn+2Wl+Z2bfBd6DlzmFFetkoQOfKyMippOxD4dkIksrCCZBrcNEyu1KiHtNa+rjEhZxdWeUO4Ljxq8B2vfX1jh6GvukhrMSWfFxWZ75uD36gAIQYirDVB/P6dEpzxfCJ/YO3hjQmLSlQV/DPOp9Phn2Ns2KVb5HNDhXq3t6JksSpihvB2xYqC+H1DaJ3b5u44jycTvPWwKANEM7NlZ2fTvi/shTdzPV8c++TvEF8MhPtgAkyACTABJsAEmAATYAIllIBfCFjIgxXz2mpq9XIvy9uABNj4uGPw2DIn9EW4CxKyVxMeSsoir21ENYfUl95KFw4kUViHGpa5VfBSrVvsN9sInk6hbRGul2PIlYUQrCgRvpUiEk8HCk8uqxXyINDBo2TVzX+K0EjvPEhOLjtKDe9rp4ZgbPEyCk+F4mjwkMM9MxtCRqXXnfmEk+Mjv+4m5E+DaKUbVuLb8/FGyrzgfY4lXCNCCAZhHXLDUPVrebKPceregJ60PfnvUdr0+GLLkK+CZArPt45fXG4nVGMuEKbxgaDiyg7+sIPShVBdkFaUvm9Wv1GKVfXLoggfK2s6vjNdFOJh3J+5Sf4h9l4Uwpb59wzein3mjDC6uSBWOvRIwBIt8zpO46Ji5+D3O6T3mF6WH/u+/DskP8bHfTIBJsAEmAATYAJMgAkwgZJAwD7LcyHNGiujxc8/4NXV4YWDcESzIeRMF6/U+dJly1BouxpUW4QjWokD8AQ5vuCgqp6zFZ4D255dJr1EbE8Ix6sypalCZLDdy55eD54/STu8E6/QH5IWn1h6WO+62O9HDm9EViu/Hftjn8f5xRAmeHptvB0zeKpEXtPQrjyvBTteWEmZaZe8/PLaSR7bIbccvAw3jFtgKV6h24JkCnHEKoTRk+mdXhtHu99d50kTn9QtUt83J79RzmBAJG0xsYcI6bTNA3gcIdn5YXkcpxrKud2nLb1t1Xlfbn36d4gvB8Z9MQEmwASYABNgAkyACTCBEkTAbwQsMN/y1FKKeXMNXfTQ+yUjKU0mUne0auGJfw7LcC5P7ivEq/X3zaNk4VlgNoQyrhgxk44vMolb5oracbZ4WTvw/XbaPvFf6/xcWl13dxF6mXzYfnzm9ieEqHd8oftjNbf3h+NSZUR436imlkPxJHxQ7+DIr9ZJrR1dR2/r7j6Esv1fOE5S7m4/ntTDs3tA5HhbMXymXUiY3k9BM82+mE1bnvyHDk2NIYR+eWpnNieIPHL/UHam5209vZZV/aL0fcvLb1RWRqYI514rwgttvdvg5ZSdmWWFxOuyPI3zYhYdmLKN1oz5m5BDsSDM13+HFMSY+RpMgAkwASbABJgAE2ACTKC4EfArAQtJnA/9uJP+HfY7xc+LdfmSC1EI3jf/XjtDrljo7OYcEKF/CN2DmJOZctFhVYSjHfhuO6268Q+nKyCmidwsmx9fQhseWig8qk4RXv6sLCs9kxKEgIb+dgvByTK5vGiIepiPbumnUvVDu32II+gXnmtZ4qXObOgvfm6sEAbFS7+pbwgImSr/l9bQGRutmke7Vn26mpv5AhWjQ6hcjYrmYkrceJySRQhoXgy5yJAzzWzwxlMhq74YO162k1ysiqmPweqa+nl9H95dqSJs9czWE4TQuo2PLqJ/Bk2TXkood2aFwlQ84ggXXnXDH9KD0B1hBN+vDQ8uoDW3/S1yu6U5m5Lb5/z5+5bmIO+U1eTAD4tSWJm7v1H4D4PD02JoxfXWguf5PYmS/YXYs1aXkWVZaba/qZ48w56M8+SKo+LZmU2731svfr9sr6kPzur63nL19d8h+nh5nwkwgaJBYPY/u2jyjI20McY2vUTRGD2PkgkwASbABJhA0SdQSggZtqqJiznNazfFRQ3fnUa4WMUGIVSpQShValRFChipcRfEin6JclW/87FncpOwe3jZcmL1NrzAV4gKli1TRR4uvEidEy9r2RZikKvu4c1SoW5lCm4USkHhFShdrPiVlnCBzm496VQwc9Wvu+eRXwhJmYObhFHpwDKEVdPOCdEEvNiYgL8SwEqDWK0Ryd2x2EBgaJD8viQfPidXg4QH5LndiX43/KL4fTP/RsFzFaIUwiPd8WpDEnMsToHfmYBKZYUYny3yDabL35ozW074zBtKH2dg1fKUIpLF43fZ337LfP13iLsP+aCNY9ytyvWYABPwMYGbn5lO2/Ym0HUDmtFzY/v4uHfX3Z05l0oTPlpET4zpTjWrBdNHP6+h+pGhdG0/aw911z1yDSbABJgAE2ACRYuAXwtYRQslj5YJMAEmwASYQP4SYAErf/ly70zAGYHCFrD++8limrVkF0VFhNCIQc3p7W9XUnCFQJr5/g0UFmKbv9DZPPgcE2ACTIAJMIGiSsC/QgiLKkUeNxNgAkyACTABJsAEmAATyCcC63cck+IVur9reHsa1q8ZhVYuR+eS04WQtSKfrsrdMgEmwASYABPwLwIsYPnX/eDRMAEmwASYABNgAkyACTABGwKTpm+Qx+2aRtDVfZtQJeF5NW50Z1n257I9dCjecZ5Cm474gAkwASbABJhAESbAAlYRvnk8dCbABJgAE2ACTIAJMIHiTSD2aCKt2nJETvK+kZ2MycILq5bIhQX7Zd52o5x3mAATYAJMgAkUVwIsYBXXO8vzYgJMgAkwASbABJgAEyjyBKbOzRGnomqGUOeWkcZ8SpcuJXNhoWCmyI2Vlu54dVajEe8wASbABJgAEyjCBFjAKsI3j4fOBJgAE2ACTIAJMIH8JJCZlUWnziQTtnm15NQMOp2U4rB5VlY2nT7r+LzDhj46kSLGhzHm1bxt7+q6yzYclFWGWaw2CC+sgDKlKel8Gm3aFe+qKz7PBJgAE2ACTKBIEwgo0qPnwTMBJsAEmAATYAJMoAAJxBw4Se99v4piYk/Kld+u6tOYbr2qDZUqUc9xAABAAElEQVQpXXz+TxCC1ae/rKPNQhA5cOwMZVzMEvMrRV1a16b7RnSk9IxMeue7lZL6pxOGUuWKQXJ/76HT9Pyni6lUqVI05aVr6ae/t9GPf2+lYwnn5Pn5n99C1UIryn0IRpOmr6c1W4/S3sOnhfdQpszr1DAqjPp1qkc3Dm4lhRlZWfvji1/X0z/rD1DbJhH0xG09tDO5u09/sIAOxZ2lYf2b0fUDmhsnXvziH3nf+nWuR6OvaEmfTltHa7cfpT1i3BDR6kRUpqbR4XT3dR2ocd2qRjurnQsp6R61/99nS2j3wVMUWLYMfSaYBQXa/xM842Im3fvSH5SadpE6tqhFj97cjeJPnqejl/h1bVXbbihVgstRs/rhtHVPAq3fGUddLOrYNeICJsAEmAATYAJFlID9355FdCI8bCbABJgAE2ACTIAJ5CcBJMq+bcIMSr0UqnXmXCq9/8NqwhZiQ3Gwv5bvoVe/XCZXt9PnkykEnhWbDtNqkYtpcK9GtH3fCXk6MzPXMyvxXIpR/sQ782nRmli9CylQoQCi0XMfL5bijF7hvFhRb1NMvPz8uWw3vfrQAKpfO1SvQhAQce3QyuVtyvWDjaIPCD/d29bRi2nXgVOyLcSjP5buptijZ2zOH45PInwWrz1AY4WINfb6Djbn1QHa3fzMdI/a1xS5qn5fFCO7WLB6Pw3p1Vh1Z2yXrj9I63fEyeObhrSW2/U7j8ltuaAAahxtLaq1b1ZTClgbLrU1OuQdJsAEmAATYALFjAALWMXshvJ0mAATYAJMgAkwgfwh8ONfWw3xSr/C939softFcm0rrxq9nr/v7zsiPKg+WSw9rjDW/l3q0RU9GspE4QeFR9P0BTtp3Y5jNPuf3ZZTgciiDOJVUGAZGjmoBTURXk0paRlUPqgsJZy+QI+9NZfOXUiXVQd0rU+DujWgyOrBUhD6bcEOggAFsQn1pr5xvc+5bhCeSrDwKhXojmvbSQ+mFOH1tF7M7dvZm+X8P5m2liJrBFsKTXlpP1x4g8F77KIQ/KYv3GnZ74zFOQJX5UpB1F94icGOHs/xXmtaL9yhl1/z+tVkXXjLsTEBJsAEmAATKM4Ecv+lUZxnyXNjAkyACTABJsAEmICXBODVY2XwTooT56JrVbE6XWTKXvx8qSFePXl7D7rhylbG2Fs0qE5XCjELHmffzNpklOs7gQFljEPkZfpq4jXUsmF1oww7L3+51BCvnr6zJ426vKVxHtcY3LMRvfXtCoJYCEHmMxHK+PBNXY06vtqB6PPJs0MIIXjKurepQ5d3b0h3PD+T4A325jcrqGe7KAqplFtH1fW0PcQyhC7OW7lPelkdFHOrqz0vJ0XY5r/Cww02RHi4KTEUXm2wqiGOPc6UNxo8AdmYABNgAkyACRRnAsUnYUNxvks8NybABJgAE2ACTKDQCUSEV7IcA/JD1RIhYkXZki7kJgHv0irSRrxS80JuqwdGd7IL69PPq314VZnFK3hhIUwO1q1NbRvxSrXDynqPCMEqKiJEFs0Vgo+vDdd4/t4+NuKVugZyXz0wqpM8hCC0SoRMmi2v7Ude3sLoavqincY+dhDSiDxcMHhrKVOilJWIpuqECI8tGLy7ziWnqWLeMgEmwASYABModgRYwCp2t5QnxASYABNgAkyACeQHASQW18Pk1DVuGdpGJudWx0Vxu08kUlc2tLd9fiZ1rqzwsoInkSsz559C/T0HT1N2jkZjGUKn+kSi84Hd6stDJICHuOZLa1gnTIY1OupTz0+FxOtmy2v7js1rGeLfrCW7hLdbptH1zEvhgxD9GkXl5rpCAn1Y2QDH/2QvI7zdlKn66pi3TIAJMAEmwASKE4Hcv/GK06x4LkyACTABJsAEmAAT8DEBeAV98+K1YqW3SEKeonqRVUR4Wxd68MbOPr5SwXeHBPXKHHmaqfO1q1dWuw631cNyVhvUKxxJSDIOazrwZlMV6lzywMIxwu08sbRLSfYdtalR1X5sel3cW3xgyP1lNm/ajxiUsypiYlKqTBaPvrfuOW4khL9uQK73Fc6pEEdnIl7S+VyBT3ljoS0bE2ACTIAJMIHiRoBzYBW3O8rzYQJMgAkwASbABPKNQFORkPzz567Kt/4Lq+OIqrnhkScSk50OI/6UdS4wvVGFcmX1Q7mPPFDKVGicOjZvkexdmZWglpmVu/qhqodtekYmQRxyZmc1wceqHkIdz13y+tK5qLretId3G/KIpYqk8UjmjlDLmYt3ya7BDDm4dAu9lKPLGS91DqJbmdL8f9M6P95nAkyACTCB4kWA/5YrXveTZ8MEmAATYAJMgAkwAY8JYKVAZXNX7FW7dlsIRwtX77crd6egSXRuaNzyjYecNlmxOSeheWjlclQtNNdjqlxgzv+97tx/0sgZpXe0fV+Cfmi5v+vASTqRmCuQmSut3HzECHVETiyzedM+uEKQTNKOPpFfCys/zrnEGys+moW/6pe8xQ4es/cEU+PafyRR7uoCoTrHWybABJgAE2ACxYmAxx5YgzaOKU7z57kwASbABJgAE2ACTKDEEECib4hHWEVPD/NDqFrrxjVoy+7j9M+6g/TL/O00YmBu0nEFCKsC7jmUmy9LlbuzRSLypvXCKSb2JM0QOZ+u7tuE2jWtadd0xqIY2hQTL8u7ta5jcz6yRk6yfHgd7dh/wiZRfLZIsDV5xkab+lYHaemZ9PrX/9IbjwwkJGTXDaF6WAURFiDyTnVobj8+b9uPGNSCfluQk8T9wdf+lise4nrD+jfFxsbaNcm5/rET5wirYFp5o23alcOqjbh/ZoPgmJmZk3gMK0Oa52uuz8dMgAkwASbABPyZAHtg+fPd4bExASbABJgAE2ACTMCHBB589S965I05dOX939MBU26piff2NZLRvzxpGT353nz6d9MhkZ8pkRau2U/jRNtJv23wajS4BlZtRDL3sS/Mpm9mbSKIM1iBD+N585t/aeJnS+Q1kM/p8Vu72VyvfbNcQem971cZbTHG8e/Op2Ubcj27Ll5KgG7TwaWDBav2013/myUFO+TMQh6pRWtiaeQTvxASx8PuGtaeIh3k+/KmPcJQWzWqLq+hrtUoKoxaNbQXoBrUCTXyca3bcUy20f+AQLV5d46A1bFFLf2U3Md97HzTJPmxSkhv14ALmAATYAJMgAn4MQGPPbD8eC48NCbABJgAE2ACTIAJMAEHBLDqnRJBMoVgtHbbUYquVcWoXb92KL00rh+9+MU/IgdUOs1dsU9+jApip3y5ALqmb1P6ec42vdjtfXhgjb+9B705ZYVYhS+LIELhA88giFjKgisEyrFU1fJm4Rw8srCaH+aBz+AHfrBpixUM4U2GHFqpDpK59+lYl47EJ9GGnXF064TfqZRwwlKrI6rrYxXFO4e1U4c2W2/bo7NRl7cUydsXGf0O72+bvF2dKCUG16VlJM0XgtvMJTFkXiESgh3uFcxKwFKhmrVrVJbeb6pf3jIBJsAEmAATKIoE2AOrKN41HjMTYAJMgAkwASbABDwkUDagDI26oqVshVUA+3etb9eDTCr+3g0EQSWqZogUd1AJglIPIep8NfEa0kPV0KcyPTytrAi/c2QQb6a+cT11almLENYGU+JVUGAZmdh8+rujqFf7upZdvDf+ChrSu5FxTrVFvqqvJl5thBWqcqPipR3kivpS1LuyZ0MKCylvI17h+Ok7e9LHTw8mfW5oquaX1/b6OAYK9sEVA2URRLchvRrrp232h19amXDttmOk8l2pCr/O3yF3e7aLohphuYn4Ubj38Gkp5GH/8u4NsGFjAkyACTABJlCkCZQS+QJy/7urSE+FB88EmAATYAJMgAkwASbgigASmEOocWfFOngxnTqTTLWqBQsxKydf1NczN8qV9LDq3dLJt7u6nNPz8AqLPXpG5neCYBYVEWIIRU4bipPJqRm0V+TjOns+leBhVC8y1GmTm5+ZTtv2JtB1QhB6bmwfoy7CD4+KsEGE8dXQVmM0KrjYyUt7cO131xQ5h8E9G9ErD/V3eBX8U/2ah3+mQ/FnZd6wF+6/TNaFQDXiP9OkAPfxM4OFwBhl08cUEZ75rvBug017cwRZJaS3acAHTIAJMAEmwAT8nACHEPr5DeLhMQEmwASYABNgAkzAlwT0Vf1c9YtV/8x5oFZsylkhEGKTtwYvJwgreRFXsGIfEs97axC+XIlfzq6Rl/ZL1h6Q4hX6VR5Wjq4B4fDmoa3plS+X0awlu+gG4UXXTCThxzH+G7qBCP3s3sY22T36+vfSfaoXWSVPfB2Nh8uZABNgAkyACRQWAcf+3YU1Ir4uE2ACTIAJMAEmwASYQIETQHgakrvPX7XP4bXXiLxZa7fnJBP3hXjk8ELF/MQPf22RM4TXGXJ6uTJ4jSF/GAz5w/5avkfm8MLxM3f1MrzjcAyDd9qGmDi5f3n3hnLLfzABJsAEmAATKOoEWMAq6neQx88EmAATYAJMgAkwAS8JnEtOowde+ZPiTp6nJ96ZT69NXk5b9x4XidYzZc9Iig7R5X5RB4b8TXcPby/3+Q/XBLBaIAyhg1h5ceueBHl8w5U5OcnkgZM/EO454e7ecpXI3h3qUjMhZmGFwmv6NqEOFgJYvLiPvUUOsX6d69HgXrn5wpxcgk8xASbABJgAE/B7ApwDy+9vEQ+QCTABJsAEmAATYAL5SwACy3d/bKFPp62ltPQc0QpXRDL2ckEBxkp3KEPi9Yn39bVbEQ/n/Nkc5cAqiDFD/Pty+gbJFt5RsFrVg+m3t0dS+aCybg/hzLlUucoiGqQJMSxLxBB60t7tC3FFJsAEmAATYAJ+SIBzYPnhTeEhMQEmwASYABNgAkygIAnAw+e2q9vSZZ2i6eVJy2j9jmOUmZUtPLCyxCfdGEq7phH0rPAEalgnzCjjHdcEDsWdpcSkVKMikuK//dggj8WnKsHljD6CRH4yNibABJgAE2ACJYkAe2CVpLvNc2UCTIAJMAEmwASYgBsEEDp4OD5JrBCYSClpF6lurRCqW7MKVa4Y5EZr/6ySIjyfEMIH4QcJ4AvSjp8+Txt3xsvrY8XEFg2qeSxeFeR4+VpMgAkwASbABPyRAAtY/nhXeExMgAkwASbABJgAE2ACTIAJMAEmwASYABNgAgYBTuJuoOAdJsAEmAATYAJMgAkwASbABJgAE2ACTIAJMAF/JMAClj/eFR4TE2ACTIAJMAEmwASYABNgAkyACTABJsAEmIBBgAUsAwXvMAEmwASYABNgAkyACTABJsAEmAATYAJMgAn4IwEWsPzxrvCYmAATYAJMgAkwASbABJgAE2ACTIAJMAEmwAQMAixgGSh4hwkwASbABJgAE2ACTIAJMAEmwASYABNgAkzAHwmwgOWPd4XHxASYABNgAkyACTABJsAEmAATYAJMgAkwASZgEGABy0DBO0yACTABJsAEmAATYAJMgAkwASbABJgAE2AC/kiABSx/vCs8JibABJgAE2ACTIAJMAEmwASYABNgAkyACTABg0CAscc7TCAPBJ7+Yz+dupBB17YKp8HNq+ahB27iawLvvvsuZWdn08CBA6lVq1a+7j5f+tu7dy/NmjWLAgMD6d5776WAAP5pyhfQHnS6atUqmj17Nm3bto3S09Np2LBhNHbsWIc9FMXnzuFk+AQTYAJMgAkwASbABJgAE2ACfkeA3xL97pYUrQH9vCGBDiSm0YX0rGIvYN36w066mJlNn49sTOfTMun2n3ZRy5oV6a1rGnh1006fPk1HjhyhGjVqyA86u3DhAu3bt4+qVKlCUVFRHvX//PPPy/phYWFFRsDatWsXTZw4UY77hhtuoKpVWQz16Kb7uPKkSZPoiSeeoKysLKPnevXqyf3U1FQ6deoURUZGGuewUxSfO5sJ8AETYAJMgAkwASbABJgAE2ACfk2AQwj9+vbw4PyFwPxdp+m7dQn008YT9MXKOHp/6VGauyuR3vvnCG06et6rYX799dfUs2dPevLJJ41+FixYIMtuvPFGo4x3mEBBEIA4NWHCBCle1axZk+677z664447qH///rR//35q0qQJNWvWjN55552CGA5fgwkwASbABJgAE2ACTIAJMAEmIAmwBxY/CEzABYGMzCy6/9c9slbtkEC6p3stSk7PpE//PUZJwhPrvl9208pH2rvoxfFpiAKw6OhoucUfqkx5vRgneIcJ5DOBmTNnUkpKirwKwjohWCmbPHkyJSYmysOpU6fSY489pk7xlgkwASbABJgAE2ACTIAJMAEmkK8E2AMrX/Fy58WBwC+bTtDek6lyKu9e25AqBZWh6sGB9OzAnNC+VQfP0eI9OS/1eZkvQgVh9evXN5ojJ5S5zDjJO0wgHwkcPnxY9g5BVRevUNinTx9CaGqpUqVo5MiR+TgK7poJMAEmwASYABNgAkyACTABJmBLgD2wbHnwEROwI/DhsqOyrJXId3V922rG+Yd616Y3Fx+mkxcu0ifCG+uyRqHGOU92lIDVsGFDo5nywGrQwLv8WkaHvMME3CRw4sQJWTM01P55xvO4e/duOnv2LFWrlvtdcLNrrsYEmAATYAJMgAkwASbABJgAE8gzAfbAyjM6blgSCGwW+a3gYQW7p1tNmymXK1ua7uySUzZj60mKT0q3Oe/OAZK1Hz9+XFbVPbCUqMUCljsUuY4vCWAFS1jZsmUtu8VKkSxeWaLhQibABJhAiSJw5lwqjXv1Lzp47AylZ2TSO9+tpBmLYkoUA54sE2ACTIAJFCyBYu2BdSblIgWLcK8ypUsVLFUvroaXx8Nn0uiwWNkvskoQRYeVs+stMTmDYhKSqWblIKobGiTDeewqWRScFTzQDu+nTaqXp9AK1i+oFk3lqns7j1+gMNGmQXh5qyo+L8vKyhaheymE+9isRgUKLuf4cU27mEX7T6VQUmomtYyoSBXFffeFzY05LbsJKlOKbu5Yw67Le3vUotcXHSZxeZovkrrf0sm+jrlRWloa/fe//5XF8GRR9u6776pdio+Pl/tfffUVIQ9RixYt6NZbbzXO+2oH14dQUaFCBY+7RLJvPK/h4eEetb148aL04MnLSoO4ZuXKlR2KK54MJCMjg06ePEnwNCpXzv575klfntTFHEJCQiggwPHzrPrz5XxVn/6wxUqGyLNl5eXlD+PjMTABJsAEmIBrAhCslm88RIfiztKIQc3p29mbKbhCIPXuUJfCQgrm34quR8k1mAATYAJMoDgRcP0GVQRnO3VjAo2ftZ8OCSGovPCSub5NOH0wvBFVKe9/0x321TZatv8s3S28e7pHV6YnZ8fSTiEywUa0qUbTbmsu99OFQvLivIP07drjcl6yUPxRWQg117YKp/eGNbAUpFJEsvGJcw/STxsSpDCm2kHSaylC4t65pgENaGIfKoR6FzOzZYjc5NVxtE/kgMrxyyCqXqksXdksjN4f1lB159PtxiPn6PGZ+2nNoSS6kC6UIWEYb72q5eg+kUD9sb61qfQlUfL4uXR67q9YySVNjBcmtCZCuN8HwxtSrwZVaJ4QoW78bqc8N6ZTBL19rXVY3vN/H6CPl+eEC/5+RwvZdsneHIGpU1QwhVg8PxAYm1QrT7tOpIj7eMZtAevTTz+V49H/sCr79ddfZZWhQ4f6TMBatmwZffjhh7Rt2zY6cuSIFEDh/dWmTRu5EiJWmHNkP//8M33//fe0fft2grgCgxDVq1cveuGFF2wS0et9IPH3a6+9RitWrKCdO3dSeno61alThzp37kzjx4/Xq9rtb9myhd58801auHAhnT9/noKCgqht27Z0/fXX0z333GNX31lBXFwcvfzyy7R27Vras2cPQUwrU6aMFAjHjBlDd911l9uCsLPrmM/NmDGDvvnmG8JcIJpBNGzatKnk9swzz0hRTrVxZ77r1q2j//znP7IJxn377ber5jZb3K/PPvtMln355Zekh6nqFcHjiSeekEUHDhyQW9zjvn37yn20Q3vY5ZdfThBhUX/IkCGyzJ0/EJr40ksv0cqVKyX7zMxMwiqH7du3p4kTJ9rl23KnT67DBJgAE2AChUNg/Y5jNGvJLnnxu4a3p36d69HkGRspMSmV3v52Bb38YP/CGRhflQkwASbABIo1Af9TdLzEvXB3It3w7U5DbEnJyKLv1iUIL55MmnVXSy97933z/adS6VTyRfpM5FB6feFhY9y4Ukj5HC+iA6dT6apJW2lbfI6wpY8Cq+B9u+44zRfznn9va2ohhBtlCH8b/vV24ZmUk4BclWMLqWdr3AUa+NkWWjqujRRr9PNHhPg3bPI2Wnf4vF4s9xPOZ9AUIaStiE2ig8JTzJf2pvBmevbPWMoQ3le64QjzeGL2fpq1/RRNv70FBQaUooGfbpHz0OtCx9p07AJd+cVWmi3uebvalaQHGQSur4QY9+LgaKoQaOuhlSmuN2lVnLwXEcFlqVt0iPQuWh6bI2B1rxeiX8Jmv1eDkEsCVq43lU0F00HFihXp+eefJ3ih/Pnnn1JIgmh09dVXy5qrV6+mJUuWUEREBEGcgJmTactCD/+A6PD444/Tt99+a9MSXlQIWcRn9uzZUph46qmnbOpA+Lnvvvto0aJFNuU4gJAFgWb+/Pm0atUqqlu3rk0dCE/33nuvESqpTiJZOD5///03QaCzMogd11xzjWSlzmMeYIQPRJEJEyaoU063mDfEoqSkJJt6EFIgGoFNTEwMvf322zbnvTk4d+4cPfjggzR9+nSbbuD9tXXrVvkB80mTJlH37t2luOPOfPG8QIBD/2fOnKHbbrvNUnj75JNPaNOmTVK4ciReYWAQMjds2GAzRoS3qjIIjspwT2AqV5Yqd7bFc/7AAw/Q6dM5Ho2qLp4rnFuwYAG99dZbxvOuzvOWCTCBkkVg+74EOnI8iUIrl6fOLSNL1uSL2GwnTc/5O6Nd0wi6um/OarXjRnemF79YSn8u20P3jOhIURGO/+1UxKbLw2UCTIAJMAE/IVDscmB9viLORgRSnGcL0eOoEGX8zSoE5tyCMyL0DSJNByG2vHlVfZpyYxO6uUNOONqdP+8yxKuudYPplzHNad1j7aU4M7BxjvdUnMi/dP+ve2ymh/BJCHiwLsKDaPLoJrTswbY0aWRjGtI8zKg7XohCZrt76i5DvKpSrgy9OqQeLbq/Nc25pxU92a8OBQo3pz0ivA9j9pUt3XdGeKDtN8Qr5JyadWcLWvJAG3ptaD2qeIlVRmYWBYjrI+8URDhYHyEiLbivNc0V47u9cw43eG/NjUmkapUC6TrhzQY7KzhPE6sKmg2hgmAIu71zhOwfdc8JgRDWqU6w3Fr90fHSOSuh0Ko+PH4gljz77LPUrl07WWXgwIHyGGXYh8EzBcf4wNvIW4PnkRKv4DWF4zlz5tDMmTOl5xXC6CCsvPLKK/TDDz/YXU7l5erZs6f06oEwBa+xq666StaF4PG///3Pph2EkVtuucUQryDOTJkyRQp0n3/+OXXr1o2Sk5Np2rRpNu3UAUItIfRB9HvnnXcI3mMff/wxqdxgU6dOlR5Nqr6zLTyfIF5VqlRJzve3336T4tljjz1GUVFRsilCNnftyvkfZWd9uXsO41fiFUTIjz76SIqA4Dt48GDZTUJCAsFDDebufMFj9OjRsg0S/i9dulTu63/AgwriFcxV+CnEM4wTH9xfWOPGjY0ysM+rwaPrjjvukOJVcHCwnOO8efMkh9dff12uaqjEVfWM5fVa3I4JMIGiTWDavO305HsL6KOf1xTtiRTz0cceTaRVW47IWd43spMx22H9mlGtajn/XvpF3Es2JsAEmAATYAK+JlDsPLBOifxQjuxgYqrMK+XofGGUBwXkaoiDRCgfvMT0sh+Ed9WiPWfk0K5rHU6/iJBCLGGvbGiLqnSTCI/7UYQILhWhiLO3naSrWubkJKovclUtur8NbRSeWKPbVTPa9awfQncJcWj0lB00VYg5aw6dI4QoBl4ayzQRgjlHCD+w+iJsb7EQkKJCc3MEXd40jEaJ/vp8tNkQeNR48rpFvqt7pu02BLEfb2lGN7SvbnTXp2EVGizCFr9Zc5xeEh5U5YUH1VoxbmW/3taCwkVoI2yQGB/CI5tUq0BDBB/YfSJXFRjBvhAi521CpNLt6zU5OadA9q6uNeWpE+dzvU6qC68sRxZeMedcuvDwSkq9SJWd5Ooy96HCtfQE7moFQr3M3M7TY3jSfPDBB7IZvHfg9VO9ei7fyy67jEaMGCHDw+BRBQ+sAQMGUI0aOWIgQr3++OMP2rx5s+Ephs46depEN910Ez3yyCM0efJk6YWljw3iEML+YPBsuvvuu43TEOhGjRpFTz/9tBTCjBOXdhDet379enk0btw4Gd6HA4Q69u/fX4bkPfzww1LcutTE6QZjqV27NvXu3Vt6t6nKPXr0kAJLhw4dZGgchDlfeLytWbOGIIjBcE2IdHquMXidQYzDdSHkeTrfO++8U3puof+vv/6a+vTpg13DlAiJXFu4R84M91nd699//52WL19OVapUkc+As3bunHv00UdlviuIbosXL5bCmGrXsWNHuvLKK+X8IYA+99xz9OOPP6rTvGUCTIAJMAE/JDB1bo44FVUzxMZTDukdkAvr/R9W00wRXgiPrKDAYveq4Yd3hIfEBJgAEyg5BHLVk2Iy51qVAx3OpLEQNPzNcqUoksKMLl5hrHMuJRFHXqfPheeULl6pubwivKOUrb60Yp46biqSn0MIQjuEiiFn1F6RrwnhhTWCc1ghWg9hisr+2HFK7dJH1zW0Ea/UiXa1g2niFXXVoddbeC/FJKTIfiDk6eKV6rxVrUoyfxXEK5guqsFjDHNS9ljfOoZ4hTKIdi0icu7/yoNJtO2S5xbOnbqQQbO25cy5X6MqBOEPdlKUK6vqJOF9WIXcf5ydEOGVnpgSsOrVy72HsbGxsgu9zJM+rerCyyorK8cbD0KWLl6p+vC4QR4rGJK7Q8jRDaGBKsxRlaNPCFTIZQVDO4S0wVAODy8YBCddvJKF4o/SpUvLayqPKlWOLYQXtdodvKUQMqisVq1aMhwQoognNnLkSBvxCm3h/YPE8Cr08eDBg5506bAuwiph+O4hh5cuXqlyCHMQr2Cezrd58+bUtWtX2RaCpMpJhgJ40iH/FQx5qhRHWVCAfyDEUT1HEBvxjJktOjpahkCiHMIZGxNgAv5FIFP8zp86k0zY5tVOJ6V41T6v13XWztt54T/ewAWr7zky1Dl9NuffNo7q5Gc5uOPffp4Y5oPVBZ3Zsg05f08O69fUrhq8sALKlKak82m0aVfOfw7aVeICJsAEmAATYAJ5JJD75p3HDvyt2X8uq0NTN54wwtDU+O7uGmF46Kgyf9oiTK9TVGW7IW0WuZxgyOs0SOSrcmVYZdBsPwvPo09Ejq31h89R8qWQQnOd0yIPl7LNR3OuCWHmymY5HkzqnL5FiCOSrfvCtsTlik/wNHPHhrYIo4lzDsg5zRACFD7IX9VbJG6/vGko3STGpwuC94oE8A9O3yu7/mLlMZnYHwc/rk8geE/BxgrPNGUiUtEwhCw6Mn2VS+TScmVIFH7s2DFZDSF2sCeffNJYzW/jxo2yDGFb8IaB+ICwO28MOZ5gEMW6dOnisCt4YSFnE4QptLnxxhtt6sIDC/makEQc4hvC/8yGkDh47yBJvDJ4WjkyJGW/9tprLXNPDR8+XHop7d27V4ZWItQPgg88muDB5OkqdsjlhGTkENaQ7wpjVcKeGh/KfGFq/hBtnCXG16/l6XzhhYW8YxCs4HH10EMPye4QooeQSZijBO/yZD7/gTBGZch1pR+rcmx37NghDyF+Ytyermyp98X7TCC/CcQcOEnvfb+KYmJPypXWrurTmG69qo1Y8bj4/J8ghJlPf1lHm4UAceDYGcoQXtr4u65L69p0n8htBJEDK9DBPp0wlCpXDLLDPnfFXvptwU7affCUFEQCy5ahBnVC6fLuDemWoa0NXlv3HKfXJueI10cTcjyr9xw6RTc9/ZvR542DW9GQXvYCuFHBzZ28zuv1r5fTlt3HaVj/ZoScTx//vJYg4oDLdQOa0XNj+xgjSE7NoEnT19OarUdp7+HTlCYW06kkVuZrGBVG/TrVI8wFAo/Zvvh1Pf2z/gC1bRJBT9zWw3xaHj/9wQK54h/Gcf2A5rIMecNe+XKZ3P/o6cG0fd8Jmjp3G23dI/K/CiGqQrmy1LhuVbkyIJ5Tq2vjfiJ8E5/D8WeF6EUUEV6JWjeqQY/e0pVqhgcb44k/eZ7UferaqrZRrnaqBJejZvXD5fXX74yjLhZ1VF3eMgEmwASYABPwlECxE7DaRFaiJSIp+TMiETg8cqoLL6PR7arThEFRnrIp0Pp1tBA9/cL7T+X+z92GI7kij15H3z+s5fk6LTyIbv9pl0x6rtdxtb/v0jWxwp4zA1tf2X6xyqGyWiH2/xBW5/RtsxoV6W+R8+rRGftIsYk/lyFzXCHP1cQ5B2meSGwPLzTYLR1r0FN/7JcrG34nktC/PrS+DEVU4YPhFQPkio7qGio0EMennYSm6uJf1UvhhKoPqy3C4sy5fiCmmO3o0aOED8LevDXl6RUZGem0K+TBgncThLXdu3cbdSGQvPrqq/Tuu+8Skp67YxCdlLkKh3Q0R6xaB4ELohm8eQ4dEst1iw9yXyH0EDmUXIXHqTEgHxSSySuxRJXn11bdY6y26K55Ol8IfxA/kRwdIqcSsL777jt5SXiVITy0sEx/BiB+4uPK8KyygOWKEp8vLAKHxMv9bRNmUGr6RTkECAQIl8L20ZtzvCkLa2y+uu5fy/fQq0IQOZecG0aPvvEfNCs2HabVIvfR4F6NpFAiy/X/7REFF1LS6b+fLKaFq2Nx2jCIJDv3n5Sfhav30wdPXimTtccJQQSii24pIhxfLzuZaP+fJXp9d/a9mRdEOIwnWAh173y7kiBSKYM4pWzt9qP03MeLCSKPbucFy00x8fLz57Ld9OpDA6h+7ZwcpqoehFFcAwnsHdlG0Qf67t429+8VrPqnWEFY+3VBzn8IqD4wVnhC4QNR8bWHB1C9yNxrwxPtqfcX0KI1tvcL18EHAuOXE6+myOo5/8m6fmfOf8CVCwqgxtHW/8nZvllNKWBt2BGnhsFbJsAEmAATYAI+IVDsBCxQwYpxS8a19QmgguqkkmlVPHXdOlWCjNC6z0c0UsUOt9Uu5YFChWf/ijXEq+ZCxBkvkq/3FsnOq4uk5hVFgnfkuholVmw0W10hpu04nkxYidCZQSDzlUWF5opWh0SuMncN3lbrH+8gQwIX7UmkJXvP0t87T1HqxWyCmHejyA+24T8dZHch5QNkaOKXq+IJSfN/2XyC2oiwROQIg43pFGHkAcOxLmCdupDzsoJys528FDYIJy09nNBcTx1jtTV4LmE1NyT1hsiAxOkw5L9CHiCINsgpBfNF+BdCBiGomFeBkxfQ/oA4pTyQdFEJuZowbhhyUMFL6//sXQd4FFUXvdJ7Cb33XkPvvRcp0gUEEbCABRQVkSbKL2IvCKiAAhZQqiCg9N47ofdeQg89/z1v8yazu7PJbnaTbJJ7v28zM29ePfM22Zy991yEr2FuKVOmpFWrVhli7ro7M1l24ULEYQTm8DfdHkcI3o8cOVJlRly3bp0ScUfGOnjyQJAdIXhlypShsmXLmps5nYP8ghA+1oY+MX+EQ8IjDV5cCGVs2rSpeiZOjaNYACIQWRZBQrprnq4X+wQi+V9++aXKSogQPOh3LVmyRA0J8XarsGN35+NtPWinaYM3X0Tef7qeFtTX13IUBPwJgZmL9hjklXle0xfuppdZzDqu6/0cPXONRjD5BM8iWMOqBahZzcJKmPvk+Rv0F3tUbd1/jhasCv+Cw4wDzj9n7zRNXlUulZO6Ni/D5Edauswk1Oxl+2nl1hOK3PhixkYa9VJ9Atnx3dCWqpuJs9nriz2dCuTKQG89F+6FlC+nd9nsvF1XijAdJy1cDi8pYBOQPqWRae/StTs0aPwSunXHRvw1qlaQmlQvpNZ+/Ox19kbbTyCgDp64qur9Pq6Dz/eLJq+a1ypMjaoWpGyZ0tCxM8HKs2rvkUtq7MGfLiWMnTSJTY5hy95zBnlVk4mx3m0D2TM5VJX99s9eAsG4bOMx6vW07XP12Ys2L7niBTIbXnSOe6BkwSyqCN57YoKAICAICAKCgC8RiJcEli8Biu2+IEautaFA1mhvInfm9c+Ba6paeg5P3PB6oJO4+O6w8ETHvsrlTK0IrEtMzCAzIMa1MhBAvrIyPKa22buu0Mu1IvYU0nX1ETjh9Wqd3Ip4q/3VDjoRzPoLTE7dCHlEIK9gCCMEgQWbvOE8VTRlF+xrCh/EfZBRqZImUiGKyHYIwXwr23XORoDBI80dsgB6UDCtdVWqVCmD/EGYFQy6QDq7nyrw8gcIHhBm8KqCxpPWe3LsFtnsEGYHM5NC0NCCgZBAeBpIK7NZZe4DsaQNbRz1s/Q9HEFKRWTQumrSpIl6ffDBBzRp0iR68803lTfY8uXL7eZq1Q/Wrok5kIUvvfSSUzWrNThV8qAAGlXQ7QLm8CrCM3XXPFkvQgRBYMEg5l6+fHmFC0i57t27uztktNQDBtpAosZmOKOehxwFAW8QcPSs0X3BOwn/6OfPaf33Utfz9+MHE1cb5NXbvWsq8knPuVShrNScySx4nE2dv1MX2x3h5QOSCtaW9ZFGvlhPneNHsfysRxmYV4W7IVRt3oqD1I3JrWL5M1Pm8jZP6SUbjigCC55OZi8jo5Monni7LoQ/agMxBS8mx1C8D39YbZBX7/apRZ2bltZNCNi1qFWExv+8nkCCgtj5nkM0X3u2mlHHVycfvFKfWtctZnRXujCPzR5zH05eTXOWBylC66e5O6h/h0qqzq5Dts9ECBH9Ykgzg9iqUjqXCvnEnq5cKvwzWfAtW2RAJibvXJn2IotMS8tVeykXBAQBQUAQEARcIeAchO+qppRHGYELNx/Qh8tO0qojnn8T1aRYgDHu8xwOeD/sW1GjkE+WHwqmgh9sIoTFme1qmK4VZJkSP8XuQSYDqTN5o7VrN7L4aXt59mElcq6v9RFC8AjT9JVBYD93epsb/grGacomZ48deGZB8woZE2HBHNb3/K9Bav3meeRmrzUIvsN46XT7fnjIGwirymGk1drjN+nL1TbvmNos8l4sq+0DtGrIP5BNp1p+m8v8mqM3dLHTcR33A6sRVtepgosCnW3QLGBuVeaiuUfFOowMme4GDx6sMt45dgDR9bfeeksVwxMIOlPaNPkD4gphhmaD19bUqVPNReocYWCaxEJIG0gkK/v555+VjpPVPXhagaxytHbt2hlFrry3jAp8ouePMuhzORoIusi80xzb6GtgCuLx/Hn795POCgh8kNXRUWsL7eExZRaNj8p6EZ7ZoEEDNR2sQ2ebbNasmSIc9Txj4wjCs3jx4mroCRMmKN0xq3kgNHXo0KFKy8vqvpQJAv6CAHSBrAz//OfMEq4TZFXH38tu3gkX3a5aJpcdeaXnji9pXulS2Sn8Td9HaCAM4WUgwKxsQNcqRvG2GAgx88W6zF9ODeT5O5JXIff5C79tJ9W6qpfLbUde6cXiM8XrTFjlzW7zJluy4ai+5bMjvMLM5JXuGPMdwrpa2TLZviz8Z90RfYuyZLSVgYSFDtetu+He9x0bl7Ijr9BIk1Lp09h/FjA65JP0aZKry0ccXmruz1xHzgUBQUAQEAQEgaggIARWVFDzoA2yv9T5eicNW3SC6n27i5aGZRV0t4vnq2anQNb1giF7XsVPt9Gc3ZfpEIu1w8PqnQXHqOnE3XScswj2nBnEIXThJFn5sHa3mMBBOOFJroMPKFtO3aT6PBd4WGlDubbnKmejmgVsxM2+C3epzLit9AN7K+1hTyMIwY9ffpoCx29lXSjXYXW6L3eP+PD/zTPhIZLP/3aQBv55mNYeu0H72Ptp6uYLVPXz7TRqyUlq++M+unDzPmOxnaZsvkjNJ+1RBCHWdfjyXRq++Dgt3HdVDQ1SLBcTWmZ7qWZO86U6N4u3m2/WYWILtu74DUvy8DoTgbvDPLDquvBUM/dnPtdklVkfyqrM3Caq5y1atDA8oOANpcPlQkJCVOZAiJrXrFnT0L0aNGiQXcY4TURhftBagiYWDKLbEBLXguUoM2c8+uKLL5RXGsrgUYZraFiBzIFnEogdhAFa2aJFixQxA08rhPyB3EE/CMtDRjttlStX1qcuj3r+qPD111/bkU2LFy+268+KaHLZMd9AaGLXrl0J3kZm3TAIsmsSEGtp06YNQYcLhBfCCkE0ARM8C7TzZr1IDACD99zFizYiu1evXqostn98+umnagrI9oi1/vrrr2rP3blzh9avX0+Y+4gRI1Q4LZ6zmCDgzwhAgBvkjKP1aFWOzF46jvfjwvVRFhzX1qpOUX3qdEToWYMqBZzKUXD4lK0PhKBBC+rNz5Y6vUZPXGW0jYkQM1+sS08YoZD5cjh/CXL45DUlfI56EYnNY480rl5QdXeOBetBrvnSIho7JYu5N+SwQhjCQe+H6biBcEsbpuM1+a/t1LDvz/T8iHksVL+ZveGcv0zU4aVJk7j+FyKxSaRe1/flOqUvQUAQEAQEgYSLgPOnsISLRbSsHCTPkSvhQuxbmAAyezhFNiiInSldi9HTP+ylU6zpBEKp/RR7gU7dBzIt1isc/sFqQK2cigACNQVPI+1tpOtnYcHxy2E6ViC5tOGbxp+6FFPE0LGr9+g8e5D1/eOQvm0cGxbJwOTNHaMP40YUT9qUyUyv1s5FX62xeUV9s/Yc4eVoN+8/ohT8wQmhjiDukEEQBCFejjaYs1I6WufALDRo7hGlg4V7GTm8sEM5m16DY91GRTPSSCbNbjI+s1gYvjsLwZsNXm9hCQypYdFw7M11XJ1bkVVWZa7ae1oOLxd4+0BIe8uWLYpMwLM2E07oEyQDhMHNBpIBJBfIHQiFg3hKly6d8mxCWenSpQ0SC8SENpBLo0aNUjpWIFeGDx+uXghv00RRqlSp6LnnniN46JgNWkhJkth+RYE0wytp0qQGeYa6CL/U3mXmto7nmF+NGjUUYQKyDTpRmTJlUmuH51WyZMkInnDQCbPKrOjYn74GkQcvKhg8rdasWWNH/IGkApGF5wqdMBBajpjfuHFD6VchrDOq69XeVtoLDPpbjRs31tOM1WPt2rVpyJAhNG7cOAoODqb+/ftbzidbtmyqnuVNKRQE/AQBeM9M/aAtff7LBjrAWQgRRvV0vWIqC6GfTDHK04BAvTZXnmb6fu4wQW99rY8nwzSPINj+L+smRWZnL9k8mCOr5819X6xLjw9NKSs7Y1pHDhdeerpdnjAPLFwDrzKc6c9d06STq/qRjp3N9uUkCMbTF29S4TwBKsPg9++3oo+nrFOZFvHstnP2QLxAaEHH7NPBTSldmFcVsgzCIiLfbt4OJ+a0N5arOUu5ICAICAKCgCDgCQKuvz7xpBep6xIBZKXrVcX24SRHumTUrUJWu7rJwr7BSss6Va4MmRV3DalEPZk8Scvi62ZLygQXiJxp3YrRpM7FzLeoE2dfnMrleR08kFInS0QdmbBZ91p5o/5NzvhjtqIcTrfrrUoEzyTUN1s+Flx/mb2YFvYtQxlZJ8qX9mX7wvQPZxYswePbBz1y6BdjNKpZPlrFAv0ZUiWlX3uWpLdZmD6TxRwwxwkditDrdXM7TS8VC+b3ZMF2bd0rZaUUrHVlZTXZAwsC+LBv19qINXO9iRtsBFv1fOmoZPZwHS9zHatzkDeabDB7YGnBb3OZVfuIyhD+BwPZYzYIrq9cuZJGjx5tZHkzk1cgUJDtb9asWYrQMbdt1KiRIpD0vEDyQJgdWk0Q54b3kLYrV67oU3V8/fXXFfkFEkkb1o9wRITZzZ0715KEQn2QZtWrVzeIHe35BaIHnk9omzZt5GE7wGTmzJlqrhofhB6CvAKZ9ccffxiaY47z13O2OgLjfv36qVvINggvK7MBL3gZQXNLz1NjjnnA6w3i9C1btlQkYFTXCzx6mTyuIOyu12mejzvnIBdhjvtHt9X9Ot53VY52w4YNowULFigvNXMoDu6BuMJ8gZPeXygXEwT8FYHirNk08f3WtPqn3jTn8y7Uu02gSzFrf12D1byym8gZCK5HZBeu2mfZ03WzBNj+DqZOmZSG9asT6atLs/C/C7oPXx99sS49p1TsxWRlmTOESxDoEDureiiD2Ls2K6IQWQGtDMQSMg5GZMGcDTMiuxQcPrYOJ0R9aHT9PKYd7+fONPSF2kp8Xnsabtl3jkZNXGl0mzGMwIponfoeSK/EYX9TjA7kRBAQBAQBQUAQ8AKBp/ifqfDYMS86kqYRI4CMftnSJqWkJrfqiFtY38XjOsz6Uwc5hDAPZwsEuaJJMOsWRI/YRejwlbt0nL2pQDhVYg0oT+aBb+qCeLyj7ElWlrWl8gW41j1wNYeolINU28MeXjf4WIrJoYjGPXfjvspEiM2MjIbQ1IL3mi/sG/YIG/iXTS/i35fKsqdVRtUtwhRbs2ccbGaPEirDobqIIz+gC4WwPHgfwZPJShvKcSnwMoKXEjy5AgIClGC4Ji4c61pdI3Pg7t27FSFVsWJFlySJY1sQVwizw7gQA4e3FLIHRsVAWh05ckR5A1WoUMEnWR5B5oEgjAgLvHcRPhkUFKTWUKJECSc9Mb0eX65X9+kvR2it7dmzhxBSCJISWmligoAgEPsIgHSo12eqmkjdSvnoyyHNLScFgqXLkNlGuOCKH54jLdqN8MC//jvAQuCJ6L/Jz1E6FmP3xEZMWKHE3SE8Pv2j9p40dVnXF+tCdsHlm48rEfpv3m3hNNaN2/eo7vNTVXk7Fq8f8WI9pzq6oNfwubSTsxFmTJeCVvzQSxfT0K/+o0VrDxM8nJYzdtDMMtuOoPPUe/g8VdT3mQr0Sucq6nztjlM0YKztS6RnOcT1Lda6sjJ8luv6zmyViRB6bYu+fdaqmlF27WYIvTByvhJ9T5kiCa2b2kfNadayfSwIv0Zpvrnq4wf23PqGQxAL5s5If33W2ehTTgQBQUAQEAQEAW8R8K37jLezicftISzuC4P3Aryj8HLXkiR+ikpkS61e7rYx18OHKHgXReZhdJ5JpN92XDY3deu8VakAKsKEk6Ol4w9M8IByx3KmT054RYf1ZE2wUUtO0JU7j+iNuUdpx5sVlZD8q2GkFjzcOpSLe/+EgwjCyxMDQVO0aFG7MDlP2iPssFatWp40UXXh7QOSDS9vDcRblSq2D/7e9qXbZ88e7tGnyxyPeO/Cy81VBkhzfV+u19yvP5ynSZNGedX5w1xkDoJAQkQAwtogPUoWzEJZwzymgAOIk7JFs6kwslVbTxKICoh4Oxqy52mtK8d70FMCgQXdo3EckjZmQAPHKnSGQ9c+nrJWZcEDUWU2rSMWUXiaub47575YV2TjQNC8eIHMFMRhpXNXBKmw0sDiOZyazeUsgCCvYNXL2ksc5Mpm8yYG4bb/2GUyY4MvQJA5MDL77Z+9BP2yEvxsHQ33Dp64qoqrlQ33TgchOePvPUrXLHdYiCEqBaRLSRV4DcfOBFMIf5GI8EXoaAUWs63r3OVbhKycVl5kyEYJK8f7SUwQEAQEAUFAEPAlAkJg+RLNBN7XyeD7NGie51l1Tl+/R5+1Ley36IFIG9e6EEFYfg8Lyv/MulfnWUQe+luwr58p7JFHm98uVCYmCAgCgoAgEO8RGMjeOht2n1Feyn+yd0z+nOH6jSPZc6jL27MJ4WrwstnK4WPQ+ILHzrGzwTTnvyBFfrkCqXG1QlSp5D7auv8cLVx9iO7ee6iyFhbImZFAeEBX6TPWDwNJs5HnMGt8J7vxdWa7Uywyjqx+tSvkJYS93Q15SAVyRc3rFnP1dl2u1msuxxjPvvunSpbTb/QCXncVFYqHEEbocM1auo9mLNqjmkAXanDP6ubmVKFEOOH1xfSNNPqV+oS2J89fp+9+30Jrtp8y6j+yyEiNm0jIAy+tgd2qUCMWbEeGQQjlz1y8h2Yv26/ag9BDJkXYw0eP6ZWPFtHmvWdp2oKdKnywcqlchFBJZJSERxiscN4ARV7hvFCejEoPCzpXeM6Ogv8gxLT4eyXWzxITBAQBQUAQEAR8iYAQWL5EM4H3VTRLSvrjuZIeo4B2/m7QMftp03kK5qyDlfOmpYePU3MGxAtUmj3Tni4d97yv/B1vmZ8gIAgIAoKA7xEAYQHSAaayEjNxYSawEPIFr6kPJq2iW3ce0JL1R9XLPBOEk7WpV5zg0WNl7/evQwPHLlakDcLu8GIHVCNLn27zbIuydmOjHILhCD+DvfrxYg43T8SZW5/QC+0r0AAmhKJqvlhXZGPDA2tI75r0ybT1ygMNJBRe8GJH+J42ZPwDxplMulm4B4+sSiVzqueDZ9TilRl2beGdBvIJGlr3wjII6j718fm2gcpT65Op6wkvx7FBTI1+ub4R8omMktqD6ur1EBo8fqnqChIM5uzUPTnLpjZ4E1ctnYuWsUj/vJVBTgQWiDbsHZgQWBo1OQoCgoAgIAj4CgEhsHyFpPRDASxY37G8s9t6fIAGH9gWsGg9sh9qwfedb1aiJyIhFx8er6xBEBAEBIEEgQAIi84snD594W7OPpeGGlYr6LTuJtXhRZVTaRiBSDnN3kP4UwfiBSGG8CxC9jxNYKFPs+XLkYF+H9eBPmVPq3/WHaHbdx8Y5BW0seDNA6IF3lqOBu+fZxqVoD//PaBuaU8jV8Lmju0juvZmXVqPCvOPyDo3La1Im//9tJZ2HLjAGqRPDPIqOSeQqVsxP2tU1VCeUVb9fDGkGY39aQ39vdrm+aSJr6L5MtH7LIo/Zd5ORQjqcsc+ujYvrXSn8GwOcBiiJqGSsP5q5dI5aVjfOpTLIYPk8P51CVklf/1njyESr9sh62a/DhWdSKr2/IxAYG3Ze06FGIIg1KY9vWoF5qVsAdZZG3VdOQoCgoAgIAgIAp4iICLuniIm9QUBQUAQEAQEAUFAEIjDCFzmsLyA9CndyhAHb5+r1++qMEJ8mQObMm8HfTljkwolQzZGVwbtJmheHWfCC4QZwgBBpkRmIM2gvZSY6+bIkoYK5Q6IrInH971ZlzuDwdvt+NnrSicqb470BDJIE2GRtUfo5ZFT1wji8NCliih80izivmxiD4McuxPygPYcvkRpmHgEAab1xSIaG8/5yOlr6su5HJnTUj6et37m5nZ4rm1e+0152SHEFF5dMLTt+OYfirD8dmgLqlk+r7mZnAsCgoAgIAgIAl4jIB5YXkMoHQgCgoAgIAgIAoKAIBB3EIA2kruWIlkSJ6+d9TtPq+YgZSIykB95uA5enphjGxA6m/ac8aQLVbdUIU5WYhKqN3fgzbrM/bg6h2caiCO8PDWE+sHbzRtLnTIZmcXa3ekLYY2OoY1W7fBcu7cqSx/9sIbmrzxIXdmrD8LxuIa3XiH2yKpRzl6k3qofKRMEBAFBQBAQBDxFQAgsTxGT+oKAICAICAKCgCAgCMRDBOD19MpHf9MgFhi3CvHDkiH4vYXF3WHekiyqEzd+QPfpjU+WuFHTvsrLnStTv2cqKm8uf1yX/Wzj1hVCPZFxEpkXofvVoXFJJdKPVQx9obal51bcWqHMVhAQBAQBQcAfERACyx+fisxJEBAEBAFBQBAQBASBGETg1t37irw6f+U2vfXZMurS7Dy1rFOEiufPTPAmAom0bONR+pyFyWFpUyejviyuHhOWJWMqGvdGY4+HKpwngPx5XR4vyI8aJE6USGlqPT9iHtWpmI9KsIg9MhSWZq+3iqyhJiYICAKCgCAgCEQHAqKBFR2oSp+CgCAgCAgCgoAgIAjEIQQglP4Li7tP+GML3X/w2Jg5hMtTJE9iZJbDDehYjXypDqfaOgAAQABJREFUnpO4t9HIj07i67o0xK40sPT96D5ev3VPZUfEOPdZLw3JbVImTxrdw0r/goAgIAgIAgkUgciVNBMoMLJsQUAQEAQEAUFAEBAEEgoC8Kjp9XR5+uOTjlSldC4WeLcJtj989MSOvAosnp1+4yyDreoUjRPQxNd1afDDdPXVJfSnYtoypE1hDJmc9dKEvDLgkBNBQBAQBASBaEBAPLCiAVTpUhAQBAQBQUAQEAQEgbiMALLonb7AGQTPBlPI/UeUL2d6zkqXgdKlTh6Xl0XxbV3ICAgvKFj6NCncznQYpx+iTF4QEAQEAUEgwSIgBFaCffSycEFAEBAEBAFBQBAQBAQBQUAQEAQEAUFAEBAE4gYCEkIYN56TzFIQEAQEAUFAEBAEBAFBQBAQBAQBQUAQEAQEgQSLgBBYCfbRy8IFAUFAEBAEBAFBQBAQBAQBQUAQEAQEAUFAEIgbCAiBFTeek8xSEBAEBAFBQBAQBAQBQUAQEAQEAUFAEBAEBIEEi4AQWAn20cvCBQFBQBAQBAQBQUAQEAQEAUFAEBAEBAFBQBCIGwgIgRU3npPMUhAQBAQBQUAQEAQEAUFAEBAEBAFBQBAQBASBBIuAEFgJ9tHLwgUBQUAQEAQEAUFAEBAEBAFBQBAQBAQBQUAQiBsICIEVN56TzFIQEAQEAUFAEBAEBAFBQBAQBAQBQUAQEAQEgQSLgBBYCfbRy8IFAUFAEBAEBAFBQBAQBAQBQUAQEAQEAUFAEIgbCAiBFTeek8xSEBAEBAFBQBAQBAQBQUAQEAQEAUFAEBAEBIEEi4AQWAn20cfthS9ZsoTWrl0btxchsxcEBAFBQBAQBAQBQUAQEAQEAUFAEBAEBAG3EHgqlM2tmnG80tatW+nBgwdqFaVKlaL06dPH8RVFz/QPHDhAu3fvppYtW1KaNGmiZxAve8WWLVy4MB07doxq1qwpRJaXeHraPC7sEU/XJPUFAUFAEBAEBAFBQBAQBAQBQUAQEAT8G4Ek/j0938xu3759VLlyZaOzd999lz766CPjWk5sCEyePJn69eunLgICAujkyZN+SWItW7ZMkVeYaKVKlWyTl58xgkBc2SMxAoYMIggIAoKAICAICAKCgCAgCAgCgoAgEGMIJIgQwq+++soO0EmTJtG9e/fsyuSCaNasWQYM165do4ULFxrX/nQyceJEYzqacDMK5CRaEYgreyRaQZDOBQFBQBAQBAQBQUAQEAQEAUFAEBAEYhyBeE9ggYj55Zdf7IC9evUqzZgxw65MLogaNmxowJA8eXKqW7euce0vJ+fPn6f58+er6dSuXZtKlizpL1NLEPOIC3skQTwIWaQgIAgIAoKAICAICAKCgCAgCAgCCQyBeB9CiJCnkJAQp8f69ddfU58+fZzKE3LBW2+9RWXKlKE9e/ZQhw4dKEeOHH4Hx08//USPHj1S8+rfv7/fzS++Tygu7JH4/gxkfYKAICAICAKCgCAgCAgCgoAgIAgkRATitYg7iI6CBQvS6dOn1bMNDAykHTt2GM955cqVfullZExQTuwQePLkCRUqVIhOnDhBmTJlorNnzxI8xcQEAUFAEBAEBAFBIOYQOHn+Ov236TglTZKIujYvQ0kSx3uH/pgDV0YSBAQBQUAQEAQEAZcIxGsPrL/++ssgrxIlSqQ0nmrUqEGXLl1SgHz55ZduEVgIOZwzZ47yTAoKCqKsWbNS+fLl6emnn6YiRYo4geuL+iDb2rZtqwg4pwG4AKTcjz/+SMgIh/Ewj9KlS9Ozzz5LGTJksGsC4mfu3Lm0ZMkSJcyeKlUq5WlVv359qlevnlEXYveLFy9W1+jjhRdeMO59++23hidb79696fbt27Ro0SKCoHqSJEmoQoUKauw8efIYbRxPNmzYQKtWraLt27erviDAjjBFzGH69Ol04cIF1aR169ZUrFgxx+a0dOlSRV7hRq9evezIKxCT//33n2qDtujj33//pTVr1tC2bduUGH3FihUJa7YSfje3x/Pt2bOnGg+Y7dy5k9q1a0cDBgywmxPWsm7dOrUvgoODqUSJElS2bFlq3759pFkuZY/YQWlcRHWPIHPm1KlTVUhp165dKXXq1EafciIICAKCgCDgWwSOn71OX83cpDptVacoZUyX0rcDxFBv12/do2HfLKe3nqtB+XJmoD1HLtKk2dvok0FNKEWyeP0ROYYQlmEEAUFAEBAEBAEfIxAaj43JqlCGS72aNGmiVvrGG28YZYkTJw5lbx6XCDDxE8okUWjmzJmNNro/HFOkSBH6+eefh6IezNf106RJo8Z3nCCL0IcyaWQ5p/z584du2rTJaMIaYKFMtlnWxRpee+210Pv376v6TAAY9ZjkMvrACXs8Gfc++eSTUNw3Y4Fz1GGvNrt2uOAQztBXXnnFqb5uP2rUqFAml4z7wNzKmNAz6hw8eNCuCoeEGvdYGyv0nXfeMa71ODg+9dRToYMHDzbWrDsxt8+WLVvomDFj7Np369ZNVw3l7Iyhbdq0sbtvHgPtWWPNqG8+kT3i+z3CumihyZIlM57Hq6++aoZczgUBQUAQEAR8jMCKLcdDy3WcoF7Xbtz1ce8x19373y5Xa2g9cGboo8ePQ2v3/kldfzljY8xNQkYSBAQBQUAQEAQEAbcRILdrxrGKmzdvNv6hBbnw22+/qRWwp4ZdOWv6uFzZxx9/bFfXTFLo83Tp0oUePnxY9eGL+lbE0N9//23Mkb2JQkG86fGtjh07djTqs+dQhHUxHrCCuUtgWY2pywoXLhzKoZvG+Dh55plnIpyDbquPVgTWmTNnDNKOvajs+seFmYDS/UR07NGjh10fkbXXBBYIwVy5crm1HvZasxsDF7JHKNTXe2TatGl2zwMkrpggIAgIAoJA9CEQHwisrfvOGiTcvBVBCqwf52xXZRW7TAw9evpa9AEoPQsCgoAgIAgIAoJAlBCIt6IFCA/UFhAQoMLxcA2RcoSSafvhhx/o7t27+tI47tq1i95//33jGmFyL730kgpTgpA1tJeYvFJhefwPOXlbnz2UVDjgjRs36J9//iGEOmp78803DeFyhLQ9fvxY3cKccI1MizNnzlRhcs8995w6RwVogCHsThvC4JDFD2GHCH+EjhTC7ipXrqyruH1EqNx3331H48ePp5w5cxrtjhw5QtAW04b+//zzT31J7ClD7CFDEGP/5ptv7NZpVLI4iYp4O0IqMT8m5qhv376EMFJtCFlcv369vrQ8Fi1alPBcRo8eTc2aNVN1XnzxRaW9pRtgP+kxEHJpHgP7hD3FdFXZI2FI+HqPICQ0adKkBs6dOnUyzuVEEBAEBAFBQBCwQmDyX9tVcWDx7PR0PZtsQfeWZSlX1rT06PET+nGu7b5VWykTBAQBQUAQEAQEgVhCIEq0l583OnfuXCj/Q2t4ZTiGFDFxYtxj2EO///57pxVxhkKjDjyeVqxYYVdny5YtoXhp86Y+EyWhTErprtSRtZuM8TFHJltUORMoRjnr/IQyGWC0g5eS2VhTyqiLPljDKfThw4eqCrykEHplNiZ6jPoRhRCyzlXonTt3jKZMohntMA5CHLWZw/7wTLS3l76PdbPelF17Rw8s1MmbN6+qw/pUTuF/6MvRg4oJJxW6qMfBkTW7VAgh5oiX9qrCPcf2zZs3d2rPumN280Sde/fuoblh8JZDmKIeAyGa2mSP2HCPjj2CffXuu++Gsu6dscc17nIUBAQBQUAQ8C0Ccd0D69iZa4b31aY99p+d5vx3QN2r1HViaPDNEN8CJ70JAoKAICAICAKCgFcIhLuk8H+V8cXgGcREjbEciIQfO3bMeFWtWtW4hxMmL+yucQHhb20Q9EYfZoPXh1kM3Jv66BeePvDw0i/WUDIPR4cOHVLXNWvWNMqZRFLi7dWrV6e3336bjh8/btzDCWsxqax9uhAeT/CWgsg1PM/MXiu6jjtHCMUzwWVUbdiwod01PMK07d+/X58SEzhO3l7wWGIdMTvPJaNB2AmE5U+dOqWuICAPL67IbMKECcQaZXbVmHAis3eOeW52FfkCe8KxvfkZoz7GcMyC2KJFC+rQoYPRnbmN+dzTPYUOZY+4/nUFL8KPPvpIie3DM1FMEBAEBAFBQBBwhcDvS/apW3lzpKcqpXPZVWtWqzClS5OcHj7iBDgrguzuyYUgIAgIAoKAICAIxC4Crv8jjN15RXl09oihiRMn2rVHVrhChQoZL8eQOWTf0xns0BAheijTZiaNdJn56G19kFPsBeb0Mo+hCaxWrVrZhUAyfUkbN26kcePGEYuXq+yImuxB+2HDhqksgbqvy5cvE+uBEULhQGYh/M1Ty507t10T9lBT4Yh2hXwBXI4ePWoUmwk/o5BPEOIZUfZC/TzZs0mFAprbWp1jXayDZHXLjkDTmDpWxHywXxwNoZfakKkwX758+tLuaN4vCC2FyR6J3j1i9wDkQhAQBAQBQcBnCCCcDtn6vLG79x7StZshEXZx6+59Crkf/uVjhJUtbobwGBjHHVuz/aSq1q5BcafqyD74dF1bSOHKrSec7kuBICAICAKCgCAgCMQeAvHOVeHXX38lkDSe2ldffUXwJIKBkMmQIYPRT3BwcITdeVsfnUfmNfLgwQM1B8xr9erVxALhNHv2bOUpBnJEGwiTli1b0p49e1RRr169CFpOHNZHHN5GV65c0VUJfUKnqUCBAsRC60Z5ZCdYr6NZzR/10qdPrzS6UP/ixYuOzdQ1Z+YzsHaswGGRxKF/qrhRo0aWxJJjG+iIgdgD4eVo8FrTljFjRn1qd3TlmQbNM23QTXM1hnm/cAZL1UT2iPUe98Ue0c9EjoKAICAIxAQCQSeu0BfTN1LQ8SsUkD4lta5blHq2LkeJ2aM4vtjN2/fp+9lbafuB88Ri5sobKUfmNFS2aDbq+0y4jqjjeo+cukYjJqxQf3+njWlLvy7eSzMX76Fzl26pqssm9qAsGVMbzbbsO0s/L9hFh7ndhSu3uR1RnmzpqXjBzNSPxymcJ8Coq08+mLRKYd+gSgHq0qw0TfhjK6Ef9MFJoSlP9nRUPH9mNc+i+TLpZsYR45wNm0+1MvZfyOlKNcrloel/76a9Ry7R/QePKDmTWmKCgCAgCAgCgoAgEPsIxJ9PW2FYmsXbQarAG8fVK2XKlMYTWLhwoQox1AUVKlTQp0oE3BySaNwwnXhTH4QT+nd8gWzRZZ988okxGsL3QDxt2rSJrl+/TnPmzLHzytq7d6+d0DgE4VnfSpFEQUFByivLLDYOIfjoMoica5s8eTLdvn1bXxpHCLRbCemjAuthGaL1/fv3N9pEdALcIGrvaPfv36dffvnFKIbIuydmfsZYBzzZHA0egOYxzG3M53genuwp2SOu94h+BkhaICYICAKCQHQicOrCDeo1bC5t3H1GeSUdOxNMX87YRF/N3BSdw8Zo3+t3nab2g36nmYv2KKIIoXSw80z8LFl/lLoP/YuW8tHKgm+F0L6jlxXx89Zny2j8tPUGeYX6aVLZJAAePHxMo75fSX1HLaA1208p8gr3+bsnAsbov8vbs2kik2iOdvDEVTXGup2n1VxANKEM5BXs9IWbtGzjMer2zp80aXa4HITuZ9uBc+o0RfIkVDS/M8GFm+WKZWNpg6c4Gc4T2sMklpggIAgIAoKAICAI+AcC8YrAQvY7HbIFeKGXdPbsWZev//3vf8ZTgBcQNKK0mTWvEE4I3SiQRTB43gwfPpyQHVCbN/XhGbVq1SrdlTpu3bpVhaixCLjylDLfXLBgAQ0aNEhlGUyTJo3KsPjZZ5+ZqxA8l2Agc+CFxYLz6rpYsWL0wQcfUN26ddU1frA4uXHu65PGjRsbXZ44cYLgRbV9+3aF4a1bt5TWFNZoZfAsg1YXLHv27NSmTRurapZlAwcOpHnz5hn3rl69Sh07diRkwNNWp04dferWsVy5cmT22oIm1fz584228G6D/hX01rSZ94X53NM9JXvEeo9onLGH8GxAEm7YsEEXy1EQEAQEAZ8iAFLnHnvkONr0hbuVp45jeVy7hnfSm58upSvXbdmZG1UrSOPeaEwzxranMQMaEDL23bv/iBatPWy5NJBC2pZvPs6eS4mpR6uyqu17fWtTyuRJ1e0Jf2yhOctt+lIZ06WgwT2r00+j2tD3w1pRvw4VVTuQR/Cumr8yPJuv7htHeIcdP3udMmdIRUN61aQpo9vQd++1pD7tAilpkkQqk+B3PM7fa2waorrt2Ys2b7DiBTK79JpLnTIZ5WN9LNiJc7bPfrq9HAUBQUAQEAQEAUEgFhFgMibemDnjHUNqlyXQapEc6hWKbHuoixeHu4UyqaKqsrdOaNmyZY17uI8seuxRFJopUyajfMSIET6rz9pcoexZFdq0adNQFhA3xqhWrVooE2xqHBZ3D2XPMnWPxehDP/3009Cff/45lP9xN+pjTRweGIr1sfeVKmdvM5WFEO2RrU33gXWNGTNG9c1eQXZ9qMKwH+Y1s3i5+ZY65zBEoy0Tg8b9kJCQ0MKFCxv3NNaYjzlbny7HUWchZHLIaDd06FCjT6sTxyyCuj8mvkIxN/N6cc8xk6K5PYvfWw2hyjhE1ZiTeQz25nIaA88H2R61+WJPyR6xvVf1HgG2TP7aPRMmZzXkchQEBAFBwKcIvPbxYiN7XbmOE+zOj58N9ulYsdHZgLF/G2v67Z89TlN4/PhJ6MdT1hp1gMG1G3eNekHHLxv3KnaZGLrn8EXjnj7Ze+RiaGDn71W99oN+C70SHJ7VWNdBlsB6faaoOrWe+zH0sqnOs+/+aYzR9e3ZlpkCD564ElqT22F+dZ+fEnr9Vng2wf/9tEaVDxr/jx7O8tjr/Tmq3uQ/t1nel0JBQBAQBAQBQUAQiHkE4o0HFrxezN4w5cuXt8sSyGSDk0FPqkuXLkY5tJOYDFLXyHSHMDSzuDhCvqAtBW8ebfDiwti+qA8vKYQKIqQPoWgweJXA2wt6Trw9VOY7HSqFEMLBgwcTMtrBq0kbyqDjtGbNGqOciSTlYYYMgmPHjlXeW6gPQfYePXropj4/IpMfdMkcBc8xH6wHhhBPK9Pi7Qh37Nu3r1UVl2Vax+rChQsqO6PGDA2gZYXQRHMmRZcdOdzAfnn99dft9LUwBsI2zWMULFiQpk+frvTUdBeyRzQS9kdv9gh6On/+vF2H2FtigoAgIAhEBwLZWQfKyhJzuFnOLGmtbsWZMgigI5wPVr1cburc1DnMHmF1rz9bjfJmt3knOS7OrD3ZpHohKl04q2MV+nfTMSPcb3j/upSJPagcrUCujPQajwO7dfcBbeCwRkfDXEa8WJcypLXPOIx60L56pXNl1QQC9Aj51KYF6dOncW6n6+Co+w2ORHze3EbOBQFBQBAQBAQBQSB6EYg3BBZ0lBAGqM1dwgPZ+MymQ9ZQVqpUKULmOYQKguwyG0gV6BIhXAlkBcyX9aHPBVF5hBI2b95c9Y8PhgiT/Oijjwihg46GzHkIgxw9erS61bp1a0VgsQeXHeGCmyBTEO6G0MW8efOq+lbi7OoG/4joHuqgP23mc5Qh++Du3btpwIABSlBef8DNkiULde7cmTZv3sxaE+FbEeXIpLh48WLVJXukUf78+dW5Oz/Yg0pllQSJaTZootWvX5927NhB5tBG1IlsfeZ+Pv/8c4Ub1mWeN+oggyEyP4LQYs8zczN1LnvEBokv9ogGF5k5ofMGy5Url7H/9X05CgKCgCDgKwS6tShD5jA53W+PVuUoWdLE+jJOHg+dDP9yrmXtoi7XgHU2rm773OOyEt+oUT6P5W2I38NyZ0tH5Ypmt6yDwuY1CysdKpzrNjjXBoH3YizW7srMazCvTWt6IcwwIkuc2HZf14+ortwTBAQBQUAQEAQEgZhB4Ck4fcXMUHF/FGhFgdCCxwj0kJBhLyKLSn2IrEPvqWTJkhGSKnhs0Lk6dOiQqgdPKhBYmhxynBdE0g8ePEjwFgLBg7qRzd+xD19d37x5U4m5a88rrAHaXNpA/sDbDRpT69evp7lz50aqfwXiDrpXMKwP64QdPXqUoL0Fb6vAwED17NQNH/2At8/+/fsJmQfxzPSa3O1e9og1Uu7sEZCBZgOWwN8TMtLcXs4FAUFAEHAHAWQh/PyXDXSAiZhMnIXw6XrF4kUWwnkrg2jEdysVBD+PaacyDrrCY9bSffThD2vU7RU/PEcZ09mS4oAo6vTWLFU+aXhrqlI6l1MXT7/6qxJqr1QyJ/0w8mmn++aCZi9PVwLvIMO+G9pS3YKIPLID1q6Ql75+p4W5utN5neenEDIqQstr/KAm6v6Yyatp9rL91LxWYRr7aiOnNrqg7+j5tGXvOaXJ9XInmzeXvidHQUAQEAQEAUFAEIgdBMLVNmNn/Dg1KsIJzSGFkU0+OuuDqPKkf03gRDbn6LgPgmfatGnEemGKSEIIH17azOL5WBc82uCBtm7dOjp58qQKc9R1PT2CqMMrugzzrFixYpS79+QZYhBP6sf3PeIIOrAREwQEAUEguhEozl4/E99vHd3DxHj/2QLCPbtZcyrC8YM5LC8yS5XCJtjuWC9ThpSKwLp+O+I+HrNX/dUwMfkcFqGbN5iYishC7j+kW3dsdbJnCl9bxrCQQx1K6KqPG7dsbXV9V/WkXBAQBAQBQUAQEARiDoGI/adjbh4yUjxFAB5KCBMcN24cIaQPulDwuGKReeW5hLBCFlA3Vg+NLpBC2qCdJR41Go34efR2j8RPVGRVgoAgIAjELAJF82cyBly745RxbnWy3kKTyqqeVZkO+zvBGQTPXrppVUWVwftJh+/pNubKLNROERFtG3adYa1NWwtoYmnLmim1Oj157oYucjo+fPSYTp233bfS6HJqIAWCgCAgCAgCgoAgECMICIEVIzAn3EE4q6LSgwIChw8fVoLxCBdMnjy50gz79ttvDXAQmgl9L7GEhYDskYT1vGW1goAgELsIPHr8hFZuPUGXrtl7WQVwGGCxMBJr7oog2hFknyBDz3ru8iDaGWQL09dlnhyrl82tqmMeY39cSzg6GgTlOduhKoZAfuVSzsle7j94zHXWGYLw5j5usufV+J/Xq6IkrHVVsWQO43ZgMdv5ucu3VHiiccN0cvDEVbr34JEqKVcsm+mOnAoCgoAgIAgIAoJAbCIgBFZsop8Axu7UqZNbIXbQLpozZ45HIZoJAL4EsUTZIwniMcsiBQFBwE8QGDh2Eb0+7h9qzvpSJ85dt5vVsL51WEuTlOdSv9ELaOr8nQSi58mTUFX3k6nraOT3K+3aeHpRt1J+ali1gGoGT6/ew+cqsgyE0a2792n19pNKR+s4e2jBnm8bSMhKaGX/bjxGL4yaT7sPXaT73B56V8s3H1ftz126pZq80K4C5coaLltQKE9GSpcmubq3df85q24N8i5P9nRkDq20rCyFgoAgIAgIAoKAIBBjCIgGVoxBnTAHqlOnDm3ZskWFDs6cOZOOHTumRNURQpg5c2blhVW5cmV67733nDI9eoIYhO+rV6+umiAToFjcQSCm9kjcQURmKggIAoJA9CCA0DhN2jxmUmrL3rOUP2cGY7AyRbLRq92q0te/blbhe19M30h4JWIvKJBYMGRhbN+wBM1ctMdo5+nJey/U4fDBWyq74J7Dl5jEmmcQZ+a+INTer0NFc5FxXrdSPjpz4SZtP3Ceeg6bY9ke4u992gUabXACfciqLC6/jMkvCNe3qlPU7j4uFq4+pMqsROidKkuBICAICAKCgCAgCMQYAkJgxRjUCXcgfFjs0aOHegGFJyzMevv2bTshd2/R6dChA+ElFjcRiIk9EjeRkVkLAoKAIOA7BJImSUydm5Wm6Qt3E4TRG3J2Pkfr3SaQAovnoI84yyCyCsJAXqVIlkRlJnypUyX2lHpgSWCB6NKWlEP3XFkAZ2+cMbY9/cLzmMZeXsE37xl6VWiTM2taeqVzZWpZ25lc0n1mzpCKRr5Yj8axV9imPWfp2o0QfYvQf38mvjo1KaUIK+NG2En7RiUUgQWdrWNngqlg7nAPL2Q4RAghrF2DEmEt5CAICAKCgCAgCAgC/oDAU6Fs/jARmYMgIAgIAoKAICAICAKCQPQjAPFzkDyJE7kmmTCL20xUBbFYepLEiahUoSwEAiw6DNkGD5+6xv0noiIsuJ4utS3Ez2qs7kP/IpBMzzAJ9X6/ukaV42eDlVdXkbwBlM2UddCoYDrBR982r/2msiE+Xa8YjX65vnF3yBfLaOn6o1S6cFaa/lF7o1xOBAFBQBAQBAQBQSD2EYj4k0vsz09mIAgIAoKAICAICAKCgCDgQwSyZEwdKXmF4dKkSkaVSuak8sWyRxt5hXGQ6a8ai7tX5LEiIq9Q15VBJ6tWYN5IySu0h9dv91ZlVVfzVx6kA8cuq/PNHFIJ8grWs3U5dZQfgoAgIAgIAoKAIOA/CAiB5T/PQmYiCAgCgoAgIAgIAoKAIBADCMCDq3iBzGqkT6atV2GSCJuEQfuqSfVC6lx+CAKCgCAgCAgCgoD/ICAElv88C5mJICAICAKCgCAgCAgCgkAMIIDwSWRdTJY0MdWpmE+JwDevVVhpfb3Xt3YMzECGEAQEAUFAEBAEBAFPERARd08Rk/qCgCAgCAgCgoAgIAgIAnEeAehcLf2+B2VIm0KtpX+HStS5aWnjOs4vUBYgCAgCgoAgIAjEMwTEAyuePVBZjiAgCAgCgoAgIAgIAoKAewho8krXdrzW5XIUBAQBQUAQEAQEgdhHQLIQxv4zkBkIAoKAICAICAKCgCAgCLiBQMi9h3TvwSNKniwJpUqR1I0WUkUQEAQEAUFAEBAE4gsCQmDFlycp6xAEBAFBQBAQBAQBQUAQEAQEAUFAEBAEBAFBIJ4iICGE8fTByrIEAUFAEBAEBAFBQBAQBAQBQUAQEAQEAUFAEIgvCAiBFV+epKxDEBAEBAFBQBAQBAQBQUAQEAQEAUFAEBAEBIF4ioAQWPH0wcqyBAFBQBAQBAQBQUAQEAQEAUFAEBAEBAFBQBCILwgIgRVfnqSsQxAQBAQBQUAQEAQEAUFAEBAEBAFBQBAQBASBeIpAkni6rni/rFlL96ksPLUC81KBXBmd1nvhym2av+ogHT55lW7ffUC1K+Sjbi3KONWLKwUPHj6mWcv20ZMnodSqTlHKmC5lXJm6zFMQEAQEAUFAEBAEBAFBQBAQBAQBQUAQEAS8REAILC8BjK3m3/2xhYJv3qNMGVI5EVh7j1yigf9bpO7r+d1iEgsEkNl+H9eRkiVNbC6iq9fv0umLNyk5l5comEXdO3HuOl2/dY8y81i5s6Wzqx9TFzfv3KdPpq5Xw1Uvm0cIrJgC3s/HOXzqKt0JeWjsVxCcuw9fVLN23K/zVgbR1Hk77VY05/MudtdyIQgIAoKAICAICAKCgCAgCAgCgoAg4J8ICIHln8/Fq1l9OWOjIq/Sp0lOnZqUoiRJEtHZi7eURxY6xjXsSWioOpp/fPXrJpq34iBVLZOLJr7fmkK5zssf/k3nLt+iV7tVpefbBpqry7kgEGsIPH7yhJ4fPo9AztaukJe+fqcF7Tt2iXq9P1fNaXDP6tSjVTljfjdv31fk7KNHT4wyOREEBAFBQBAQBAQBQUAQEAQEAUFAEIgbCAiBFTeek9uzDL4ZQlv2nVP1h79YlxpWKajOp/+9m2gVUYMqBeizN5ta9vfw0WNavvm4ulezfF513HP4kiKvcFGjfB5VJj8EAX9AAHsT5BWsaY3C6rhh5xl1xI8mNQoZ5zgBmYXX+Su3qPnLM+zuyYUgIAgIAoKAICAICAKCgCAgCAgCgoB/IyAi7v79fDye3cVrd4w2lUrmNM7dOdmw6wzdumMjBGqUs5FVS9YfUU0zZUhJxfJlcqcbqSMIxAgC63aeUuMgDLZ+5fzqXJcFFs9O2QLSxMg8ZBBBQBAQBAQBQUAQEAQEAUFAEBAEBIHoR0AIrOjHOEZHQJiUtlQpkupTt46arMoakJoK5w1QgulLNxxVbaE79dRTT7nVj1QSBGICARCuMCQySJ0yGUEnbQ/rv8Ga1bR5ZKkL+SEICAKCgCAgCAgCgoAgIAgIAoKAIBDnERACK84/QtcLSJzI/cd7/8EjWrHlhOqsernc6rgj6DxdDr6rziV8UMEgP/wEASQV2HfURlY1DQsV3LTnjCJdEyV6ihpXsw8f9JNpyzQEAUFAEBAEBAFBQBAQBAQBQUAQEASiiECSKLbz62Yh9x7SgeNX2GOIqHiBzJQyuWeeSP6yOKzj8Klr/LpKKZInoXJFs7vMAnj20k2COPXJ89eN6eM8EYOQOHHkRNaG3WfoLo8H0+GDyzYeM/qqXtZGahkFDid3Qh7QoZNX1XxTp0zK4YaZKX+uDJQkgrEvXLlNh3htZy7cpJxZ01IR9vrKldWzLIfIOnf6wg01m3w5MzjMynZ5icMqgWXmjKmUpw5Kofd17tItSpYsMeXInJbuMYG3iTE4y2XAGiFoBXJlNPq7zVpLW/efU2Ply5GBShfJSgHpUhr39cnl4Dt0l7PiwYstJXvAHTl9TREt9+4/ooK5M1KJAlkoTapkurpXR2/HwpowP7xAYGJdZXhd6dOkcJpXdOFlHujW3ft06MRVNR/MoUi+AMrPz9SKiN2y7ywnGCD1rOpUzKe62bTnrDpWLpWTAtI7PxvzWHIuCAgCgoAgIAgIAoKAICAICAKCgCAQtxCIdwQWSIYhny+jazdC1JPIwqTFJ4OaUPli2ePMkwFZ8MNf2+nHOTvo0WP7jGkgeT61EGF/5aNFdOJcOHmFxbZ743e15swZUlGvNuUjXD8IqvlfdVV1cmS2aQe93KkydWtRhgmEpyijBVmDyg8ePqYJs7bQtPm7lPeLeRCMO/KleirEy1x+9Mw1Gv39Ktp16KK5WJ2XLJiFRrD4fLH8mZ3uWRWAyOj/wUJ1a+cfL1pVoa7vzKar10Pow4ENqGXtoqrOv0zOvfvVfzxOJurfoRKNnriK4NVjto5NStLQPrVp0p/baNLsbfSYyTJtKVMkoXeer0Vt6hXXRerYZ+R8OnX+Bn3wSn3l0aZF8XWljOlS0KiX61OdCjbSRZdH5RjVsUDWff/HVvpl4S67NWEOSTlD5StdqlCvp+33S3ThhTFBnk3g+fzM8wEhaTY8nzEDGjC5aa+/BvywX5MlSWwQ1K92rUo9W5ejdKmTm7uQc0FAEBAEBAFBQBAQBAQBQUAQEAQEgXiAQLwisOBlYyav8HwQAoeyhV93I4g9+7uBvOo9fB7tDdPyAaEAPSp4Utm8sa5Rt3f+JHjPmK1EwcxqfTdu36OLV21C7iC7oFsF0iQyS54sCeXNnt6uWro0yQkvVwbyquewORTE3m4waG4VZaF3zOH42et05fpdGjB2kR1xtHr7SRo0fonyFkMbEIzw/Dl98Yaa9/5jl9X6xr7WiJpUjzwM7AnccCIxR1IE1fVeAKZvfbZUETl6LvBIApk1a+l+OsL3dwRdoCT8HMoUykIh7El1lO+H3HtEI75bSaUKZlXPR09B9/vBpNWK3EM7PAd4oh04doWCb95T65//ZVfKmSWtbhalY1THenHMQtrJa4LBGwyeYVf5WcH77CF78X0xfSMVZcLIHDaqx/I1XnoPHWTPKxg81+B1hT0Ejz6Ud+X9PuOj9nakZlT2qxpAfggCgoAgIAgIAoKAICAICAKCgCAgCMRJBOIVgYV/rrXnlflpIIQMpAS8e/zdpszdaZBXjasVpPf71TVIJJBWY39aQ3+vPuy0jLGvNlJlm/eepX6jF6jz38d1JOgBwab/vVsdfflj8l/bDPKqe6uy9Fq3quzBYyMJoU/0xidLqBp7djWtUVgNC1Ji1PcrFXmVnomxES/WowZVChhTQga54d+tUN5SYyavpgolchC8uKLDQIDAQG7Bw+zdPrWoc9PSqiz4ZogiTRDiCPIqW6bU9O27LQ2iav2u0/Tqx4vVOn77Zy8N61dHtcOPFGH9gpjBfvtiSDNFyuDezoMXqNf7c1U7eD+93bsWiqNsUR0LnmMg7eBd16lJKSNED+8R7B28h36au8OOwIouvCazdxtIKuxTPINnGpY09izIzMFMdp7n5/C/n9bSlNFto4yVNBQEBAFBQBAQBAQBQUAQEAQEAUFAEIjbCEQujhSH1gfNK1cGDyZ/N3iQgRSClWcNpnFvNDbIK5TBW+bDAQ3tiAWUx4ZB82rKvJ1qaJBQb/asYZBXKCxVKCvN+6ILjeZwOa2DBRINoXywj19vbEdeoaxm+bz0WVh4JLIpTg3rH/d8bYkTh++H1vWKGeQVxkG4ZHNTFrshvWsa5BXuQyOsUdWCOLXTHMM1yDAYCJlPBjU2yCuUIYwVnnKwo6eD1dGbH1EdqziHZy74qht1bYbw0PBfAYXzBFCb+sXUlI6dtZ9fdOAFzTW9h/q0C6SOjUsZ5BUmAQIQBC4MRGLQCZunnyqQH4KAICAICAKCgCAgCAgCgoAgIAgIAgkKgfD/XuPBsotw+BpCkBwNAuGF8oQLcjve95dreJAhhAsG/SmE/1nZK50rWxXHaBnmCtF42HNPl7McGyLmZtt/9LK6hGcVPLOsDEL1tQLzqls6y5xVPV+WtW9Qwqk77BltNcrm0afGEckBYDpLo3Ej7KRqmVyWgvRaIP/C1duOTaJ8HdWxIPL/138HVMggNMCGsibYroM2XTJ4YcGLzMp8hReSE2iNN7xv1+445fRCSK2242fsSTVdLkdBQBAQBAQBQcAfEID8AKQTToZpku45cpEG/m+RShTjD/OTOfgWganzdyqP9VCWs8Bnps9+2UBzlwf5dhDpTRCIAAHz7xzZgxEAJbfiFQLxKoQQIVWfDm5Cb7HmFcK/YLmYiBjPIu46tM2fnx4y8mnTBIm+Nh8dBa3N92LqHOSDNnjuuGNHwwiIyOpj7SAztC6SO31HVCcymaw82Z0zH6ZNZdP+ggaYIxGHsaD3BXv8xEbiqQvTD0c9MX0rWyabQD4+7PjKPB0Loaj4kAXyKiIDuaS1r8z1fIUXSFBtH05eo09dHk+yOL6YICAICAKCgCDgrwjgbys+vyCZy5wvOhMS7MCjHIlgXmWZBbH4gwBIym9/26y+eM7OyY+gJfrzgl2UlqMlkB1ZsiHHn2ftzysx/85B8inZg/78tGRuvkIgXhFYAKVMkWwcHtXVFqLFDkyFWKA6LpBXmDsE27Vp7yZ9bT4+dshMaL4XU+dmTO8/eEypU0Y+sg7jjEx4XXvdmPGIvHfrGugL2lsRmVWGRRfObxF1Y3cvQ9rIhfPtGnhx4elYL324kPYcvqRGDORQVQjvI1FA1oypCSTqt79tiXA2vsJLh5ZiMHjdWZFl5omAjBYTBAQBQUAQEAT8EYFtnAV7/sqDamovtK+gQvSR0fermZvUP5Wt6hRVSVP8ce4yJ88RGPPDakVe5cuZnqBZi8/C0A9Fsp5Pf17PCYwaet6ptBAEPEDA8XcOJF1kD3oAoFSNswjEOwILTwLkSkQeTP76tIrls4WlYX67D1+kepXyW051T1iGQsubMVSIzHradh26QPUrF9CXLo/F8meic5dvMXliC1NzVXH3Idt9d56hmQRBSBwyGprtBH9D5kNnJ3PXEZ67Cv+MsFEUb3oy1tlLNw3yaiSL6LdtUNxu1NusbRZTZg7rRRhq5VK5YmpoGUcQEAQEAUFAEPApApP/2q76wxdDT7O2Jqx7y7L057/7VZbfH+duVzqm6ob88FsEIF9x5uJNpYdapbT15xIk5dmy95xaw9A+tdX/HfjfY0CXKoQs1H+vOUz9O1Zyyu7tt4uWifkcAXf2kbeDWv3OkT3oLarSPi4gEO7yExdmG8/nWJC9xeB6DPtyxkb+Zidc/0cvHSFrn0/foC9j7ViIwwZTprDxn9+wC7XWMjJPCB8A7j14ZBSVYxFzGEIDF64+ZJSbT5ZvPq4Eu1Gm65vvO57nzBLulYPsgI6GLIFi4Qis2xmOURXW6XK0fzcecyyKtuvCuQPYc88WigmvL2SEdDSEXnz7+2a6eee+4y25FgQEAUFAEBAE/AKB45z4ZOPuM2ouL7GGqTZ4FvdtX1FdLl1/lKBXI+bfCPyxdB+9/cW/hM+2ruzXxXvULWi6Vi0TrunajjVV9efSWdyPWMJFwJ195A06rn7nyB70BlVpG1cQEALLj54UPui81r2amtHxs9fpuWFzVeY1rZd0hDWD+oyYTweOxX42NuiNgeWHIaPeC6PmGxn5QLz9t/kYdR4yi17+8G9CxkJY12alKX9Om4fUyO9Xcga6HcY9ZGCcuWgPvfPlv6ouPgDA9T4yg6ZUxnS2cL3ZS/fTxTBx9JD7D2ni7K38zWe4zpMVyRZZ//Htfg7WadA2g7NC6r0F8ujHOdtpxZYT+na0H6Etpj/o49vM18YtNrTr7jPxuZXDMbq/9xdN/nM7dXvnT8IeERMEBAFBQBAQBPwNgd+X2MiKvDnSk6PXTrNahVVGaSTpmbsiyN+mLvPxEAFoXf236bhq1aFxSbvWyEANHSLYPA4nxWcZMUEgOhBw9TtH9mB0oC19+hsC8TKE0N9A9mQ+zzQsob7FgyfM/mOXqcuQ2cpLBfpRt1h8G4YY5817zxLEuGPTujAhtWHXGSVYujPoArV57TdKz6LnIfcfGRnsgo5foQP8qlQyJyVn0uvDgQ1Uhh5oBHw5Y5N6ZcmYiq7wBwId6pc2dTIaM6CBIZQe0RoRQohvN8dNXUcQiW/28nTKwlpO6A+kDO7DU+zWnQdKnyCivhLCvYr8HCD6furCDZrBhOEC9oRDOOjJczcUZrmzpVOu88AChJEWq48ubLCH8K01RG/XbD+lnh+ET+F5ZSYc29QvZimmH13zkn4FAUFAEBAEbAjgb+m1myGUmr90sEpqglr4pz4Ne5Dj77wnhn7xuSFxIs+/T73Lf6Pg5R2QzrUIJ7x38fkJc4uKgYCAthESukRka7afVLfbOYTloxBf+D1dtxhN5y+NVm494daXcxGNFV33gvlZpE2dXH1ucneMW3fv2z5nJbfPOu1uezxD/K1Px+N6YviiFG3Tp3FPbxT18bkTe83TPeo4rw38mQVzRsREo6oFHW8TPGDgVY7PMfhyzuyh5VQ5mgrg6Qe92YjeG66G9vY9g0iR64x1Bv5yOSrva8wrsve2u+9LqzV6Oz9vsLWaj2OZu78TI/qd4w970HFdci0I+BIBzz5p+HJk6csSAegZIWsiMsQhdOrq9RD2UrJ5nsArCeTV6+yl1eTFX1R7R6FzMO+wxGFHdRFNP/CH6et3mtNs1neYOGubIkBu8B9sGOZRoXgOGvlSPQIpoq1Uoaw05/MuKgse3Onx4fNy8F11O3myxEpL663nalCmDKl0E3XU68JFEpPYPa67Ni+tsgHC3RsfNC9du4Ni5e01rF8d+pF1KfCBwyx+r/+oOvalGvIPra3liK++7+qo5+lpO1f9RVQelbFASH07tAWN/WktredwQnzA2rb/vBJQr185Pw3rW4ca9vtZDRvMH4D0c4guvIAz9tCvi/cq4UkQj9duhKjx8WyQsbLfMxXVvo8IC7knCAgCgkBMIRB04gp9MX0j4QsaEO6t6xalnq3LRfmftZiatzvjfDxlLUGHsh1/mQYtJ/wjjn+U4D0EK1kwC732bFX1T/nFa7fpu9+3qC8hLl69oz53FGAphJdY+6ehxT/2evwl648o7+hDJ6+qkDp4n0MTsWmNwtSjVVknHOF9PmLCCsLno2lj2qq/FzM5hOvcpVuqy2UTe6gvrnT/SzccpdnL9vOXWtfUZyiUZ8uUmtrWL0592lWgUewBDn3MxtULWZJJ+BuEde0IOq/qPWYCL2tAaipVKAsN7FrVSYgdWa/Phs2lmimcTM8Hxxrl8igCay9rmOKfb29JFHPf3pwv23iU/mJPdexpEDz4u4vkR/jSER7SVsTfln1nlSg9Mglj7fxYKE+29FS8YGb199oq03RkzxD4Vi+Xmwb3rOGSzALB9t0fWwhfmCJKASRSZv6sWCRfAPVoWY5qlM9jBwU+C07g+tCUxZd0qI/Pxkha0573d6cmpdSeQiNos/6PPxfB9LNEtu1n3/1TleFHtxZlqGXtoso7HNeBHD5olXwGiXVKMBZIlrPtwPkYI7AgzTFvZRABazxLGCIU8Czxf0OurOGfxdVN0w9v3zMgsCfM2kq7mLDDewu/L4B11bK51e+DBw8fq8/9GHLCsFbGM45sX5jf256+L03LUwR7VOan+3AXW0/2ke4bR09/J0b2Oye29qB5TXIuCEQnAk9xCJGz8Ex0jih9e4QAPiAiRA+hdzqu3qMOwirjm7/x09YrIuCzN5tGpYtI2+AP2JHT19QHHnyAiewDGr7VPX3xhvL4wR/WPNnTOX1wjXRQUwV8w4YPKcAMKY0L5spofDgxVZPTMATw4e40e2KBCCtdOKtfZOu8HHxH7aFM6VNRgVwZomVO56/couYvz1Ao7PzjRdkPgoAgIAi4jQC8Vzu9OctO3xGNkYjije7V3e7HXyv2GTlPfalRjf/xBJEFTwhHwxcPH7/RiL5jcguez1b29vM1WTagjN0tyAkM/26FEX5ldzPsokyRrPTV282VgLa+D8Kk76gF6hJf4kEr02wbfulDKdkDCBmH3/3qP/XljPm++bxs0WzKe/0Yz7tz01L0Lgtwmw0eUiMnrHSpVQXC4p3naykCRLf7e80heu/r5ZQieRJaN+15y88xWHvt3lOUZ/gPI59WpIJuHxtHzGfUxFWELxJdGSQHkEkPOk8wkBBjf1xDc5a7DoMEAdaXMzD271DJrtvInqGujM+5s8Z35MgDe4+51UyijuC9o4kZXd98RDjfkF41Fak0l+c4njMBRhSpYH7+IHCGfL7M3J3T+RtMAj3H0hatX53Jn51u0qvdqtLzbQOd6qEAWrXT5u9SzxnPOzoNn+WADb6odWWIRJg9vpMTieWL98yitYdp7A9rjCgRxzmAyGpRuwgtWGXTvl3xw3PG+zuyfaHf21F5X+p5eDM/T7H1ZB9hflH9nejO75yY3IMaazkKAjGFgHhgxRTSURwnW0AawisuGLx1tMeOO/MFcYKsgY6ZA91pa1UHGWDwzRpeccXw4Qp/8DwxfONYp2I+T5pY1sU3nnj5kyH8Ey8xQUAQEAT8EQFoNZqTk+g5Tl+4m15mj5XIvrjR9f31iHA3mBYkr8rJPp5pVJL/8U1Lq7edZG3JbcqTZfD4paoevLTg1YSEHEik8uOcHYqkgXYhwlh0f6j8OXutae2gyqVysvd0GdUvvLDhMYV/UuG18gUnsRn1Un3VP36AGNIG8gre2vCeKZY/M0sWPFTkFe6Pm7LOIK/geQJyAV/OwBsE3lRT5u1UpJzuy/GILL3vsHg3ni/W07tNIFUsmUN5Je05dIkm/blNEVsgcSrx/BGODzt70eYJhszJ2lvZsW8QMvlYHwueQ/BQgVdMbBow1uQVEgj1bFWOCuXNqDzYF6w8pJ7FVfZEA8GhDd5MmrzS+MKrHsTWdsZ32vydygt+wh9bKUfmtEYmRrR3fIbYF/06VKTynNwHIV2/8PsH+wuZqn9esMvQx0RbPJchny1TzwXeXt1431RnjzZ4h8HjZRLvSUhsnDp/Q/XFMQgq5BWfr+B13p29+soxcYkxkcjmn3VH1DizeM91blpaedSBpPtuaEsMp/RTdzF5iy/R3nqupirDj3w50yvdUO35B488VwZPRRiedUzYSSbWYdhXkFzAl97Ya3hP4T0Tcu8Rff3rZvrfa43spuPtewZejiDPtIdmw6oFqFnNwuoL95P8PODdBz1TTV7ZDc4XjvvC6r0d1fclxvJ2fujDE2zd3UfoFxbV34nu/M6J6T1oW5H8FARiBoHwTwUxM56MEssI4ANmq4Ez1Sz+/LRTnP+wHctwej381Rt3aTR/C+qJFc2XyScElidjxoe6yAg0jT8Ym0NJ48O6ZA2CgCAQcwggdMPKEGZ2nu/pRCVWdeJCmTkkqlG1gvTx640MUgZkxb6jl5VmIdYCbyZ4l2jSJpBlA5InTaKytyHc5yCHpZUrml0tG1pAIKlgbVknauSL9dQ5fhTLT1QrMC99xF4cyNw1b8VBRVKAoIIl4y+ntMH768eRbRQxpctwBOH295rDqgiEzKThrVV4ma4DYXWEf/UcNscIU9f39HHM5NWKJIG3yvSP2jOBkVHfojKFs1HdSvmow5t/KDIAIaTamz34li3sPROHk0ZkCOuBQR8oNg2edbM46Q2scumcyuMNHmzaGlQuoMIdQf7hmcL2Hb2k/n7iHOGek95vbfeFJTz2mjNx8fyIecpL6hPWJUVIH75wg5mfITxyfhrdRoWjqpv8A//41+szVemVgnTRCV5w/0PeF5o0/vqdFmqv6HYgwOpWyk/zWTC9PxNi+CITBvISnvggSs1fikEHFJ5abV//TRFvG3afVgQW5pm5vG2uSzYcIRBY0ANzDEuE7ALe6zB4iruyjGG6bDGRdRJfRE7m/Y6QZnPobpki2RSJiH2N99461ho1my/eMx9MXG2QV2/3Zq9LJhe14fcF9gT0bqcyuWll5n3h6r0d1fclxvN2fp5i6+4+wty8+Z3ozu+cmNyDWI+YIBCTCAiBFZNox+JYEMjEhzIYSBMx/0AA+mB/ftbJo8mYP2h61FAqG3tfvxcEEkFAEBAEPEEA/xRbGf4p9ybM36rP2CiDzpS2VzpXNsgpXQYiCEk3YAgV0+SVvg89MOhRwqCLpe2/TcfUKTwu8I+ulQ3oWkURWLgHbUZNYJnn1IR1q0CsOJoWNEb5+6x9qYkTcz38vX2TNTaHcpihoyGUB0lpYMiAbCavdF1IHTzTsKQidxD6pE2TFJEJimsCC1pOsWlLWfcKhkf9du9ahgebnhPw7sEeWWb7l58fZB9gw/vXtSOvdD1g9tqz1VQIJjyiNvAXpq1ZvB5mfobQHtPeIbot9lH1snmUR/qZizd1sQoBhF4nrEmNQnbkla4ETzidFVuX4diiVhHzpTqHtxg8t+BRCA8lrXflVNFFgSYOcDsiYX+IxcOguwWh+7SpPBOpV409+IG96ahxhecF4g/eZyCw8Ewg0K4F8719z6AvkDAweGqaySs9dTz3V7pUJoSAImzX0cz7wuq97c370hfzw3yjgq3jOq2uvfmd6M7vnJjeg1ZrlDJBILoQEAIrupD1s36frlfMzp3bz6aXYKeDD22FcsedkMe4/KA6csgJXmKCgCAgCEQVAQg5z10RRPc4267Z8A+/2XvJfC8unoOMsyJxEDqmrWj+TPrUOJq9XfAPpDYIfsPwT/X7367QxS6PrkKvHD1idAe6/5xMTGivIX3PfETWuGGJlhtkjL6n2+N6xZYTZL7WdXCE6DQMmY2RLQxZ3nT4VGTJWxKz9xhM11cXsfDjMIvnw/B8rQTXraYE7x4YSEDtVWdVDx438CrHc0YbTWCZ60LQ3soQrglJBSQuQnvITEBIXZtVxj99z+oIXVR49CE0EeQJQiLRr9mg3eqJmZ9dRM9bP2v0bW7jyVie1gXevy/ZS3s4UQBIQMffUegPnpGawNJ7PKrvmaOseautVZ2i+tTpCK84aNdZEVjmylbvbT1H1PP0fenL+XmKrXldrs712qLyO1HvKX/bg67WKuWCgK8REALL14hKf4KAICAICAKCgCAQLxGAt8fUD9rS579soAP8DyPCxvAFEbIQxidz5Wlm1vhK4yC0jfWDdMDLkSg4GaYFBA+YfzfavLEiwgu6N1bmSrcRCUlgEB6PyEAyZsmYys47DPVPng/XKsI/q3hFZpgjCCztWWUm7Kzaaj2pDCYS0KpedJdBKwrm6hlbja81d7Jnihhf7A88I4TaHneh/+RqXPPe0nNA0gRtkT1bXQ/HA8cu0/uszaQJR/M9b5Eoi6YAAEAASURBVM4zhoWBog88bx2m5dgnQg21aU8Yfe3rI4g6aNNNmbvDCG90Zwxv3zPmZ+Pqmep55I4gA6KuY/Xe9uZ96Yv5RRVbvaaIjt78TnTnd05M7sGI1in3BIHoQEAIrOhAVfoUBAQBQUAQEAQEgXiJQHHWZprIGkDx2SB+HZl5ksM6C5Ma0AiDOPobPapH1jUnr0ltWcfVvLIxcYX+L1+L2KMG/5Beve4cwmf2HEMYZDnWVorMcrJQOUyTGjqsx1W7G7dspIau76pedJeDKABWF69a67lZjZ8pQ0oCIXDdJOpuVQ+C7NqryRXh5OoZWvVnJjUQklrGOSrQqRnCzgb8b5F6zgjtBbncgMXF82RLr7yPQLD2Hj6Xhf1t4W9OHURQkN5EYKnnmcO6st4LCDN0DLO1bhH10hmcWOKHv7arDpBIAOuFNlgAk+sQrt+89yz1G23L4mkexdv3jJnMRCKGiOyCG3vNal948770xfyiim1EWOh73vxO1L9D9D7TfZqP+l5M7EHzuHIuCMQEAkJgxQTKMoYgIAgIAoKAICAICAIJFAGEqkE8HB5Y0LrRYUy+ggOk4k4mJECywPumRFgWOMf+EYYEXSJHM4fSQT+rA2dedNeyZrKRbSfPhXsLObYFcaY9nzzJ1uzYjy+ui+TNpETKTygNqJtO2klWY0CPDIRPZG227D1nhMxpDTOr/twtw1y1rd15ipBYIDLDPDVJObhnDULYr6NB/yoyc/QiRH0IjYPMQ/8Ic0UiAyvT4XJWWmxW9b0p0x6NIPvgHWrO/Il+9Vwcx/D2PWN+vkvWH7HUHMOYIDW13pPjHCK79uZ96Yv5RRVb87qs9hHue/M70Z3fOfq5x8QeNK9XzgWBmEDAFpAfEyPJGIKAICAICAKCgCAgCAgCsYoACBxkert0LVxkPbonVL1cbjUEtFvGTVlnORx0eway58xe1vDx1OpUzGc0GfbtctLeB0Yhn5y7fIvGT1tvLjLO8c9/Ic5eCIPXxdEz4fo+RiU++YnDtMb/vJ5JmsdGcWAxmxsO+neVpfLgiatGJr1yxexJD/yDD2IPL1f/7BqDeXCCEEcIdTv2icyDMGTTG8fZAh3v497W/edY4Dw8jLM6ZxmEYe+M/XGtJQl4995D+njKWlUPnk/IAOit4Z9vZJWEzWPtuT1HLjp1GXL/IS0LE6bHTXOiIiuhdZASVvtDd6y17FyFhMK7CbbtwDndxOmoxc0hoO4rc/W+1R5vyZMl5iyg4Rk7MS721l//HbCcgrfvGYSxaQJv1daTNGvZPstxvp+11aWmnGUDU6E370tfzC+q2GIJke0jb34nuvM7Jzr2oOnRyKkgEKsICIEVq/DL4IKAICAICAKCgCAgCMQcAgPHLqLXx/1DzV+errxIYmLkxtUKUaWSNkJj4epDNGj8EkUSgTwBcTV/5UHqPvQvJlxOqfAuVyLuruYKYXAtJH30dDC1H/S7EvAOOnFFeX79vGAXdXprVoSk3Tt9aqnuQST1Hj6PME9kkAthYmb7gfMqe+FXMzfR9IW7lVC5nkuhPBmNjHQgfqxsR9B5VZwnezoOj7TXkfpw8hqq8uxk9ToUJrBu1YcnZRiv1cCZTAguZtH85XZNm9YoTJrEAvHw4piFymsNBAnCCoFVfw45Awb6OdStlJ8achgeDFkobSF45xUpB4yQZQ74as+m59sGWiYBsJuImxdDX6itaiJkte/IBYoogRg5nhO8+vqMmE9vfbaMPp++QdUrli+z0TPWYiZqIeg+ZvJq475VGKzOJgmPOdQP5UoXr7Gm11lbFr2KJWz7GJkyrQyk0a5DtvDESj4g8fQYrt63OpnC6Qs3FVmlyVUQcO9yxk3znjKTlb54z4x8sZ5B1GAfv/3FMlrHnnLA6r/Nx2gA/66Z/KctvFGvw9NjVN+XGMfb+UUVW4wd2T7y5ndiZL9zomsPYl1igoA/ICAhhP7wFGQOgoAgIAgIAoKAICAIRDMC+OdWkyzwwNnC+jj5c2aI5lFt3b/fvw4NHLtYhfkt33yc8HrqKWKCwH74Z1uUjdKchvSuSRBKBwkGguOjH9bYd8xX9SvnVySLJmbMFSqXykV9n6mg/uGGAPKwb+yJH10XXkH9nqmoL3kNT1HV0rnYC+gYzVsZZBBpRgU+ARkGq8L1HA2EEAwZ/qBh5AuD7pHGdf2u005dDu9Xl17+6G8C6YG6Xd/50+lZgJgCTnp/vPdCHfbKuqUE7vccvqQILqvnV7tCXurXIRwfp8E9LADxif4msVD5vQePCEQJXo5jw8sNpFaRfAFUoUQORTqCvGny4i8stp5CeZrd4OeKzG1IxoBwU3hvORo8x7Sm1KsfL6YkXP8Rew6+0L4CDehShaqWtT1DEK8gNjGW2bD/kKUS5isCK6L3becmpdWeBzn1waTV9Al7GaZNlczIulg0XyaDxHJcr7fvGXjHjRnQgMddpda8ZP1RwstsKVMkoTb1itNv/+w1F7t9HtX3JQbwdn7eYBvZPsL8ovo7MbLfOdGxBzFfMUHAXxAQDyx/eRIyD0FAEBAEBAFBQBAQBKIRAaS079ystBoBItsNHTSFIHANc5We3VW5ahT2Q9fRR30vX44M9Pu4DtShcUlKw/9gwzTJgrolCmamTwY1pte7V9NN1FHPCReOfZorQlfr63da0Lg3GlNg8ezqn3h9H+GBICDGD25CT8IGBRaO9krnKjRpeGsqnDdAESTm+yCu2tQvRn980pHyMAFitvaNSqhLaEBp7Rl9HyGRIFdg7RrY6ul7R05fMzyEmtYopIu9PjavVURpNQE7Kw0ozB/rwD0I68P0s0D4X8WSOeiPcR2pHnteaYMo+Iyx7dXzASEE021wnjNrWvpwYAP1DByxdfcZoh8re7lTZfppVBsCGaNNj40sf4N7VqcJ77VU3kAQTf/8raYEMX6sBRZ88x6Tm/cVofHVO80NbzKUOxoIk2fCnifugbyCwasFVih3AOnQwN+WOJMys5ftV/VqBeZ18rZTN6LwI6L3bY3yeWjc6415T6ZTPd+7/4ggqp4yeRKFwQ8jnzZGdFyvL94z0LSb90VXat+wBOXNkd5434BEq8lz+3FkGwMvTMS8N9zdF1F9X2I8b+bnDbaR7SPMLaq/E9E2ot850bEHMaaYIOAvCDzFrrEO3335y9RkHoKAICAICAKCgCAgCAgCvkbgcvAdlaUsujOkuZo3PnrCg+U4e/iASCuQK6MSyHZVP6rlCIlLyRkVzaLx1br/oDx53maPra7NnQW+9VjQdDrIIYg2r55MFJAupb7ldMR62rz2m/LqebpeMRr9cn2jzhAOq1rKXimlC2el6R+1N8pxMm3+Tg5926jKQCiZCRq7ilG4gNcOPIFAPEVkmDv0u0C8QWAeZF9yzl4XmUEf6PCpa4pULMLEkhnjyNp6cx8hnRgXHmIgGh1DMs19wyMP4vo4liqUNVIszG1Ps4cWMEnMwu05sqRRxJW+//eaQ/Te18vVnv3r887Kowv3QEh2fPMPRex9O7QFEzh5dROfHCN634Jgg0cdtMsQvgZCOCrvb2/eM1gkvOSwN3JmSctklo1AnDJvB305Y5MKtV39U2+vsPDkfWk1UFTm5w22Ee0j8/w8/Z3o6ndOdO9B85zlXBCILQQi/wsVWzOTcQUBQUAQEAQEAUFAEBAEfI6AOT29zzt3o0P8YwsvIEdPJjeaelQlWyZ7valtrFGFf2Bh8BaJyFIx8RVY3D48zFV9rKd7q7IqbBF6Xl3Zyw2ZEBGeB/IK1rN1Oafm63bawvsK5MrgU/IKA8HTJTLyCvUw91xZ07mVjRD1tYHsio2MiiAktXi4nourI4icskVt3mKu6rgqj2h/Qr8IemgXr96hz37eQF8Maaa6Qdgq3AJAAkJjytcW0fsWZBXCPXXIZ1TH9uY9gzGRBRH7yWzrw/Y5Qje9NU/el1ZjRWV+3mAb0T4yz8/T34mufudE9x40z1nOBYHYQkBCCGMLeRlXEBAEBAFBQBAQBAQBQcAnCIxh/R9kMYR+lZXBI2ki6yjBEIpYLL9v9Kb0WAg70xpW0CGCJpHW4YL2FUKZzAZPku1h4u4QVheLOwggw9zbvW2i/8joCaJy0drDShMLq4DwPAgGfzdv3zPwUEMyCHMWSMc1A5st+2zJDdwlHh37iOq1v88vquvS7Rx/58TFPajXIkdBwBMEEo9k86SB1BUEBAFBQBAQBAQBQUAQEAT8BYEZi3Yr4W1kjoOIdJaA1JSWNbFSp0ymQgAPHL/CGdL+NQiGPu0C7fSdfLGORExYgMCCYDt0vsoXy07IBLeXBc+hu5Qhrb0nEMK94MGD8Mke7J2ls5b5Yi7SR/QjgOe27+glpSHWnrXNMnGoJhIk1KmQj7XFykb/BLwcwdv3DEI4e78/l85fuU3LNhyj67fuUfq0yVWoLTyWkP1x7oogzoK5QpG5aVMno/GDmrA2l01zzcvpR9rc3+cX6QLcqOD4OwcJD+LSHnRjiVJFELBEQDSwLGGRQkFAEBAEBAFBQBAQBASBuIAAPC1Gfr+Sdh+6aDddkEa3mERCxkVtIJmmftBWhTrpMl8e8Y+8maxyvPblWNJX7CJw++4D1gtLbAiT3+fwVCQJiCmSxpvVe/uegS7ULwt304Q/ttD9B4+NqcC7MQULyOtMjLiRhHXERr5UzzJDp9HQxyf+Pj9fLtf8OyYu7UFfYiB9JSwEhMBKWM9bVisICAKCgCAgCAgCgkC8QwAhezMX76Ef52xXWeccF5gyRRLq36ESdW9ZNloE4x3Hk2tBwN8R8MV75uT56/Th5DUEfTkzUazXjoyg7/WtQ4XzBOiiGD36+/xiFAwZTBCIJwgIgRVPHqQsQxAQBAQBQUAQEAQEAUGA6NrNEDrOXllnOCMbsgdC2Dpn1rRRysomeAoCCQEBb98z0JhDWOzxs8EUcv8R5cuZnvLlyBBj2Skje0b+Pr/I5i/3BQFBIBwBIbDCsZAzQUAQEAQEAUFAEBAEBAFBQBAQBAQBQUAQEAQEAT9EQLIQ+uFDkSn5NwI7D16g4d+tIGQQuhPyQOlurN520r8n7cbsQlm34fCpq0ps043qHlWJr5h5BIJUFgQEAUFAEBAEBAFBQBAQBAQBQUAQiDICSaLcUhoKAgkUgW9+3ayyfOTInIZSpkhKc5cH0abdZ6hy6ZxxQrjT1WN7ZewiWr/zNJUsmIVm/u8ZV9WiVB5fMYsSGNJIEBAEBAFBQBAQBAQBQUAQEAQEAUHAYwTEA8tjyKRBQkZgIxNVSFGbMV0KepaFYDs1KUWZM6RSaYQn/bktzkIDIU8IcML2H7vMArghPltLfMXMZwBJR4KAICAICAKCgCAgCAgCgoAgIAgIApEiIARWpBBJBUEgHIFvftusLt7oXl0JU6ZiD6yB3aqost//2adCCsNrx52zRImeoufbBlKmDClVhqaMLHrrK4uvmPkKH+lHEPg/e2cBJlX1/vGX7tilu7s7lQYFQZBSRLBBsQO7GwFR/2IrIPpDRQRBWkG6u7u7a1lq/ud7hnO5M3tndne2Zna+7/PM3nNPn8+5F3befd/3kAAJkAAJkAAJkAAJkAAJkEDsBKjAip0Ra5CAJjB72S5Zt+2I5I/MJh1uLmdRue3m8lJQuRMiJtbfc7da+aGWwPHi/3zTV57r2zjRpp7amSUaKHZEAiRAAiRAAiRAAiRAAiRAAiTglwAVWH7xsJAEbhD4/s8V+qZLy4oeR3GnS5tWureprMv+mLnhRgOmhMz4EJAACZAACZAACZAACZAACZAACSQGAQZxTwyKidzH+fPnZcWKFZJWKUZq1aolWbNmTeQRUqa7oyfPy4Woy9qCCcHPt+09Ieu3H5Ez56KleMFc0rB6UcmU8cYjuW3PCVmx6aBkSJ9WKpTMK5VK5ZU0adI4Th4xnPYdOaNP0Ttw5KzkyJpJqpTNJ2WKRiqOnm0OHz8nF6OviKjsEoVyx+gPllRHT5zX+RG5smhXwTPno7X1FTJhceUtnZpXkM9VcPfNu47LCRU/KjIRXfC8x7p85apgjRkzppNCeXPIxUtXdBD5/Sovc6b0UqtiQSlVJMJqdu7CJR23a++h03q9Vcvld5wf9gGxr7JmySD5IrJZ7X3tGxiWLhqh9iWfZM+a0apvEsHEzMyJVxIgARIgARIgARIgARIgARIggdAkcENbEJrzT3Wz/u+//6Rnz55y+PBhvbbChQvL77//Lo0bJ55bV0pBe+DNv2TPwdPyzoAWMmvpLvl3yU6PqRTIk02GPtdOIpXS6KG3Jsq+w2c8yhtUKyLvPd5KB023F6zafEje/vo/2bHvpD1bp6uWzS/vP9FKK8hM4eCRC2TGoh369rWHb5aurd3WU8hwuVzy7JBpsnD1Pq04G/3+HVqBtXLjQVUmeuxiStnmLVD4FC+US68PdVs1KO1dJdHuZ6q5v/TZP0qpl0fg9oe1nzp70aP/7m0ry8sP3CQILP/N2OVyVSn4jGTJnF5evL+p3N68osnS189+WSxjlQVZqwalZMiz7ayy2PYNAe3ferSF3Fy7hNUGiWBi5jEx3pAACZAACZAACZAACZAACZAACYQcAboQBtGWwfLKrrzC1A4cOKDzoqOjg2imgU0lY4Z0uuE738zRyqv0yrKqUum8UqVMPp1/+Ph5efzDKdLvnUlaeQWFVp3KhSRX9ky6fPHa/fLhD/M8Bl+4Zq/c+9p4rbyCcRYsuWoqCyRYbUEQs+rV//vXo80b/ZtrZRMyB42Yry3BTIUx09Zp5RXuEQsKll8Q9AOpUaGAvjr9gOUTZM1Wt/LRqU5i5BmOW5WF2vNDp2vlVb6IrFK3cmHJnSOzHuL36Rvk/jcmyJe/LZM0ygKtmrK6Kls8UlmwiURdvCJvDJ8tsHCLi5jxvPcNfaZPl1ZZbV2UZwZPkwNHz3p0F0zMPCbGGxIgARIgARIgARIgARIgARIggZAjQAusINqytWvXWpZX9mnt27dP1q1bJ3Xq1LFnh1w683X3wEuXr0rl0vlk2MBbtDshFvLjhJXy6c+L5cTpKP3p26mGPNGrgY41FRV9WSlqZsi8lXsE1kdHlHsfAqlDGlYrKohJdUi5Bb54X1MpUdjtEgg3wG/HLZcfx6+SNVsOaxc6KHggcHcbqiyMer88TrvfvfDJDPn5w65yUClgho1epOu0blhaerarqtP4cVzNC+LkcqgL1I9iBdyWWUdPXDBZSXI1bpZwm0ynlFMvPdDUmitcAO968Q85dOycrNx0SKAE/OKlDlp5hcksWL1Xnvhoily5ck3GTF0nryoLtNjE377B+g0KRPT306TV8oLaAyPBxMzMiVcSIAESIAESIAESIAESIAESIIHQJEALrCDaN1/xnTBFxMMKdYGyBYKYVB8/08ZSQiGvR9sqWhmDNFzjnuzV0AqUniVTBnnedjIeYjkZATNYVH35ym2W8gplWVWMrftur6ViarmtvnZ6uRfCGun1/s10N9tV2XvfzpFXPv9Xoi9dlSL5c6g+3WVmHOOiZ6zBTL79asqgREpKSZfOzRFjdFSxt+yKtggVe+vWJmWt4Qfe18RSXiGzcY1i0vq6e+Pug6esev4S/vatZoWC2ooO7bfv9XThDCZm/tbHMhIgARIgARIgARIgARIgARIggeAnQAusINqj6tWrS9GiRQUWV3YpVaqUVK16wxrIXhaKacSyKpI/p8fUs2XJKLlVLKXjp6KkUfViMQKvw7IKAcoROPzYqZgWTtEqkPnS9Qdky+7jgiDtUaoegpvDeghKqYPKIslb2jctp62zYIk08b8tuhhujYOebqODwNvrn1VB3CFOwcpNvWzXA5mfVUHTk0vuaFkpxlCFlQLOSGPF0lsqqmD4U+dvk6MnY3L0rmu/d9o3lEMptnHHMW0FZ68frMzsc2SaBEiABEiABEiABEiABEiABEggNAhQgRVE+5QlSxYZO3as9OjRQ/bs2aNnVrp0aR3EPUOGDEE004RNBXGqnATKISiw4PbmJFmuK7CuXL3mUQy3OAQyh9ucL8HJfU7y2J31deByuMBBWtQtqWJy5Y9RFQo2CFwTfcn5KLfiKps6xS+5pFhBT0UgxsUJjJCcKnYYTnv0FlinQa5e8+ToXc/73te+FciTXVdFAHy7BCsz+xyZJgESIAESIAESIAESIAESIAESCA0CVGAF2T41aNBAtm7dKuvXr1cBt9NIlSpVJDUpr4DbBBr3Rp9GbrjGeZf5up+/ao8MeH+yLkYg8xrKpa2ccg8sXTRCMmVIL8N+XuR4OqHpb+hPC3X8JnM/c/EOWbx2nzRQsbXsAuswyJlzvoPpmzJf67P3l1hpuAx6CwK1J4XEd13Byiwp2LBPEiABEiABEiABEiABEiABEiCBpCVABVbS8g2o94wZM0qtWrUCahsKjfzF+orv/KfM26ablCkWISPe6WxZH5l+Ph453yRjXCf+t1nG/bNR5z/crY6M/3eTDhD/4qcz5ddB3T1idOXNnVXXc3JFNB3vO3xGJyNzxVQqmTqhfI3vvpFZKO82504CJEACJJBYBBBz8p/FO/UJyXfdWk2f4JtYfbMfEiABEiABEggnAqEfGTycditE1nrmzBnBJzkEFliQSqXyxVBebdp5TPYecp7Htr0nVOD2ubrtTbWLy6M96skHT7TSsbdOnrkoA4fNELurYtWybrfClZsO6jZOP1ar0w4hmEtiyeETvt0iE2uMpOonpZgl1XrYLwmQAAmQAAkEQmDn/lPy2S+LZciohWLiQ3r3g4NPHvtgsuw+4D5gZe22w/L4h5N1PE/vurwnARIgARIggXAlQAVWuO58Eq17xowZUrBgQcmfP7/89ddfSTTKjW4L53MHLJ+5aIcO3m5K8AvgK5//Y249rohj9dyQ6fqXwjy5s8hbj7bQ5XUqF5aHu9bR6VWbDsmnyv3QSK2KBXVy/5Gz4qRUOn3uouWqWLdKYdNMX9dvPyK3Pjpaf2Ys2u5R5u+m3zsTpV3/0dL31T/9VQvaspRgFrQwODESIAESIAES8EMAIQ3mrdyjlFZTdIxKhEeYu2KPfDN2uZ9WLCIBEiABEiCB8CJABVZ47XeSr3bcuHESFRUl0dHR8ttvvyX5eJ1bVtRj4MTBW5SSqOfA3+XOF8ZK12d/k51KiWUCwuNUQiMI+L7r+l84332spUTa4kg91LW21KlcSFf9adIa+WfJDp3OlT2zVCiZR6f/nrPVdGVdpy1wK6aKFsgpRqlmCvELKFwP8alcOm7WWcfVSYuL1+7XXcCya8+h06a7kLkmN7OQAcOJkgAJkAAJkICNwPINB+Sv2Zt1zoN31JZ0adPKvZ1q6vtRE1dbfyCzNWGSBEiABEiABMKSABVYYbntSbfoXr16Sc6cOSVbtmzSu3dvj4HSpnVHF8+Q3vmxS38931w9Gvu46d6mijx/b2OJUEHWcQje5l3HBa6D+dVJhnAJbN+0nG4J03zIpDlbZOp8d9ysvp1qSKPqxXS++YFfGt9X7XKpE/wgbwyfLSfOROn0Ha0q6evv09fHOMFv7IwNuqxvxxr6av9h3ByrlcsvRfLHPDXQXtek86iYWy3qldS3DaoVEfsJgJgjxBen9Onc5b4468YOP8z+mPamismPb39on5zMzHx5JQESIAESIIFQIvDtuBV6urBc7tS8gk737lBd/c6QQ4cz+H68uzyU1sS5kgAJkAAJkEBSEEjjUpIUHbPP8CVw/vx5uXbtmuTI4XbvSw4Sly5fFQRJPXLivJQpGikF82ZP9GHPR12S1v1GSdTFK/Le4y2lw03l9RiL1uyT/u9OksLqF80Jw+5UQVrTWWNDcdbiwRFaufZc38aCX0jjI0dPnpd8Edni0ySo6qYEs6ACwMmQAAmQAAmEPYHZy3bJU4Omag6zvuur/uh247CXnftPSpenf9Vl37zeUepXLWLxwuEyb341Wwd/n/F1H5+nOFsNmCABEiABEiCBVE7A2RQmlS+ay0taArC+Sk7lFVaTMUM6KVc8jzSpWTxJlFcYI1uWjNKtdWUkdTBWuC1evnJVPvxhns57pHtdD+UVMqHcMirito3K6Hrx+RHKyiusMyWYxYcv65IACZAACZBAShL4ddp6PXzxQrk8lFfIvKVpWcmpLMIvX7km42dtSslpcmwSIAESIAESCAoCVGAFxTZwEqFCoL9SUuWPzKYCxp+XXyavld+UOyHiaZUqklva3+R2V7SvBQFZIbUrFdLt7GXhkiazcNlprpMESCC1EcAfaWDZHK3+YBOIRKlDU3BwSqCS0PYIAXBVWYQHIpj3mfPR8W6KE4xN2IK4NJ67Yreu1uV6TE97m8wZ00unZm6XQlhxUUiABEiABEgg3AmkD3cAXD8JxIcALIoQc+vXqevlliZlBb9cLli1VxBM3sSmsvdXo0IBKVYwpwoM73kyob1Oak+TWWrfYa6PBMKLwKZdx2TY6EU63mJkrizSsVl56aPiHzr9HxCKZKCw+vK3pbJm62HZfeC0jsGUTsWwLFs8Usc17NG2iqRJ445padb3zjf/aR4t65eSO2+pqtovk6Xr98vWPSdUSAGX/n+wYsm88pA66bd8CfeBKKYtrgltb+9r2oJt8sfMjbJl93GtSIKFdpliEdKucVm557bqMfZpm5rjG1/O0msa+W5n+d+UdfLLlLVyQJ06DMEfrRrVKCrP9mksObO542Pax0P6zLlo+WrsMlmx8aBs33tCW0wVUqEMqpcvoNfsXd/cH1KHu+B0Y0jDakVNtse1cY1iMvrvNbJu2xGtSMykfu+gkAAJkAAJkEC4EmAMrHDdea6bBEiABEiABEggXgRwImyP534XuJDbBYeCPN27kT0rJNOIuTR41AI5d+GSz/n3bFdFXnrgJo/y3i+P0woWWBufVFZPO/ef8ig3Nzgk5GGlxHq4Wx2Tpa8JbY9OEHPx9eGz5J/FOz36tt/gMJXPXrjVIwYVFG0PvTVRV4MC7t8lzu1xwvDvg7tr13h7nwtW75XXv5glx9TpwU6SOVN6aVmvlEye5z7B2B4D6++5W+SVz/8V1Jk/8v4YyjX0h3XddN+PWhH43ZudpG4Y/0HMiS/zSIAESIAEwosA/4wTXvvN1ZIACZAACZAACQRIAK7j3sordDV60hp5tEc9CXXrGLjcQXmVNXMG6a2slWooCyJYGs9XlsY4wffA0bPyuzp1t2e7qlK6aEQMirBAguRVJ+ne37mWVCqdV6Kir8jyDQdk1MTV2jJpuLLuKlIgh3UQir2ThLT/RFnFGeVVvSqF5a5bq+lT/I6evCA4KRgueGu3HpFhPy+Stx5pYQ0L5ZERKK+wXijYalYoqN0Pf1J7O2f5br12rOERtc9GYEH13JDplptk64alBfEucXoglHh/zNwgKzcdspRXpp257j/str6qWCqvo/IK9WDFXELFx0J/CFlABZahxysJkAAJkEA4Erjxv3Y4rp5rJgESIAESIAESIIE4EoDCwkmuKje5g6qsZOHcTsUhkwelE07xhQLIfogI3OC7taksnZ8aIzj1d+GavY4KLCy0cul8MvyVDh4n5sENDi58978xQSvIPh6xQJrWKi65smeOwSaQ9qs2H9JKKnQGl/43+ze3+q1QUvRY7383V8etnDBrs/RSyq0KyqURktF2cjBcJX94+3a9Bl2ofsCqrPkDI+Ts+UtaCWZXYL333RxLefXSA021Ys+0q1Imv7RvWk5btEHx6SQnz0bp7DzKFdWf5M7h5nTqzEV/1VhGAiRAAiRAAqmeAIO4p/ot5gJJgARIgARIgAQSgwCUO04CxQdczFKDQOliV15hTVBaZc+aUVsW4d7EbULaLmkVhzf6N/NQXplyxL4a0NNtvYQg5zil11sCbf/P4h26K1hTvXBfE+9u9f1jd9W38pdvcFuKIcMez6uNsp6CAs0uiG3WqHoxnbXv8BmrCEHe565wH9SCGFmwSvMWrOepuxtK8YK5vIv0vQn27qTIszcwCiy4Z1JIgARIgARIIJwJ0AIrnHefaycBEiABEiABEogzgV7tq8n4WZvkonKLs8s9t9UQBAtPDYKTB3HCLtzmduw7KcdPR+n4S/a1HfcR76lssUjLssle36Q73FRePvpxvr5FkHVYZdkl0PYIFg9BwPjXVDyq2ASueE4CSzEnqVO5kExfuF3Fo7qsx4BiCvM3gnX5EjwXbRqVlu//XBmjyuUr7hMSM6T3//fkdCp2GMTUj9ERM0iABEiABEggTAhQgRUmG81lkgAJkAAJkAAJJIwALGlGvNNZPvlpoWzceUzg+tWpeQV9CmHCeg6O1ht3HJXXVCB0nMwXiBTIk81vs5zZMwk+OLVv98HTMeoG2n73dYUULMVmLnJbY8Xo3Jax/8gNSypbtnaftN+btFNss90HbyjBfFlYmfYF8zhb7hnLqjPno01Vx+vpc27Xwdw5Y7pcOjZgJgmQAAmQAAmkUgJUYKXSjeWySIAESIAESIAEEp9ARRU76evXOiZ+xyncI067e+zDyXL8VJQKKJ5GK+VaNiglxQrkkpzZMgmsju57fbwOSu5rqqeVYsqfREVfVrGk3HWclDqBts8XmU3HIMuWJYM8fU/sp0EWUPWdBMHr4yoFIm8opY6ePO+32UnlMukkESa2lY9y0+b0WTczU9/k80oCJEACJEAC4UaACqxw23GulwRIgARIgARIgAS8COC0PCivIM/2aSxwl/QWnITnTzbvOiZQ5njH0DJtFq7eJy6X+w4xsbwl0PZwPVyz5bCO1YVTAKFwS2opX/LG/Oet3COtGpT2OeSC1Xsdy/Jft1jbfSCmNZppAJfOPdet1fKo0x0pJEACJEACJBDOBPw73YczGa6dBEiABEiABEiABFIZgStXr+nT9I6c8LQaOn76grVSuPl5C1zzTNBx7zJzH33pqo5xhVhU3gI3ucGjFujs9CrmE+JKeUug7RFEHYIYUYOux9jy7hsB2B9XFmbrth3xLgroPjJnFhXvy63EQly0lZtuBIa3dzj+302ySikHnaRWBTeDA0fPiq8TLjfvOi4XL7ljrtWoUMCpG+aRAAmQAAmQQNgQoAIrbLaaCyUBEiABEiABEgh3Ao9/MFmeGjRVbn10tNiDmVcokddCM2riarEruBDQ/d1v51jlxorKyrAloOh68K2/tEVUtFK8IN7Vv0t2So/nf5cDR87qmg92qa1ONMxpa3UjGUj7Ng3LSN3KhXUnk+ZskWcGT5Pt+07ogOtQXP01e7P0fnmcPjUQbpD2dd8YOf6pVx+6WZ1iKNqq7OG3J8qIv1YJlFFQ4GGMj0fMlze/mu2z4zLFInRMMFRYtuGAYz2jGCtWMKfY3RYdKzOTBEiABEiABFI5AboQpvIN5vJIgARIgARIgARIAATgjmYUJVeVkmXpuv1SsnBuDadciUipXamQrNh4UJ+w17b/TxKhgoZDGYPYVDgpD8HK9xw6LYhl5STN6paQfYfO6D76vPqnpdyx121cs5g80KWWPctKJ6T9a/1ulsc/mKLnB4UZPka5ZA2gEne3r26t2Z4fSLpauQLyRK8G8vn/lmjrr2GjFwk+iBdmrNAyZ0ovd7SqJL9MXhtjiDRqgg2qFpEZSuk3YfYmue3mmKcZQiEHqa/qUUiABEiABEgg3AnQAivcnwCunwRIgARIgARIICwIZEifTnreUlWvtVDe7NKqYWlr3enSppVPnm8nHZuV10HcUXDyzEWtvCpdNEI+e/FWFeeplK6PfCfJq2I0ffdmJ7m1aVmJVCc02i21cP/SA03li5faK2VYOqfmkpD2JQrlll8HdZNubSpL9qwZdf9mfCjfKpXOKx8/00ae6t3QY2wom4ygXnzlvttryQ9v3S72mF5QXmXOmF4rnb58pYM0rO52cXTq+47WlXT20nUHZMe+kx5V4O4IF0JIl5bueh4VeEMCJEACJEACYUYgjUtJmK2ZyyUBEiABEiABEiCBsCWAQOtQKEFp5SSnz10UBBbHtUqZ/LquUz2TB/c8KFu6KmXMaw83M9myc/9J2a/cBssVj5QCeW6c2mdVuJ5IaHvv/vCrLVwHdyo3PijqShWJkPTpnNfq3TYh9+cuXJJNKpA9xqpSJp9PRZ19DMz19ifHaMuxTs0ryNuPtrCKBw6bIdMXbJeqZfPL6PfvsPKZIAESIAESIIFwJUAXwnDdea6bBEiABEiABEggLAn4OiXQwMiVPbNUL5/Z3AZ8heIIn0Al0PZwzSum3B3xSU6B5ZeJxRXXcTHX3rdVl/e/m6tjdd2lLOQqlc4nS5R7J5RXkD4da8S1O9YjARIgARIggVRNIOn/HJWq8XFxyUng9+nr5adJq/VfdJNzXI6VNARwXDr2E6c3UUiABEiABEggXAnAcq1iKXcQ/Y9HLtDxs6DQgiD2VdtGZcIVDddNAiRAAiRAAh4EqMDywMGbpCQAM/mte45bgU3jO9bw35bKkFELZePOY/Ftmirrr9p8SF4fPksuXLws56Mu6ZOOcFJUcsqJ01Fy+MS5gIbE/LGfP/y5MqD2ydEoIevzN79g2Dt/82MZCZAACZBA8hGAKydONMyYIZ3cXKeEDj6POGKIo/XKQzcl30Q4EgmQAAmQAAkEOQG6EAb5BqWm6Q1QR3cvWLVXKivT+F8+7JqalpYia/k/deoRTpNCfI8smTPI+H83yeI1+6Re1cKSJVOGJJ/TcjV2v3cnaYXkkGfbSot67uC+ST5wMg2QlOtL6b1LJoQchgRIgARIII4EEOdq+lf3SO4cbtfNft3qSs92Va37OHbDaiRAAiRAAiSQqgnQAitVb2/wLA4n8kAhANmw46g62SgqeCYXgjNZpBRVUF7hiPO7O1SXHm2r6NObDh47J9/8sTxZVgQroitXrmkF1uK1+5NlzOQcJKnWFwx7l5wcORYJkAAJkEDcCBjllantfW/yeSUBEiABEiCBcCVABVa47nwyrxvHVN/fuZbkyZ1FeiuFS0TOLMk8g9Q13P+NWaIX9HTvRpIzWybJqiywHu9VX+f9OnW9dilM6hW3UTE5YE1XVp0u1blFxaQeLtn7T6r1BcPeJTtMDkgCJJCqCXz7ekeZ9V1febZP44DWmdD2AQ3KRiRAAiRAAiRAAiFHgC6EIbdloTthmMPjQ0kYgdnLdunjyvNHZpMON5ezOrvt5vLy5W/L5JCywvp77lZtlWUVJkGiuDrdKTW7gibF+oJl75LgcWCXJEACYUwAbuz4BCoJbR/ouGxHAiRAAiRAAiQQWgRogRVa+8XZkoB8/+cKTaFLy4qCwK9GkO7eprK+/WPmBpPNaxAR4N4F0WZwKiRAAiRAAiRAAiRAAiRAAiFFgBZYQbhdUepUOZy0lyaN6GOVkyMgd3JgOHMuWse+ypolg+SLyOY4JNa+dc8JfVph5kzppUb5glK0QE7HuhcvXZHDytoIklvFgsqV3R341F75wNGzcvnyVYELYzFlMQQ5evK8XIi6LLBgwl99t+09Ieu3HxHMD1Y3DasXlUzq5B8j29R8Vmw6KBnSp5UKJfNKJXXUdRpsjg85d+GS7hP9Rqs5liiUW6qVyx9jfoePn5OL0VdEVFeo4y04XfDoifM6OyJXFu0qeOZ8tLa+QiYsrrylU/MK8rkK7r5513E5oeKMRSaxq+beQ6d1DKzC+XMoPum8p6Pv9x85I1t2H9eWYeVL5JHKZfL5DDIfCBMMklR76rS+y1euyoEjZyVjxnQqgH4OwXOI4Pn7VR5cZLHGUkUiYrAItr2LMUFmkAAJkAAJkAAJkAAJkAAJkEAQE7jxLT2IJxlOU0Ng7oGfzJATp91BzvNFZJWPn2krNSsUDHkMn/2yWMYqy6BWDUrJkGfbeawHSoHvxq1Q1kUr5crVax5l5VSMpSHPedZHhV37T0nvV8bpQOLFC+WSMR9107GgTOOVSul0/xsTxOUSade4jHz0VBtd9MCbf8meg6flnQEtZNbSXfLvkp2mib4WyJNNhqrxIpXS6KG3Jsq+w2c8yhtUKyLvPd5KB023F0CR8ZVy4ftp0mq5qoLW2wXKrwF31pd7O9W0sgePXCAzFu3Q9689fLN0be22nkKGS0362SHTZOHqfVpxNvr9O7QCa+XGg3o9eXNntRRyVocqAcUgWGB9qNuqQWl7caKmj526IB2f+J/uc+zgHjoWln2ATbuOyRvDZ2llmj0/fbq00r97XcmWNaa7SSBM0HdS7Kmv9c1Ue/bSZ/8oZWYe7RL79tf/yamzF+1LlFualNVHomfPmtHKD6a9sybFBAmQAAmQAAmQAAmQAAmQAAmECIEb/kchMuHUPE1YH9mVV1jr0ZMXdN4lZUWUWgXKq/tenyBfj12ulVdQ9lQqnVeqKEudjBnSaYusXi/+oay3PJUEFZUl1Av3NtFYoLB5/7u5FqLzUZfklf/7Vyt7YMH12sPNrDL0CXnnmzlaeZXeNh7yDx8/L49/OEX6vTNJK6+g0KpTuZCyoMqEYsGJex/+ME+n7T/6vztJRvy1SiuvoLioXr6AFFGWSZDL6rS+YaMXyYJVe60mb/RvrpVNyBg0Yr622jKFY6at08or3D/Xt7G2/EJ63bYjuEiNCgX01elHrYpuZeearYedipMlD0qe3i+Ns5RXUMTWrVxYwBIKSgQyH/7r0hhzCYQJOkmqPY0xQdtYsBR8fuh0rbzC+upVKayt+tBm6vxter/t7UNl7+xzZpoESIAESIAESIAESIAESIAEgoUALbCCZSfUPPCF2Fhe2ad1RLmRwR0NJ76lRvlx/CpLMdOmYWmtbMp5XVkEd7wPfpgrf8/Z6rj07m2ryOoth2XSnC36A+uojs0qyKAf52s3LyinPn66jdgtYTJfdw+EUhBMhw28xVI8/DhhpXz682K9D9iLvp1qyBO9GuhYU1HRl5XCYobMW7lHoKDBvsAN0ciL9zfVCo1e7avpAOomPhX27uG3J+o+fxi/UhrXLKabYE5DlSVa75fHaTe0F5Tl3c8fdpWDyu0Ryi5Ia8WjZ7uqOo0fx69b5jm5HJpKxQpcd5U8ccFkJesV1kjvfTdHK6qg9INSqmX9UtYc5q/aI68ry6zjp9xWhlaBSgTCBO2Tak/tczNp4156TVnZpVOuqS890NTaIyhjn1NKrf+W7ZY//90oj95Zz3LjDIW9M2vklQRIgARIgARIgARIgARIgASCjQAtsIJoR/yEVZK0/gqDaA3xnQqszr4dt1w3q6kshwYpZZNRXiETCo33HmtlKX2c+n9Vud8h7hDkPWWFBSXRhNmb9f2zfRopay5PxR+UDhDExfr4mTYeSqgeSiFmyuEi9mSvhlagdMQie15ZQxlBfCS7VFTxsSZ+1kvuuqWa1QblZYtFyu0tKuiqO/aftDfRbnev93dbh23fd1Le+3aOvPL5vyp21lVtvfXG9TLTyLiqGWswk2+/mrKTKgZWSsjov9dY1nJw27QrrzCfJjWLaxdNX3Mrq1xG48ME/Zg9S+w9dZpjunQ34p91VDHH7ApGxAHr2srtCgo30t0HTlldhMLeWZNlggRIgARIgARIgARIgARIgASCjAAtsIJoQ8opJQwsemDZYxcEyC5TLGZQaHudUE3D6gzudZBHe9TzGRx9QM96Hu539vXC+mbIs20FboZnlcUWYm1BoDiBMsmXwFqrSH7PAPHZsmTUAeFhHdSoejGt5LK3L1E4tyC4PIKvI0aSk+w+eEqWbzio41AhcDfqHlIB2yGw6oLll3F5Q177puVkjbIiGzN1nUz8bwuyBJZjUOblyOp2W9SZ6sdZ1R/EblGmM2w/sl2PuwQWKSEIiA+pXamQDojvNAcE529aq7i2ZnMqjw8Te/uk2lP7GPb0HS0r2W91Gq6E2L8r6rk+dP2QARSEwt7FWAwzSIAESIAESIAESIAESIAESCBICNACK0g2AtMwipiCebNbs0IMpSEqiLuvE96siiGa2LLnuDVzxLTyJeWKuy2sfJXjhMFubd2WL6bOk8r1z5/gxEEnMcohxGtykixKgQXxDjYPd0cE9L79yTH6inhY4/7ZKJPnbZUVKqC6Ee92yH9MBXiH0sNIi7olVQyw/ObWukLBBsEJhb4E8b8g2dRpjykhW3ef0MP6209UgGWaP4krE3sfib2n9r6d0sUKeipAUQcnW+a4rkS8hhMErkso7J2ZK68kQAIkQAIkQAIkQAIkQAIkEGwEaIEVZDtSrVwB5YZ2l2zfq1zNlKdSmaIRqVZ5BfQI2G4EFiu+5KrXyYTe9XYpVy1YMNnlXRWH6etXO8awojJ1cufIbJIe1zQAH4A88t4kWbvVbX2EQOpwa4Q7XH51MiAUdV+MiRm03Awz9KeF2mLH3M9cvEMFi98nDaoVNVn6mjune85nzrktsTwKr9+YMl/rc2qTmHlmTxEPyp+45IZyx6leXJnY2/pac6B7au/bKR2RM4tTtmNeKOyd48SZSQIkQAIkQAIkQAIkQAIkQAJBQOCG9iAIJsMpuAnA2grWK4iplFotr8xeVyhxw+rK36l5a6+fvmfa2a8Irv7skGkSdfGKFM6XQx7oUksXL113QIb/5ltplCYR44rtP3LGUl692b+5/Ph2ZxXc+ybp3qaKNFPWVJiXL5n432ZtqYXyh7vV0W6kMNx58dOZMdxJ8+bOqrs5aHNN8+533+EzOisyV9yVK959JOS+vIodBoFbpD/xVx4fJvYxEnNP7f0mRjoU9i4x1sk+SIAESIAESIAESIAESIAESCApCFCBlRRUw7xPuNLhExcprSzMjLvVpz8vUvGwYlrtXL12TT4ZvdBnd++rwO2wWEMg7w+ebKXd8RpVd1sufTduhc84Sz47DKBg/qq9Vqv6KraWt+DUQifBCYXvfTtXF91Uu7iOA/bBE6201djJMxdl4LAZHq6KVcu63QpXbrrhkujdL05lhFQq5Rm83rtefO4Pn3DH8IpLG8S3gmzedVyfDOnU5t8lO2XlpkNORfrEzfgwcewkCDNTau+CEAWnRAIkQAIkQAIkQAIkQAIkQALxJkAFVryRsYE/AgvX7JVWD4+UFg+OkNnLdvmrqssQzPzJ3g11euf+U9L31fGyadcxcV2PHbRNBXl/4I2/ZOOOY459/fnvRivweb/udQXKE1jhvPtYSzEWSC9//o8cOHrWsX1iZRayxS37WZ3CZ+Z/TZ1E9/2fK2TW0l0xhkIcq+eGTJeLl65IntxZ5K1HW+g6dSoXloe71tHpVUrJA8WeEbgmQvYfOStOSqXT5y7KDnWaIaSuCiZuFwRXv/XR0fozY9F2e5HfdL93Jkq7/qPV3vzpt54p7NW+mhQt4I4N9eZXs+XHCSvFxOXCqZO/TF6rrctMffs1ECb29sGcTsjeBfO6ODcSIAESIAESIAESIAESIAESSA4CVGAlB+UwGuOfxTsl+tJVfbLg9AVxU5J0bVVJWjcsrSlt2HFU7hw4Vpre+4PcpD7dnvtNVm0+pE8UNMHVDc7NStH1wffz9G2dyoXkwS61TZFSCGWV9x5vqe8RE2rgJzMcrbusBglMQOlkAoj/rBQ0zR4YIQ+8OUHa9v9JPv/fEkuhg2GgxIEg4Dtid0G0ws0WT+mhrrUFa4L8NGmN/LPEbcGVK3tmqXDdRe/vOVt1uf3HtOvMoUDydlucu2KPwPUQn8ql42addVydtLh47X49BCy79hw6bR/OMY3DCN5WyjhY1iGu2ac/L5YmfX+QNv1GSeO+38ugEfO1hZnZc3sngTCxtw/mdEL2LpjXxbmRAAmQAAmQAAmQAAmQAAmQQHIQoAIrOSiH0Rjtm5bTp99lVif1dbi5nMfK0yoXP0j6dJ6PHSymBquTFl/v10xbIqHO+ajLcla5IUIJ07tDdRn0dBuBtRYEQcJh2fS8UkpdunxVcmbPJO8/7na70xWu/2hUvZjcd3tNfbdOxdD68rdlOm3mYYKN29sgbU4DNFfvcqf7rOrkuS9ebi+NaxbTxVCaLd9wUM6cj5YW9UrKyHc6W81Onr2oXeumzt+m8/p2qiGYq13SpU0r7ytXwlxqbZA3hs+WE2eidPoOpfCD/D59vcC90i5jZ2zQt3071rBn6/T8VXv0tVq5/FIkf8zT82I0UBlQBGL+kAbKNdIo6XBvOCLtzap2pUIydkgPgVuk2e+jJy/omG51lbLvq1dvkwZV3a6WZh8mzdkigTIxczF9YU52MfMzV3uZr7TpE+X2dtgb7zydEYcfge5dHLpmFRIgARIgARIgARIgARIgARJI1QTSKFcn/0eBperlc3FJQQAWRtfUY5UtS8aAuodrHGJalSycO4YVUUAdJnOjIyfOy15lqQQFCOIeJXYgfrjjtVbWTAhaDyuzDjeV1ytctGaf9H93khTOn0MmDLvTY9xTSmkGt0687c/1bayVgvHBcvTkecmnTlMMRKBk3LL7uLaAq1Imv6WIDKSvUG8TyN6F+po5fxIgARIgARIgARIgARIgARJIDAKepjCJ0SP7CHsCWZQ1UqDKK8ArEJldGtcoFpLKK8w/f2Q25f5XWGpVLOShREJZYgjYdmtdWXf12S+LdQwtBL//8Ae3O+UjKhaYt9IMyi2jqm7bqEy8pxGo8goDwXIOijzwMFZ08Z5AKmkQyN6lkqVzGSRAAiRAAqmQwPhZm+SH8Stl9Rbng1lS4ZK5JBIgARIggRQkQAVWCsLn0CQQKIH+SkkFRdnh4+d1UPTflDsh4mmVKpJb2t/k6bqJMeatdLsPwrUP7SgpRyC+e5dyM+XIJEACJBDaBEb8tUorV+BssHbbYXn8w8n6jz6hvargmv3/pqwV/DFt8tyYcTlxgI7T6dIpuQI+EylJ3/fY8BR47IPJsvt6bFi+r75ZsYQEwp1A+nAHwPWTQCgSgCXP8/c2ll+nrpdbmpQVBE5fsGqvdG5ZUUyMJvu6alQoIMUK5tSWYfZ8ppOfQHz3LvlnyBFJgARIIPQJ4IvwF2OW6ENl8IcbHCCC+JTfjF0uT/RqEPoLDPIVgDdOHc4XkVX+GNJTxytN6SnzmUjpHfA9/tCfFuo/tu45eFr+HNZTBrw/me+rb1wsIYGwJkAFVlhvPxcfygTaNCwj+Bj54uUOJhnj2r1NlRh5zEg5AvHZu5SbJUcmARIggdAl8O53c7TyqkThXNKucRlBfEpYCo2auFpuu7m8lC4aEbqLC4GZT1vgPqgGB7gsWbffOm06JafOZyIl6fsee/mGA/LX7M26woN31NZ/iL23U02+r76RsYQEwpoAXQjDevu5eBIgARIgARIgARJIXQRWbT4kS9cd0It6+YGbdFxInGhcRB1ycuXqNfl+/IrUteAgXE27xmX1rGD9Vv/6qcMpOU0+EylJ3//Y345zv4+1KhaUTs0r6Mp8X/0zYykJhDMBKrDCefe5dhIgARIgARIgARJIZQQQlwmCuI8NqhXVaRwi8tAddXR6+oLtgpg7lKQjMPDeJjL9q3tkyvC7g8J9kM9E0u11Qnreuf+k4KAhyCM96lld8X21UDBBAiTgRYAKLC8gvCUBEiABEiABEiABEghNAsdPXZB/Fu/Uk+/Wxn1ir1nJLU3LamXK5SvXBKfnUZKWAKyvnOJyJu2oMXvnMxGTSbDk/DptvZ5K8UK5Yljq8X0Nll3iPEgguAhQgRVc+8HZkAAJkAAJkAAJkECKE7h0+WqyWildu+aSY0r5FHXxss+1QxERfemKz3IULFTWHHATzJE1o7RuUNqjLg486dTM7aI0e9kuj7JgukksFk5rOnEmSq5eu+ZUFGseguAn9qmC6A/xyWLbV6fJgROeidjWEyrPxAX17OMdwKmZThIVfVmwf/EVsMXexVeSY2/mrtitp9VFHULkLaHyvnrPm/ckQAJJS4BB3JOWL3snARIgARIgARJIRQQ27Tomw0Yvkk07j0lkrizSsVl56dOxRlBYmiR/zPePAABAAElEQVQUM5RWv01frz97D51WX6RFCubNLtXLFZCn72kohfLmsIbYo8pf+nSmvn97QAspUzTSKjOJpev3a1a4H/3+HZImTRpd9NGP82TNlsPSpVUlQdybL8YsFXyRhWUUpHLpfPLk3Q20+9/hE+dk+K9LtZvR4ePnFec0UkoFYH+ke11p5aWgQttlKiA0pJZyH4Qbkrc0rlFMRv+9RtZtO6KVJpmUUislJSlZmHUhoPofMzfKlt3HtVISXMoUi1DB7cvKPbdV9/vszlm+W36dtk63RUB2tK1cJp80r1tS+txWwwwR4zppzhaB2x7ekc9fbO9RDoXVl78tlTVbD8vuA6e1whH7WrZ4pNyhnokebatYz4pp6I+TWU//bnWlmZqXtwTbM7Ftzwl548tZeo0j3+2sOK2TXxSrA0fO6qlnV8rX21UsqAF31pesmTNoa8GJ/22W1eqduaLekdw5MkuTWsUEbpq5smf2Xq6+P3E6Sr83KzcdlF3qRM6rStkHi7gqau8ev6uBz0MMknNvDh07J/uvr7nhdVdf78UE2/vqPT/ekwAJJD+BlP1fO/nXyxFJgARIgARIgARIICACUNrc++p4uXjdCghxlD79ebFWCjzdu1FAfQZLI1ixvKgUUv8ucbvfmXnhSyY+a5Wy4bs3O6lA6Dl10cXoK7J++1GdjrrobBWFL6emDpRh1/VXWhmC/BzZMsnQUQsFlid22bDjqAx4f7J89HRrGa6UW9v3nbSK8UUcCoBnh0yXF+5vInfdUs0qQwInmkFqViior94/alQoIGmVsgSKgLVKiVW3cmHvKsl6D6VSUrE4H3VJXh8+y3KpNAuDonLjjmP688/iHfLZC7dKRM4splhfYQmHU/v+nrPVIx9tV206pD84XdCXZc/+I2f0uvJFZPVoP/7fTTJ41AI5d+GSRz72dfOu4/LB9/Nkh9rvl1Twfbv442TW8+SgqfLCfeqZuDW4n4mTZ6Os9+L5oTNivHNg8/PktZpDy/ql5L3v5tpR6H9vsC/LNxyUP4f2lCxKyWUXWBe++eXsGBaUUE7hM3/VXnnx/qZaWWhvl9x7s3yj+13NnCm9lC+Zxz4VKx1s76s1MSZIgARSjAAVWCmGngOTAAmQAAmQAAmEEoFf1JdKo7yyz3v0pDXyqApAnNLWPPY5xTeNU/uM8qpJzWJyX+daAhct5I2Zuk4OKiXWjEU7BMfbJ1TgGgQxwZsbVCsiXVtX1qcEwuLn67HLtVXOs4On63qw0nqgS23JliWDLFi9V77/c6We27d/rJAuLSuJ6Q+uV8aKBZYmTpItS0YpoeLt7Nx/SlumpLQCy8w9sVlg7Z8oS0ETD6xelcJasYOTGGFJNXbGBoGiY+3WIzLs50Xy1iMtPHB9PmaJpbyKyJlZ7lfPQ5Uy+QXKohXKqmfkX6tkgVKExFfgAgcFDSyLeivrrxrlC+j9g1Jl6vxtcuDoWfldza1nu6oeVkK+OBUtkFMpg9Qa1FrPR13WVkcdbipvBY4PxmcCChsjeL+wtoe71dFK1+jLV2TwiAVaaQvXR3wyZUwn/ZXFYV21h0eUFeI3fyzXyj4olsfO3KCs6G5YwkFx+OKwmfrfKbwv991eS+pULiTp06eVtVuO6LZQvH/w/VzdX/GCucxUtHticu7N/sNui7OKpfL6tAIMtvfVgsUECZBAihG48S9oik2BA5MACZAACZAACZBA8BPAF0YngfUIFDwlC+d2Kg6JvNVbDul5wpVr2MBbJEN6t/td/apFtLsZ1lavSpFEWYvdta91w9Ly0VOtrS+wUJLAImneyj16rOpKwQHLLxMMvFbFQpIpQ3r5P6VggZvUZuXSWaO829rq7PlL2lUKDfPk8rT8sU8cLliQU2dS/iTCpGKxavMhraTCOjur+EJv9m+OpJYKJUWa1iou7yvLHriMTpi1WXopq6UKJfPqcrhXmlP74Gr4zWsdJU/uGzwbVi8qtzYpK/e/MUFOxpMhFGFwS4VCLV9ENveE1M86yhIOQfc7PzVGK8kWrtnrocDyxwkup7AIHKKs+c4q5RgUbHBxhATjM5Hx+ruF+eF9++Ht27XbLO4hbz3aQnq/PM59o34Ofqat3FS7hPu+rAj4tx/ws5xWca2gRLQrsN79do5WXmXJnF677ZYqEmH1U61sAeViWUK6PfebijV3RSv9hj7XzipP7r2BJRokj3Iz9SfB9L76myfLSIAEkocAg7gnD2eOQgIkQAIkQAIkEOIE8MXbSfAltHC+G/GhnOoEe55RJkAZ942ygDp74UbQ5+5tqiSa8gocTCwspAf0rGcpp3APgdLMyEN31I5RjrhjRhAXy4j5Qoz7nNkzmewYV/OF+GQAAbFjdJbAjKRiAddACKx94FbnJI/dVd/KhjuakekLt+v4Z7h/vV8zD+WVqQPFyJN3NzS38bq2b1rOQ3mFxrDsQuwnWIhBTGwkfaN+xMapSc3ipqogfpuRYHwm7Gtp06iMh/IK865aNr9yC3TbGMCS0FJeXV8UrJJaKNdCyGHlEmgELqMLV+/Tt7CUtCuvTB24AHdtVVnfIkadtyTn3sASDOIrjpeZWzC9r2ZOvJIACaQcAVpgpRx7jkwCJEACJEACJBBCBHq1r6YDKsPawy6wgLBbiNjLQiXdqEZRfXIfLFi+HbdCRk5crb9I11HB0JvWLm5ZOSXmeqD0c/qSDZc1I06xcYyyDXXOnL+haDNB4JGfQblM+ZJ06dxl9vq+6iZXfmKz2KrihEHgBvraF7NiXQYCfRtBvCkI3POMdZsps19hhfX21//pMez5saVxuh0sv+AuinhXx5UlHeZpF5wu6CS+OJVWgf3x3MAiLJSeCQQpdxLEJIu6eFbKl3CODVVABWSH2GOQmT1H/qylu8R+jzwjiCEHgXUaXDojbfHPUmJv/L2rmGcwvq+YF4UESCBlCFCBlTLcOSoJkAAJkAAJkECIEUC8mBHvdJZPflooG9UphHB96aROC8MphKEuOGHwq9duk49+nK9PCNSxjjYelBXqA4UWXL6GPNvOr2WTNwP04U98WbTZY4llV9Ym3oIg7Ph4Kz0irrsGoj6UGN6ByU0/p8+5LT9y2xRlpiylronNYvd1hRT2YKaKXRabIHaSEdO2WEF3wH6T733FPsE6Bq6ccZWNKkD/ayqwvFGixLWdqeeLE8rtz42pH+zPhK/1mJhf2ZRVmpMYpY69bPfBG0pInJKKT2yCfTcKrOTeG2NZZVc4Os03GN9Xp3kyjwRIIHkIUIGVPJw5CgmQAAmQAAmQQCogUFHFCfpaxQRKjYL4U6Pe7aICnJ+UpesPyDL1mbNit44vhPu3vp6tlVjea/dWJJnyw8edY4aZcgTyjk1wemFcJZdNgXX6rLLMKuTcUpepIrtyw7lm8uUmNot8ykIHcdkQyPvpexrFuhBj0YOKBfJk120R7N2f4OTKszYLOH91UQYXt8c+nCzHT0Xp2E9Q/LZsUEqKFcglOdWJlFBK3vf6eFmpTjn0JXHhZG8b7M9ErOuJx/Nvt0yEm20NHydx2vkUVoprSErsjXn/jCuhfV72dDC+r/b5MU0CJJC8BKjASl7eHI0ESIAESIAESIAEgpoA3Prw6dG2inYxevDNv7SrF04AhLIKigb7SWoI+o1g696CE+6SU9Ir18A8ubNoBQlc4pzmBBepPQfdMZLsgcmTc57JMVbZYpGWJV1bFWcJCqK4CtzWEAR+lzqpERY6iJvkJDi5Mj5umFBMQXkFebZPY4FLrrfgdMjElHB6JrDnRvKqoPvd1MmecZWU2Jv8edxukLsP3IhZ5j3fcHlfvdfNexIgAd8EfAcI8N2GJSRAAiRAAiRAAiRAAiFI4MrVazJ72S45Ygv+jGXAmmaUinu17/ANVzLkw72otjr5D4KTy6IvueN/FVIB7aHIgkCx5S1Qai1ZFzNItHe9xL6ved3qZPnGA45db951XJ/ShsIaFWIq3RwbJTDTF/MEduu3OWKaQaBgGqTcQp0Ee/24sojCXtnFtMW8P/h+nuDqLRcuXlbupvO8s/3eHz99w6LLKcg+XB1js8bxO4CPwpR6JqD8m6ssGH1ZKPqYbsDZ+ZXVXRkVCwzy8+S1sn2fO9aVd4c/jF8pg0ctUM/GDRfflNibWhXc/64cOHpWfJ3wmhLvqzcv3pMACQQXASqwgms/OBsSIAESIAESIAESSDICj38wWZ4aNFVufXS0mMDd+CL7yLt/y1AV26vva3/KP0t26BhSUFxMW7BNJs/bqudTtnikOh3N7faXIX06qaZOS4MsWrtPJv63WX8hxumFOMXukfcm6TLzw/5l2eQlxbVOpcK6W/upevZxVm5yn7aH+E4FIp1PlbTXT4y0E/PE6NdfH20alpG6ld0sJs3ZIs8MnqYVGlCmQHH11+zN0vvlcUrBske77ZlnAX22qFdKnXznPtVv3kp3ObhdVMpL7C/cSns8/7tyNY2ftVSFEnmtKUNZaleiIqD7u9/Oscrj4zpqNfKRSIlnArxue/wXpSCcooLo/+tjZomf/eIDTXWniH123+sTBHuPPYtSCkfEs3v5s3/ks18Wy+hJa3QAfjODlNibMsUirJh6yzY4K5xT4n01THglARIITgJ0IQzOfUmWWX311Vdy4cIFad++vVSsWDFZxgx0kL1798rIkSNlzZo1cvr0aenQoYM88cQTgXbHdiTgk8Dq1avln3/+kYiICLnvvvt81gungujoaMG/F1evXpU+ffpI3rw3voSEEweulQRCnQCUSOaL4lWlyFiqLKRKFs6tTuxLJyaYNFy8nh08XS81nbKwQj0jfdRpi3Z57K768tBbE+WKsvLBSXevq+DcdsUDlER7D7ktuqIvXXUMsm3vLzHSDaoX0d1ASYMv7LXVKYp2wRd6SP2q7nr2sqRI+2KeFGN59/lav5vl8Q+myJ5Dp+XfJTv1J40ymrPvEdrc3b66fg7s7V958GZ59P2/tesoXEGhDPFu27xuSd03ThKMi5QrEan3A/uCkw7b9v9JnxwIpdrpc9H65EgclID5RkVfjkuXcaqTEs8ErA8NZycLxThNPIBK9aoUkYe61pZv/1ihTyh89f+clWdwMXy4ax1rhJTYmzTqgWqg3sMZyvJuwuxNctvN5a35mERyv69mXF5JgASClwAtsIJ3b5J8Zq+//ro8++yzsmLFiiQfKyEDLF26VOrUqSOvvfaa/P777zJ9+nRZsGBBQrpkWxLwSWD+/Pn6vfjggw886rjUb6Jr165VrgAxXSk8KjrcJKStQ3fJnnXy5El56qmnNJdDh3wH1032iXFAEiCBeBGAoqrnLVV1G7gAtmpY2mr/er9m8miPelqhYDKN8gpKhXcfa6lPXDRluOLL8v+91F7wZRhivrBnyphO7rmtunz0VBudjx9XbP92GtfDDOmdfw31lW91phKmjrmasjJFI6XG9XhcY6atM9n6Clc5uCRBurSspK9J/cMfc4ydlCxKFMotvw7qJt3aVJbs10+zM3sEbpVK55WPn2kjT/VuGAMDFJr/+7Cr9O5QXQeCRwXTtmiBnNJb7e/gZ9uKOS3PuwNrXRnSWUXp0qaVT55vJwgwDuUo5OSZi1p5VVq5vn324q3SSgV1N/k6cf2H1Z+PZ8Ze1zudEs/ErU3L6XhsmLd3rC+zFszT+/k1c/eV713uVG9Az/ryzesdBRaTUDraBe/q7S0qyG8fd5di6r02klJ7c0dr93uIeGreitCUeF8ND15JgASCl0Aa9cXqxp/WgneenFkSEMifP78cPXpUfv75Z+nVq1cSjJA4XbZs2VJmzZolefLkkUceeUQyZMggVapUka5duybOAOyFBGwEhg8fLgMGDJBy5crJli3uv9Sj+NZbb5WpU6dK3bp1BUrV+EhC2sZnnKSqC6VVoUJuKwYo8apWdX8BTqrx2C8JkEDSEjh68rxE5sqilAjOCqTjpy7Itr0n5Jr6FbGQOqWsRKFc6ouw1zdh2xTxqyTi2OALKBQl+OKcI2vcg4bbukqU5N9zt8grn/8rCOA97pOeAgUcZOCwGTJ9wXapqlwfR79/R6KMFddOYmMe134CrYc9glXaThXcHspLBOkHn7gI2iLwPSyjypfMkyiul6fPXRQE78YVp1/ieUxKSYlnAtZ3Z89fSvK1+eOGWGWbdx0TuBSWU8H5EdMuNknOvcGzdfuTY/Sz1al5BXn70RbW9FLyfbUmwQQJkEDQEaALYdBtCSdkJ3Ds2DGtvELet99+K126dLEXM00CyUIAVlf//fefHmv58uWC5zKubnQJaZssi+MgJEACYUcgX4T79C9fC8fpfPE5oQ/KLZxU5+u0Ol/jJFU+4j8hzs/h4+dl6KiFMmzgLTqgPJRXkD4dPV0hk2oe9n5jY26vmxRp7BEsbuxWN3EdB21LKFdTfBJLcmXPrE6JzJxY3cXaT0o8E7C+S2rFXGwLz6pi1tW6fghDbHVNeXLuDZ4tWPO9/91cHZftLmUhWql0vhR/Xw0LXkmABIKPQNz+9BJ88+aMgozA4cOH5dVXX9Uf/DUlsWTfvn1WV82aNbPSTJBAchJIq6wUXnzxRSlYsKB2pfNWXv3vf//Tzz5iZ3lLbG296/OeBEiABEggYQQyKre1F+5zB7PGiYsIMo8vyBDEvmrbqEzCBmDrkCPAZyJ4t6yrciOsWModW/PjkQv0qY18X4N3vzgzEkhpAlRgpfQOJHB8BJweM2ZMAntJePP169fLe++9pz+JqcBC7B0jOXLkMMmwum7dulXv8ZUr7qPLU3rxUVFR8s0330i4xUJCzLiDBw/K0KFDY2zBl19+qZ99Y6XlXcFfW++6oXQfbM9mKLHjXEmABJKWQMv67pP0EOepsHKZu7VpWR2v6ZWHbkragdl70BLgMxGcWwNX5lcfulmgZLy5Tgkdt4vva3DuFWdFAsFAgAqsYNiFeM4BCqLJkydL69atpWbNmgLrj9QqdmVYunQ3AoGm1vU6rQsxh+666y4pXbq0fPzxx/oURqd6SZ0HhRUC6RcrVkz69eunlTlJPSb7D24CwfJsBjclzo4ESCClCHzwRGsZ9W4XKa6CmffrVlemftlbxfNKPDe4lFoXxw2cAJ+JwNklZUvEpZv+1T1yb6eaOt4e39ekpM2+SSC0CaTKGFjnz5/XJ+vBdadWrVqSNav7dJzQ3ioRWL6MGjVKhg0bJps2bdLLKVKkiNxxh+9ApGCBL5n4gEOjRo20IiQ2Fojbs2PHDt1u165dkitXLqlXr54Ong6uRlB26dIlgSWGEQS+NnUQeB0fI4nRb/r06fUaMC7Gz5w5sxQvXlzzmTlzpuzcuVPPs1WrVmZYfXJcXNZjGsDS5uzZswK+2bJlE1iYIXA3LMLKli0rbdq00eOa+uvWrZO5c+dKxowZtVKxdu3afgPegsO2bdtk1apVOpB+5cqVpUaNGhIZGWm6tK7VqlWT5s2by+zZs2XgwIHy9ttvy/333y9PPvlknPbS6ijABKz8PvnkE60oBXPsbadOnaRo0aKOPULpCNZYGzhWrFhRry1fvnyO9ZG5d+9eWbNmjWzfvl1Kliwp1aurI73V1Un87Ttc/NAWY8YmeHawtj179uj5ITi7v38rsPc49ACWgAhoDos4rBNy4sQJfT1+/LhH4Pfy5d1HQnu31ZW9fuD9xnMGDng+sO8Ilo7nz0l8PaMXLlwQPE94BnPmzOnUVOfF9V302YEqSOln09/cWEYCJEAC5uQ9QyJ3juSLuWTG5DW4CPCZCK79sM/G+/30vrfXZZoESCCMCagvm6lK1Jd8V4ECBRCESX8KFy7smj9/fkivUX1Rdan4Ui6lCLLWpb5su9TpgS71Zd5xbch/4403XOrEPquNYaK+4LuUwsmlFAq6DP3YBbzUF+AY7dC+fv36uq2prxQFjvXMWMp1ylTV+5AY/Srlge7zl19+0WMrKzTXn3/+6VJxiay59O3bN6BxTSOleNB9jRw50qUCx1v9mnUpKySXUmi5du/e7SpTpkyMcmUd58K+OcmiRYtclSpVitEGe6WUU67Lly87NXOtWLHC1adPH5dSkum2SpGk56YUZ471E5KplBuuv//+26WUgNY8lSLF9dhjj3nsv/cYS5Ys8fnsYO6nTp3yaKIUNq7GjRtbYxi+uOIZV0owj/q48bfvpr2yWHOdPn06RltkrFy50oVnxtQ1V/BXbrCuzz//XJepUwg92iurM52vTr/U+b/99luMPkxf5gqOEO+2OvP6D6UIcw0aNMiVJUuWGP1lypRJPxNO73lsz6g6ZdQ1adIk+1BWOj7vOBrhWTZrUspwqx+TSM5n04zJKwmQAAmQAAmQAAmQAAmQQHgRkNS03HPnznkor8wXLmUp4rp48WLILRVf3qGI8VZYzJkzx+9a8GW3QYMG1hdOfAmuU6eOS1lQuZS1ks5XFlUudfKHTtsVWNOnT7fyoSDBl/imTZu60Ifhqay4rPF79erlUpZDLuXeZpVDQYY8fIYPH67rBtovFEVmXNMvlEOQP/74Q5cp10KXssrSabBCm+effz6gcXUj9UNZluj+DC/0axia+UBRapQIGFMFmfdQMnbr1s10Z13BGvNFH+gTSpoWLVq4oGww/fbs2dOq75Q4cOCA65VXXvEYC3urXEl9Kr+c+nHKU9Y7rq+++splV0xibVCwKCsipyZWHsY3+4BnC8/OzTff7MKzZtZWoUIF19WrV3UbKFfMs41yKJuVpZneP1Mf/UFRZBenfUdbcMS7btpCaeQtY8eO9VDqOo0ZERGh+4hNgTV16lTrOYdyD+NiH82zj2tsCiwor8DIzNnpXUUZ9jc6OtpjOb6e0YYNG1prBF9laebRLr7vIhrHpsAyAyTls2nG4JUESIAESIAESIAESIAESCA8CaQqBdbChQutL4LmC6G5Llu2LCR22MnyRbksuZS7mEu5V8VpDbDiMevu3r27S7k3We1glXLPPfdY5ahnV2Bh/AcffNDVrl071+bNm612yp3OpU5hs9rB0s0u6vQ1q8woKOzlSdGvigNmjQmlkHJzi2GRFui4sDQzDKFk2r9/v7Wcjz76yCpDHSjLoIiAKJdNV/v27XU5lDj2duqkRpdyEdRlTZo0cSn3M6tPKFifffZZq1/lCmmV+UpA2fT11197WHPFVdnk3aeTlR8YxFUpduTIEUuhVqpUKZf9fYNF2eOPP64t5PCOQpSrnUu5++n1wrIQFnR2mTJlilUOZnZrNvu+Q8H1xRdfWE2h5FHujbpflGFeRo4dO2ZZHcY2JvY1NgWW6RfXm266SY+pYoTZs620Lwus999/39rz2N7Vl19+2eoPCX/PKCysjIL6iSee8GgXyDsRVwWWGSgxn03TJ68kQAIkQAIkQAIkQAIkQALhTSBVKbDgmmWUDt5XuLiEgrRt29ZaQ4kSJVyDBw+O4Xblbx2wQjPWUrCcwpdVJ7nllluscewKLKe6Jg8WOMbNSZ26ZrL1NTYFlkdlr5tA+4UlidlnJ2sbr2Fi3Pob17i1QTG2c+dOj7ZnzpyxLI3giuatsIPiz8xLnUpntTUKQChP7IoVUwF7Zca9/fbbTXasV7SDUkfF5bLGzZ49u0vFIou1LSrMmjXLsoTCemE5Fl+3W7M2KE2c3P4wDp5NI1D0GEYzZsww2R7XBQsWWEqYp59+2iqz7/sDDzxg5ZvExIkTrb7t7pWwWovPmEmtwIKSJz7vKvYGij8j5llxekZRBxaDWC/cQOMqvt6J+CqwzHgJfTZNP7ySAAmQAAmQAAmQAAmQAAmQQKoK4o7gzQgsvW/fPvW97YYoixAdDPlGTvCm1BdFa3Iq1o706NFDB1C3MmNJIFi7skLRtRDsWykUHFu88847olygHMuQqSyCRCk2dJBr8EQweASZRpBrXBH4OhBJqn7vu+8+v9MJdFyc9OgdTBxBvFW8LcGpfErhaAWsNxNA4G4E3gYz+34qJaqugtMElYWSqe5xVW6J+n7jxo0e+f5usMcIWK+UYjrQvIozJUpZpIPQ+2tnyhCAXLmd6lu8P8otVJQbmimO03X58uW6HoLbK9c5xzb2YORm/cp9Tp+m6dQABw7ceuut+sRNU9+7nrIW9M4S5Uqog+ljTQgOb8T0EdcxTbukusb3XVWKUh0Yv2XLlh5TcnpGUUFZUQr2xc7A3jDQd8LeR2zphD6bsfXPchIgARIgARIgARIgARIggfAhkKoUWMo6SFSMG630MQoWKAt+//13UQGaQ2JXR4wYIUOGDNFzHjp0qHz22WeiLGJEWaCIchmKdQ04wcwITmD0JTg9zJcoCxd56KGH/CqpjMLDVx9O+UnVL8ZSgdSdhtR5CRkXJw46CU5lhAILCh8nMQosnFRnBAoLCE4zVG6GJtvxitPt0Fa5wTmWm0zlFifKGk5UrDE9H+QrqzD9vPjbY9MeV2WNJypwuXz66af6ZEScaon3Bqcc4rRDZc1lr+6YNmurUqWKY7l3Jk7bg+CUPX+CZ1hZl2nFjVM9p/0B+9y5c2uFnrIAspqZd8Pfe4HKmBPGTGoxDDCOvzlhH3HyI9aCkx29FVhODNCneTbtDJAPScg74e4h9p+J8WzGPgprkAAJkAAJkAAJkAAJkAAJhAsB/9+OQ5CCCl4u6oQ9fRw9/vqPL9ShorwC7tq1a4ty6RMVZ0krFb755hsZM2aM/qi4SVox0blzZ1FuQ467o4I2W/n+lEx2xYrVQCVglQWrF4gKcC3KTUnwBVqdHigqoLm88MILsmHDBl0enx9J1a+ZAyyinCSh4/rq15dlm9McTJ55DpVrqN5nk+/rCosbXwos7MGwYcPkp59+0tZymM9tt90mzzzzjLZA8tWnUz6s6tTpgvLoo4/KX3/9JVCcKtc7rcBSp0gKrJxUHCUpXry4U3OdZ547WPXERaCQgTgpV+ztzTNs+reXIe1rf7zr4d70Yfp0qoM8ZZjrqyhR8w0DdOpvTnhXzZzMGuwTiQ8DtEvoO2Ef2ymdmM+mU//MIwESIAESIAESIAESIAESCE8CqU6BhW3Elzx/Fg2hsNWwnoASCwqEH3/8USsrVFwiwadkyZJaoaDi/0jOnDk9lmN331IxwUQFtPYoNzeLFy82SY+rCtqt72GFMm/evBjui7AEi03Ml217vcTo195fXNMJHTcQRZWvuUGZCstA7N+4ceN8VfOZD66wnFHB6mXatGm6HpRPjzzyiDz11FMC18WECBQqUI7iA9czKLLUCYDaIhDKMri0Yv+d3Auh5MTaVJD2OE0BVmLqdDzx9RyaTvAMQxLjfca7sXv3bjF9mjG8r7GVe9e33zs9+/ZyexoMjMT2rpp+nTjE9xlN6Dth5my/JvWzaR+LaRIgARIgARIgARIgARIggfAk4DaDCM+1h8Sq4Q4F6xgVkFvUSW2iTjvTX/xhaaNOnNMWN1AEGIGlFNynICqwtqNlByx7Bg4caJp4XGGdAYElGNzk7LJy5UpRJyHas6y03VII8Ze8JdB+vfuJ731Kjes0T1izQVRgd0sB5V0PLrATJkzwyIZV03fffadd2+DuB+VVoUKF5L333tPxjeA+mFDllceA6kYFANeWgCqAvX5WEPcLyizEpcIHaTxHRoxSCy5usBj0Flha2eN6GRZ4pkaPHu1dXd+PHz9eW4LhxtR3rBjHTNNHXMeMY7e6mnn+nZ59X/3E913FvwV2BbWvfmPLT8x3IiWezdjWx3ISIAESIAESIAESIAESIIHUSYAKrBDZV2MdM2fOHB1DCYG21Slm2hoHsYqMqFPNtOUW7qEwgNshlArGgmPdunXSrFkzbWFj2tivcG+DQJFiD4YPBdo999xj9WNvg3RERISVhZhjELhF7d+/X6cD7Vc3TsCPlBrXacqwkipSpIgu6tmzp3b/M66csF569dVXpXv37toC6quvvrK6QDwmxCSDaxasdkaOHKmVmC+//LJERkZa9ZIiYSwB8SwgThZijcFaCPM3MaUwLtYGhSoEAfUxf+NOiED2sN6C8gXPFeTxxx+XihUr6jQsCQcNGmQFnUfwe8R+u+uuu3Q5LNaef/55nU7ID7hBmlhpsY0Z33HM8z9lyhQdQB/toVj25yIJl1JYtkHi8q5++OGHcYpHpjv08yMx34mUfDb9LJFFJEACJEACJEACJEACJEACqZAAFVghuKl169b1sI4xX0jNUqDsQOB3CE5eg9sRrLLwJRuuXnBD7NKlSwwLK9THF3sIlGPoF21hjQOXwk2bNllKCigZ7FKhQgVLmYLxofjIkyePfPzxx7paoP3axwgknVLjOs0VwdC///57gTXT6dOnpU+fPjqdL18+zRoWVRAobBDPyggsb3D/77//CqyH0M4pFpKpnxRXb0tAKEGxDiP2tUFxBbdGlBcsWFDHUoM11eXLl2XUqFG6CeKpIX4X1g5FJ2KrweIPCj64xUIpi37wzKJNXALJm7n4uuKQB7jj4l3wNSZiy5l3x1c/TvmwSoNs3rxZ8ufPr/cTp5+eOXPGqbqV17dvX63wQ4avdxVlOI10wIABSCZYEvOdCIZnM8FA2AEJkAAJkAAJkAAJkAAJkEBIEKACKyS2yXmSxjoG1ip2QUwcWEF9++23WoGAMnyRPnXqlFaOII4RXMCgRIDYlSH9+vXTViFQLMB6BNZbK1as0AqpX375RWD5BcEJY3ZBH7DQgQUYBJZXcKcyFkaB9muC1RsXLfuYpsw+f3s50gkd11ffJiC7r3LveZj7du3ayerVq6VNmzaaO5Q0hiWUPQiYjlMKsbdG0GbixInxDs5u2ifm1VgCzp49W7xPv8OacBohTlgEH+z94cOH9fBQZiJ2l909EopYWB7de++9glhesBI8cOCAfu6gbIIFFsrhNmuXuOy7vb49jb4wxw4dOug5mjGxj82bN9cxxlq1aqWbeO+tGdfsvb1f7JuZZ1RUlI4HBlbR0dG6mr+2P/zwg0DBZ9xAzbuKhjgN8tdff9Uf71hXpk/vedrn5ZQO5J0wY6E/+/qD6dl0WivzSIAESIAESIAESIAESIAEUg+BNOoLXPIcuZV6mIXcSqBMWr9+vcBKyttay9di8MUbboNoi+Djxj3MV32Tf/z4cW0lBOUFlDBoa//iHWi/pv9Aryk1rr/5wgoILp0nT57UlnGw3EktAmsrKJ8OHTqkT7C0K+Sc1ghlKeKr4QPLJSjH7EoTpzYJzcMzATdIXOvVq2cpXwPtF2tAf3hnYH0Gq8X4unjCMg8KNvQFa0njmhjonPy1C8Z3wt98WUYCJEACJEACJEACJEACJBDeBKjACu/95+pJgARIgARIgARIgARIgARIgARIgARIIOgJ0IUw6LeIEyQBEiABEiABEiABEiABEiABEiABEiCB8CZABVZ47z9XTwIkQAIkQAIkQAIkQAIkQAIkQAIkQAJBT4AKrKDfIk6QBEiABEiABEiABEiABEiABEiABEiABMKbABVY4b3/XD0JkAAJkAAJkAAJkAAJkAAJkAAJkAAJBD0BKrCCfos4QRIgARIgARIgARIgARIgARIgARIgARIIbwJUYIX3/nP1JEACJEACJEACJEACJEACJEACJEACJBD0BKjACvot4gRJgARIgARIgARIgARIgARIgARIgARIILwJUIEV3vvP1ZMACZAACZAACZAACZAACZAACZAACZBA0BOgAivot4gTJAESIAESIAESIAESIAESIAESIAESIIHwJpA+vJfP1ZMACZAACZAACZBA6iSwceNGmTBhgl5c2rRppV+/fpIrV65EW+yoUaPkwIEDur/SpUtLjx49Eq3v5O5ox44d8ttvv1nD9unTRwoXLmzdM0ECJEACJEACJJDyBNK4lKT8NDgDEiABEiABEiABEghuAteuXZM1a9ZYkyxWrJjkyZPHundKQIkUHR2ti/LmzStFixb1qHbkyBGZM2eOtGrVSiIiIjzKEnrz66+/yp133ml1s27dOqlSpYp1n9BEgwYNZMmSJbqbdu3aydSpUxPaZYq1nzJlirRv394af+HChdKwYUPrPikS+BV89uzZkjlzZmnUqFFSDJGofSbls5qoE2VnJEACJEACqZYALbBS7dZyYSRAAiRAAiRAAolJ4MKFC1KrVi2ry/vvv1++//57694p0bFjR9m+fbsuql27tixfvtyqNm3aNEH55cuXJVOmTFqRVb9+faucidRNoHnz5nrPscrOnTvLn3/+GbQL5rMatFvDiZEACZBAWBFgDKyw2m4ulgRIgARIgARIILEIwCIrPuJt9D5y5EitvEIfsNL65ptv4tMd64YwgS1btljKKywDrp579+4N2hXxWQ3areHESIAESCCsCFCBFVbbzcWSAAmQAAmQAAkEC4EaNWp4TMX73qOQN6mKANxPIyMjrTUVKlRI8ufPb90HW8L72fS+D7b5cj4kQAIkQAKpkwBdCFPnvnJVJEACJEACJEACQU5gwIABkiZNGpk5c6aOv/Twww8H+Yw5vcQikCVLFvnrr7/kiy++0O6jeBbgRhqswmc1WHeG8yIBEiCB8CJABVZ47TdXSwIkQAIkQAIkECQEsmfPLgMHDtSfIJkSp5GMBJo0aSL4hILwWQ2FXeIcSYAESCD1E6ACK/XvMVdIAiRAAiRAAiQQhAQQQ+vgwYNiYmPBhSxjxoyOMz1x4oSsXLlStm3bJhUqVJC6desKlAoIAH/48GGrTcGCBSV9ev+/3iHW0qxZsyRbtmyCwPKlSpWy2idV4tixY7J27VpB7CecxIhg+IULF44xHNaCNUFgkZQvX74YdZBx/PhxiYqK0mXp0qUTuOB5S1zH9G4Xn/uEzPfUqVNy7tw5PRxOIsQplb4krmuxz8epT+/nBc9Q7ty5PYZFPLajR49aeZgXnktfz+qVK1fk0KFDVn1z0uaBAwfkn3/+kaxZs8b5Obt69aps3rxZVqxYIWnTppV69epJ2bJltaWifc/Rp90FE4PjecCpmDjR0dd7ZE2SCRIgARIggdAkoH5pooQIgWXr97tGTVzlmr10Z4jMOPmn+d9//7mGDBniUmb5CR5cBSzVfakj0xPcV1w7uHjxomvYsGF6XPXLY1yb6XopMd94TTCJK3/55ZeamzqyPolHYvckQALhSuDs2bMu9due9bn33ntjRVGmTBmrvlLaeNSfPHmyVYZ+Fy5c6FGOm127drmaNWvmUQ911Zd7V//+/XUb+5y2bt1q9TFmzBiPdn///beratWqHnlo26ZNG1d8/8/BIOrERKuvdu3aWePaE0rp5mrYsKFVzz7Xm2++2bV7926rulJeuJQSz6obERHhwv+L3qIUJi6l/LLqYR52ic+Ypl1c9sLUNdeEzjcp+IGZYawUSWaq1nXEiBFWOeo1btzYKjMJ5dboUUcpk1z++Pz6668e9ZWS1aViZHnkxeU5w7hKoRajHfZ62bJlrvbt21tld999t5muvipFmUsp4nS5Uri5Vq9e7VHOGxIgARIggdRBwP+f6NT/NpTgITBl3jYZO3ODtGpQSprVLZnsE+v98jg5H3XJGrdLy0rSp6M7AO2E2ZtkxIRVVhkSf35yp8d9ctz88ssv8vXXX0vXrl310eQJGfONN94Q9cVBnwpVrVq1hHQV57YnT56Up556Stdv27at37/GeneaEvP1nkNK3r/++uv6L8awPqhYsWJKTiVVjX3kyBFtDVGkSJFUtS4uhgQSg8DEiROle/fufruyW6b4rehQqP4oI507dxZY6ngLrLe++uorbUnlXebrHn0Z6yZ7nRkzZugYXLBeSUwZPHiwvPjiiwKrGieZM2eOVK9eXbBOBAWHxU2fPn0E7SD4P3H8+PHSs2dPj+ZTp04VWPcYeeCBB0xSt43PmFbDABKJMV9/wwbC7/bbbxelpNLd7tu3T5YvXy516tSxhpkyZYqVRmLRokWCf+ftAeQnTZpk1YH1E6zlvNtZFVRCfSWy30qnTp1kw4YNHnm48fWcoX23bt1k3LhxMdogA3vdokULbXHoWEFlfvLJJ9Z7Amu1Tz/9VL7//ntf1ZlPAiRAAiQQogR4CmGIblxKTHvXgVOyc/8p2XPwtOw9fEZOnb1oTePMuWidh3LzsQqZIAESCEkC+HKJk7JKlCihj3gPyUVw0iSQhATg0jR27Fi/n/Pnzwc0g0uXLslDDz1kfSk3nRQoUEC/k8ZNEO5WcRWjvMJ7nSNHDo9mS5cuFSiGEksWLFjgobyqWbOmDlj+008/ySOPPGK5OZ4+fVqefPJJa9h+/fppdzGT8eOPP5qkdf3hhx+sNNwg77rrLn0f6JhWZwEkEjJff8MFuhbDwvQ9YcIEk9SKxOnTp1v3SEARCkWsETyvcC814q08NPn+rkZ5FdfnDAo3b+VVhgwZpHTp0pInTx49lLJ+1C6Mvsb1fs+UJZqvqswnARIgARIIYQJUYIXw5qXU1P/3UTdZ9svD8kSvBtYU7rmths6bMvxuK48JEiCB0CYwf/58wZdoWE/glDQKCZBA8hEYPny4KHdAa8By5coJ3klYdME6GFYz99xzj1UelwRiHc2ePVv27NmjY0j16tXLo5lyYfS4T8hN3759Lcsr5UYpUJA9+uij0rt3b8HaYDFtBBZYRrECi5/WrVubIm21A0siI4jNZFe4QMFilHGBjmn6DuSakPn6Gy/QtbRq1crDmsquwML+wqrNW+x18G+9ctu0qvTo0cNKxzURn+cMY7300kseXT/33HMCxeb27dsF1lSwCIPi1p+89957AgtsiHJN9VCK+mvHMhIgARIggdAiQAVWaO0XZ0sCJEACyUYArlEIFA0X2vvvvz/ZxuVAJBAqBGCd2KVLF78fWAgFInYrGASkhiudildkdQULExX70CPPKvSReP7550XF09KlsHAZNGiQR00otiBnzpwRWAA5faA8i01QB8HmjUAhYSzGTB7+fSlZsqS51cG3zQ0stIzAQgjrNDJ69GgPN0hYqUESOqbpP5BrIPP1N05C1oKA9na3VhXHU3bu3KmHU3GsHIeFa9+FCxd0md19sFKlStrF07GRn8y4PmfoQsWt9DiEAArOjz/+WLJkyWKN0KFDB49nwCqwJRC4ff/+/TqUABSisP6ikAAJkAAJpD4CVGClvj3likiABEggUQjAsgBWE/gChBgoFBIgAU8CiMsD1yd/H2MV4tky9jt8sTeCcSpXrmxurWuaNGm0m6GVEUsClil2QWw7+yl/sLiE4LTDJk2aOH5eeeUVexeOacRdsgsUPFCseH+gqDGC0wmNdOzYUexx9+BGaOIs2d0HVUB6UQHidbOEjmnGDuQayHz9jZPQtXi7EaqDbfRwdgXW0KFDrSnACmratGmasQr0b+UHYn2FxnF9zlDX/pzjfsCAAbjEEHVIgHadjVFgy0BMMn8nOdqqMkkCJEACJBCiBKjACtGN47RJgARIgARIgARSLwFYkxhRp8mZZIxrbK5V9gZOcYHUqW/2KomS3rFjR4x+YEnl/bFXsreBtdaDDz5oFcOVbO7cudpKa926dVa+vY69vangPR7u7eLUxl4e13Qg8/XXt9O84rMWWOrBOtAIrPfwPKmT+XRW1qxZRZ1gKeoURFNFxzlUpw16xJkKJP4VOozPc2Z/ztE2sZ519EUhARIgARJIfQRS5SmEURcvy8adx1QQUJGKpfJKlkwZUt/O+VjRxUtXZPveE7J19wm5pk51KVc8UsoWi5QsmWNngBMGt+w+Llv3nJBsWTJIhRJ5pWSR3JI+XerRc8ItAr/84hMVFSXly5eXBg0aSGRkpA+iN7JhXm+sUfCLIU5Msv+CeKOmZwq/dMKVYtWqVdq0HX9FR9u4jOnZU/zuApkv5opfnNeuXavdMXLlyiX16tWTKlWq6NOhnGagjjPXXyzw1/NMmTJpnjgFEJYBTpIQHgjSirnhg1/A4TKAIK8JkUDWjPFgDQBW2NeDBw/qkw+xr3ZrBvu84lsfbREDBF848LziecFpXRUqVNBWDPa+TTo+exHXuvjiiBhYJZWrD9yYILDSgOVE5syZpXjx4vpdQtwUuKnA2gTzjMtJkDhZDcF+8UFwabwbN910k37WzLiFChWy4tuYdfJKAuFAAHGj8G8dBFaQvsSu0PFVx18+rFa8BTGl7CfX2cvxb1Bs4v3+4/9ZxEXyJ96n/UI59e6771pxtGB5hX9zjOD/G3sMsMQY0/QdyDW+8/U3RkLXgv9/oXwyLqLz5s2Tn3/+2RqyTZs22kUPllrm5Em4Dtrd7rAfcCFMLHF6ztA3nnO74Fl3UmLh/wi7lZ69DdMkQAIkQAJhREB9qUpVsnT9fleLB0e4anT/Un9aPzzStXLTwVSxxne+/k+v6ZnBU2Os58rVq64fJ6x01b/7G2vthkHdu752ff37Mtely1ditENG9KUrrmE/L3TV6vlVjLatHhrpmrtit27XpO/3unzzrmOO/SDzwNEzVh8+KyVhgToNyKVeX1fXrl09RlHKHNfAgQNd6q+kuhx1zEf9EuxSv+R51MeN+sKu66hjyl1vvfWWY9vatWu71C9bMdqaDHU8tUv9AmiNZcZUsUdcb7/9tkv9Qmaq6qtShFh11RcXj7LYbhI6XxUc+P/ZOw8wKYomDJfknEWCIEgWFVAUAypBUIKIAcEIZn/MGXPAiDkLqGBGMIAJAyZUVJKAoOScc86wf7999DC7N3u3s9wdF6qeZ29mOk3313M7vdVVX0WMAsG7v+srR7NLGzFkwqm6YHgzPJz85Rmz2VVNVT4sHq4BozCJPPDAAxFw89+Hc6MssX0ziiObZxbprlq6x2TGTKNmwR8XKxMCPmIUM1H3DlveKFft82rcbVKN10TyCnzmwsxFomXjPY+GfNn2i7589tlnEeOykaqf5odRxCjgonBwFxs3bozceuutgf9Thqja4pvMfLr29agIZBYCJhJa1LPeo0ePdG9lfqB7dYwrblR549Ll5fF9Zki2vXxDsB6Vx/9drBhC80jFihWjyvm/qwcNGhSVZ5RdsU1E/P3jnmGEd4P7TjYuXl5Vvv9dOkfDW+Xl+U+M+1jEuK/5k6LOO3fu7LVjFOgRo8DyrmP7uq/3TGsuojqVxkWY/tJMZuJn3EA9rPxzwblRBtpRgJlRLAWWM8rDqJGmhc++PGdGKRV1f97pQc8Eayb/OC688MKo/nHBWoH3rdmgSZWnCYqAIqAIKAK5A4HU227m7ZBTBcurO577Xlav2+INYcWazTZt+45dXlpuO9llrGaufOgLef69P2Xb9l1SsEA+aXBoBWlY60ApVDC/7Ni5W14dPEZ63DfUnEfjAC6X3PuZDBg6wZj2R6SYsdRqXK+S1DSWV8jKtZvluse/lq9+3ctNkRPxa9u2rd2JxOoEqyK/5c62bdvEKLcs/0PQ2IiOY5QnQl2sTVq0aCFYhSCY20Ny7fgl/PWJsASHCPwOWK5QDh4T82PDWpvcf//9NhqTv05GnCfTXwhcmzdvbi1h2CUl2hXX7HAj7NAaxUxU94iOdeaZZ1pLHMoxNmcNxZghCvZHO0oWD3ZdscoxSkSLG/fCMgDLMHbj2a0FWyIVhZFkxkz7ZqFuSZOxGmKXG6zg++C5Qt555x1rhYZlFxK2PM8jzyc751g+sRNNVClC0DM3WHwxXucKwj3CzEWYsrQdJO65wDoEsmCwr1Klin0G3M75hx9+aP+vYutjRWcUv/LMM8/Y/ynaYjy4smBVR/9OP/10a60YW1evFYG8hEAs/xDfwXy/87+P9SffqXwXEo0wuwnfB37evJtvvlmwAjJLZ6+rgwcPtmX4vsPiMkhwc3OC5SdcTU4cebu7zqh7uvaSOYbpb1rtZ8RYeGcEWVDxHunYsaO9PfdxpP6x/Yl9/mLzM+oarkXeCU7cO51IkwsWLJC//vrL8ryxZkpLeL54//AuwTqed7SKIqAIKAKKQC5EIHfo4VJGMXHaUs/6x1kfueOUWctz/FDjWWC98ek4b9y3PfNtZN2GvbuZGzZti9z90ggv/8UP/ozC4eVBf3l5T739e5SV1uSZyyJtrn4nct8rP0aM4iuSky2w2Ik0i6TISy+9FLUzx2604Q+xu3pGMRWFjbNoMv/2EbPIi5gQ31H5Q4YMiRi3LlvXuE1FjLLGy1+2bJmXZ5RYEfNjw8tjZxHrE9rlY1yvvLx4Fi9egTRO9qW/RtkSMe4PEXbQp02b5t0Fa4NevXp5fTXh1708o4Cw6YbrImp8WEAZ95PIc889FzEKGFs+WTyo7N91NcqSyOrVq70+YOFjXEi8/oFnohZYyYzZ/FCMlC9f3t6vZs2akbFjx3p9wZru+uuvt9ZIzooibHkau/fee237WF9h/ecwJI/7mYW5zTdKPZKshJmLMGXjPY/+nXisGl955RXXlYhRwEU6depk+0geGPjlxhtvtHnMFZaSq1at8rKNi2/E/Cj18sPMp9eInigCmYhAVlpgMQz3v8T/QqIfowT2ENgXyxivkTRO4lkQUYX3q99iiv6bTSD7f+++x9yYzAZAZPHixanuxPe030LMlcdSk7xY2Zd7+r/XuI/7Ho+9R1rXYfub2fhhPe4wc0ezORU1hH79+qUqg3V5rKSFz74+Z4aeIa4lmOt37DHWAstsqEWNg3eJiiKgCCgCikDuQyBXWWAZY4i4ki+tzLi1sn8GnFevDxlrO9q4fiXpc3MbKVUixWqGxBLFCsmj17WWExqnhBMeMGyCrNuYsoMJ5xXXSKtja8ptl5xgrLfy22v+NKxVUYY9300e7tkyx/NgsROJZcd1110XxR8Et9Oll15qxxwbCccBwW7lsGHDBM4Iv5x77rlCOG9k6dKl8sILL3jZRnkjRtEiRtkhxsVKjLLDy8PihBDRLhy6Uap5eRlxkkx/sSTq37+/fPPNN5YXzPUDct8777zTC2ftx8jt+lOGcToxbh3WIuCmm27yeLOSxQNrnUcffdQ2jUXYRx99FEUOW6pUKWvxhMVOWElmzERtMgoXa3nFvPo5YoyyRl588UWZa7ihXFSssOWNa508+eSTdih33323GJdYD0MSuV/fvn1tPoTGWGMhYeYiTFnbeMAfxuqke/fu0rNnT3dprQ2dZQRWi0Yh6uXB6eWed6wujBI4igsO3h3zY0qI6KWiCCgCYv/fsW5NS7AC9QvfbdlBeL/yXvGTxM+fP18++eQTmTdvXlQX+b5zls3+DMZy1VVX+ZPs+eWXXx7Is5gR90x1sxAJYfubVtMZMZbYaITcD8tpv5iNBDHu+f4kySrrK3dTrHDfeOMNKV68uEtKdcS6qmjRol567HMOp6JfsOhVUQQUAUVAEch9COz9FZILxlbnkPJSsVxxWb56U9RoqlQsKbWqlY1Kyy0XM+avsi6CjKfneccELujIu7brMTJqwgLrJjht7io59vCqlqx9p3EvRLp3amSPsX8SIX+PrZPINYoQfuiHEUzMw0RbCmobJdYvv/xilVm4t0F0jok6YqyEBPct5x7l6psdcOvi5K79x3bt2ll3L7NTK8Y6xsvCtRDBpc6f7hUwJ24sfqWQP9+dG725/PDDD9Z9zqW5I2S6zm3PpSXTX1cX94yffvrJuqgsXLhQUCBBds9CkCM/Ppw4BRz4QThrdkOtKwLufs6dzpVNFg9c1JgTxFhixX2+e/fubZVv7n5hjmHG7EKbo8yEsD1I/AvwsOUZLy6TCCHkhw8fnuoWKIWc8OygnA0zF2HKuvukdfRHAXPl+MGN2ywuP+7/izxjHWGjkHGe1nw++OCDgvuIiiKQ3RBgg4AfznwvZ4QYS8uoZlygBJdIUAS+/1GO45aL+yDfWZQ7/PDD5bbbbvM2DFwd3NTjSez7jXKx94xXNyjd3/+gdi666CL7Xrjlllvkq6++su8R1w7vFRQX/L+npaS77LLLBPcx9y5A2WK4x1wzqY7J3tM/FhoNGk+qmwUk7m4JPAAAQABJREFUhOmv/55B90t2LK5bKDfZ+HDvItJZI/iFACHG+logcXcSFH3Q31fK+fsbm5fMc8ZmIusHlJmGL9N7d6DY5Plgk5DxsBZBYp9zaAbOPvtsu3nIc8UmmooioAgoAopALkQgtxmVTZq+NHLa/9713OLaX/te5N9c4D7IPAW5EH7243/eWI1lVdzphKi98XkpxPbvfDHBlhv83WSv7sbN2+LWdRkZ6UII+ar5dwr1gSw6PYlH4o6rWaxrUtD9cQ9xUmMPiTsuXWnJ//73PzsOXCOcmAVXwmPDzcqRuQe5bEHoHdRX0p544gl3S49MPZn+0si3335r3Tvi3Yt0XB/9gsuc+TEX1T+zkLVuL0a54hVNFg9jbeS17XfR9Brec4Jbput3oi6EVA07ZlxFuY/hc4ntQuB12PL+8brxpHU0P/y8+yY6F1RItGzQ80h93GldvyCRDhJHLO0nb8Yl0tXzu4LG1scN0SgKbNkw8xnbjl4rArkNAd4Vhi/Kuuq6sfH/7P6vCH6QXQV3aAi7jaLEBqIwyvhM7+r+uGdmDSo3jSURjHi38A5ygru5e845+l3XXRneHca6z13qURFQBBQBRSAXIpCrLLDMC02OqHOQfPHi+TJrwRoRY0Vf6+CyUW5xlMlN4neNdNZUQePbtWu32TFOySlgSN4Rv7sg5O/F91pmpxTMxL+YgmMeH0b8bmph6lGW3UV29Ng5xxXNRLkRQkRDYAphqFH6xG3ScFrEzSPDWcz4dyOdOb7h+YgiJ43XkFmYit8ty1+OHf94WJnob/6i9jyZ/uI6iDUZAiZY6YCPiUpoidJxIwwiRMUqAPcxiMqx3IJslV1ySO0Np4UluceCIFk8/JhizRNP/FZJ8crEpiczZtcfLCASkbDlHU603b59+1TWgLH39LumJjoXtBGmbOw9Y6+DnsHYMu7avyuP9aPhT3NZUUeeofSe46gKeqEI5FIEDC+cDehAoBFcpnlP+K1uzaaLGCWvN3p/npeYTU54l2FBE+vymJnd2x/3zKzx5KaxBGGEhSHvBEcJEPtuee2116KqBT3rvHMJtqOiCCgCioAikHsRyHUKLKYKxUz9mql/2OfGaaxXYy/30KQZy6RF0xqBw/xn5t4oRfVrpGBTp3o5r+zE6Uul5TE1vevMPoHnx3H9ZPa95syZY5VX3AeOBcz7/cIPhLQEpUw8MUptq7Qh3+9ShsIJdztjxSWffvppvOoJpbMgw/UqUUmmvywcEVxSiOQT6wJIBKl4gvsgLiB84HB67LHH5PHHHxezc2pdEnAxSxYPP6YoIGNdH1yf0hqzKxN7TGbMKPWYV1xGE5Gw5f2Kyttvv11atGiRyG28MonMhSscpqyrs69H3B2d4BYVG9nS5aEMVVEEFAERotrxXUV0U7gEW7Vq5Sl+p0yZYt9n8C06wZVbRRHIaQjgGsvajM0hOM9MsA9LTYDSDpfBV199VaAKcMImaLzoia6MHhUBRUARUARyJwIppji5c2w5dlQbN28XPonIocbCrKQhakdeeP9Pw4e1K1W1XcaC6Ln3Un5wFylcQOrtUWDVqlZOihZJ0WG+PGi07DRWWrGycNl6gSg+JwuWNk5at27tTr3jxx9/7J0HnfBD20TfCcqSgQMHCrxFiIk26JVxPEPwbRk3NS/df8J9IYfPaEmmvw4jeMZilVcmgmPcEOdwZjgLNMYBWe8jjzziWVyhPESSxQMLsDJlytg2TDREy6lkL3x/sF7DOiGsJDNmR84OeTpWZ7GC1ZCf0yxseRRYWFkgWAUGWSHB3QYfTCxhbaJzQdthylI+o4T5NC5OtjkUdAQ/iBUUyvD6qCgCeR2Bt956yyqvwAEuOQKHwFeEhQnfi2w4jB492oMJyyYUXiqKQE5CAK7Nbt26WeUV/SaQh3sXYmXMuoJ3Apa5Tlhn+AndXboeFQFFQBFQBHI/AqrAymZz/MekBdL6qrel5RUD5eexc9PtHdZmt/dIUZzMWbRWut87VKbOXekRzM6cv1ouf+Bz+W/2StvWjRc2k2JFUqLNFClUQK7rdqxNx+Xyioc+l3lLUqK4oAj7YfRs6XrHEOn56FdCxMKcKrjxOXn++ec9bFAOYCk0dOhQlx33yA8Hw7dgSd8pxI9sLI2IEofUrVs3KhIb5KGQcCOQob777rvi3Nyw4EE50aVLF+ncubMYXiBbLiP/hO2vwwilGuTtTgxfiVx88cUeZi4dpRXRBokW17FjR0/BRXqfPn08pZazuEkWD1zOnKUeiiGUhCiPsHxDsExjF9ZPUOv6mN4x7Jhpj3FUq5YS0RPCWebOuRNicUY0J6zGnFI0bHkI4CGiRX7//XdrceZI0LkPClGUYuxEQ1LLwj/MXIQpazuRwX+wJuT/CCEaIs8H/xsosvhgrUgawRZUFIG8jgDE2EGu83wnENHTL7xv2FDxuyH78/VcEciuCPAeC3IHJJ1gP7EbObx7WZeoKAKKgCKgCORRBHIhr1eOHlLvfr94xOp3vTAiaixBJO6uwP2v/OjVa9TltcgJl7wRad79zai025/9LmIWAq6KPe40pKrXPvZVVLmTL30rcswF/by04y9+IzJmyqJIRpK4R3UiAy+CSNwhZjc702g87MfsYEeM0iPiiMVr1arl5Zkf0V5vHIm7CScdMdGSbBljzh4xHFFRxOW0N2rUKK+eOzEWPpGSJUt6bRcpUiRiOB28a/rDPcyPEVfFEpa6fhrLLi89kZN96a+fXJsxGiVCxFhjRcyPoQik7EZpY/ttdvdtVyDfNWHMo8ZioipGjPWQl2YWpBE/UXcyeHAznlmjkPPaBR/uYywQvLSzzjorYizH7LXhg0kErkjYMbtGITD3zysk/IzdzRtHo9hzxS3heZjyRskUMfxXUe3RPnPhv4fZgbb3CDMXYcrSeCIk7t5AY06CSNxdkbvuuss+V/7x+M+ZT7PrHmo+Xdt6VARyEwIErzDWJxFjbRL1/+/+X0g3EfkiaQW5yE146FhyLwLff/99pEmTJoHPOc977dq1bQCA3IuAjkwRUAQUAUUgEQTUAsu8FbOTtG9ex5CpFxRc/TqcXCeqa/nyHWCvC+RPPW0P9Wwpz91+mlSvXNqW2bRlh2zY44ZYtWJJefKmU6XPzW0sibm/0fyGX+ClXu3knitPkgplitmsdRu3yfYdu4T7NT2sigx+qos9+utl13MXytm/C435+fDhwz1iUPhCsGTBFQsLKCxdnKxcmWKpxrVrCzJt6mPpQ7uLFy+2FkCcY4GEC+Hxxx/vmvCOEMfD69CmTRsbbhoLGtc+xOZwQ0F0DpeDE3dPrv1jcPlpHV3dZPqLJRnWabh3sduJldP48eNt3z744ANrbcW9Xf+5F3ximPE7l8Nly5ZZyzQ4K8BlxIgRHlcLdZPBg3oQ7w8ZMkT69+8v4IZgAYcLnVHaCfxcgwcPtmTz5DnidM7TkrBjdm0xn8w5ODNHWNYxdgRrCXhq/K6hYctD0oyLHyHDCR+O0D7WU4wNN08TkVPuuecemxdmLsKUpXH3THHufx5deqJYU98vWC/CaUbgAH8odHi5CKHOfJsXmK2S7D3899NzRSCnIoCr4FNPPWX5BU10NRssA0srAmXMnDnTpg8YMMBztc6p49R+KwKnnnqqXXfwfmcNgkXu22+/bTknsTjEMrdDhw4KlCKgCCgCikAeR+AAtFx5HINsN/wtW3eIsZMyiqwUbquwHdyweZvgOmgMV6RO9fJSqkThhJtYtXazzFywWkoYXq3ahiOrsHEzdNK8x1uWmwuFVt1D9pLHu3yOS1ZukHY937dJEwZnPy4OlE8s+vkBfswxxySs7HBjRAmF0gnuBSIZJvrjmgh6uLuhNIPY2/+j3bWdGcew/YVjArfBRYsWWQ4K5y6XXt/4YTV16lTL32R2ST2eo3j19gUP+gZ5cb169cS5Aca7TyLpyY6ZtlEq4dqI+xv8Tn5lZNC9w5anDVwTeXaMFZY0aNAgSpEUdI8wcxGmbNC9MioNd0IUd/D7IPyfuPOxY8fK0UcfnVG30nYUAUVAEVAEFAFFQBFQBBQBRSCHIqAKrBw6cfuj27lBgbU/cNN7KgKKQDQCRJVKi4AXXiwXoZCdd0dsH92KXikCioAioAgoAoqAIqAIKAKKQF5CILUvWl4avY41KQSue/xr6Xj9BzJg2N9e/SHfTbFpl92f8VH1vJvoiSKgCOR4BHAPhHDa72bpHxTWWI8++qhNMnwoqrzyg6PnioAioAgoAoqAIqAIKAKKQB5GYK9/WB4GQYeeGALlSheVXYYfCRdFZLNxdfTLqnWb7WXRIvpY+XHRc0VAEUhBgOhpWFbh2gr/3GWXXWa50XARhNPs77//lgcffNC6sFLjpZdeUugUAUVAEVAEFAFFQBFQBBQBRUARsAioC6E+CIqAIqAIKAJZhsAXX3wh//vf/zwlVdCN4ZZ76KGHpFevXkHZmqYIKAKKgCKgCCgCioAioAgoAnkQAVVg5cFJ1yErAoqAIrA/EYDX6vHHH5fRo0d7JPgorQgAQJCDBx54wBLW788+6r0VAUVAEVAEFAFFQBFQBBQBRSB7IaAKrOw1H9obRUARUAQUAUVAEVAEFAFFQBFQBBQBRUARUAQUgRgElMQ9BhC9VAQUAUVAEVAEFAFFQBFQBBQBRUARUAQUAUVAEcheCKgCK3vNh/ZGEVAEFAFFQBFQBBQBRUARUAQUAUVAEVAEFAFFIAYBVWDFAKKXioAioAgoAoqAIqAIKAKKgCKgCCgCioAioAgoAtkLAVVgZa/50N4oAoqAIqAIKAKKgCKgCCgCioAioAgoAoqAIqAIxCCgCqwYQPRSEVAEFAFFQBFQBBQBRUARUAQUAUVAEVAEFAFFIHshoAqs7DUf2htFQBFQBBQBRUARUAQUAUVAEVAEFAFFQBFQBBSBGARUgRUDiF4qAoqAIqAIKAKKgCKgCCgCioAioAgoAoqAIqAIZC8EVIGVveZDe6MIKAKKgCKgCCgCioAioAgoAoqAIqAIKAKKgCIQg4AqsGIA0UtFQBFQBBQBRUARUAQUAUVAEVAEFAFFQBFQBBSB7IWAKrCy13xobxQBRUARUAQUAUVAEVAEFAFFQBFQBBQBRUARUARiEFAFVgwgeqkIKAKKgCKgCCgCioAioAgoAoqAIqAIKAKKgCKQvRBQBVb2mg/tjSKgCCgCioAioAgoAoqAIqAIKAKKgCKgCCgCikAMAgVirvUyByIw7t/F8u/sFVK9Umk5pWmNHDiC3Nvl119/XTZv3izt27eX+vXrZ8uBvvPOO7Jy5Upp06aNHHHEEdmyj5nVqYkTJ8oPP/wgZcuWlUsvvTSzbqPtKgKKgCKgCCgCioAioAgoAoqAIqAI7CMCqsDaRwCzsnokEpGZC1ZLrYPLSb58B3i3Hv7bTPl4xL/SulnN/aLAuujuT2XTlu1ef85q1UAuOaORvR7281QZOGyCl8fJZ891i7rOiguwmzx5sjRs2NBgl3WGh/fff7+sWLFCKlWqlG0VWA888IDMnTtX+vXrl+cUWL///rvceuutUqdOHVVgZfA/4vLly2XHjh1StWrVDG5Zm1MEFAFFQBFQBBQBRUARUAQUgbyIQNb9ks+L6GbwmK99/GvpctsQQWGUnWTu4rUyZ9Famb9knSxYtl7WbtjqdW/9xm02jXz38TKz8AQLqCOPPFKaNWuWhXfVWykCeROBkSNHSrVq1eSQQw6RYcOG5U0QdNSKgCKgCCgCioAioAgoAoqAIpChCKgFVobCmXmN7d4dEVwFEdwF16zfImVLFc28GybR8odPnit1DykfVfPijo2Ez5KVG6Rdz/ej8rLqYvfu3fLLL7/Y240bN866y1WoUCGrbq/3UQTyHAJYtm3fnmKVOWLECDnzzDPzHAY6YEVAEVAEFAFFQBFQBBQBRUARyFgE1AIrY/HMtNZwGbyscxMpX6aoXNThyGynvMq0gWdAw7gM9urVy7rx3XTTTaLKqwwAVZtQBNJAoEuXLtK0aVPrknrZZZelUVKzFAFFQBFQBBQBRUARUAQUAUVAEUgMAbXASgynbFHq6nObCh+V8AjARcVHRRFQBDIfgdq1a8uYMWMy/0Z6B0VAEchQBH4YPVvmLV4nBx9UStoeXytD296fjQ39aaqsXrdFjj6ssjSqW2l/dmWf771lyxYhQMz48eNl1qxZUqVKFXn++efl4IMP3ue2tYFgBGbPni2DBw+2mdddd52UKFEiuKCmKgKKgCKgCGQ6AqrAynSI9QaKgCKgCCgCioAioAhkfwS+GjlDfhw9R5o3qZ6rFFgfDv9Hps1dJV1PaxhXgTXw8wkCXcOlZzaWybOWS7+Px8lTt7SVIoWyz1KZ4BinnXaaTJgQHRzn2WeftQ/XvHnzrEKrYMGC2f5hmzZtmqCMQ+BMLF8+moIi3gDc2CtWrGjHGq9cRqbT17vuuss22b17d1VgZSS4e9raunWrpfhQRWwmgKtNKgK5DIHs81bOQGC3bN0h/81ZKQeYQH31a1aQooWz/4s8keFDiA73VbGiBeXAssUTqeKV2bp9p8wyEQxnzFstu01EvjrVy0ntauWkaJH0sSHC4PR5q2TG/NVS3Ny73iEVpEbVMlIgf87xQF2zZo2NBliyZEmpXLmyh8uSJUtkw4YNNlJa8eLFZcqUKdZyZPPmzXLYYYfJUUcdJaVKlfLKB51s2rRJ/vnnH/spVqyYHH/88XLooYcGFU2VBj/XzJkz7WKUaIXcs1GjRlKuXLmosizyFixYYNNwgYzNJ4OF67Zt2yR//vxSq1byO+eMHeuZSZMmWRJu+gMZd1rCONihBAciGpYuXVqOOeaYNKM+0t/Ro0cLc8C4KU+9eJIoVkH16dPEiRNl/vz5Fl/c25irfZH169fbyJZEt2R+6tata4MEBM2N/z48b2DLh2cLfOvXry8FCgR/HRNBE2xZtIMVZalz4IEH+pv1zpPBKcxcJFoWy4Bdu3ZJjRo1pFChQrZ/8GIxF0WKFJHq1atb3ODImjNnjnXxJdAC40tLGB9t//vvv7YtcGjVqpWtv3btWuEHHvfjviqKgCKgCCSCwDwTjOaVQaNlx87dUrFccekz8HdhzYUS64YLsk/wl2eeecZTXp1xxhn2Hct3KgogKBJeeOEFq9ThvVS2bNlEhr7fypx//vny999/2/vz/h81alTc96C/k6zLeC/ecsstAh4qOR8B3unHHnussFZ/7LHHLO1Hzh+VjkARUAQyDQHzEshVMmbKokjLKwZGGnV5zX5OvertyN9Tl+SKMfbu+4sd0y1PfxM1nnjpFNq5a1dkwLC/I8de2M/DxGHT9Py+kb5Dxka279gZ1Z672LZ9Z+T59/+INOn6eqq6ra98O/Lr+Hm26Ind37T50+audFVTHRevWO+1kSozCxKuvvrqiPknipxzzjlRdzNKB5v+9ttvR8466yx7Tjn3MTt8kS+//DKqjrswP8YjDzzwQMTsdHrlXT3zQzwyY8aMiPlxbfPef/99V807/vnnn5EGDRqkqkt7Dz/8cGTHjh1eWeMqEDE/ym1Z+myUIF4eJ7/++mvEcH3Z/G7dukXlpXdhfujbesYlIfLQQw9FjCIlVZ/MgjFiFC6BTRnC7ohRQKWqAxZmQWJx8Fc0SraI2cGMGEVbVJ0DDjggYhaj/qLeeRisvErmxCyOI40bN466D/0C40cffTTy0ksv2bw6der4q6V5bhR8kTvuuCMQp8KFC0f69OkTWN/sLkYMF1uqcdMfo1SNfP3116nqGQVfXGwvueSSiFHYRNUJi1OYuQhT1ijaPMyNUtPr4wcffGDTmZPPPvssYpSxXjn3v2N+1ETWrVvn1fGfmGAMgXjwLJkfMxHjRhN6Pv3t67kikNcRuPmpb+y7+trHvspVUJx3+2A7rsfeGBk4riseGmbzO934gV0TvfnZeHt9dLe+EbP5F1hnfyRWqlTJfsd17do11e1dHt+lH3/8car87JbQpEmTqO9/Q/OQUBdZKzBGvvOzSng/u3fU4sWLs+q2eeY+rD8dvocffnieGbcOVBFQBJJDIOeY0JhvtvQEy6s7nvve8hy4sivWbLZp23fsckl55rjLWCpc+dAX8vx7f8q27bukYIF80uDQCtKw1oFSqGB+u9P46uAx0uO+oeY8Gh/wuuTez2TA0BST+mLGUqtxvUpS01heISvXbpbrHv9avvp1eo7G0ygcbP+NgkvMD2pruXH00UfLcccdJ5jgY81x9tlnW+sm/0CNcklOOukkMQof4Zx2qMcuItYlWNdg5bNy5Up/Ne/c/JCXE088Uf777z97T8q2bNlSMImnPfi6LrroIq+8WejZnVUSpk+fLtdee62Xh0WPUWYY14fd1vKqb9++Xl6YE8zjjUJOdu7caa1jWrRo4VmrwbVBHz///POoJr///ntp3ry5tYaBLN8oguy1wxULK/rmF/gjjMLQWudQHhzBzHyFya233iovv/yyv7iExcpV/uSTT+yOnnM3gCeEMbFTDcb33HNPUrxobdu2FaOksjhhMea3uMMCzii35Ntvv3XdsEfSTzjhBHniiSfsuLEEZP6NAtNYih5gLavat28vRtHp1Rs0aJCtg6URZcDq5JNP9qzU3nnnHWvxxbwjyeAUZi7ClPUGEXPingss9SB65/+DeeHZd24DH374ocUwpqr0799fTjnlFPuskVe1alVbD+tALL1woTGK39hqeq0IKAKKQJoITJi2VMZMTonyfPflJ5m1Un4bLKdqxZKyc9dueXPo+DTrZ1UmFqzLli2zt+vQoUOq2xqllk3juxGr1MyWsWPHWl6oH3/8MUNuZTaV5K+//sqQtrSR7IVAes9K69atbYAl1pEXXHBB9uq89kYRUASyHwLJ6b2yZ62J05baHTNnYeQ/Tpm1PHt2OkSv4llaxUt/49NxHh63PfNtZN2Grd7dNmzaFrn7pRFe/osf/OnlcfLyoL+8vKfe/j3KSmvyzGWRNle/E7nvlR8jRvEVyckWWFgImf9K+zEKmsiiRYs8HLAscjt9N9xwg5fOCRZSrp75IR5ZvXrvDi3WIxdffLGXTzm/BZZZgEaMm5nNN0qMiHEP89rGSscocby6xr3Ky+MEqxt3X6zGkEsvvdSmYaE1btw4mxbmj7PAol2jTIh89913UdWHDBni9ZcdXmPi7eUb5UnkiiuuiBhOjojhiPDSsRDD2sj19eeff7Z5RtEQKVOmjE037g5eeSyJmjVrFjHKsIhR0HnpyWJlFCOe9Zvh1bDWPl6j5mT48OER/251GAssrLoMSbm13jLKPq9Z47IROeigg+zYjKLMS+fkvvvu87Bg1xjrPSfGXTNilDeRHj16eFZ3RnEaod/gV7NmzYhZ/Lnitsz1119vrZf++OMPm54MTmHmIkxZOhTPAsu/i42l3yuvvOKNCwuvTp062TGTBwZOjOtnxCj9bB7/O59++qnLskeeWTB0z1uY+YxqSC8UgTyOQF60wLrjue/seufS+4dGzf5nP/xn07FWN/QNUXn742LhwoXed1w8y3DWMP73Umb200SYtf0xmzhJ3SbWAovvb96tGzduTLM9ty5TC6w0YcpWmYk8K6wBWMuoKAKKgCKQHgL5zAsj14gxUogr+dLKjFsr52bAefX6kLF2AI3rV5I+N7eRUiVSrI1ILFGskDx6XWs5oXE1W2bAsAmybuNWew7nFddIq2Nrym2XnGB3JG2C+dOwVkUZ9nw3ebhnyxzFg+X67z863iF4o4yiJooQFIsZuBYQuLGcwHnFTiGC9dFHH30UxTUBrxHWMaeffrqrEnV87rnnxCi8LGEpVl9GQeHlY6Hy1FNPWcsbEo2Lm5fHCZGH4D9CevbsaS16BgwYYK/hgnD9tQkh/7DzNWzYMGnTpk1UzXPPPVfee+89m7Z06VLPEowELIOwjPnmm28sB5SrSISeO++8U4oWLWqTsDRD4IqCOwrx82phyTRy5Ej7wdLISbJYUQ9OMQRLps6dO7sm7ZG5MUoQ2/+ojAQujPubGPdQwSKJ58ZJw4YNxSgT7aUbLxdYyD355JM2HWs+5gnrPidYtk2dOlWYR/c8Yk20atUq2z+eEaz7nFDmxRdflLmG9wRLQSQZnMLMRZiyrp9BRzc+8owbqX2GXTl4q6688kp7iRUgpLlOiLAFjgiWZsbd12XZI88s88kzrKIIKAKKQKIIrDLW5D/8NccWP7fNYVHVTm9e266b4MUiiuH+FmdtSz/87xB/v7Bo9b+X/HnZ9RwL3DPPPNN2D05Qo5hKqKvmB05C5bRQzkCANQBeCCqKgCKgCKSHQDBrcHq1sml+nUPKW/LN5as3RfWwijEDr1Ute5NZRnU4Ay5mzF9lXQRpqud5x8T9oX5tV0OcOWGBjbxDhJ5jD69qydp3mgUb0r1TirLEXvj+JEL+7iue8Ck//PlhHkZQ2hjLlzBVUpU99dRTpUYA6TPRfoxVk0egTkXcn3AJQ3BZQokTJL1797aKndg83PEQiN4xqw4SNx6/IoRyKIRwjUPpAWG1i4qDYgSFil9Y3P3www/WXc6fznm9evVSEc0b6xfbbmxZrtu1a2dd5YzFT2CfiR7z008/WaJ0s0ssKPlQekCUzhHydASifBRwELfefPPN1tWO++JGaHgPbBn/n2SxcrjicsfcBgmuf4zLWAUFZaebhhLLcDJZZRbEo5DfO6J9s4tonxEUkjwvuH4gt912W2C74OIXnjkExYxTWPrzOffXSQanMHMRpmxsP+NdG8u9VFn8kGERC14OSwrhkovgdsn/ZJDgvotbzRdffBGUrWmKgCKQJAJE5iOATJlSRSR/SCWx4dK0FAb+DbREurF2w1YbcKZcqZRNkETquDKQrxctUiBq483lxR7/mLTQugmWNJt6pzY7NCqb6IOdTqkn7301SX4eO1d6dGoclZ+TL1CGscljLKItBULsWHDvZmMpnqIstvy+XLuNMMPhaF0k+/XrJxDUd+zYcV+aTaiusZi3Y9yXoC7gSHCdeGvBoI4kgy/rLNZTyZDzpzffQX1MLw0qBsZO4BpoILJS9nXejJWfpYHg+U9UkpmzRNvWcoqAIhAOgVylwGKx8cytbeV2w4O1dOVGiwQcBk+bMMhwGuQlmbVgjTdcIjHGkzrVy5uXrrHbNhtZhoR9jwJrlVecSIVZKY888oi1sAhzTyxUYi1swtSnrDFbD6zieHn8O5/uxzQV4KaKJ0cccURgFgoNhEh/8B6lJUSfwxrFb7lChMFrrrnGWl+5uo8//rg79Y4o2WKtqVwmXExYSPklSIHkz8fyCAWWf/zkG/ctaznjlFT+Ou7cKXC4dtZpxtXBKviw3kLYOYY/yrhregvBZLFyfUxrfrgnYw6rwMKCDEUUlmdpieNGc2Nw90urjstzdbDqSkRc+bDPVJi5CFM2kT4H/c+hKGNBCfec/3+OiFoIUQrTEpR9qsBKCyHNywgEppp3JdySU02043Kli8oZp9SVS85oFFq5kxF9ycw2Zi1cbSLzjRETsMVuiMGdyWbgNec2lVOa1oh769XrtsirH40RE0BH5profruMAozIfvBvXn9+Mzn04OANxS9HTpdhP0+VmSbi8Zr1KRbhZY3SrOlhVeSmi46TqhXjRwQeOW6efPTtZBsxGe5T+nqYuV8L089LOgZvxDGAsf+mcF81aVDZ1okd1AmNqlkF1uSZy40ibqcUNuvMrBYTmMVGovW/R3lPugjJWG3DD/juu+9aq22sWIyLodfNG2+80b672TTAavzee++17z3WCFdddZU43kz4IrEuh8MRi1eUEmwQEi3QbZDBUWVc2G3bRI9FeP8QQc4J97vwwgvdZUJHosm+8cYbVnFFBfpKu/Gi7SbUaJxChtLAWkKzTmDdguUu6yrGatz9bWTHOFW9ZENDIK+++qqgdEOxAa8l7yeUbqwP/Gs2VykRfF1Zd+RdCCfqb7/9Zq2SWQ/CccaGDdH64NGMlfTmm3crUZmZX9ZvQconeCXh++Q5aNGiheX95D6GwN5ypTJurKRZ5zBW1rvM2f/+9z9v/Rb2WWHDESUd/KTOIs8/tmTmjbWDcV+0fSLKJV4NWLC7Zxcs2RTDMj5ImZXMnPn7rOeKgCKQOQhk/Zs4c8bhtXpEnYPkixfPF6vAMYqZWmahlNeUV4Dhd5l01lQeSL6TXYag1FlhFzAk74gfL8jfi4ffAPXdIdwpCqNEf7S7lg1XkDtN+sjuWaKChYgT/4LSpbkjC40gcTuauNAl4vLHQsK/GGLREEt0zqIBQnW/CxXn8bAMGq9fYRDUbxYqiH/8KJ+wYkJQQOF2yULGRCW0iyKUZJCQ+wWlEYo5EyXJLpRZlLCIZGFEGHB21liwIcli5fqY1vzQfjIuCCx2WLyx28qPARatjJnxsyDmx4FfXF9IY/eUhW564uqwmEtEksUpzFyEKZtIn4OewXj1HPl7evMJviqKQGYiMH/pOulx71DBTR/BUuiF9/+yx5svOj4zb52lbRveULmw16feOLk5wV3+m71Sbuzzjdx56YlyfrvUmzRYKj342s8WD3+HsYzn87ux+O51WXM5u/XeH96kP/DqT4I1VKygyPr+z9ny24T58vHT56VSYhG855E3RspXI2dEVaWvE6YutZ/RkxcJVllBMm6PAosgNUHSqN5B5r16gNlI2i3/GCUWyrSsFhQ5se9Rv4s1FsAIP8rZxOBd5BeUFaTzAx3linPHpgxWVggKEhQW/u9Q3j/86OeDIgWLc97VtOUXrFn8aYYD0Z+d8DnKHxRqWGBhxYxL+dChQxOun15BFHYo4t58882odz9rHyyq+bAhml6AF4L30Ef/+gFMDW+q/UArQTCS+vXre11KFF+vgjkhaM7ll1+eKhgQm39uAxCFTKw1c3rzjeITZSHCOswfMMgmmj8o6Bw5P+sy5K233rLunazR/MJaF6t6ggvxnLr1adhnBYzAlGfNL/sybygX3bN53nnnWaoBf9vgyLgYK+s3//osmTnzt63nioAikHkI5DoFFlChgEnL6ijz4Mw+LdersVepM2nGMrsLGdQ7FmRO6tdIUeLUqb7X6mri9KXS8piarkimH+EKcnxBmX4z3w3CmH77XbpQZOACFyTxoumgVOLFXqNGjVQv06B2/Gm4qcFJxYKR+kRrYReOly9KHyzYnKAEcZYrLi2tY7z+UodFhcv3j59FGoJyg5e9WwzbRPMHN8EgoW/03UWbIVohu7wotlgYOgVWsljRx3nz5llFU9D9XRrzF0b4geDqsABkZ88vjt/Ln+a3xMOCLWhn0V+ec+rwjFA+EUkWJ9pOdC7Clk2k34mWwfqP+YQnLdYi0bXBM4obq4oikJkIfPD1P1FKHXev976cZN3194eFjutDRh6dBVSzI6rKOaceJgcfVEpQaqGs27h5u7Ww6nBS3ShuzUXL10uv50dYfIoXLSiXntlEjj6sstmAySf/TF8u/T4ZZxVbj7/5qzRtWEWqV0pRntDveUYxiKAgOrNlPalRpYzMWbTWuu79OHqObNm6U176cLQ8ceOptpz789Kg0Z7yCmutyzo3sTydKLDGGwuwtz+fYGkSXHn/ke+Mxcs32CSsw4KkeNFCckjl0rYvWJPtDwUWvH/wT6IYcjyLWEo5bsT0LI2dexybXAiu2Oecc47lG3KWsCboilVewV9JlF34FbE+wbobxQ48mFhe4e7vrKZRaKHcwgoIHkYnUBQkK/A/sp6BCwtOTpRNKHEyQoiy7BQ3WHYxZiyZUJD8+uuvln8UBR7l2GCEpzFInMUa6xdwJLIxipvXXnvNrpPAjXSUOrxfkUTxdRZnrDVYE7HmQ+HEZiBWdmxWsQaBogLlDAo5LKTcPHKv9Oa7evXqNoI271LWW0EKrIEDB9KUdQ9kLAiKJZRXKHlY20HDwL14HlgLzp071/K0osjimcioZ2Vf5s1hQf/hyeSa9SWbrWwO87xhtU3fscJ68MEHKWol7Jy5enpUBBSBLEDAvMBVshkCRAjkEyvxog0GpW/fsTPSvPubNoJO55s+jIoi6NrdaSLCdbtziC3T7KL+EUPebrO2bNsROe7i/jb97FsG2UiDro47Lli6LkI5JCdHITQvMeM8KRHz0nJDizoaE3GbbxYHXrrZlfQi6ZmXdMQsfrw8d2IWBhGzuLR1af/99993WRGz8PDSzYvfS/efEPnP7Dz6k+y5WVDZusYiK2IWjhGzcxgxu6Y2zSjhIkR5CytGEeb156uvvgqsbnaovDLmhe+VMa4KNp3oiLFieJm8KI5EVnRiFDMRsyPmLr2jw4VxgDHi0sAwDFbGRdLrr3Gr8O7hPzE7rV6ZRKPWueeB/pgFj785e25cWb02zY6sTTML0Ij5UWDTjaLPizTorzxr1qwI5Zz4x20Whi7ZOxIV0CyYvWt/+TA4hZmLMGXjRSEkWiDY8Ykn7pkyP5i8Ijxzrp5ZfHrp/hP/3CQ6n/76eq4IJILAjU8Ot+9Gf5Rjdz5n0d4IrYm0lR3LuCiEjOlWE72YdYJf3vligjf+n8bM8WdFrnnkC5vH+mH2wr2ReV2hhcvWeWsL7uMX8kb8Ocuf5J337veLbZc1jV/+mbEs0vi812wea5WVazb5s+05/Whx+QCvz4+9MdIrQ2RmN3cz5q3y0mNPetz3mS3X/5PwUX5j29qXa76D3fegcfNL1ZSxDLL5xgIrKs//XjIbYKneQca6OmIUI7Zu7PcrkQ+NAiEwMmAikeWiOhJz4aIQtmrVKirHbNxEDBG97Q/vTt6PfmGNAA5GieJPTvOcNYdrk/ewUQimKm84R73oxcZazUbTdYX8EXS5t4sC7fI5gqOxhrJ9owzz4dLD4mssvb3x069YIXq1W1eYoCZR2enNN4V5DtyzFNu+4bWKGMWbzTfuiFFts5Y11vJRaVywHjKuiLaOCbqSKj+RZ8XNq1GqefX3dd6MMtEbJ+tmf0RnbsJa3XCK2TI8j06S/Z9w9fWoCCgCmYtAis+Y+RZTyR4I/DFpgbS+6m1pecVAu/OYbK+wQru9x4m2OruY3Y3LA7wd5nGyaXBMXP7A59YdgIQbL2wmxYqkREaDS+y6bil8BrhiXvHQ5zJvyVpbb8fOXfLD6NnS9Y4h0vPRr4SIhXlNcGdyVmKQrLObyY6bwxarJ3bKHBF3LD6YY+N3j3Tt2tXyVrAThpgFqnVB69Kli+X1IuqgE3YizaLJXpoFpd39Mi98yykF6Tv3ZycNS5VkBeuuV155xe760QYWRVh4XX311bbJunXrRkWOY5cSwQwd8nYn06dPl4svvtjDxKVDeo7bJDtz7Og6dwW3w0s5du6cy1iyWMEPAqcFwu4tO8rObQKCeTgQ2N0MK2681CMynptzXBDYqQ5yd4B431nG8WxAVM54EdwycVlgB53IiK6PjJtdXYQdd54D507ILjw7oliZgTuSDE5h5iJMWduhDP7DLjNWWAi7/ux8Q1zPXLLLjWUAUTlVFIHMRqBShRKBt8hv3MyqHJi+e3Bg5WyaSJCXWNL2ExtX93prNrK8c9YCf0xMeQdAdl6zalkvz53AYXVO68Ps5Zgpi1yyPZLXOoZE3ezPyGbjItiobkqQlg3G8mv9pr2ugN/9Mct8B6c0c//Vp0j5MsWi2uSCftx44XGp0klYs2Gvy3FaJPNlSqYQVENknxOFdQLCkfe5n5KAdK5d9Dei9votf1mrYJXiDxpCncwUrL/uvvtuewuszc0GmbWW2Zd7EvwGixswwOrIBcrxt4nLn1vbESQHfqgg4f1Ln2IFHFkXuHc3WCJh8WUd4O59++23R7kiunsSvdpF7YWGwS/pzTdl4VF1EsvnicWfc9d393BlefdWrlzZXdojFmxY37uI2liPZZTs67w5LOgP62pntej6R8ROxxVrFKUuOfSceRX1RBFQBLIEgQJZche9ScIIEM4Z3inku1Gz4rr+JdJgpxb1BH6HYT9Pk39nr5Bud3xs+KwKWn4sFoJO2h5fS7qdFh0Brtvph9vF6G9/z7ccEmfeOEhKlygsW7bttDwY1IXA9j/zyYvCSx1zfBQIRLxDAYGZN7xTLHwQsytmTeFj+QIw0UcZxcuUPBZC8D6Qjkm4kxo1anhReOA0cCSqKMfc4o6yLMQgb4WbafXq1YKfP+bwznTdtZfekXoQv3IfFECVKlWyLgtOSUOkGczKnXKJ9lAOwS+AmTvKHfigwADODpQ6LOSIJoeiAUGZw4ICZQwKLupzH8q4+zhlGeWTwcrdZ8CAAda9k/nA/B5zcBZeuGLQNxbkKOycEoh66Qkko8a6xyqgWKhCbI67Hwo7FEsozdwiiDHTfwRMWZBCGI+rJYpAuNso4xRTKGJQyjC/btwslFnMwnGGkoY6cIM44f6MwZUP80yFmYswZV3fMvKI24TZ+bX/U2CNu4JzX3X3wa2hdevWgUpEV0aPisC+InBB+yNk6E9TZat5F/rlYkMUDnF4bhGUcUFKKAjYcdXDxdCvTJphNsWc/DRmro1m7K79RzbPkA2btstqoxDyRxlkTQERO9QGC5etT4Ux9SCIL1W8MKeWsJ0j7o2N6gZzWJHf7sTa8nDfX2y0Za6d7DC8Vk4K7uEAddf+Y/78KXu9/vL+fP85xN5hXZl5Z8KblNmCgoH3V5Dw/scNkO9X3KtYf8DxaKyj7GZaMpHvgu6TaBpuXrimsb6AWwrFkn/dk2g7rhzvV4Toz7i+xRM2tljfoeyiTpCiKsjlzrXHuoKo0C+88ILFkvc7JOlh8GX95NZDuFFyHSSOIgIONKIBOvdDVzat+WZeWYcw32yMoth0azvWTgjPQSyPKootXCVZK+I2yXoErPziX6P405M5z8h5Y40cJKy5Bg8ebDdsWRvy/4iEmbOgdjVNEVAEMg8BtcDKPGyTarl98zpWyVSkcAHpcHL0QgMiUaTAnsWUu0G8dPIf6tlSnrv9NKluOByQTVt2iFNeEaHxyZtOlT43t7FKBVtgzx92XV/q1U7uufIkqbBnV3OdIUGFV4L7wQMx+Kku+4UPwt/PRM/ZZUH4IewXlx5W2YMSxrj52Uh0KGAQrJVQlrDwgx+AF6KL7hLbPi9SlFLs/JDHIscpr2gPUk4WbpDa80LlRUoZlEhYLrkXrBsL7RDBD4FPih3TRMVhQEREiDt5mYMTpOosojgnpDWLqNiFH8omFDksnOgnlmgoYeg3u3iO48qNjUhF8DewC8YYWAxhdcZ92OnFMgrlmV/CYOWvh5UXfe7QoYMdA/dgTODdokULq1BC4YHEzo+/Hf85iiIwwloKQWGIdRILSCJhstB24sbMNRiz4MOSyu1erlq1ys4pefQH7MDeCXNK/5kX5gArPbcwRJHFjw0Wt07C4hRmLsKUpT/umeLc/z/n0hPFm/pOCAwAySrWhygNXbsorsCKXWisIZFk2nf30aMikBYC8DYN7N1Z4IbCaqdm1TLWgvn6C/ZGYUurfk7Ji2dpRv+DeL6clTb5KKJGGOL1oA88Uk7gzEKw7H7ZcFldeNcn8tmPKVEIYxWEro7/OG9PW9UqlfInpzqnv86Kyp9Zdo9lFWl+ZZy/DOfrNm61SWWM4i49YfOITZEwH6xMskJcVOWgexHJ8K677vIiG8IJxFoDnkcUIc76O6huZqRhtcTGnOMwYk3D2iJZgV8TcdZR8dphzeYs5KdOnRpYDA6ptMRZf6PYcRtaYfBFqeSEMcd7lvz9C7J6Smu+WcO6zULWIvBDIaxD+CCx1lf0pWnTptbie8SIEXY9Fau8shUz8E9WzBsbdEESZs6C6muaIqAIZB4CaoGVedgm1fJRJpTziL6XyG7zYxvyUL/cfcVJwidW4qW7cpCw89mweZsNT41Zfp3q5aPIV11Z/5EXXJc2De1n1drNMnPBailRrJDUrlYucAHrr5vdznGL4xMrkEKnJVi+8IknKJr4EMlkypQpAnmp380Ma594wqIQqxyUOOykoQThh7kz5Xf1UPT4Iw659Nij4X0SPmEFslS/oAhAWYYCjRc7VlVpKQQI2Yw5OosucGDHzi0SUbzF9okdUKzWsNoCM8bNQovdQBatQZIoVrF1aRfFESbuKD84QtrqdhrZYfSb0sfWD7pmcYoSC2UY2KGUoU2Hkds5ja3rFowsGlFEMeeY3UOA7xSdsXV4lgwvmXU1xF2V5wlFTryFaVicwsxFmLIoNINwYNc3KN0/bqek86e5c+aNHzJ8cL/keePHhFPouh9Z4KCiCGQWAgQ86XvfGZnVfLZo11EKJNqZA8sW94qecUpdaRQnqp9XyJxUqZDicvm+IcZ/49MU5QQBeC45o5EQFbBc6aICpQFRBK96+At/VXt+UPkSsmTlRlmxZnOqPH/CLrO5YnhF/Un2vLRPgbVug8mP9ozyyts8c+VXeHmZMSdsZLhNrZisuJfu+ytugQzKcBbBQc3xHsMKhwh8rItYB2ABxXsTS3HWObitO1fuoDYyOo31FEoESMH5vsfyKR41Q3r3Zk5w3UdZk5agkHHvoHiKKv/mVFBbrA2cuHd1GHz9USQhkmedkp74152ubFrzTZkePXrY+Wa9h1sl1mfO+gqPAtZvTrAEZzOQNQjrNMNrai3NWA9hncczjIU6CtyMlIyct/TwiO13mDmLravXioAikLkIBP9azNx7auvpIFB0DxdVOsVCZ5csVlia1I+zQkunNbglgvgl0qmWZ7LZsXO7dmEHjeIDXqjsJChUsGBKVFAsoHzjk6iws4riJ4wkixX9C3uv9PrFItO/0EyvvD8ft88gDg5/Gf851kYoEvkkImFxCjMXYcom0tdEy7DIZh5RBCJgUsNYOzrBAhDFIhLPTcaV1aMioAhkLAJsbDnBavtcE7kwUcFSC6lYrri1bkNp5ZfZC9f4L73zuoeUlwnTlspcw/OJNRc8WkEyZvJiY+W1113QlcGavXyZorJq7RbBMuzIPVxbLp8j1mHzl6RwfSWyBoLXkk9OFVzg2rVrZz+47bHxhws8FsBsuAUpsPjuzSyB25AocSjT2MSBDiAZod8oV7Bammusy/zvDn97uH+y0YUEjZV03jMmeA6nqQQsDMG+TecesZGZE8GXTS0nKHCgmMgMwaIfJRVUBCgs2VTDVR+58MILPes3rqE+cBuyROuLtZSnDPOTnoR9VjJy3tLrW7z8ROYsXl1NVwQUgcxBQF0IMwfXPNnqdY9/LR2v/0AGDEvhGgCEId9NsWmX3b/X1SlPgqODVgQUgaQRwFoP90p45WI55VyjL7/8skeOj0umiiKgCAQjsHPXbhskZvnqFG7C4FLhUlE+1TL8WAgWVbMWrg5s4K2hf8vT74yyiiFXAAtvpHCh/FI4hkcM66lPfwj+YXx8o4NtPcbz+Ju/CcdYgQT+yQG/xSZ711h6IeP+22s142Wak2lzjav39hS+s0b1DvJn5apz3NWDrNThVXQSa73EhgKCFXVmiomCbPkfuQff8+lZ8Qb1BTdzBEsuLLpc4Bx/WQjjnWIGKyMCrgQJfYjnzkie421y96SNMPiyMea4p+DSgmsqSFAwYgnFmJIVvwV6p06dPAu1WPdBZ5XGfYL40HCDTcsyLdlnxWGYEfMWFqMwcxa2bS2vCCgC+4aAKrD2DT+tbRDAzL9okQLWRXHVus02apAfGNLWGg4JyvBRUQQUAUUgDALwu8HtBucX/Gnwf40aNcrupEOMD08LrqwIC14W4iqKgCIQjMD1ZrPppj7fSLue71nLo+BS4VN7Xd7cVoIr81KzafXlyOl2XbDFKJHG/7dE7n7xB3nxg7/kvS8nWVJ1d4e6Ncrb0wVL11tlFVZPCLxUd5k60+ftdfuCAsEJ1AgnHVXdXhJw5tL7h8rfU5dYhROUCSPHz5Pzbh8iRGKOJ0c3qGKzxv27JLAI7SHwbB1ULiUoR2DBHJyIhROR/7C0wtqHH+4oieCn9Cs4mjVrFjVKLHgQXPNw1acObt1+bqaoCklewBvZt29fWzsZ5RUV4fEkKArCOwMLc6yKiITMpgiu+lj7OCsigr4QlTBIUH5RH+US0ZexKqIedBPuPVShQgXrkkn9ZPBFEYZgecy94AOjnwR+wZIMd0r6+Oyzz6biqrIVE/wDrymuoYjj0YLnisBEfnFlSMMCy+8mydz7n5MgK6tkn5WMnDf/eNI7T2bO0mtT8xUBRSDjEFBtQsZhmWdb+vyF8+OOvUtbw6FlPiqKgCKgCCSLQO/evYXdcTiuIMW95ZZbApviBwhE+SqKgCIQjADKobEmOjGyyyiDxhh+qRpVygQXDpl6TMOqcuU5R0n/T8bLehP05d6XfwxsARfDq8452svr2vZw+XX8fBslsHe/kfLU26OkpOHbXGUiDqKwwlXQKbG2bIu2NrnnipOl52NfCW6G/8xYbhVnBxgvY6NL8aRF0xoyf+k6W8ZL3HPS7Miq9oyohyjZ4CH1C0o45NjDU8r583LLOfxJjn+yf//+NjgNbujwczrBfd1Zw7g0LJQeffRRq7hC0eDqwKP1yCOPuGIZckT5BB+U4zlMplEiRKKkwXqKYDIohuBuQinmV4zB9XTffffFvQVk93B73nTTTfYDV5KfzJzAInBJocRCksEXK2L6AI4Ei3HREHGh9/cV5V5afY07CF8Gyic/12us9RVFmX84ruBHIwARlBkueA+WeVhYuQjNLuq07xbWmi3ZZyWj5s3fn/TOk5mz9NrUfEVAEcg4BNQCK+Ow1JYUAUVAEVAEMgEBXBYGDhxouUfg7IBrzbkkEPSAHyLsRBMcALJ5FUVAEQhGoGCB/NL19BSOncoVSkjr46L/X1xU44IFklseXtv1WOl3/xlSu3o5w1cX3QcUV2e2rGcjGFcz0RydnNC4mvS5qY21ciKNCIQQsxctXEAghH/jwb0WlWvWp0QEdHWJlvjhE+fIRR2OtBGcSXfKq4MPKiUXdTxSnr61rSWDd3X8x1oHl5NGe7ivBn072Z8lk2cuty6EJJ7VqkFU3v64QFHiBGVRrLh8993o8l16UB3KoJxAMcH3qIvu6pRXXEPuDa8Tihm/oMDy8zO5On5ljr987Hl6/YotT5TiGoZXyknsOF16vCPvCix5+/Tp4wXLwVrIKYQI/kHkRSyKYrFyfaVtNlBQpBGdF8WfGy9YEQ0Y4vuOHTt63UgW34cffliI9sf7zhH9u76iuMLymIiBLuqhu6Hra+wYXH7sEb4rN7fwPTHfsUKbn332mVUiOmXnihUrrMshgWWwWDr77LNtNdJjJZFnJV6/M2reEsWDvic7Z7Hj1mtFQBHIHAQOMF+Gvn2qzLmJtqoIKAKKgCKgCGQkAvxogBvLLbwzsm1tSxHI7QisWLPJuv/nNxYomSXwT02bu1JwKaxjrKjKlQoOV+/uD98VboQQspcuUUQaHFpBwvSP5SyE61hb4ZaYqMvfV79Ol3te+lEgdf/0ua5SfY9y7Y7nv5fvRs2Sw2tXlPceS/lx7vqaW49wDTmicwKNYFUTxHnkHz9WsfA0odjAcgWFRk4QeJ1wl0SxgcKiTJnwlohE5/vrr78sWTttpKdUSwZfsMQCGWUVBPPcB+un/SVYhBF1miPuhrGRs9PqV0Y8Kxkxb2n1MTYv2TmLbUevFQFFIOMQUAVWxmGpLSkCioAioAgoAoqAIqAI5CAEULCdccMHsmzVJsHd8Pk7TpfRxrXyqoe/sKPoc3MbaXt8rRw0Iu2qIqAIKAKKgCKQexHIvK233IuZjkwRUAQUAUVAEVAEFAFFIBcgUMhEPrzz0hQC+p/HzpU//1koj73xqx0Z3FeqvMoFk6xDUAQUAUVAEcg1CKgCK9dMpQ5EEVAEFAFFQBFQBBQBRSAsAq2OTYloiNtiFcOr1a55bcubdc+VJ4VtSssrAoqAIqAIKAKKQCYioC6EmQiuNq0IKAKKgCKgCBn2EuIAAEAASURBVCgCioAikP0R2Lh5uxQulF8gukfWbtgqZUoWyf4d1x4qAoqAIqAIKAJ5CAFVYOWhydahKgKKgCKgCCgCioAioAgoAoqAIqAIKAKKgCKQExFQF8KcOGvaZ0VAEVAEFAFFQBFQBBQBRUARUAQUAUVAEVAE8hACqsDKQ5OtQ1UEFAFFQBFQBBQBRUARUAQUAUVAEVAEFAFFICcioAqsnDhr2mdFQBFQBBQBRUARUAQUAUVAEVAEFAFFQBFQBPIQAqrAykOTrUNVBBQBRUARUAQUAUVAEVAEFAFFQBFQBBQBRSAnIqAKrJw4a9pnRUARUAQUAUVAEVAEFAFFQBFQBBQBRUARUATyEAKqwMpDk61DVQQUAUVAEVAEFAFFQBFQBBQBRUARUAQUAUUgJyJQICd2WvusCOwLAuP+XSz/zl4h1SuVllOa1tiXprSuIqAIKAKKgCKgCCgCioAioAgoAoqAIqAIZAECaoGVBSDrLbIXAsN/mynPvPOHfP7LtOzVsQR7c/+rP8moCQts6VETF8itz3wru3dHEqytxRQBRUARUAQUAUVAEVAEFAFFQBFQBBSBnIeAKrBy3pxpj/MwAmOmLJLPf54mtxil1fqNW+XO57+XH/6aI4O/m5KHUdGhKwKKgCKgCCgCioAioAgoAoqAIqAI5HYEVIGV22dYx5erEHhl0Bg7nivOOkpKlSgiV51ztL1+edBoWb1uS64aqw5GEVAEFAFFQBFQBBQBRUARUAQUAUVAEXAIqALLIaHH0AgM/22GoDj565+FoetqhfAI/Pb3fJkwbalUr1xaundqZBvodvrhlstr4+bt8tG3k8M3qjUUAUVAEVAEFAFFQBFQBBQBRUARUAQUgRyAgCqwcsAkZdcu4rb2xqfjZawhRVfJXAQikYhVFnKXizseKQUL5Lc35OiUWZ/+8J/s3LU7czuirSsCioAioAgoAoqAIqAIKAKKgCKgCCgC+wEBVWDtB9D1lopAWAT+mLhQps5ZKUWLFJAOJ9WNqt7+pDpSslghWbFms/w6fl5Unl4oAoqAIqAIKAKKgCKgCCgCioAioAgoArkBgQK5YRCxY9iydYf8Z37sH3CASP2aFaRo4YKxRXLsNRY24/9bIvOWrJVCBfPLEbUPkppVy5ixmsHGka3bd8qsBatlxrzVsttY8tSpXk5qVytnlCHBuKxYs0k2b9khFcsVt2VmmrpTZi0X3NRQnqzbsNXeaf3Gbfa4bsM2mbd4rXf3Q6qU8c4TPXH3LFK4gBxUvkRgtU1btstKo6RBqh5USgrkT9G/EoFv4fL1MmP+Klm8fINR5hSWhrUPlFoHl5N8+eLjEnuTpSs3yjaDVemSRaSM+cTK9h27ZMmKDVKgQD6pWrFUbLa93rB5m0yfu0rArLThqKpzSDmpYfDIny9YV5zofI6alBJ1sNUxNaVYzLzxfLc9oZZ8MuI/+XPSQmlpyqgoAoqAIqAIKAKKgCKgCCgCioAioAgoArkJgVynwMKd7Y7nvvcIrQ8sW0yeuqWtNK5XKcfPG8qJh/v+IouNEsUvKLD63neGVTj503ft3i3vfjlJXhs8xihmdvmzjAtaPrny7KPl0s6NPXc0V+DyBz+X+UvWSe9rW8pPY+bKj6PnuCyriHnird+8a05wJfRHwfv7o6vTVKhFVd5zce/LPxourUVSsnghGdH3EilcKPWj+cpHY+SDr/+xZX7o113EeNHBCQUmsxeuSdXs4bUrymM3tLYcUakyAxKI6Ddx+jK5pktT+4kt8vkv0+SRfiOlWqVS8sWLF0Rlo/h6bfBYeefLiYJCzS/1apSXR65rZRSH5f3JVtmU6HyOnZLiptmkQeWoNtxF08OqWAXWOKPcVFEEFAFFQBFQBBQBRUARUAQUAUVAEVAEchsCwWYhOXSUWF75lVcMA7cq0rCeycmCxdVNfb6xyiuUT8c0rGKsgEraIc1ZtFYuf3CYOIsoElFeXfnQF/L8e39a5RV1GhxaQRrWOtBabu3YuVteNYqtHvcNlR07o7HBsgvpbZQ1TnlVtlQRE/WusFQoW1TqHlLefrCWQshzaRyTkbNbN7DVNmzaLt//OTtVE/Tx619n2PSOJ9e1Y/jDWCXRf5RXGKBVr1RaGtevZJVzFJw8c7mgGMsoiVVMuXZ5ti659zMZ+PkEq7zCcu3Yw6sKiiv6Nc1YZJ3f6xNzXOmqWAu6ROeTsbu6jesGK2Kb1E9RbM2cv1o2m/8DFUVAEVAEFAFFQBFQBBQBRUARUAQUAUUgNyGQ2swlB49uhvnxvnrdllQjWL56k3XpOuzQA1Pl5ZSEkePmCa6AWCgNevJcz4XtaxMJEKugrqcdLiUMD5KTgcMmWFdDrtscd6jcd9UpVgHFNa6Aj7/1q3w1coZxDVwhrw8ZK9ef34wsK0X2WD+hmEEJ87SxYKtmlENOTm1Wy55eev9Q+XvqUjm3zWFybddjXXZSx1bH1pRypYva+ftkxL+CksovjH/tHtfFc1ofZrOOO+JgOatVfVm6aqP0urS5ONdFFDj9Px0nA4ZOkEnGogqrPCyUMkv6fzLOKqlwV7zr8uZC/5zr4r+zV8itT38rS4x7IpZrAx7ubLsRZj7XrN8qxvPTChEIg6RShRLWpRKXxJVrNydsdRbUlqYpAoqAIqAIKAKKgCKgCCgCioAioAgoAtkNgVxlgZUGDZTkSyszu81KQH+cYg7+I7iVnLRvXkd+eqO7XNThSE9pgqILpRSCRVKfm9t4yivSUHQ9el1rOaFxNS5lgFF2rduYwmvFdf49vFEcX7ijXZTyivzMEKLpdW5Z3zaNUmzOomiXwKE/TbV5R9SpKLUNhxcC79cD17SQ1+7p6CmvSAejS89sYtwQUyzJ5gS4F1IuIwRlGfghl5/VRLq0aejNA2koTVEeIoxr6h4rrDDz6RR3WLw56zjbYMwfLOSQNetTK3FjiuqlIqAIKAKKgCKgCCgCioAioAgoAoqAIpCjEMhVFlh1jPsa7ltYXPmlinG1q1WtrD8px5032sPhtWzVJul80yAh8hxWRU0aVLKk5f4BQWaOiyDS87xj4vJRXdv1GBk1YYF1e8PNDbc3vzQ78mDBsier5JxTGxhl0N/W2ghC8tu6n2BvjUUR/UTOOTXF+spe7PkD/9QYwxE1fd4qWWassbZs22mt1bAkg/sL66fMErDG6gnh2fvt7/mpbrVrTz4ZKNPq16ggYeZzw6YUsnwiDaYlJYoWshZsuGGqKAKKgCKgCCgCioAioAgoAoqAIqAIKAK5CYFcpcBCYfHMrW3ldsN5RUQ5BJ4oXOCw8MnJ0qJpDel2+uEy6JvJ1kXsnS8mCh9c1U46qrrcdOFxJhphipJu1oK91ktEYYwnkIpjmIZ7GhxLsQqsaibSX1YKkf1ObFzdKoG+MITpN1zQzFocfTlyuuH0ikjxogXltONT3Bddv0ZNXGBJ3N18u3T/MZbjy58X5jyIAwu3VSeP9v/VncY9zjPk+EiY+Sy+R3GVHrfVpq0piitwUlEEFAFFQBFQBBQBRUARUAQUAUVAEVAEchMCuUqBxcQcUecgEyHufLFKHKOcqXVw2RyvvHIPXK/Lmhuuq4byze8zrcXRPzOWWUurX8bOkykzV8igPudKhTLFotwld+6xxHJt+I9YBjlupQKG5D1WypTc66oYm5dZ1+e1bWgVWOs2bpMf/pot7YyL5Oc/T7O347yocQ908vuE+XLtY1/bS6JNYtVUx7gXHmrmvHDBAvL8+38GRid09cMeVxlLsFgpkH8vbs2bVE/TxY+6jnif80Tns+yeedi0ZYe19vLfk3acgBlStlRRl6RHRUARUAQUAUVAEVAEFAFFQBFQBBQBRSBXIJDrFFjMCtZWaVke5eSZw8rqf8Yt8H9mEFjkvPHpeHlr6N/WKgticKL5QbzuZJJRcmHtEyT/mCh9TnBrixU4phKSPQTjCZVNpxBKINwWsajCjfBgYwVGlEHknD2RCl0Tw3+baU9xDx3Yu3MqV8qn3v7dFU3o6JR4RHwMklkBXFp+19TunRqZ6JDRbphB7fjTEplPFFLOUg4XSSzVYmXZ6o3ilJXlVIEVC49eKwKKgCKgCCgCioAioAgoAoqAIqAI5HAE9pqP5PCB5KbuEyWQT6ygoPK7w0FWfl23Y230OcouWr7eVsECyfElvWCskPx1XJu7du+W5977w15CDl4vQIHlysY7Okug9Fzb4tUPSsclEi4shOiBL37wlz1HIdkgJookFlhIg5oHplJeTZ2zUhYsTcHDFkrgT+UKJW2pPyYuNJZp0Vq5JSs3yC9j56ZqpfbB5axrIxmvDBpj+cRiC603llGvfDRa1u/hsnL5ic4nxO11Db8bAhF8kEyctswmVzmwZBRhf1BZTVMEFAFFQBFQBBQBRUARUAQUAUVAEVAEchoCqsDKZjP2x6QF0vqqt6XlFQPl5z0KExRQvV4YITc8OVxueGK4Ucyk8CiRPvDzCR6JuFNCYYF2e48T7cjmLFor3e8daqPfOaXMTMPbdPkDn8t/s1faMjde2MxG7gsLRcniKVHvfjOKJKfEQokWxBUVpu2zWjXwlHKQsyNOqeVvB2UNMuLP2Za83eXNW7xW7nnpB3eZ8JGIgQhR/97/+h+vHvxg1zzypeXhItFZOnGOSyMWcciEaUvlxj7DPf41yOVRwl10z6fS/5PxckGvT2SLsZoLO5+0fbQh7EfGmfaChHsjTRumlAsqo2mKgCKgCCgCikB2RABLcj68b3OqPPnkk/LEE0/IxIkTc+oQcky/Z8+ebbEG740bMy9QT44BRDuqCCgCikAeQiBXuhDm5Pn74a85NnIeY/hu1Czr/odVElZSyB+TFsoZN3wo5UoXNeV2CrxICNxKxx1xsD3nT6cW9ayyY5jhj/p39grpdsfH1lIon/FF2+Cz7mprSNG7nXa4Vy/MSaO6B8mPo+fIvMXrrMINVzdc/0YOuFRK7VFuhWnPlYXHq8UxNaxiijTG3u7EOi7bO3ZuVV+mzFphIw6e3vM9a6WE2yMKut3Gguqg8sWNYmuTjUroVUrj5Gxj+YVCkCiWT789Sl4fMta67rmofmC+et0Wez9/M5Dr/2nmhQiEv46fL/SFslheuQiFlD+zZT2r8ML6Lex8QrD/gVGqjTC8YHcaLjQCFjjhHt//MctexhLxuzJ6VAQUAUVAEVAE9jcCi1dsEDgrYwPrOGvr0iUKx7UI5/3MBtmlZzaWybOWS7+Px8lTJkiP/324P8d31113Wevt8uXLS6NGjfZnV5K697Rp02TLli22brVq1YRxJCITJkywxSpWrChVqmTNJhp9BW+ke/fuUqJE1kXMtjfNA3+2bt0qK1eulIMP3vvbIg8MW4eoCCgCOQABtcDKZpPU3hCVE0UOBUeHk1OUNvnz5ZMHr2kh13Y7RkrsiUiHIgXlFdxIJx99iPS7/4xUrmMP9Wwpz91+mlSvXNqOkvJOeYXC68mbTpU+N7cxbURzXaEwQwoGELvbjD1/zjKcVE3qV7JX27bvssormtqxY5e/WFLnkLk7Oe2EWt64XRrHLm0aGkuzEwxpeZE9kRRXCa6DFY3i6vEbWgtYIlhU+cWNz7lAujwWwW8+2ElQzCG4caK8ghuL/jxx46k2nYiIfqGdl3q1kzuM1RvKN4T5QbFEXdwfn73tNLny7KNtXjLzCTcYbdOf4b/NsO24P7girliz2XKHoZBUUQQUAUVAEVAEshsCfQb+Lu2vfd9+2OAJI1hWvzJotKUV+OrXGTaACxtGKLFUMgaB888/X5o0aWI/7dq1M9bmOxNq+KijjrJ1nnnmmYTKa6Hsj8CsWbOkatWqUr16dWvplv17rD1UBBSBvITAAcatLPrXeF4afTYdK25mWBAVL1oosIfsYM41roHFixWUapVKSyKk3Rs2b0uxTDLKlzrVy6dSdgXeKIFEdkOnz19lrZaKG3e62iYKYOkSWRu9cLtRmEG8juVULcNJBQn8vgoKqJkLVltXRojaw4xpxZpNtm750sWkZtUyqXaaY/uW6Hy+OniMXazT5pCnz/PcLHvcP1QmGG6sB645RXC/VFEEFAFFQBFQBLIbAtAjrFqbYuHztLGcOvW4Q70uNj7vdXt+31UnG8qAw7x0d3Llw5/LmMmL5ZAqpeVj8/5798tJVpnFBtLgp7rY6MOu7P465jObjSyp+/XrJ1deeeX+6kbS90UR9ffff3v177//fnnooYe863gnbty33HKLZJUSa/jw4dK+fXvbpcWLF0vlypXjdU/Tk0Cgb9++cs0119iahx9+uPzzz15ajSSa0yqKgCKgCGQoAnv9kDK0WW1sXxCAVyktgfvJ8T+lVc6fV7JYYWMtlfEveKyZiGDoj2I4evIiWbgsHIE6FkYVyxX3dznhc0jOUcrxySjBBfDY0uEiCrp7H1i2uHGRSHwsic5nlzaHmUX7RIHXbMj3U+T804+QL0dOt8qr6kaRecYp9VwX9KgIKAKKgCKgCCSFwBTjnsc7HFqAjHRLP+2E2tYVnnd9mHbheER5hdx9+Ul2U+iiDkeaSMX/muA1G+TNoePl0etaJzXW3FRp7NixAjdUhQoVpFWrVvs8tEcffdQqiZo1a7bPbWkD2QuB9J6V1q1b2+do9erVcsEFF2SvzmtvFAFFIM8joAqsPP8IZDwAn/34n3FzmxmqYVzsWh1bM1SdvFYYpVhPQxj/zDt/yGuDx0qHk+qY81EWhmvOa+pZZOU1XHS8ioAioAgoAhmHwODvpsiwn6bJkcad/p1HzsqwhnGz79GpsZQvU1RwpU9UPhyeYv1xVIPK0mwP1ycbV7jlP/j6z5Yv9PbuJ0qZkllr/Z1o/7Oq3GuvvSZvvfWWHH/88TJqVMraYF/uvWvXLrnooosEjqvixRPflNuXe2rdrEEgvWeldu3asmjRIlm7dq3AbaaiCCgCikB2QkAVWNlpNnJJXx6/4VTDQZXCF5VLhpRthnF+uyMEov92zWsbovwiclv3E+Tj7/+V083OtooioAgoAoqAIpCdEQhrab1q7Wb7zmNM5xorZL+cbt6Dz773hw2YMvSnqVY55s/X8+QQaNmypZQqVUqGDRsmM2fOFFwDcSlLT5SRJD2EclZ+oUKFVHmVs6ZMe6sI5BkEEt8CyzOQ6EAVgeyLAHwfA3t3lq57Ikd2OKmuDHi4szhi+uzbc+2ZIqAIKAKKQG5FgGApq9en8Ftl5BiJvExAlJImgM2pzfZyZnEPAq902uM6//PYuRl520xta8eOHQJvE1HeEhWiwVEvK4TAPv3795eDDkoJaAOn15dffpkVt5Z169bJ5s2b9+leK1assFxkYRrZtm2brFq1KkwVO39r1qwJVccV3m2iUS9btky4b0ZJMs9VRt2b8Sxfvjzp5jZu3GitvcI0kJX/E2H6pWUVAUUg8xFQBVbmY6x3UAQUAUVAEVAEFIFcgsDUuSvlmke+lBaXD5Szb/lIBgz7W3aZH3A5Wf6ZsUwuvOsT+/ll7Dw7lBkmQItL4/jVr9OjhggHI+TqLa8YaLFodcXb9vz2Z78z3FSpeTApTzvXP/F1VDtpXYz9N4X7qolxH8RtMFZOaFTNJk2euVy2bU8sal5sG1lxjcIKYvcjjjjCuuMR4a1kyZICcfqrr74aqHDBda9Lly7WGurAAw+0xxNPPFFefvllr8t//fWXHHvssfbz+eef23QIt10ax/fff98rn+gJ93vjjTe84ldccYWgGMoM+fnnn+WMM86QQw45RMqUKWNxqVu3rnTr1k2mTJmS0C0hdacN+o3LW+nSpaV58+Y2gl68aIooj55//nmpV6+eFCtWzHI+0YeuXbvK/PnzA++LkgZyc4jNmb9y5crJwQcfLGeddZb8999/gXVuvPFGOx8oAv/99185++yz7f0qVaokN9xwg30umKeTTz45rlITd054qSh3xx13ePcJ81yFfVboD/fDEi9IUDrdddddtkyJEiWswpP5O+mkkyyZfxDukydPtuXhVWNM4H/ooYdaLMuWLWuxvPzyy+MqsxL5nwjqq6YpAopA7kJAXQhz13zqaBQBRUARUAQUAUUgkxCYv3Sd9Lh3qGzdoyzB8uiF9/8SjjdfdHwm3TXzm12ycqNMmRWtoNiydWdU2so1KZYxRPx94NWfBOuoWFmzfqt8/+ds+W3CfBstsGrFUl4RlFrc48Cyxby09E7G7VFgNa5XKbBoo3oHWQvknTt3yz9GidX0sCqB5fZnIrxUuOFhXeQXfuAT9e/aa6+1ig2/Yuq3336Ttm3bypYte63asNiC24oPipSHH37YKlrGjBnjb1ZQLPjTlixZEpWf6EXHjh3lqquuslEVsRZCATd06NBEq6dbDgXSddddJ2+++WaUAg9rnhkzZtjPZ599Jvfcc48QETGeECkR5ZDfhXHDhg3y+++/289HH30kH374odSvX99rAuXJ+eefL7TvFxRXfFD2/PTTT1Kz5l5uVhSEKFew/PELXFF8vvnmG3nppZcEZZ9fJk6caOcD5c5tt90m9M0JijbcNZ2y8OOPP7a8Yy7fHVHQ/fjjj/bypptussewzxXj8j8XNJLWs8IzCKZBllUoHbt3755K0cczTj0+7733nnzwwQfSoMHe6Nhg5/pw3nnnyaeffmrH4v6AI+NirJMmTbKKLZeX6P+EK69HRUARyL0IqAVW7p1bHZkioAgoAoqAIqAIZCACH3z9j6e88jf73peTsrUFkL+vQecQpL96dwf7aWTI25GaVct4aeSdetxeF755RpGHoDDqfW1LeffRs+Thni29YCwov176cLQtk+wffjwvNlEGkYa1DgxspnjRQnJI5dI2b+7itYFl9nciCgB+2GOxgyIGZcQvv/xirVdq1Khhu/f6669HWfD06tXLKq+wbMFCa/z48faHfZ06dWx5lANYRGHtguKEzwknnGDzUBi4NI7nnnuuTU/mz7PPPisQeiNY4qBsyih54IEHrOKGecZy6plnnpGRI0fK999/b3EqWrSobN++XSj39ttvx70t/Fy0QbS8Tz75REaPHi0DBw4UFz0Rq51zzjnHtuUaQTnllFft2rUTFDIoTVCoISh7UCY5mTNnjlV4oYBB4USERhQqKLpeeOEFa72FgpH68Ib5BesuhHGhvMKKDlyZQ/qFUqxAgRR7AhRxQcJ4ECy+qIOEfa4y6lnB6gsrMjBCeL4GDx5sFVPvvPOOfSZJB3fK+V1lHRbko7zi+oknnrDzzpxgRYfMnTvXPg/2Ys+fRP8n/HX0XBFQBHIpAuZLX0URUAQUAUVAEVAEFAFFIB0EbnxyeKRRl9cCP3MWrUmnds7Ivv/VH+34Lr7n07gdXrhsXWTEn7MC83v3+8XWb979zaj814eMsemnXvV2VDoXDtOPv5/i5a3bsNVLnzFvlZcee9Ljvs9suf6fjIvNytJrwx0VMT8VIkYJkeq+xo0vYn74p0o3P9QjRYoUsfWMO5XNN1xGkYIFC9o0o/CKqrNw4cKIUehEjOVMVDoXl112ma1johCmykskoUmTJrZ+q1atoor/8ccfkfz589s8o1CLzJoVPe9u3DfffHNUvbQujBWO16Zxx4ssXbo0VXHjkhcxii17X2O9FDGWZF6Zr7/+2qaDNx+j4PLy3Ak4Gmsor5yx1HJZEc6pZxRHEWMJ5qVzYpSJEaNMiUo77bTTbHnGT79iZfbs2RHyaNO4E0Zld+7c2euDUfZE6FeskO7GEtu+UVRGDKG6zTfuiFFVwzxX/oqJPCtuXmOf506dOnl9feWVV/zN2nNj3Rahn248d955p1fGKLW8dLAfO3asl8eJsUqMGFdCW4bn0Umy/xOuvh4VAUUgdyGgFljmG1ZFEVAEFAFFQBFQBBSB9BCoVKFEYJH8+Q6QKgeWDMzLjYm4BraOIVXfvTsim7fuEGfBtWHzdlm/KXmS6jUb9rrPlSpROC6MZUoWsXlrMoFEPu5NQ2ZgHVS5cuWoWrjQ4ULm3NSw8kGwxoHHCRk0aJAYBZI95w/cWQ8++KDl0fISM/nkuOOOk7vvvtveBZezSy65xPIX7cttsZTCjc8oSaz7nyOM97eJy9+TTz5pk9auXSvfffedP9s7xyKJPsUKOMKxVK1aCk8aWDqpUqWKPcWNs3fv3lHunVdffbW0aNHCFbVWU+7et99+e5QroivEHOJiiWDN5RfGiHB87LHHPGsrfxl4tZxAoO8X3PCwREPcPVx+mOfK1dmXIwT7jtDfKPWkZ8+eqZrLly+fnTdnLYh1lhOHBdfwux199NEuyx6NolTatGljz42i1MvLbv8TXsf0RBFQBPYLAik2q/vl1npTRUARUAQUAUVAEVAEcg4CF7Q/Qob+NFW2bosmDL+4Y6NAkvGcM7LwPZ06Z6V89O1kyz21cNn6VJjQ4up1W6RU8fjKp7TuusPwWjkpWCD+fmt+E50X8Zd39WKPuOPhqhRG+EEOj9K+CAqI1157zf74h8gbTikUOH4hzQn8QM8995xMnz7dugbiaggpubGOEmPRIxBeZ6Xg+og7IvxFcEuhWHJKrWT6AfcXAoG3sRiL2wQ8VShtwIo6QYqqiy66KG794sWLWzc23PzAEnc2Y/Fm+cXgpEIx9sgjj8jTTz9tycUhLm/fvn1UnyDFN7YL9h64UXIdJBCUI0QmxL0Tt0i/oORySh1/OufMK8T19BF3SRRdhQun/N8MGDDAFsdFtGHDhlFVwz5XUZWTuICXCo4yJC3c6TsKKsaBYhacwdsvKMCC5JRTTrEuievXr7f34v8PyW7/E0F91zRFQBHIGgRUgZU1OOtdFAFFQBFQBBQBRSCHI1C9UmkZ2LuzPPfuH/KfUeCUL11UOrWoJ5ec0SiHjyzx7u/YuUv6fjxOBgwl+mLKD/vEaydesuweyypqYMlVtlTRwMrrNm616WVKpVhiBRbak/jrr79GcRulVdblYRWyLwJ/VY8ePeIqPoLafuqpp6yixbhoCT/kjauh/cCbZFz1LO8SJNpZJVjAvPvuuzZqIlY4WIGdfvrp9jqZPhiXO1vNWUfFawNlE1Zn8C1NnTo1sFj16tUD011irVq17ClKMKx6UAJRB04qogBi4YZiC/4tPii0WrZsafm0UBSiVHLCXPJJT1DaxCqwiFYYT7BMwvLr1ltvlVWrVll+KJR38EjxQWKtr5J5ruLdP9F0N2+UTw93x51G2WnTpnmcZFwj8erDfRYk2e1/IqiPmqYIKAJZg4AqsLIGZ72LIqAIKAKKgCKgCOQCBOrXqCB970shG84Fwwk9hPcNkf0bn6b8iK9fs4JV3hElsJxR5hUpVEBGT14kVz38Reh2YyuU9imw1m0wrojRHnhecZtnrvwKLy8z5gTrpUqVgiMaxhT1Lp0FiJcQ4gTS7g4dOojheLKuYygoILZGqYJyhLax+kGx5heUZlivEIEPpQpuaVhAYQEDITyR7ho1aiSNGzf2V8vU83r16glKBKImGk4ia4Ezbty4pO7JHBBpEGVNWoLSyVmmxVN4xEYFjG0P0nEnfiVS06ZNbURHFGNY5YHxV199JZs2bbLXKIwgcnfuhrSB0tCR5bs2g46HHHJIqmQI+dMSlJzMN8o0yNxRYDnrK4jjsUBykuxz5eone/T/76SHOxEFnQTNXXp4uLrumB3/J1zf9KgIKAJZi4AqsLIWb72bIqAIKAKKgCKgCCgC2R4BOK2CZMSfKdYzFcsVt9ZoKK38MnvhGv9l0ucFjGtg+TJFZdXaLUKEwSP3REf0N4g12PwlKRERy5dJifbmz48979q1q/DJKiFSHcorhCh7WPzEiiHtjk3yrnGBI0oeH9z2sMgi0h3cTfAyBSmwnIuX10gGnsB59MUXX1hlGv02BN1JtU6/UdqhPMK6DBfJIEGxBFcYEjRW0onq2LZtW05TCVh8++23Np17wDkWK3Bt8fk/e+cBH0X1xPGR3lvovfdepfcuCEoVFARUBEVApKggIoqgIPpHmghIE+kdpPdeQu8ldAiEEiCh5v9+7/KWvb29nguXOPP5XHb37avft3fZnZ2Z9/HHH0vXvxoi/hXcPFEO5UWQea0IFDgffvihdhyVO1hhEEoqrOQHZRpcEkWQdtlEu3bt5Ip9qj1vrytVj7vXin4OwB3KWHuiuCOemzH+m70yrqR78p1wpV7OwwSYQMwhYD+oQMwZA/eUCTABJsAEmAATYAJMwAUCz56/oI17L9DNkIemuRPEjyvT7QVgv333kTyfMEFcShiZV1X0XDzwL1hnXyGj8rm6hWUXZN/xq6ZFTl64TeFPLPHIShTIYJrnVSYq6yH0wSxuFYKZm1myIM4SlFVGQVwhJUbrJRUzCTGYfCmTJ0+mgIAA2cSYMWO0+FDutKkCdcOSCxZdUMgZBQHjlcIPLoxw6zMT9MGeWx/OqXhbqk3UAcsuKBT1LnFIh9tf1apVsSstscLCwqQFloo9hVhaUG6ZCRSMsLDDmDwVfTB3sdqfZqFmdB/09LpS/fL0WoGSrXTp0rIaXAdQpJmJ/pyeu1leV9M8+U64WjfnYwJMIGYRYAVWzJov7i0TYAJMgAkwASbABDwm8OmwFdRzxCpq2G2GtGwyVpQymSWWFCybNu8LkgqKGyEP6PwVi2Ikf06L8uLS9ftSWQUrKAgUXgN+W0engl66hdmz4jK2ae+4TCHLanH7jl0zzXLghCU9W8YUlCGNYxct0wp8nAg3PyVQmOjd2bCam15hoaxhYOGElf9gaQVrHxVEHHGg9PkrVKigqpZbKBcgcM1D3Qg8Djcue7GjZGYP/sCaZsKECbKkCm7ubjVNmjQhrB4IWbFihVQaQRkChRFcJOHKB2sfZZ3Wv39/09X/UB7KLyidoFy6fPmytJpCOVhUffbZZ8hCadOmlS6Z2IeCCQHE+/TpQ5UrV6aFCxfKIOOoByvmYdU/CCyvYO0DgSIMAvc+tIV4YOgn3A1hSYaA5ujjqFGjbGJVyYIu/kFAe3XNII4WBK6OpUqVsqpB5UGiq9eVvgJvrpVJkyZJd1hcr3Xq1JFupUFBQZI7Yl0hRhtcXCFQdKJ/3oqn3wlv2+XyTIAJ+CcBVmD557xwr5gAE2ACTIAJMAEmEKUEoGzae8xizYQA7HtEvCqjlCtiURohvcfwlVSu3R9Uv+sMWr7ltMzaul5REbvpNbn/3cTNVPX9KVT3o2lUo/NUWr39LOXPYVFwIUPYY8+tUVC+QvEs2BBWOdx/3FaJtWyzJcB2+aKWfDKzH/0pXry4jHGFLh08eFAGJIdLFRQqUOIglpFamQ7KEAjiJ8HiCPLHH38Q6kAwc6RD2QJBmtGyRVkoQamEulEGMZ8Q+D2qBconb4PIY0VIZc2zc+dOqRhCXCRYqr3xxhsy4Dr6jRhiAwcOtDuEAQMGSMVXz549CUHhEyRIQIULF6bx48fLMsmTJ5expMAcEj9+fJkP+3DvhBscFDoIHg73UswJBNZUSuBWiD4g2HpISIhcDRGr6qFuxDBTrn5Q7jnqq6rP0VavpEQ+o/UV0jy5rlBOiTfXCpRpUBaCM9w7+/btK11AcQxXzNGjR0vlKfjAHTJDBu8tIz39Tqjx8pYJMIHYRYAVWLFrPnk0TIAJMAEmwASYABMwJRA/Xlxq3cAS0ydT2mRU+/XcNvnKFclCb9cppKU/e/ZC7sM9EFKpZDYa0bMuweoJEv74GQXfeUSJE8ajJtXz06TBTWU6/ty5H67tK6VXfIPbITLEjVSIoX96yZM1DZWIjH01+98j+lN05MxNggshpHmtl/21yhSNB2q1QjzIK0EalE5Q9iilVHBwsHQNg5IFliUqjhDSIVBOIHA7LH2gbIE8efJEbnGM4N6ILwTliV6glNDHZ1Jl4C7nipj131G53377TSouVB7llqaOnW2hyNu9ezeNGDGCsA+BVY+y6sqVK5dUvsGaTM8U+VRfsd+7d2/666+/qHz58pKxGi9YwdIKge+hENMLFINDhgzR2kWbyo0RCkUoXowKOuRfu3YtFStWTAbfR32qr1BcderUSa4YqFY9VO2pvhrHoM4bt4h3peYWFmCYb6N4cl3p63DlWnHUb8RCg2tmrVq1tGtUcYciELG84GrZqFEjfbNW8+YqD1Tg6XfCqnE+YAJMINYQeE38+JpH6Yw1Q+SBMAEmwASYABNgAkyACSgCwXceylUD48ax/x7z0vV7hIDscUUw9UzpkhGUSXqBQgtuhFdu3ie4HRbKnVYoouzXpy/rzv7yLafoq/+tJwR1X/BLa8qeMaUs3nf0GmnxVTRveprxg/1g0u605cu8sNw5deqUtOCBW5hS2jhqE+5uKtA5LFmgXDGLpaWv4+zZs1J5AIUZLFegKIsJgrhOcJeEYgMKC1jwuCuwntq1a5cM1o46XFGqoV0ETIfyDKvl5c+fX1paOWob8bkCAwOlBRLaQeysVyWeXFeqr1FxrUBRimsULq64PvHxZuVO1Td7W0++E/bq4nQmwARiJgFWYMXMeeNeMwEmwASYABNgAkwg1hN48vQ5Nekxi27cfkg1yuak0X0b0G7h+vjhkKVy7CN61aV6FfPEeg48QCbABJgAE2ACTIAo6l+VMVUmoCOwT8TamL7sIG0SKx7pxV66Pg/v+wcBPDzMXHFIzuOd+2Fap+ylaxl4hwkwASbABJiAlwSwKmK/96vIWrB64s7Dl+mHSVvkMWJfsfLKS8BcnAkwASbABJhADCLACqwYNFnw9jx98bYwc445Xp8rt56hkdN20JJNJ61I20vXZxo0dgNtD7wkk7YfvESfj/w3Ro1dP5aYvI+VpX6aul3O4+27LxVY9tL1Yw08eZ0wj4/Cn9LDsCc0ePxGuaqVPg/vMwEmwASYABNwRKBW+VxUtXR26aaYWcTualglLyVKEI+++qCqo2J8jgkwASbABJgAE4hlBCzLnMSyQcXW4XQXS19DoVM4dzqa9ePbsXWYclx7jl6hJRtP0uodZ2n1uPbUT8S6CH34hOasPkptIgPQxmoAsWRwY/7eLVe8QrDgxIni06L1J2jXoctUrmhmEfDXEpw2lgyVh8EEmAATYAI+JDCsRx1KmCAuIdD7Ry3KUuv6RSlV8kQ+bJGrZgJMgAkwASbABPyNAFtg+duM2OkPrK7gdgc5di5YrOzz0hLGTpEYnfz77D2y/12al6YUIjjsh2+XkcdjZu+mkHuxe+wxeuJ0nd8pFFVYrj11ikTUrnFxalWvCKVNlYSu3XpAE+fv0+XkXSbABJgAE2ACjgkkS5JAKq9ULlZeKRK8ZQJMgAkwASbw3yHACqwYMtdYfrpTs1IUkCoxtRfKgNQpEseQnrvfza0HLhJcz7JnSkkdmpaQFcDqCisPPXj0hP4xLKXtfgv+XeL23UcERR0+MXmRUPQf0qt9RUqRNCElERZYn75TXqb9s+qodCmUB/yHCTABJsAEmAATYAJMgAkwASbABJiAEwKswHICyJ9Ow2R+3cQO1KdDJX/qVpT2BQobpfh4943i2ttWuAwoZdaCdcfp2fMXUdquP1V2VixbPmnBfvkROGKkINDukTM3KX2apNS4Wj5tDG9Uy08ZhTshYmIt33JaS+cdJsAEmAATYAJMgAkwASbABJgAE2ACjgiwAssRHT4X7QR2HLxMJ87fEvGS4lHjqvmt2m9UNR8lFy4EwXce0Zb9QVbn+MC/CPy5cL/sUPNaBSlunJc/M9hvWbewPDd/7TH/6jT3hgkwASbABJgAE2ACTIAJMAEmwAT8lkCsDOIeJqw7jgslyGuvERXMlTbWBIu+/+CxjH2VJHF8Spc6qdVFBYuk/cevUdC1u4Qlp4vlzUC5sqQSDAQEnQTfeUiPwp5KyxgE1T5zKYSOnr1J4Y+fUe6sqalQrnSEOBNGuS7iFj1+8oxSioCpZnEnnjx9TteCQylevDiUJX0KY3GXj7cfsqw6WKtcLulypi+IoN/1KuWh+WuPE+Ir1RR5fCmesjL2CexOidUjL1+/T5nTJ6d82dOYMrpy8z49e/ZCzqGqA/MZJ3IOFfunz57T1ZuhlEAEs82UNjmFi3lBYPQrIg0upvlzBIi5T62q0LaIo3bp+j15nCNzKi1dv3Mz5CHh+5M2dRJKmtj2OtDntbeP1QlhfQWBxZVRmtYoQP8Twd1PXrhNISKWW5pY7A5rHDsfMwEmwASYABNgAkyACTABJsAEmIBnBGKdAgtBo/v+skYL9J1OPIj/1LselSyQ0TNCflTqt1m7aJ6wWqldIReN/Ly+1jMoc4ZM2ERXhQJJL1BgTRjYRCqrVHrnwUvo4rV79F33mrRhzwVav/u8OiW3CLj9bbeaVK10Dqt0rAJ48NQN6tqyrPxYnRQHSzadpKETN1O2jClo6W/vGE+7fLz36FWZt1ShTKZlyhbOLBVY+4SyztfiKSvVr7OXQ2jI+E2Sm0pTW6wk+U3X6lQgZ1qVRN1/WEEXrt7VjrHTvNc/2vGHLcpQt1blaO3OczTgt3WibIBciQlzfzc0XMuHnQaV89LXH1SzUkZiZcePvlsm8wXO6WqVXx207T+Pbt8No+8/rWVjAafyONseEHMD10cEbM8m4pYZBcpXxDfDdYi8tSvkNmbhYybABJgAE2ACTIAJMAEmwASYABNgAlYEXvr2WCXHzANYjuiVVxgF3M2QBguh2Ciw0Ok5YpVUXsUX1k/limQW1j3J5VDPX7lLnQcvJlhuKYF1FuQ7oWyC8goWU4Vyp6Vi+dJTvLhxhIVXOPX++V8bZZgqb28L6x5vBZZFJy/cktWUzG+ucCxV0KLYOnMxRMZR8rZNR+W9YbVZuDi27jtPU15BkQrlW4YAi+UcVpJ8p/98Wr3jrNYFzAOsp9T84QSstZCGDxRCENWv04LBF6NWS+UV6sfcI+YUZNW2MzR6xk65r/68cCGgVlTMo7K+KlEgg2raZluqoGV+D52+YXOOE5gAE2ACTIAJMAEmwASYABNgAkyACRgJxCoLLDzQh9wLM46R4BYFVzlYvcQ22bwvSLqQJU+agGYPb6G5pq3YelpaRLWuX9TKCidRAsuUQ6EHHqP7NtCUHlj5r+PARdKNbfqyg9Tv/SrRigvKM6VjgYWOmSAAOBRtcJm8JVbrw8qEvhJPWd17EE7fjt8oOaZMllBYWtWgWuVfujtuC7xIg8ZukJZOQ//YTKWFtRmUU8N61JFD2X3kCn04ZKnc/2dES8IKlHpJGDmHUDbFFecGdK5CmGcIlIB9hFJr094gWrj+OHVrUy7aXfRuR34Hc2Qyd1NEP7NlsMxbcMgjHLIwASbABJgAE2ACTIAJMAEmwASYABNwSCBWWWAZwj1ZDVzFEbJKjAUHSmGXRMSzSpkskTaiRlXy0YZJHah94+JWChAoPCBQivzUu66mvEIa3CxhBQQ5e+mO3EbnH+UGlyhhPM3KyKz9FEIpBLkj4if5UjxlNWP5IamcQt+G96xrpbxCWuWS2WlUH4sLKKzjpi4ORLLLEjfuS4VWExFPSimvUAFWa3y7tiVI+nOh4AoyuCS63IgXGdU8QnlnT9Q5X8+hvfY5nQkwASbABJgAE2ACTIAJMAEmwARiFoFYpcDKJ9yslAuVfhoQODtPNtug1vo8MXW/RGRsrxu3H1KznrNp1PQdBKus0EePSVnqmI2tQrEsmrWW/nylEtnk4fXbD/TJ0bIfKoJ/Q7DSoCNJFhlcPPThE0fZouycu6yOnQ2WbcOy6vXiWU37UUK4SFYplV2eQxB9T+WtWoVsisKVEK6hEASQj25R82i2GIDqS9LIOQ59FD1zqNrlLRNgAkyACTABJsAEmAATYAJMgAnETAKxSoEFl6+Rn9cjuJkpQTyhkSKIOyxTYqPUKJuT2jSwuI/BpW7a0oPUY/hKqt5pKn02YiWdv2JuSWXP9S5DgIVdhPLlcxFaVMROUkqNRyKWmSN5GG5ReiQVqzFGh7jL6uxlC/O82dI47B5WyIRgNT5PBUHzjYLVJZUS0JW4V/rybk67vqi2r1YvdDSPD8Oidw61zvEOE2ACTIAJMAEmwASYABNgAkyACcRIArEqBhZmoFi+DGIVvLYWFzjhaZUna+pYq7xSV1z/ToiBVEQG7t4jVvE7LAJjP332QsZBOnommGaPaKEFAFdlUiV/6W6o0rzZ3hbKM28ldWSfHoY9lTGuEOvKTO5FBqVPnSKx2ekoT3OXlXJXdaY8QrwqCILveypRyQD9QfwubyWVWMkSol88wFinOucuW2M9fMwEmAATYAJMgAkwASbABJgAE2AC/w0Cnj85+zEfWFvBuqVgzrSxXnmlpiFXltT0catyNPnbN2nT5PepU7NS8hSssuBSaJTXHAUMM2YWx8olDasemomyOjI752oalDGqWzfsuDDeCHkgg6OjzjTRpMByl1WBnAFyyFAkOpJDpyznlSWWWd4I8n51R1WvXiFoNo8XRLysqLDAUqslXnPgvnj5xn3ZrTQpo0cJqRjwlgkwASbABJgAE2ACTIAJMAEmwARiJoFYqcCKmVPxstcPRFwgfFwVKKiUNQ/KIKD7J23Ky9X6cHzlpkVZgH1PJVPa5LLojoOXhZLDWqly7VaosPa64GnVWrkE8eNSfhHHDHLgxHUtXb9z8KRF6ZM5XXJSwdz15z3Zd5e3szZUXDK4Bi7bfMo0+/rd57Uxqvwqowoej2NHbngqv6tbMFOy/eAltattZ686ou17s1M0b3pZ/MCJa3arORipvCuUK/atDGp30HyCCTABJsAEmAATYAJMgAkwASbABDwmwAosj9H5puCOQ5eo9od/Uc0uU2mjE6UQlFb9f10rY171+HElXbp+T3YK6VOXBEo3PCQUEJZo3krh3BZFA1aYm7nisFbdyQu3qOvQZYQV7yDPhOuiN1KmcGZZfN+xq6bVBJ60KLbKikDlRvnyt3XUsNsM6vD1QuMpu8fu8LZbieFEWxGTLGfmVDJ18PiNNGXxAVIxn8JEfK9Zgh/mDQKlUsemJeW++qNXzK3ZcU4mY05hfeaNIL5Z6kj3vnmrj5Gycgt7/JQmzNtL89ce16p/9tzzeSxVMKOs58rNUNM+w03xXGScMLN51DrBO0yACTABJsAEmAATYAJMgAkwASbABCIJxLoYWDF9ZtftOk+Pn1hiI63efpYQpN2exInzGiVKaJnCHYcuU5MefxNcsh4/eSYUJpZA6Ahi/3ox85Xw7NVrlv5WnUJSKXYz5CH9/Nd2Gj93r3T3UysBot2Qe2EULtr2RsoXzSIVPGt3naN+IrYXAvMrgVJlzY6z8hD59IIxr9t9TrIrZzinz2fcd4e3say9Y6z++P2nteiTYSvozv1w+nXmLvlJlzoJwaVTGbAlT5qAhn5SS1rM6euC8gtKLMSJGjJhk2SNVSWbixUH+3asrM/q1j5cCD94qwyNmLqN4PLZQCj70qVOKvuEIPw4nzhRPMKcqmvQrQYiM6dMlkgoTQNkcPrlm09r7qyqrn/FdQ3JmiGFVOCpdN4yASbABJgAE2ACTIAJMAEmwASYABOwR4AtsOyReUXpjarkI6yuB8VU42r5rHoBhRVExTKKGycODe5ag7q3KUfJkiSQ56BEgvIKsaSqlclBEwc1sXK1U3W4GzgciqQ/BzelEvkzyHbgdgdFB2JjtapXhH78rI5MV5ZY8kD8Ue2pPjtLr1Iquww4j7pXbj2tssstXCWD7zySq0zWq5jH6ty+Y9c0pUuDSnmtzjk6cIW3u6zQXpE86WnhL22oaY0CmhIOfYfyKmGCuNSgcl5aJM6XLpTJpnuI4YbA/KpdKA3Dwp/R80irKMw7RMUls6nAQULbhkXp8/cqyj6gL6gbyisozcYPfIOKin5DVFvYV3OIfX2b9tKR763ahbChuauPCus8a2uueWuOyXMdmpSQW/7DBJgAE2ACTIAJMAEmwASYABNgAkzAGYHXRDwj64BGzkrweZ8TgJsZVrBLmtiilHK1wavBoXThyl1KmiQ+ZcuY0mdBzqEkO3MpRCrS8mRLTbC4iUoZO2cPTZy3j3JlSUVzf26lKew6DlpEgSI21jddq0trJH2bsCqCax5WtVs78T2tjD6PvX1Pedurz5gOBdGlG/cIgcuzpE8h5iYFKSWUMa/+GO6aJ87fkgqgDGmSEVi7G1BeX59+Hy6JQVfvSRe/jGmTUW6xCEBU1Y124DJZ56NpUvEGa7TGVfPL5ncKS0G4nGYWloGLR7f5zyyyoGfP+0yACTABJsAEmAATYAJMgAkwASbgPoGX/lnul+USPiKQWARh90QQT0kfqNuTOlwpA3fB8imtXfhcKedqnpZ1C9P0ZQfpvFDGzV1zlNo2KCaDoUN5lV0o5ppUL2BT1bbAizKtToXcbimvUMhT3jadsJMAS6UcmVLJj50spslQxr1e3Hv3T7PKYeWVN3sa+TE7720alK8t6mAeD9Fvs3ZRbTEvCE7/4+StsuqPW5Zl5ZW3kLk8E2ACTIAJMAEmwASYABNgAkzgP0SAXQj/Q5MdU4aKuEzdWpWT3R03Zy/dfxhOI6dtl8ddW5W1UVBhlUVYE0HqVbJ2LZSJ/OeVEOgqlFTp0yQVweIfSuu4OcKd8MLVu9KyrlFVa/fYV9JBbpQJMAEmwASYABNgAkyACTABJsAEYgwBtsCKMVP13+po24bFCAHWG1bJSymSJqI+HSoRYieZxbd68vQ5fSwUW3CBKxu5iuF/i5Z/jhZWWF90rET/rDoqY34hjtr2wEvUrFZBl1wo/XNU3CsmwASYABNgAkyACTABJsAEmAATeBUEOAbWq6DObTIBJsAEmAATYAJMgAkwASbABJgAE2ACTIAJuEyAXQhdRsUZmQATYAJMgAkwASbABJgAE2ACTIAJMAEmwAReBQFWYL0K6twmE2ACTIAJMAEmwASYABNgAkyACTABJsAEmIDLBFiB5TIqzsgEmAATYAJMgAkwASbABJgAE2ACTIAJMAEm8CoIsALrVVDnNpkAE2ACTIAJMAEmwASYABNgAkyACTABJsAEXCbAqxC6jIozMgEmwASYABNgAkyACQRduytXCo4fLw5h1eB4cWP/+9Clm05S8J1HVKpgRvHJxBcBE2ACBgJhYWE0fvx42r9/P509e5YyZ85Mo0ePpqxZsxpyuncYHBxMf/75pyzUoUMHypSJv3/uEeTcsY3A6dOnaf78+ZQwYUL69NNPKV68/5ZKh1chjG1XNI+HCTABJsAEmAATYAI+JLBx7wXqOWKVbGHDpA6UOkViH7YWvVU/fvKM7oaGU4aAZFYNt/9yAR05c5PerlOIBn5Y3epcdB5MXRJIL15E0PtvlqSnz17QmNm7KXeW1NSsVsHo7EasaisoKEgqW+LHj+/zcUVnWz4fjK6BmzdvUv369SkwMFCXSoTxZs+e3SrN3YNDhw5RiRIlZLHdu3dTuXLl3K2C80cTgfDwcLp165bXSktfdNef++bueJcsWUJvvvmmLAYFb9q0ad2tIkbnj/2vzGL09HDnmQATYAJMgAkwASbABKKDwKXr96hu1+lU/+MZNHnRgeho0q02gq7epd+Fwuq3Wbto5bYz9M+/R2ja0oM0ctp2CrkX5lZdnNlCoGfPnpQzZ075uXPnjk+xRGdbPh2ISeUjR47UlFdNmjSh/v37U5s2bShbtmwmuTkpNhKA1V2WLFmkwvLHH3/0qyH6c9/8ClQM6QwrsGLIRHE3mQATYAJMgAkwASbABHxHYOfhy3T/wWPZwPItp3zXkIc1D520WVpd5cickuq+npua1yokrN8SUeijJ1KJ5WG1/+li//zzjxz/1atXaf369T5lEZ1t+XQgJpVPmzZNprZu3ZpgHTJs2DD6+++/6bXXXjPJzUmxkcDatWspJCSEIiIiaObMmX41RH/um1+BiiGdYQVWDJko7iYTYAJMgAkwASbABJiA7whUKJaVUiVPJB66iRpVyee7hjyoOfD2n246AABAAElEQVTkddpz5Kos+WXnqhQ/XlxKliQBfdKmvExbvuU0XRQWZDFN9u7dS3PmzPGJ8ggxmVA3Pjdu3DBFA4ULBJYjtWrVMs3jSmJ0tuVKf6Izz5MnTzS+jRs3drtpX14DbneGC9gl4Owar127tnRlixMnDr3zzjs29fhynp3V7axvNp39DyY4Y+hPSP5bEb/8iTz3hQkwASbABJgAE2ACTMBvCGTPmJLWTHiXQh8+oTQp/Suu198rD0tOpQtlIijalMAK68+FB+hqcCjNXX2UPn+vkjoVI7bjxo2jyZMnU8WKFWn79u1R2mfE4lEKqn///Zfq1atnUz+CjPft25cyZMhAcePGtTnvakJ0tuVqn6IrH2LwwOoGkiZNGreb9eU14HZnuIBdAs6u8bx589KVK1fo7t27lD59ept6fDnPzup21jebzv4HE5wx9CckbIHlT7PBfWECTIAJMAEmwASYABN4ZQRg2eRvyqvbdx/JVR8BpUXdwlZs4sR5jVrWs6Qt3niSEISexT0CWC3PG+WVO61FZ1vu9MubvC9evNCKR0cgfK0x3vE7AgkSJDBVXvlDR/25b/7AJyb1gRVYMWm2uK9MgAkwASbABJgAE4hGAs+ev5Cr8nnTZMj9MHque8h1VteTp889avOOaAf9dUcehT8l9M9TCRPlUYen4gqbHYcuy3ElFy6DdSrktmkKVljx4saR8bvgaugv8vjxY7p9+3aUdwd1wuonusRX43DUf7jlIZ6QK+KL/t27d48ePXrkSvOvLM+DBw+ktY8nHcD18/z5c0+K2i0DK7TovC71HfHmO+ENR30ffLHvzbh80R9HdfrimkJ7z5498/h39OnTp4T4fliB0RfyquaHFVi+mE2ukwkwASbABJgAE4iVBE5cuEVdhy6jGp2n0lu9/6Epiw+4pZyJCVAQyHzE1G3Upt88qvjuJDnWht1mUL/Ra+jMJdceqv/dfoY+HLJUlq3V5S9Rz5/Utv88mrok0JQXlFYzlh+ipp/9TRXa/yHLNRBt9v1lDV27FWoX25qdZ+ljMR81u0wVn7/oddHf1n3n0k+i/w9EcHMlZy6GULsB86n9lwtk+2ir0SczqdJ7fxL6F3znocz6/qBFMt+GPedVUZvtw7An9PNf22U7lTtOlnU06TGLvhi1mk4FOVfYuMtm7zFL7KtSwn0wQXxbNzfE7SqU27KM+r7j12z6G50JUKbALa9AgQKUJEkSGRMnR44c0pXv4sWLsiu7du2i8uXLyw8CfkMOHz6speGcMQj0jBkzCHFs4JqEJeOxxadVq1Z0/rz1XGH1O9SB1fCU9OjRQ6u/Ro0aKpmmT58u09944w0tDTuujAP5oqIt1AOBi1a3bt2oRIkSlCxZMgoICCBYbDVo0IDgAqkXV/unL+Nsf+PGjZIZ5itVqlSUPHlyyp8/vxzj0aNHbYo7G/umTZtsyqgET64BlIXSCdcXXMLQv9SpU1PWrFmpc+fOTpVZiIVWp04dSpcunbx2wLhs2bL0008/eaXMmjdvnnRPxXzhmkQ8NcSAUkH73333XXmNoR29fPfddzK9V69e+mSr/Xbt2sk8EydOtErHgTvfCeQ/cuSIrKtChQoax9y5czvl6Gye9d+natWqyTYWL16MJsmTeXZ1XO7Wbezb7t27ZV/xW2HGVw5A/EF/1O/V6dOnVbLc+uqawoqoWLW0TJky8rcAv3k5c+aktm3bktl3Ud8pKKw++OADKlasGCVNmlRej/iulC5dmsaOHau5+6KMuwxRxtX5QV5fCcfA8hVZrpcJMAEmwASYABOIVQQQJLvj14soPNJN625oOP06c5e0FurVvmKsGOv2g5do0O8b6NZda+uLa7ceCEXSA9q0L4hqlctld6xQ7gwau0FzeVMZoaA6fu6W/KzbdY5+69dQrKBniTMF66z+v66l9butFRHXRXv4HD59gyYNbkpZ0qdQ1RHa+XbCJlq9/ayWhp1nz17QyQu35Qf1ff9pbULcqDuhYXT0rMVq54tRa2zaQkB0yIETFgumkHvmVlnnr9yVSjBs9XLp+n3CZ8OeC/Th22XowxZl9KflvidsUHBfpAKrZIGMNnWqBIzx8OmbtP/Yq1NgQbmAB6yFCxeqbsktFFf44GFpw4YNcn/Pnj1WeWAFok+7ds0yDjyMvf/++7R69Wqr/DiAxcPcuXNp5cqVUgGGBzwIlGHHjh2T++rPyZMn1a58qFMHUH6hXSiKlLg6jly5cnndlmpz+fLl1KlTJ7p586ZKkltwwAcKrK5du0rlTbx48VzijP65IlCGffLJJ/Tnn39aPdzCNRAP7PhgTr/66isaNGiQVqUzzngItye4HvTzjXz2rgF9Hbi+Lly4oE+ScZcQRw2rSB46dEgqZPQZQkND5TU0f/58fbK0Stm3bx/hs2DBAlq6dKlUjlplcnAACzXMCZSgesE1ixUY8Tlx4oRUOBw4cEAqQfT5kAYGUKjZk61bt8rvC5SYSjz5TqAsFKSKORS/GLNeEL/KjKOzeYaSRAn6C0s0dR27M8/ujsudutE/Y9+KFClC+F24f/8+4VqF0sds1UwoTHGNQJmbL59lcQ9fXVPoJ37rOnbsKL/3OFYSFBRE+OA6bdasmUq22mL+evfuTbCg1AusuHC9de/eXf42jhkzRp52h6G786NvP6r32QIrqon6QX0I4jl92UE6f8X+Pw4/6CZ3gQkwASbABJhAjCIwa8VhTXml7/iMZYdiRewhKIv6jFytKa/qvJ6bRvSqSzOHvUVDP6lFpQpmpPDHz2jFVuu30HoWv8zYqSmvyhXJTKP61Kd/RrSgMQMaUY2yOWVWKFpGz9ypFcPqekp5VblkNqmsmjioCbVpUFTmgeJszc5zWn7soLxSXuXOmpoGd61B039oTiP71NPauS2UUPceWFwnEiV8+c4WbSVMEJfefaO4HNdXH1SlxAnjW9Vv72C/sHCC8iptqiTUt2NlmjLkTRr7VWPq3LyUWBkwjnT1GztnDy3fcsqmCk/Y4GHw6k2LBVqRPPYfdAvntpy7cNVasWbTCR8mQDmllFcNGzYkWPRAqQDlCAQPS7BWqVq1Kq1atUp+KlWqJM8VKlRIS8O5Fi1ayHT8UVYPsPT466+/aOfOnTR1qrCAfOst+cAJxceXX36p5Z81a5as648//tDSvv/+e63+RYsWaelmO66OA2W9bQt1QCEDhQIe+rGCGywvVqxYQdu2baNRo0ZJayjkAwco19zpH8o5k2+++YYmTZokFQ9QpowcOZI2b95Ma9askQqrxIkTE1wakQ/8laixT5kyRSWRnrOaW+2kbsfda0AVBStY9v3444+yj2ChLO1wDn03CoL0K+VVzZo15TUaGBgoGb/55psyO66pfv36GYs6PP7666815ZU9boMHD5aKA4cVeXDS3e8EmgA3JVBeucpRzbMn3yd359mdcblbtxq72kLxBus4yJkzZ+T3Sp1TWyjvoLyCdOnSRSXLhR98cU1dunRJ/vYpBT5+B2HlBcXjtGnT5G/nw4cPbSxUVcfwGwLlFSyuoGyGch+WkAMGDJAWXMg3fvx4On78uCziLkN35kf1ySdb8Y+RJZYRqNF5SkSJluMixM1TLBtZ1A9n4O/rI7YduCgr3hZ4MaL3z6sinj9/EfUNcY1MgAkwASYQ4wl8Nnyl/P+K/7HGj3hpFOPH98mw5dq4Zq86bDMe/H8cPmWrlgcMQu490vIdOHFNO/fNuA1aun7n+z82a3lOnA+Wp8bP3SPTSrceH/Hk6TN99og5q49E7D5y2Srt4MnrWh1dvl0c8Sj8idV5YTkSMW1pYMT+41e1dLSl5qxMmwkRwqpLO6ffUXnmrTmqT44Q7oda+bb95kWIeFtW53Fw8sKtiMod/pT5qneaEnE39GUeT9ncCw3X2j0ddNumTZWw6/BlmQ9je1Xy7bffRoiHlQhhIRQhrHqsuiEemiKEssEqDQfC6kiWEasQ2pxTCcJKKkI8LKpDq62wgJHlhcubVToOhMJMnkOfhAWTzXkkqD4LCyztvEpzZxyetoVGhXWN7Kew/ogQiiutH2pHPDRGCOunCKFEkkme9E/VZdyKB+MIEcBetl+0aNGI69evG7NEiIfdCKGg0TiLh2urPK6M3aqA4cDZNXDw4EFtHjEne/futapBWJdECFdCmadUqVJW54QSMAJccQ0IN0Orc+pAuG3K88gnFFsq2eEWfXCHG9oX1i9WdTZv3ly226hRI6t0/UH27NllnoEDB+qTIzz5TmBs6Ac+7nJE467Ms2ItXPKs+osDZ/OMPJ6My9W6zfomFFQaE7FiKaqyEmHNJM+LxQkibtyw/M/w1TWFhoUrs9af33//3aovOBAK7IjPPvtMy4O5FJaoVvmE+3WEsJaySsOBUPBGJEqUSJYVVmU25305PzaNeZnAFlhi5ln+mwT2HL1CS8SKPb1H/isCn4bL2B7rdp2nOcKCjYUJMAEmwASYgJFAxrTJjEnyOK5YCS5zuuSm52JKIgKRb9l/UXa3Yoms1Lq+xfpJ33+seNez3euUPWNKfbK2D9dACKyd+r1fWUvX73zStrx2uC/S3S1daosLitCP0cR5+yj00WMtT8u6RahckSzaMXZWi7hXkNdeI9FOFRvrKfGgIqyrSgiLsUwynyWvyBwp9SrmoaJ506tDt7Zg8E3X6oS4U0bJnyOAurcuJ5PhXrpTBF9X4ikbuD4qSZEsodq12aaMPIcg9np+Nhl9mKDc8OCugvg+ejeWjz76iPSxctzpBlwDYW2lF7i3wfJKKL5k8t27d53GQNKXd7Tvq3GYtQn3JVicQWCFBcs1oyDe09ChQ0mt8BeV/YMVCay68J1BHKAMGTIYm6eCBQvS8OHDZTo4m7lz2hTyUULLli1lXCB99VhBsm7dujLp7Flrl2JYGolnZek2+ttvv+mLafuwGsP4kc9R3C6tgNhBfCt3uOnLRsW+J98JjFGJuxxVOV9vPRmXN30SSluqUqWKrALWo3CzVIIA6Ij3BIGlHuKbQXx1TeH3DK7EkPr168t4ePJA9wcWmvguKldG3SltF/HXMmV6+b8PJ+AmnDJlSlJuxUJRqOV3Zye658de3+LZO8HpTCC2E/h9tiX+QpfmpSlFskQyZsXIaTtozOzdhJtbf1tGO7bPB4+PCTABJuDvBN5pVIwWbTgh3ej0fYWyxCy4tj6Pv+/rg483rprfbncxzroVc9OfCw/Y5DktAqVDXghF1EARR8uZKHc3KMywwl6oCLr+x4L99NfSg1LBVEbEdapSOjuVyG8d+0lYIsmqc2VJTXmzpXHWjM35SsJN0VNBewVyWgKmm9UBdsOnbJOnwLR+pbxy31M2T0VMLyVwUbQnccUqhEr0ZVSafotAvnC9ckfw4KSCUtsrV69ePenuBiUHFC4///yzjPuD4MnCykRTNtkr7ygd8VvQb8TROnfuHMGNxijCQkJztzOec+fYl+Mw9gMuSkrefvtttetwG5X9A1cIgnkrZaBZ44g9hRhBUNqgzHvvvWeWzedpeLA3k+rVq0tXKygEodzE9QpBTCwI+t2hQwe5b/YHyiuIPlaaWT6VJqzC5K473FTZqNp6851wl2NU9dmVerwZlyv1G/MgjhniY8FNFi6yn3/+ucwCN14Vy+vDDz/UivnqmkK96jps37691p5xJ2HChAQF5A8//GA8JY8xjnHjxtGyZctkvCv8LuL61wvSPJXonh+zfrICy4wKp8V6AlsPXCQsNZ09U0rq0LSEHC9ibcxdfYwQpPeff4/Qx60sb1FjPQweIBNgAkyACbhEAJZHU79rRr9M30HHz9+igJSJqWmNAvReE8v/EZcq8dNMQddexk6yZ2Glup4xwNwSLSgy/hICtq81xKxSZfXbKzfvy8NMaZPT+IFvSMXPoVM3COURawofKLQQS2vk5/XFyyaLBdLFa5YAtfYs4vRtmO2nT/My6LDZeUdpGQIcl0Uf8cFKjkGR/UR9nrJJrbP0uv/wsRb43thHtKdEWWOpY+N2y5YtMhaVMd3RMaxcnIlwd5Jxk7Di344dO2SQbMRSwgcKLcQfgsUPVo5zVWAFIVzmpNUBLLuiQ3wxDnv9VjFlcB7tuiJR2T8oAyHZsjlW6grXI7mamXAjk4HJXemnL/LYY4Q4XWZy6pQlFl14eLhL17yrlilK0QXrOEcCblhBzlOFAfptlKj4TrjL0dgHXxxHxbg86RfiTCHuHKyvEOdLKbBUbDdYLWH1SiW+uqZUvWjH2XVl7/u6f/9+GQBerxhX/fZ2+6rmx6zfrMAyo8JpsZoAtNuwsoIggGv8eJabMmyhzPpu4mZasO44fSBWEYqne6MZq6Hw4JgAE2ACTMAlAgWF9c2EgU1cyhuTMmVI81IpFXzH1rpFP5Y7wj3OTNIJxRACridNHJ96vWtx7TLLp9Iy6BRJRfKkp2lDm8sFaPYcvUp7xWfz/iBp7YbjbydslEoslIUCCu3cuP1AVeXWNkki1wK2m1V6T6coMjsf9vgphQpFE0Sv6POUTUqdAuteqKg3k1mrJFfCxBkoz+JGWp+Y5yS5glXGjNZWbfbyqnRl0aKO7W3Lli1L27dvl0oOWHkhkDvcYmAxhWNY8SCQu6uCFcDg4gXBMvB4uKxcubJ054HSAkHia9eu7Wp1LueL6nHYazhLlpfusZcvX6YKFSrYy2qVHlX9w3UAJdrt2xarRqtGdAew4FBKGHvKD112n+0mS/byd8qVRuBuiZXbUqRIQT/99JPTIlmzZnWaBxmQD/ViZTZHAm6wSHQkRusYlRduX1hp0yhR8Z1wl6OxD744jopxedIvWDRhpVNcH1BMwo0Ui0oodz4RO026mKq6fXlNqTacXVd6V0dVBisjNm7cmEQcOxIxzuRvJVyv8+TJI18a4Dcc1rB4geGJvKr5MesrK7DMqHBarCaw4+BlOiHenCdOFI+MbhKNquaj0WIFpeA7j0QskCCq6WCp8FgNiQfHBJgAE2AC/ykC+XMGaOOFlXLtCrm1Y+PO9oOXjEnyGO51yoIKrvgpktqP2WRagUiEWyA+reoVoZD7YdRl8BI6d/kOoU24JiIGVb7sAXRQWGpdEKsBwoorS/oU9qqL8nQRqF3cIzwkFbfL2ADuMSK9kQgxsZR4ygYv0gJSJabbd8MILpfF89vGKEIbYATB6ojORAQrJnx8KYibhM/HH38sH8Jr1Kgh3VlEMHUrFy/VB7h9mYlSdkHRAzcfo6WNWk3LrKw+zV79+jxm++6OA3W401axYsW0ZrFimKtuhKqQJ/1TZbEtWbKkfKA9ceIEiSDPhBg3ZgLlIxQqEJTxhbjDzdX2EeMI1oDoO2KMiWD/rhZ1mK9EiRJylUh3uBkrVKsCYpU7jN2oJMbKc8qlTF82qr4T+jrd3fdmruyVjYpx2avb2fgQow8uz+CNWHBlypQhWHzC8hTKLb348ppS7eC3wBj3T53DFr+jRsHvI5RXEKzGCUtYo7jye2mPYVTMj7E/nh6/dJj3tAY/LBcmApHC7Fys+EJ4ExYbBWPETeL8tcfkUs2Xb1jM8O2N9emz59J8/dqtUJkl/Mkz2rT3As0SS4KLlWtsiuH80bM3adH6E9IaSazWQ2jTnuAtKMzjVeBQcN977Cr9vfIwbRTtXA22tGtW3lHf/t1+Rr6NNSun0nBDC7e/dbvP0fRlB2WfT1+8LW90VR79dvshy413LaGcMr6FxTLa9Srlkdn1wVf15XmfCTABJsAEmEBMJYAg3/i/fDPE2soqTYrEIraTReGCOF+4hzIT3BcEnrDcJBvPI5YVBDGYRkTGgTLmwf3Kpz+uoCNnbmqnnouHt2ki7pXxXgZ9Kh0ZiD0s/Bk9FvcmkHJFM8stgr6PmLrN9P897kGUi6LMHEV/Hj95Ll0dce9hFLj4/Txtu0yOJ+JVlSn80lzKUzaorGQBi7XUvuP2rT0QFgFSwo6CS5708R9YkuDBSbmlqebECnZy+XccwxIrLCxMnSJYP0Du3LEo4LQTkTvK6geKK7hj6QXtweXHnqi6cd5e/WZlvRmHu23BAqpw4cKyG3BZ2r3b4iGg79ejR4+srNY86Z++Pv2+Cn4O9yCxSp58aNefxz6CS6uHYVh2wBU0KkXNkztz5Gr7iBcGgQJLrN5mWgzXq1j9jaAwclVUDClXuZnVi/hZEFjTQImlFyhSVOB8fTr2vflOGOty51jNE8p4MleqvL2y3ozLWd3OxgkrJfVdgJszlFkQWDSpRRNUHb66pvA7qZTDkydPlgp71aZ+a++c4oe8Zm7aGJeZ5Zaq2xlDVb8nv8WqjajaxjoFFm5YGn86izp9s5jeH7SYmvb4W8Y6iipgr7oeKHvGzdlDVd+fQu99vVC6u331v/X0hhhzyz5zpCLHrI+IRfFmz9nUc8QqWr/7PDX4eAZ9JvZx47dss8U/HOVwEzl1SSCJ5Z+p3YAFNHj8RhoyYRO9+9VCqibSsDoQ+mAUsEb9q7adoQnz9lKVDpPlW1MEMkWbjbrPpDb95hEUS0Zx1Ld+o9dS817/UP9f19IDEdzVKLhhayHGjXn+/OfVhCDs6HPLPnMlHyi2jAK3BEgpERzWTMoWttwY7xNKUBYmwASYABNgArGJwKfDVsj/yw27zZAWPfqxff1BNeEqIdblFrqZD4cslfcDeAEFZQ2sf34S9wz4H2tP6r6eh9T/UNxb9P75Xzp7OUSWh3IKK/+2/3KBXO3w/UGLZJ24p/h46HIaJeKKdRi4UL6MgiIIija8xFqx9bRsLm/2NMJy2uL6h8DoSom1aW8QdR26jI6fC5Zl8EINyrCPRP9xb6ICxdvrsyfpuG/p8u0S+SIRSjXEn8K9Vasv5tLVm5YXdlggRm8Z5gkb1bcyhSLvSyJXbVTpaot7t4OnLAqssiJe2KsQPMjjob5Pnz7SxQ8resF1ClYMc+bMoVmzZsluwXohadKkWhfTpLEE4YcbG4IO48H9ypUrWpwlWLpAzpw5Q5MmTSK0A0Hd7dq1IxVMG2lGywH9QxwUXQjwDeUP3Brtiafj8KQt1QcEp8cKceg/lEMTJkyQwaOhdNm5cychQDmCNvft21eO3xPOqi3jtkmTJprVF4JWV61aVT44Q8mIVSThRoWHamW50b9/f2lZZ6zHm2Nn14A3dSO+Eaz/INOmTZNWLceOHZOsobhC0G64bWKcGLuKbSULOPjTtGlTAjuIK9zMqkJ7SjC3cEnENQCrLlhI4vugBIG5lXjznVB1eLL15hpHe87m2ZtxOavblfHCWhSC7921a5ZnQH3wdlWHr64p1D9+/HhpiYfrAHG34Naorgtcm7169aIuXbqorlhtFT8k4kWC3g0R1xKC1Ssx/lYi3RlDVb8nv8Wq3ajaxioFFiyE+v6yhkLuvXyzA1cwpCEgaEwX3OThZmyCUCLhxg6r0RTKnZaK5EknVz/CCjfv9J9Pd+7bxqZQqyMhzxejVstYCXg7iGCkarU93AB98O1S6UKHN4zG+vFGdaxQnnUcuMhUiQW+v83aJRRse4UiLIIQXBU3ssqcHW57bUX/8OZXL2Z9S5c6iQzaqgKtQjEG1z697BCWVOgLzOZxw42gsyULZpT9Rj683f16zHp9EdlvmP9DShpWNVIZ1bLbZwQrLCvOwgSYABNgAkwgNhDAfQRe9EHwf3rPkStWwyqWLwP1eKeCdNPD/3z838ULqLLvTKRm4iXVTGG1nShhPMJqjPZk4EfV5P9jnIdS5+3ec6hM2wnyRdugsRu0WE3tGhWnnJlTyTiUKhg73OTwMqqaeElXod0fhJdY6v/we2KlR70M+rA6ZctocR3cLcaB+4tyop/1xQs6KMMwPliFR7UCq3rZHJQna2pp6Y8Xia+/O0m+4IOy7rqIywXBKoedm5fSd1fuu8tGVVCheBa5CyUgPAyMsmX/RRF3y/KA+6oUWPHjx9cCgcONBe4veCDC23o8jCM+C0QFSFZjUNY8UFxBIQArK8QXUsvXd+vWTbrxID8eJvEQDXdCBMbGqojqoQrnjSsTok9VqlTBKRl/C+5j6A/atBcQ3tNxeNKW7Jj4AwXVwIEDpRIL1lZ40MyQIQPBxQwrA+7du1dmDQwMlAoOFcDZHc6qLbMtFGiILwaBwgyKFcRIAmtYJp09e1aegzUK+hnV4uwa8LY9uITly5dPVgPFapEiRQjzBaubjh07alYpsNAqUKCAy81hpTflAmqPGwKA45ozE1j8KOUalKo5c+akBAkSyPhLc+fO1b4LKKu3WvTmO2HWD1fTvLnG0YazefZmXM7qdmWMuNb1MenwO9SgQQPTor66pqBMHTZsmPzNgyINik11XcBdGHGo8LtgZk1YvHhxGeMKHYZiH2NJnz69/K3Ebyt+g9X3wPhbiTLOGHozP6g/KiVWKbCgnNErrxQomMmfuWRZ2lmlxcTtlEWBmsl93ddz07qJHejvH1vQzGFv0/o/OlDjavlMrZQw1oQJLOHO8BYVRu99OlSiHdM607/j3qVe7StKHFMXB2o3RvbqR8ajZ4Np/FzLP1NZUPcHN1BQPo37ujGtGtueJg1uSmsnvkc/9a4rA4s+EzfE303cRHi7qkTfN6QN6FyF1kx4j/74piktH/MO4WYRsnD9cRkPQx6IP68Xy0rNaxUkmOUv+qUNLfmtLU0d0ow2TX6f3m9m8c+Hm6W6WUc5KPfwZhmCFQjNBDfSKnj7rbuPzLJwGhNgAkyACTCBGEcAi5W0FivuQjKJ/3W1xb2EUd5/sxRN/vZNq/hNuHdIJO4jyhfNQuO+akyvF7cf6DhHplT0z4gW1KJuYUqWJIGsXv3fVS/GcE/Qs/3rWtODPqpO3cTKv6lTJNLSoICC4OXU0E9qydUetZNiJ5tIn/NTS6lMQ9B4iGonroiTBfe9OSNaUo2yOeU5xM5Sgn7YE5SFqAVeVD5VHi/lcG/TsEpe+QJQtYl8eCGIe5jfBzSyKY/znrBBuTxZ02iugbPFKslGmbfmmEyqUio76YPxG/P5+hhWTkOGDJEPTWgLSimlKMKDEyxgOnToYNUNPDTprRyUpQkspSCwNoKiSq3KhQcvWBbAigt14cEf1ksQs4DXo0aNokyZLBb36A8srOAGp1Z3U6srKvcZ1OPJOFDOk7ZQDoKVFhE8Ggo5NR5lJREQECAtKhD3Bv30tH+Wlmz/4iEXrosjRozQ5g5tgxcEShgoFGHFAQWLURRDpJudN+Y3Hju7BrytH9fegQMHpGIwZUrLvb9iC56IdwSFkT2XPWN/1TEUBFAuQqmHOYIoblAywFIHroFQPNiTxYsX07vvvqvNubrucR3g2i5XzrIiukpHPZ5+J7zliLZdvcbNrgNn8+zpuNAvZ3Ujjxq/Wd9wHr8LWGRCSadOnbQyKk1tfXVNoX4orbByq/63APOPawoLVuB3QLk7qv5gi/FBQYvfRYwFgt9ELNAAN+WlS5dqcbXMfiudMfRmfmRnovDPa+LHKfJxPgprfUVVIU4TXN3MZPbwFlQwV1qzUzEiDdZlcOHDG1FYGU0RN5fqH5x+AN1+WE7bAy0xnn7oUZsaVbG8cYC1Ekz0IS3qFKavP6ymL0aIeVW142SX68eN3IZJHShlMsvNJt7Qws0A9xAzfnhLWIWlt6ofBwgK+4lwXYB0bVlWfrCv71szoZAa3LUGkjXZvC+IegxfKY+nDHmTlIWUlsFkBwqyuh9NE/EyntNXXapSSxEMFnIq6LY08ccb5J3TzU0wka/WB39JZehfQ5uJm0b3VupBeRYmwASYABNgAv5KAEHIoWxxtlodXPdPCKtlvNSBtbdRqeNsfLjFhNXQeeF+CIUZgrOrF0T2yt4WL47w0vGFKJspbXKh9Elper+jL492cA8Ci+wAoWCChZR6OabP54v981fuiFhb4s22cHHMEJDM5SbcZbN8yylCyAjwW/BLa83KDawQQgJ3879/2Ygql8zuch98mRHxUo4cOSIf6LFqXf78+R3OI6x84NqFB68cOXJocaFUH/EAB9eV8+fPS2UBLIbUA6nKY28L6xXEN0LsHVgVwSUOq9K5Iu6Ow5u2VH+gpDt8+LB0k4SFj94qROVRW3f7p8o52qJOtI8HfVh1RFXgc0dt4pyza8BZeVfO43sH10G46eG6xGpz6mHflfKO8sD1Fdc8rAOhfFD14lqFAg0xxsaMGWNaBeKMoWxISAghNpYjpZeqwJvvhKrDk62317izefZmXM7q9mS8zsr48pqC2zOuHVi/QZmJrSuC6+jUqVPyesKKpVBSuyrOGHozP672wVk+i3rOWa4Ycj6fWO0FLmfGwKSZ0yenPNlSx5BRmHcT1mVQXkHwltJMeYVz3VuX0xRYODaTN2vamsciNpU79eNt7MkLt+XbWH0beNNpprxCHrwZxOo5sIpCgHgzeatWIZvkciKeA9wdYb2lzPP1mRB/AktsQzmF2Bdhj59JhRzeFkOBhaW2lailrZNHvhVW6cZtssQJpAJLmeQbz/MxE2ACTIAJMIGYSsDeCnrG8cCCSsW0Mp5z5Rj3KrCUwsdVgQIKH3cE7SDelD7mlDvlvcmrVk10tw532SCGFsI03Lj9kEaJeJ+j+1pcW36YtEUqr6C0q1Qim7vd8Fl+uMDh46rAnQsfewJlFdy73HHxUnXBhQvLx3si7o7Dm7ZU/2Bd9vrrLy0UVbrZ1t3+mdVhTPNFncY2zI6dXQNmZdxNw/fOV+1A0ehI2eior3DZdHXOVT3efCdUHZ5svb3GnfH3ZlzO6vZkvM7K+PKagqIdLsbuCty33b2eVBvOGHozP6oNb7exSoEFhcXIz+vRFyLmlVJ0ZBHKq59713P7raG3YKO6/Cld8HNHlmRYWtqZZM1g+9bp7KU7WjFn9cPKCm/6EEsK7gR6wTLRjgQrHEGBBYWcmah4FvpzCNoKhRPc//BGVi9YVhtB5tV868+pfX3Q+aSRiisVU0PlMW4fhltiSSi3BON5PmYCTIAJMAEmwASYQHQRQLzQfu9XkYHxEUsUcb8Q5kDFxPpSWJvjQYqFCTABJsAEmEBsJhCrFFiYKAQgXSpiIUmFjPg/jjdS7pq8++OE6+M1wBLJnjwXwd2dSWqxLLVR4uhuepzVr3RIsIoyilHBZDyv6taPR5/HrG/68/r9bYEXqfsPFpdExN0qIZaZhgl/brgOxI9Ho2fulO4E+jKpk1tcHh+GPZWB8O25MtwTKwpB3OmPvh3eZwJMgAkwASbABJhAVBKoVT4XVS2dXSqu4JKJex94GBQVYRvKRK6gHJXtcV1MgAkwASbABPyNQKxTYAEwFFaOrIj8bRJc6U+BHC/jdx0Ssb5UUFJj2cNi5T1PBJZRSlytv2DOl31SZQ+ftt8+fIRV//ILd09vZeXWM7IK3LxN/a6ZsNJKaFXlT39tszrGARRSyoIM7oZm7gY3Qh5Id0XkT2Oi7EM6CxNgAkyACTABJsAEopvAsB51RHyvuNrL2VliIR9nLw+ju4/cHhNgAkyACTABXxGwNaHxVUtcr8sEEDQVH73AqkjFbfpVWBbp3eJUvudixZBfZuxQh25t3a0fQdALmCiwYNK+ZX+QaduLN56kM5GugyWFtZS3AgssSKFc6WyUVyfO36JL1+/bNAETfKU8O3Dius15JBw8eUOmZ06XXK6caJqJE5kAE2ACTIAJMAEmEM0EEJdM71mAYPWJE7oW2Deau8rNMQEmIAjYW/WO4TABJuAZAVZgecbNZ6WwIl/tD/+iml2mEmIcKIHi5bPIJafPX7lLHb5eJFcGglUTBIqhzt8soePnbqkibm1xM/RFx8qyjCv1f9auAiURsanMpM+o1TR71RERTP2pPA1l3KQF+2noxM3yOLtYUah1fcsy3mblXU2Dggmyduc5GbxdlQsSqx199b916tBmq8zs9x27anMOCYEnLYqtsiJ4PAsTYAJMgAkwASbABJgAE2ACTMATAuvWraPg4GAaPny4J8W5DBNgAgYCsdKF0DDGGHW4btd5uXIeOr16+1krV8G3axeinYcuS4XNsXPB1KbvPEKQccSvCo202EJ8BFhBGS24XIHQtEYBglIHllL26kc99SrmoTZ2FFA4t3lfEP04eSsNn7KV0oqVhILvPNKaT5EsIX3XvSZBIeetNKtVUKxmGCxXHGzQbYa0rEIAUyjzYE6fISCpXK0HqxLqBYHnZ604TGt3naN+naoQgv8reSZiiK3ZcVYeGgPUqzy8ZQJMgAkwASbABJgAE2ACTIAJOCOAVSXxYWECTCBqCLAFVtRwjLJaGlXJJ5VScNFrXC2fVb1QzmBFxUEfVRdLTFsCsSMYOZRXsEZq37g4jehVV1MO6QOlx41jmWqzwOv6Rr7tVpN++aI+wUoKourHPlZ0HN6zjmzD3ko3FYplod+/bCSCiWYiBEhXyivsVyuTg+b93IpK5Ld2H3S1b+iDXlrWLSKsxiqJuFaJIldFvE1wHUwvFFfDetQmsITcDQ3XF6MqpbJLxVrowye0cutpq3NQvqHPGUVwVCjjWJgAE2ACTIAJMAEmwASYABNgAkyACTCBV0/gNeGCZvFBe/V94R5EEggLfyotiJImTuCQCYKNY7XFnJlTSQWWw8wenAx99NhizfQiQqzuF+AwHlSj7jPpanAoDfywGr1dp7Bs7fGTZ9JCCsFGEXdKH7PBg+7YLfLk6XMKunaXboY8FKtOppHKJ7uZI0+MnbOHJs7bR7mypKK5QqmmViPsOGgRBYrYWN90rU7NaxVyVg2fZwJMgAkwASbABJgAE2ACTIAJMAEmwASigcBL36loaIybcI1AYjuxpYylM6RJRvj4SrCqX6mCmTyuHoFFSxfyvLyrDcMdEQo2fFyVlnUL0/RlBwnxvuauOUptGxSjZZtPSeVV9owpqUn1Aq5WxfmYABNgAkyACTABJsAEmAATYAJMgAkwAR8TYBdCHwPm6v2TQLrUSalbq3Kyc+Pm7KX7D8Np5LTt8rhrq7KaRZZ/9p57xQSYABNgAkyACTABJsAEmAATYAJM4L9FgBVY/6355tHqCLRtWIxKFshI3VuXoxRJE1GfDpWExVlGalApry4X7zIBJsAEmAATYAJMgAkwASbABJgAE2ACr5oAuxC+6hng9l8ZAcS9mvpdM639xlXzEz4sTIAJMAEmwASYABNgAkyACTABJsAEmIB/EWAFln/NR4ztTcFcaSlt6iSUNUOKGDsG7jgTYAJMgAkwASbABJgAE2ACTIAJMAEm4J8EeBVC/5wX7hUTYAJMgAkwASbABJgAE2ACTIAJMAEmwASYQCQBjoHFlwITYAJMgAkwASbABJgAE2ACTIAJMAEmwASYgF8TYAWWX08Pd44JMAEmwASYABNgAkyACTABJsAEmAATYAJMgBVYfA0wASbABJgAE2ACTIAJMAEmwASYABNgAkyACfg1AVZg+fX0cOeYABNgAkyACTABJsAEmAATYAJMgAkwASbABFiBxdcAE2ACTIAJMAEmwASYABNgAkyACTABJsAEmIBfE2AFll9PD3eOCTABJsAEmAATYAJMgAkwASbABJgAE2ACTIAVWHwNMAEmwASYABNgAkyACTABJsAEmAATYAJMgAn4NQFWYPn19HDnmAATYAJMgAkwASbABJgAE2ACTIAJMAEmwARYgcXXABNgAkyACTABJsAEmAATYAJMgAkwASbABJiAXxNgBZZfTw93jgkwASbABJgAE2ACTIAJMAEmwASYABNgAkyAFVh8DTABJsAEmAATYAJMgAkwASbABJgAE2ACTIAJ+DUBVmD59fRw55gAE2ACTIAJMAEmwASYABNgAkyACTABJsAEWIHF1wATYAJMgAkwASbABJgAE2ACTIAJMAEmwASYgF8TYAWWX09PzOxc4MnrNGjsBnoU/pQehj2hweM30uZ9QTFzMNxrJsAEmAATYAJMgAkwASbABJgAE2ACTOCVE4j3ynvAHYh1BMb8vZv2HrtKmdImo8SJ4tOi9Sdo16HLVK5oZkqcMH6sGy8PiAkwASbABJgAE2ACTIAJMAEmwASYABPwLQFWYPmW73+u9p1CUQXlVeoUiahd4+IUL24cmrHsEF279YAmzt9Hn73z+n+OCQ+YCTABJsAEmEBsIhB07S6t23We4seLQ20bFpP/62PT+GLbWIKDg+nPP/+Uw+rQoQNlypQpRg1xypQpdOPGDapevTpVrFgxRvWdO/tqCGzfvp0WLFhAhw4doidPnlDLli2pe/fuXndm4cKFdPLkScqTJ4+s0+sKY2gFw4cPp4iICGrYsCGVKFEiho6Cux1TCbACK6bOnJ/2e8zs3bJnvdpXpBRJE8r9T98pT9+M3Uj/rDpKXZqXpqSJE/hp77lbTIAJMAEmwASYgDMC56/cpd9m7ZLZ3qiWX7y0SuysCJ9/hQSuXbtGAwYMkD2oXbt2jFNg/e9//6MDBw5IBQQrsF7hhRRDmh47diz16NGDnj9/rvU4d+7c2r43O9OnTycosRo1avSfVmDh9wQKrICAAFZgeXNBcVmPCHAMLI+wcSEzAhv3XqAjZ25S+jRJqXG1fFoW3NxmFO6EiIm1fMtpLZ13mAATYAJMgAkwASbABJgAE2ACUUHg9u3b9MUXX0jlVZYsWeizzz6jrl27Uv369aOieq6DCTABPyDAFlh+MAmxpQt/Ltwvh9K8VkGKG+elbhT7LesWpv+J2Fjz1x6jVvWKxJYh8ziYABNgAkyACTABJsAEmAAT8AMC8+bNo0ePHsmerFmzhgoVKuQHveIuMAEmEJUEYqUCK0xY+hw/f4tee42oYK60sS5w+INHT+jMpRD5efzkGeXIlIqK5UtPKZMlsrk2gu88pEdhT6VVFAKqo9zRszcp/PEzyp01NRXKlY6SJbF26VNlEiWMRxkCktnUiQT04fZdyz+ILBlSSOsqWF9BYHFllKY1CkgF1skLtynkfhilYXcDIyI+ZgJMgAkwASYQ4wmEi/uSTcIiG1K2cGYKSJVE7vMf3xHYu3cvnTt3jtKmTUu1atXyXUOxpOawsDBaunSpHA3iamXIkCHaRsZz5VvUFy9elA3AZdBd5dWrvC58S4VrZwKxi0CsU2AhgHjfX9ZQyL0wOVPpUiehn3rXo5IFMsb4mcNN4fg5e2n6soP0/EWE1XgQSLV7m/LUsWlJq/TOg5fQxWv36LvuNWnDngu0fvd5q/MItv5tt5pUrXQOLf3rMetp1+ErlDxpAlo74T1KmMD2Mvl11k6au/qYzLNuYgc6cPya8IUmSituVLNlTKnVpXbSpU5K2TOllH1B3toVcqtTvGUCTIAJMAEmwARiCYG798Op3+i1cjRjv2pMlViB5fOZHTduHE2ePFkGOEfwahbHBG7dukWtW7eWmf7991+qV6+e4wJReJbnKgphmlR186blZXqaNGlMzjpOepXXheOe8VkmwAT0BF76eelTY+g+LK/0yisMI/jOI5n25OnLQH4xdHjUdegymrokUCqvYDVVPH8GypI+uRzO02cvaPSMnbQ98JLV8BLEjyuPv5u4WSqv4glFV6HcaaXFFlYIvCNuNHv//C9dDQ7Vyr1dp7DcD334hNbuOqelqx1Yfa3aekYewtoKbSjrqxIF7L/FKlXQokQ8dPqGqoq3TIAJMAEmwASYABNgAkyACTABrwm8ePFC1hE/fnyv6+IKmAAT8E8CsUqBdfpiiGZ5pcd9M+ShdJ3Tp8XE/f6dqgjrphTUr1Nl2jS5I00b2pyWj2lH80a2ojQpLSsATV50wGpoiSKtp6DAK5w7Ha0Q+f/+sQVN//4tmjS4qcz7TCi/YNWlpGa5nMLk31LfgnXHVbK2hSVXqHAhhLxV2+JbfjvS4g3ujPYkWwaLZVZwiMX10F4+TmcCTIAJMAEmwAT8g8Cz5y/obmi4f3TGpBcIS4DVsDwRvJC7/+CxW0VxP+XPPNwZzIMHD+ju3bvuFNHyBgcHW63ypp3wcufOnTv09OlTj2pBuatXr1J4eNRfr76s26PBulgI8+Tp98OTOYYVk6fzZzYkKKSUVZXZeX9IQx9v3Ljh0fcB1yqu+aiWJ0+eUEhIiFvV+iNr9On69ev08OFDu2MBe0++8578/kX19W13UHzCIYFYpcBCzCt7EsfRSXuF/Cy9YM60tPS3d6htg2JWQdLzZktDb9YsIHt77or1j2DcOBYoccT2p951ZSwsNSy4VcIaC3L20sty8ePF1RRT+45do6Cr1jc3izeckGWK5k1P+bIHyH11M5cyWUJ5bPZHnbsjbjZZmAATYAJMgAnERAInLtySFtE1Ok+lt3r/Q1MWHxCW0Za3/jFxPGZ9hlJnxNRt1KbfPKr47iTCWBt2myFcA9fYfSHYV5xrN2A+9Ri+Uqty+JStMg3pnQcvpm/Hb5TH7w9aRFAemcnTZ89lXpT5ZcYOmQWxO3GMD+4hth64SJ/+uEL2q1aXv6hyh8nUceAiwks8KNwcCUJMDBVW6W+Luav03p9UrdMUqtd1OvX6aRWdu/zyXkhfB5RWM5Yfoqaf/U0V2v8h220geMDq/9qtlxbs+jK+3t+1axeVL19efpYsWSKbO3z4sJaGczNnzrTpxvPnz2n06NGUN29eSp48OaVOnZqyZs1KnTt3dqrMmjNnDtWpU4fSpUtH6dOnp2TJklHZsmXpp59+8ujhXXVu2bJl1KhRI8KqcXD9SpEiBVWtWlXWiwdYRwKF1QcffEDFihWjpEmTyjowrtKlS9PYsWOtlDdt2rSRfJo0aaJV2aNHD41ZjRo1tHTsuFO3VUHDgatzhXFg3qpVq2b3gRyKCfQT+fr27StbQlwtdS3gAXvlypWEMap5SpkyJVWpUoV+/PFHevbM/HunuuzJHAcGBlLLli3lvKFNzF/lypVpzJgxqlq3tlAsDBgwQI4J1xhilKVKlUpeEyNHjrQZgzO+7du3d9i+u9eFquzYsWP09ttvU5IkSShjxoza90HFV1P5jFso5LAyYtGiReV3ENc8voPNmzen48dtDQeM5e0dY+67detGJUqUkH0JCAigzJkzU4MGDQiusmbiLmuzOvRp3333nZy3Xr166ZOt9tu1ayfzTJw40SodK0biOkY62L711luSbaZMmSSncuXK0bp162SZK1euyN+s7NmzS/b4zhcvXpwWLFhgVScOjhw5IuutUKGC/J3C7x9ipLn6+xfV17dNBznBbQK2wY3crsJ/CuTLESAVNLC40ktm4WaXJ1tqfVKM3g+6dpegWEJsq/sPH8uA7NdvP5Bjwo0ZbrSU66AaaIViWYS7YQp1qG0rlchGx8/dIlVenXi7dmH6c+EBeiFibS1Yf5x6ta8oT12/9YB2Hr4s95X1FQ5CRT8gxoDwMjHyT9LIYPHKekt/jveZABNgAkyACfg7gYvX71HHrxcRYlJC8PLm15m75Fb9n/T3MTjr3/aDl2jQ7xvo1l1ra+lr4v8/Ppv2BVGtcrlsqjkjrOCNCqCgq/e0fFgYpkKxrLRwveUlGEIUNK6aXzuvdjaL+nGPA2nXuLjcItzB0bPBcv/32XtonljRWC+PRAiJwJPX5eff7Wfox8/qUK4stvd9G0Vw+cHjNtpYUOG+EZ9tIgwDrN319zdQTvb/da1NDFHcD+FzWIRFgEW72T2Wvo9RvY9g1Xv27LGqFg+j+rRr1ywc9Znatm1LFy5c0CcRHgYRQ2v9+vV06NAh+WCnzxAaGkrvv/8+zZ8/X58slSz79u0jfPDgiAd3BJJ3VWBV8fHHH9P06dOtisCaYuvWrfKDPtmzJEGfe/fuTffuvbzOUBGUNAcOHKDu3bvLB2GlSIGCDw/Gejl58qR2CAWYEnfrVuXMtq7OVY4cOWjSpEmyCrDGg75RoOzbtGmTTO7Zs6fcwlJKzfvXX38tFQB6qyvM37Zt2+Tnn3/+ob///psKFixoVbWnc4x5QgwxBEBXgvlDLDZ8oKwZMmSIOuV0u3HjRurQoQOpYOyqAOZYXRMzZsygWbNmaUHanfGF0s+RuHNdqHqgNIRCRa14iHSMG9+Fpk2b0m+//Uaffvqpyq5toWyGshjKJr3gO4jPqlWr6H//+x916dJFf9rp/vLly6lTp0421mr4DcAHCiwozaC8SZgwoazPE9bOOoLvHa5FKDLtCeYRcwbFml4OHjwoy0JZ2adPH8I1qQTXM5g3bNiQcA0PHDiQjh49qk7L7zzmEQpF8Pvkk0+0c2Ctvh+tWrWyUXI5+v2L6utb6xTveEUgVllgwV1u5Of1KGPaZBoUxIgaKYK4w6oopgtW/hsyYRO9+dlsuUU8LLj4rdh6mvaLwOhKzN4+ZjcJrI78apVB/T86pIOhCuy+ZONJwhtRyNLNJ2Ww9sSJ4lGDynllGv4kTZxA7uMm0p48DLP8A0mamP3S7THidCbABJgAE/BfArNWHNaUV/pezlh2yK5FkT6fv+9DIdNn5GpNeVXn9dw0olddmjnsLRr6SS1CLEusYoz7DqMM61Gbxn7ZmAZ9VF079YlYXAZp+Iz+ooFUDCH+JsQsRAHSF0VaeacQFt21y9sqypTyqmGVvPKeb8YPb9EQsRgNrMIhWO34czEGdd8iE8WfKzfvU38RXB5KR9yHoG9ThrxJ039oTn07VqZUyRPJF4DD/txCUFQq2XPkqqa8qlwym1RWTRzUhNo0KCqzQKm3Zuc5lT3atrBQwsMuPpUqVZLtYtU1lYZtixYtbPoD5RUsRmCNs3nzZtqwYYO01kFGnIOFi1Fg6aOUVzVr1qSFCxcSrBJWrFhBb775psy+c+dO6tevn7Gow+OvvvpKU17hgRdto09r1qyhQYMGUeLEieV4goKCTOuBcgSKDVhSID8sj6DcgfVOzpw5ZZnx48drVi1QeoDLH3/8odX3/fffa8wWLVqkpbtbt1bQZMfVuYLSQsVu0vdRX+WUKVPkIax2YKFilAkTJkirs3feeUfO2e7du2nq1KkE6xMI5g0P+Ualjqdz3L9/f6m8gqUULN72798vlaH58uWT7UHZBAWbKwKLN4xJKa9w/cIiDMqHadOmSQss1IMxIJ9yG9PzVVZ0+u8C+uVI3LkuVD24PqC8gkUi+gjlCq41WLtBcD0aXQPPnz9PUCBDoQIrNVx7UJDAguzXX3+Vyl+MCcqXM2fOqKacbvG9hWIGfYoTJw5BsYnvJpSWo0aNktZrqOT06dOapaSnrJ12xosM+F2C4PsP5ZVii/n/5ptv6DXhTQX3VMw9lFeYd4wTDKHQihvX8qw/dOhQK4Wqqhd1Q9Huzu9fVF7faJ8liggIxUWskydPn0UcPxcccfx8cAT2Y4u0/3J+RImW4+Sn48CFET9M2hwxZ/WRiI17zkdMnL9XOycURdqQ3/tqgUwf+89uLU2/88+/R+T5Nz6dqU+W+9sCL2p1ijeaMg350IfB4zZY5f9GHCN9zN+7rNL1B5MW7JN5+v6yWp/M+0yACTABJsAEYgSBz4av1P4vqv/Hanv+yp0YMQZHnfxk2HJtfLNXHbbJ+lwsgSzcArU8GHvIvUdW+a4Fh2rncR9hlC9GrdbOXzAwC77zMKJU6/Hy/I+Tt2hFt+wP0sqgzSUbT2jn1I5QWMl7EzUf4+fuUafktuvQpbKO19/9I+Lc5RCrczi4fONeBM6hvHAn1M6jHqSVFv0y3lPiHmz3kcta3le1IywvEAQsomLFiqZdEJYN8jzyxIsXL0I8bFvlExZLEcKVUOYpVaqU1TnxEBwhHhzlOWE5YnVOHQi3JXke+YRyQSU73ArFSoR42JblhCtVhIhzY5NfuFNFCMWWzIO+C4sqmzzCTTJCPIzbpIuH+ohEiRLJssLqxOq8UJBodQrLFKtz+gNP6taXN9t3NldCEaH1TViHWVUhLGkixEO6PC9cH7Vz4iFeKwNOf/31l3ZO7YgH/wihINPyffvtt+pUhKdzjDqFwk3WKRQ2Wn3YuXz5SoTkJgAAQABJREFUcoRQOkQIq0CrdEcHwnJJ69/vv/9uk1W4v0YINzMtj1CY2uRxxtemgC7BletCuPlp7QsFWwS+O3oRCiPt/OLFi/WnIurXry/PCWVfBK5to5w7dy4C5zCHaMdVEZZMsgy+f7gWjCIUVxFCWRwhlJbaKW9Zq98E4e6n1YkdxUe4BFul6w+E25/sr1A66ZMjmjVrJtMxfjO2qBPn8MFvnZG9UAhq54X1n1Y3fpNUOXd+/6L6+tY6xDteE4hVFlji4pQCa6uCudISYkbFBssrDApvDg+ftiwNO7hrDfHWsBkN6FyVWtYtQtXL5qTM6ZJbBm/nr/ihsXPGfnLF4lll0HjkwJtSWHldun5fFnirjiV4uyqdNnKZbLyJtCeXb1jKqoDz9vJxOhNgAkyACTABfySgt/DW9w/xJp39H9bn98d9WFBv2X9Rdq1iiazUur7FwkjfV8TT7NnudbJn1a3Pa2+/Vf0i2imEKNDLss2nZOgCpOnd+PR5alfIRU2qF9AnyX1YdsGSKkOAxQ1s1baXFgywAN9x0BL+oGPTkqbuhXABRPgEyJ6jV+QWf9KlttQndHc0cd4+sYiNJWQCzuEerFyRLNiNMYJYRWXKlLHqLywX6tatK9POnj1rdQ4WC+JpQ8aXgluUmcCSBPeZyKfc28zy6dNgtYL4ViiHmDeIc2QUuLkNHz7cmGx1DEsjxMjRy+PHj6UlTK5cFgs+WL54Ir6s215/EMNIiXInVMdwtUQMM4g9FzNYV7333nuqiLYVD+7SfSxbtmwybfbs2do5T+cYdSIWGgT17dixQ6sT8cwGDx4srxst0cEOrJngHgkRih4Zy8mYHdZFuB6UdReuoVcluG4R70lZ/ah+6N3i9N8lWBStXr1aZvviiy9sXDhxAtcr4qBB4N7nity/f19aECIvrLDgYmcUxLuDVZKy7vNX1upZ1R7bWrVqaUODq6yRvf66FwpULa+qFwnu/P5F5fWtdYZ3ooRAvCiphSuJUgJwFYTo40khLoOS8iKelVHW+sB8HV943JyNmr6Ddh66LPyLLYE082VPQ8XyWt9oKNP9AyeuGbumHR88dUPuF8pl3y9ay8w7TIAJMAEmwAT8jMA7jYpJFze40enl3TdK2MSe1J+PCfungm5r3TSLTaVOIsZm3Yq5ZZxMlebOtmzhzJQ7a2oZLwshCuDKp142mi0SY6zbUd8SJ4pPtSvkJrh6Bok4oQgUn1CEl8Aq1UqwkrL+WKVjizhekNCHYgUvESw+TYrEBGVechHDE/E7/1iwn/5aelC6K5YplImqlM5OJfJnlGUc/YELFdyCnAUkN9aB4NJQSESlQDlgJtWrV5euUHggRj+hLIAgJhYEihPEJrInUF5B9DGl7OVFOuLdQBBMWVhTyH2zP3C5wkO9UtwY88AVbty4cVL5gfhWZqvBIc0T8WXd9vqDeShcuLCM1QXXPygHleJBuQ/CHRBB683EUcByxPiC+xXc1U6dOiVd8ISVmldzDKXJL7/8IuuDK2tO4bqJgPFQNgiLGrlIgFk/jWm4ztT3w9EYEL8JSogffviBoJjEKpqImRTdgnhlxjhi6ANcF+EOi++83oUQ8ZnUd0RYZhGOzQQBxyEoizocxZJCPn09rv5W+Dtre2z1LBCo3igIWI9nV3DWs9fnc/f3L6qub30feN97AqzA8p5hlNaw49Al6jlilfgRjxCrBtajGsK6CpJJF9drplgJp0+HSvJLinxYAQk3ZL4QrG44ZvZuGRdi77Grsgmzt6KIiwG5cjOUboQ8oAxpkslj9efeg3AtuGvZIplVMm+ZABNgAkyACcQYArA8mvpdM/pFvNg5fv4WBaRMTE1rFKD3mtjeTMeYQUV2FAvEKHFmYZUxwPp/vCrn6rZlvcI0fPI2saJguLx/qVcxjwyGfv6KpQ9vG6y89fXq74f06Wo/WwbLgjW4P7okLL+xUrN+bCfEvOHjTGD5DgVWprTJafzAN2j4lG10SLyIw0I5sEjHBwqtcuKeZuTn9Qkxu+wJgpB7Yi1i9pBmrw1X07Fql5kg3pSZQNEBQWyeefPmmWWxSoNSwRVR9cI6xJFAwYLA8GZKKMRb6tixo9VDvKO63Dnny7qd9QOB7REAHAoMxOWCwgZxktQKdcpKx6wee/Or8ubJk0fuQiEIC6EiRYpI5RMSPZljrECJORIufwTlJ+Ix4YPYV1iJDsoyR4pP1S/hPqd2ydkY9NcMFKYqvpdWQTTsOOqj2XdJXe/oGq4tfJwJvkt6pY1ZfsS1UuKoTyoPtq+atYpdpu+Tft/eOPRcEUPMKFC642NP2Y38rtStrzeqrm99nbzvPQFWYHnPMEprWLfrvHhjaDEPXr39rKbAKiPeWOKGEoFFZ4o3i0uFmT0sobDCD1YKyipu2JSLXphwA0gi3kJGhaRMlojqV8pDSzdZbmDw5tXs7SfyFcgZIIOnLt98mjo1K2XV/L9iLBD0M6a7WVgNjA+YABNgAkzgP0UA4QkmDGwS68asf/EkYlE5HN8dEQjdG3mjWn65eiMs2RCiAAqsxRssq8Hh/qV+JftKDWdt39T1XbkTKjdA9LlJ9fxUooBzq6nMQnGlpEie9DRtaHMScc6Ee+FV2is+m/cHyYD2OP52wkapxFL5jVu4WWG1PGVhYjxv7xhLyke1INi2OwKrBgRRxwMjHuacSdasWZ1lkeeRD/UimLQjwcMorGyMApesxo0bk4idRXD1+fzzz6V1ERQ0Ip6XfJCtVq0abdmyxVjU6bEv63bauMjw7rvvEoJHY5VGBHOHAktZXyFgfevWre1WY1zdzphRz1vNlTdzDDcuWEMhID8C8MP1DYHyYeWDAPtwdYQitmTJksauWB1nzPjyO+lsDFg1Tok9hYQ676utJ98j1Rco9NTCCyrNbAtLJGcCV00lcJtzRZkXHaztKZHg3gvFrCNxha2yZnNUj9k5V+rWl4uq61tfJ+97T4AVWN4zjNIaGlXJRyvF6j6ItdC4Wj6tbtzQ/f5lIxo2eSttF+6E9x88lstMQ6FUs1xO+vqDalT7w2kyP27uAiJjUiFeBSR+PIspuDxw8w/cCJUCq44wzbf3lhGWWcP+3EpzVx+lDk1LUNxI83M0N2/NMdlqh1jwltpNfJydCTABJsAEmIDfE8gvXkIp2XrgonTFU8fG7faDL8MaGM/pj+09ZCRPklC8DMtH89celyEKzl4OoVXbLTGrsMKxo5dw20TfKpWwxPHRt4V9WF3hHgmCl2VoBwIrLCWI2dmijiXWlUpzdZsrS2oZP6tVvSLSxbDL4CXSuhw80La65zLWB4WK2ep+xnzeHrurIHOlPRFgXcY2woMn3Gmiyl0LSg2sknbixAlpsQPXMzPBKolo2yhYeQzKKwjYiqDmxiyaxZLNCV2CGbOoqlvXjM2uWbsqE1aya9eunYwNtnbtWulOqGJWwa3U0UM4VmKs93/2rgM8qqqJDiSkEJJAgISEDqE36V0QEBBQ7CgqCioiWEDFXhDhF0URFFFRUIqNoiJFBCmidOm91wQIJJQA6ck/5yZ3ebvZlmSTbJIZv817e9+t576VfWdnznTvrrsyO2JMFq1XZcBbZ8xzxR4jPBH6S3hBpwoeWQibZaFtpf3kiMAyXscaEOpoy/QaQAxb6p/ZapPVcnv7k9W+UB8YawOBNHjwYP02R0djKClwcyaMMDex1hn/tmzZogh7HYqsF4mMgrb+XdB13PGY0/vbHddUkOeUfVajIK/ajefejDUV/vpqAK2YOoDa32Tu5l2ZPbCQinrZl4/QtFF3qPTPa2cMok84NTUIq+1zhqiX8YsaxN5R/vhdzayuGl/CcH3hp/2tXkdhckq69hXOLcXbUaYNv6j6+ngShNyN4qnQz4K2RliwP93Zpa6uLkdBQBAQBAQBQUAQyGME8G/66v+OU1SMuZcVwuXgSQ37bdV+sqVp+dvK/bR9fzpxYG3q+GFNG35ss2X38fcPbc+O+4O0/uddXe1/T/hp6W7iTNO6qdkR1w4cT9fyasOJaLQFB/lRTdbdgsGLHYSZNZv+2zb6aOY64oyGpssp/NA/k3WvtJe7vgC8mtUNVW/j4pOV3pa+ltdH6ALBbOm+5GQ+mgwBicQZ4Kx2hZCkPn36EB5OnTXdL2f6Is4uqIgOy7acwc4qMYV6xpBCEISWNn/+fLLlyaPxQhtrmOWkb8t5WL7XY1sb11gXYYQwPOwDW3gzwWyJt6uL/Gfy5Mk2w9Nwbdu2baqqFu3HG70X2dljaDCBrLI0eI1pi45O/0zq99aOQUFB1KxZ+rPK9OnTCSSiNTNeM67BWt2slum9QTtH+5PVvuHlhnBNGMIqoddmzUD+wZsQnwtnDGQYNNNg8NLj7J6ZmkG03Rj+m5tYQ9MOhs8eSCyj4V52lJTBWN8dzl11f7vDWgrTHITAcsPdhAipn6+XzZnhixhCCpvyFyctfGqzsgsuICsQrEpoIEF81ZZhzvpXzU9/2EjxLJ6KL4Hj2GsM9vR9LfJkvrbmJ+WCgCAgCAgCgkBRR+DZ95corc3bhs6m45HmoVnw5mYNXH5oJho8eiF99/t2ijwfq7yLUHf8d2tp1Jer7ULo73fj+wvCA0FMgQQyZvZDBwjFbFQrPYNZJOtnwqwliVEXDH/goT7w7QVMRO2kc9FX1dyOnr5IY75eQx/y/GCl/X3o2QfNw+9efbyDugYNK7THdxtkFITsAvSsXv90BeG7y+xFO2n0V3+ruvgO8/SYxSqZzaNv/UorNh2lK9cS1A97f7LH2BL2mIeFs6QDvrvll+GBFAY9HGRyw4Miwqzg3ZRT43T21LlzZ9XNzJkzlWcMHr7hoQLiasaMGSpsafHixdSxY0enRdz79u2rQgDR8ZIlS1RbkBZxcXGKrEF/8BTRuk9qAoY/Rn0weGAZQ+OAwZAhQ0y1Lb1pjIQXQvSg3YSQJ535LSd9mwa1ceLsXmHtbdq0Ub1oXbHGjRuTo7BSeDxhH0CSIKQMaweGIMQ0AQlNMYT9acvuHi9cuFDNEZ5W8CjCwz7uvZMnT5rh70xYG+aCrIsIB8Wcu3XrpkJWEWaK99C6gqaWJvDKli3rcq9GR/eFxiu7RxCIMGhAYY+QVRLEJEJFEeoK8XqEjk6YMMGUjdCZsaZMmZKhi5xKt9xyC3311VcUFRWlPBc3bNhASAwAQvHll182dZdbWGNd2jCe3j/8vwihrzrTJOogSYI7m6vvb3dea0Gbm4QQFrQdy+P54hfaJf+kf0GzJt5uOZ0hTFJB7+pc9DWVBcjby0N9Qa5esTT14nABMUFAEBAEBAFBQBDIHwRAyOiELCCCNu+OoGphpU2TaVQrhJ7r35o++3ET/wCVShNnb1AvhMYhRA7m4+1J+D6ATH/WDD+s3cSJXeClBX2oDo9NJ0+P4or0+e/Hwepct+vXoyGLt6/Ub1W/pjc2TqCxCU+p8d+tUy/j3NAE4Yejh95CZdhDymgtG1SkJ+9pRl/P36pkGN6cfGNcYz2EGA6+p7kqwloqZCTRib4URy9+tEyVezAewE/bAM5CmZ+Gh1ZkqwN5cPvtt5OXl5d6OIQu0ZgxY3I8talTpyqyCQTZr7/+ql4IDbIkhkCQ1KlTx+nxkD2wZ8+eyhsFD9p4+EW/WAdeMBBdGNfSYwVkDjSuoLuEjIbQAoLgNeYEjx9409SqVUu1BUFgNGT1Q6Y8EGYIUURYJIgTeL3glZO+jeNYO8/KXg0dOpSAizZN3uj31o6vvfYajRs3joYPH65e0PAx6hFBQwueOiCxjJadPYZGE3CDgQjES997um9g6aynVNOmTRXxBqIK3mAgQPCyXAP2C2RqSIh5RnQ9ZnaPju4Lvdbs9g8i+K233lKfSSR2GDBggOpKZ87T/SIsEvWcNRBUqP/ee+8RvK1A3uJl+Rndvn27whWfjdzCGnuNdYIMxguhqsb900kZQK6CrHZnc/X97c5rLWhzEw+sgrZjeTBfiMIjkyDCB976fKXypFJfWLvUczg6vLBGPtZOeWpBx+K29rU4FLIyDe3X0kwTy2FHUkEQEAQEAUFAEBAEXIoACJl+PdO1WJDNr2ubGpn6H9iXCaJ3+1LtqunhhKgA8srHy5NaNaxIX7zRm4zheZk64IKXBrQjEEHaELYI0gfeT0a7lcfXHlsIPbSWJMZYH+cP3taQxjzThRqGB6s+NbEGkqxtk0o096P76ObmVS2bqffD+rWiqW/frjym4GlmNMwXmZfnjL+PINmg7e2nOtHQ+1syIeaji0zkFZLrYC7IRJmfBlLEqKmjPRs0cYEHSG0gGLJqIIIQeoaHYq2bpMkrPAw3b96c5s6dm+XwoMqVK6swIxAWOqsY+gV5BTF2CN8j9Enr6hjnjTWBTIMgtiYWIA4N8gohVfCe0DpK1kSj4eWi9ZMwHogr9APvmJz2bZyn5bmjvTLWh9eM9grCgz88dBwZshfCKw6eWliPvgdAzvTo0UOJqyMk0dKys8cgp0AggnhE/zB97+H9gw8+qDS3QJo5ayDtcK916dLF1KdeA7LQQYcNZGavXr2sdqnv9ezc5+jQ3n2B6zntf/To0QRdM2hXaX0oTdbifhw0aBCBaNLZIjGmM/buu+/S33//rQTzQYjB9GdUe6tBO8wYJpkTrO3hsGDBApWIQM9D7x88G0FqtWzZUs1Pl6s3/Mden6jjzJ7qOvqIdrpfZ/tAPVhu3N/pPcvfnCJQjD80N35Cymlv0r5QIPDl3P8IL6PhF1nLzILG63IuCAgCgoAgIAgIAgUDAWQZDAr0dfjDEsL/9h+/oLymGtQsnyUZAMgI7DkcpULuAvy8WV+rHJUqaU6eoE6XJ2bQdQ7jQxKb/z3X1SqAEJV/hkMfYcu/eoR0VsFrcYnswRWl+gXhZtTfstqRoRBjHuC1gVSrxW2haeXIovkHvsOnYiiVvzqHcpbCqiytoB/SHLXNi+tHjhxRD/cgLuA9oLVxXDk2HhsQOoiQIGSAq1evnolAysk46BeeVocPH1YP4cbsao76hTfLwYMHCccWLVoQxL2dMXiAQLcLekcgihC2p4k03T67fev2to7O7BXmBy8jZEWEqPvs2bOtdgfxbk3oIJRSE3Not3HjRkU64mHcSF5Y7SijMDt7DAJQC/JjziDENPlmbyx710CGoU+EJKI/vDTpY69dTq85c1/kdAy0h8ab9orC/sCD0BUGj0OEcyJ7J4gyZz5LuYE11rd79271uYQ2Vt269vUNXbH23OojN+7v3JprUehXCKyisMtZXOMns9fTjN93qFb4gvtQr0aEX2RtZdfJYvdSXRAQBAQBQUAQEAQEAZXw5dVJfykkvuHkNLZ0Nm0RWAKhIFCYEUDmQXgxweC5glAxa2aLwLJWV8oEAUFAECjoCIgGVkHfwVyY/4iH2xK0rOCWb09MPheGli4FAUFAEBAEBAFBoIggACF2mKMkMUUEDlmmIGCGAITYYbVr17ZJXpk1kDeCgCAgCBQBBITAKgKbnJ0l+nrnXzad7MxX2ggCgoAgIAgIAoKAeyOAbIQeLNKN0MGflu5W4X+YMXStxASBoo4ANIGg14MQNmSs0wLu0LUSEwQEAUFAEEhHQAgsuRMEAUFAEBAEBAFBQBAQBHIdAZBW3/yylRISU5TuFQYMC/anO28puNoouQ6aDFBkEABphWySEJKHfhWsevXqSti7yIAgCxUEBAFBwAECQmA5AEguCwKCgCAgCAgCgoAgIAjkHIGTZy7TxSvxpo7CyvvTxy90J0de38aMgZJ6yASfnBQyBCBib8yYWK1aNZtZGI1LNyYSkNxcRmTkXBAQBAojAiLiXhh3VdYkCAgCgoAgIAgIAoKAmyFwLuYqbdt3VoUQVgoJIGQ2dEReYQl4KL8Um058BZbykaQybravMh3XIBAREUH//POPCiFE1raWLVtSyZIlHXaOz0d0dLSqFxQUlCeZ+hxOSioIAoKAIJBLCAiBlUvASreCgCAgCAgCgoAgIAgIAoKAICAICAKCgCAgCAgCrkGguGu6kV4EAUFAEBAEBAFBQBAQBAQBQUAQEAQEAUFAEBAEBIHcQUAIrNzBVXoVBAQBQUAQEAQEAUFAEBAEBAFBQBAQBAQBQUAQcBECQmC5CEjpRhAQBAQBQUAQEAQEAUFAEBAEBAFBQBAQBAQBQSB3EBACK3dwlV4FAUFAEBAEBAFBQBAQBAQBQUAQEAQEAUFAEBAEXISAEFguAlK6EQQEAUFAEBAEBAFBQBAQBAQBQUAQEAQEAUFAEMgdBITAyh1cpVdBQBAQBAQBQUAQEAQEAUFAEBAEBAFBQBAQBAQBFyHg6aJ+pJtCgkBiUgrNXb6HUlPTqM/NtalMgG8hWZksQxAQBAQBQUAQEAQEAUFAEBAEBAFBQBAQBAoqAuKBVVB3LpfmfeVaAo3/bh19PHM9RV+Ky6VRcq/b7QfO0ttTVtH1+CS6FpdIo75cTWu2nMi9AaVnQUAQEAQEAUFAEBAEBAFBQBAQBAQBQUAQyHUExAMr1yGWAfISgck/bqL/9kZSaLlS5OtTgn5buZ827jxNLRuGka93ibyciowlCAgCgoAgIAgIAoKAICAICAKCgCAgCAgCLkJAPLBcBKR0k/8IbGCiCuRVmQAfeqh3Y7q/ewMqV7oknblwlabO35L/E5QZCAKCgCAgCAgCgoAgIAgIAoKAICAICAKCQLYQEAIrW7BJI3dEYPJPm9S0RjzclgL8vKkke2A927+VKvt56R4VUuiO83aXOV1YuJDwsrTEqCiK/OILOvz883T6k08sL+fL+6gff6SYP//Ml7ELw6DXdu+mcz/8QAmRkYVhObIGQUAQEAQEAUFAEBAEBAFBQBAoAghICGER2OSisMTV/x2n3YejKDjIj3rfXMu0ZAjRfzHnPzrLXliL/zmkvLJMF7N5cursZdq8x/6Df4WypajdTZWzOUL+NDvywguUdOECdbh40TSB+BMnaFv79pQYEaHKSjZoQKc//dR0vfLIkVRx6FDT+/Pz5lFqYiKF9O9vKsuNk33cf6kWLSioR4/c6D5X+rz0998Ud+gQBXbsSCXr1KFLa9bQ/kcfNY3VYO5c8uc15YWdnz+fTowaRQ0XLSLvsLC8GNKpMfbefz+FPfssFfP0pFPjxlGDX3+lYsXldxanwJNKgoAgIAgIAoKAICAICAKCQCFHQAisQr7BRWV5037dqpZ6V5e65GF44MX5fbfWp89YG2v+X3tdQmDtPHSORn/1t11oG9cOKXAElrUFnZ40SZFXFUeMoLDBgykpJoa2M6HlEx5OZfv0Ib/69U3NEs+do70PPED+zZrlOoFlGrQAnRx65hm6zp5PTVatUgRWiXLlqNydd9LVbdvoMpNbqfHxBWg1rp/qhQUL6DyTeD7Vq5MXk2rRv/9OUT/9JPeS66GWHgUBQUAQEAQEAUFAEBAEBIECiUChJLDiOAPdvmMXqFgxorrVyxV48e6k5BSKjIpVN1gIi5P7eFnftoioK5ScnEqlSnpRWdZ+0nb1eiIdPhWjXgmJyVQ1tDQ1qhVMgaV8dBWHx9TUNILnEaxqWGmr9aNirhGwL1emJPn5emWqo/vYf/wCXbwSTzUqlaE61cranUfk+VjlWXXh4nVVv0F4efIv6W3WNzInwvsKBo8rS7ujcx1FYB04Hk0xV+IoKMDXskq23rduVJFubVvTatuyga4Zw2rneVh4dQtrh/EHqRp763gGBFDylStq9NI330zhFuGEIB8oJYXKFCCvqLyCMoE92EBeeYWGUiBjBwP5BwxBEoLAKsqWlpZGx996i4r7+VGll14iz9KlVdjqiXffpeB+/aiYh0dRhkfWLggIAoKAICAICAKCgCAgCAgCjIB1JqQAQwMR75c/WU4xl+PUKsozmTL+he50U50KBXZVIGcGvr1Azf/5h1rTwL5NM60FxEzf53+i5JRUGv5wG3rsjpsonsmqLzl8btaiHZTCBJTRSngWp2EPtFL1jOW2zjfviaCn3lukLm+fM8RqtQdfnUfRl+Jo7LNdqHdHcyJpF3stvT1lFR2LuGTW1tOjOA2+pzkNuqsp4VwbSDt4OSHsD8SX0V4c0JYe6dPEVLRt3xni518l2F65QqCpXJ+UL+NHVUID6eSZy4S6XVvX0JdydKxVpSzd2+2GB1KOOnPTxknR0VTM21uRV46mGPXzz6pKUM+ejqoWuetar6v8ffdJSJyV3T/P9861XbuoEoekepUvr2pUffNN2v/II3Ru9myqYAi1tNJcigQBQUAQEAQEAUFAEBAEBAFBoAggcIMxKASLhfePkbzCks6z5w7KEpNSCuwKm9YNpeoV072eflmxj8kac0IHC1u85qAir0AC3dGpjlrrkDGL6LvftyvyCl5ZCGurGOyvriWxp9bE2Rto3fZT6r2jP6lWxrRsY0k06etL/j1Ej771myKvPJk4q1+jPLVsEKayBYJwmzJnM73+2QpdXR3fn/YvLfz7oCKvqjAp1bRuBfIqke6F8fHM9fTj0l2m+tr7qkmdEFOZ5QnawxD+J5YFBFJTnfJ+STh9mq6sXUsegYEU0Lp1FgYoGlUvZgjOl+cQS7HMCER89pnyvoKmmjaQfSWYzDr98ce6SI6CgCAgCAgCgoAgIAgIAoKAIFCEEShUHliHTsaYPK+Me4rQNoTQgTgpqHbfrQ3ow+/WchjfFSUg3qphRbOlLFh9QL3v1KIqBWWEr706qAONnLCM+vdqpLSftDYUsBg8eqHCavpv23JVqwmecOOm/6uIKHjBwTurYnCAmitIxc9+3MgeYjtp2bojdE/XetS6USVVd/n6I6rOQzz3kY+1V+ex1xPo6TGLCSRYuyY3BNKjM7ztEBppyyqHpHtmnY+5bqtKvpQDnx/+2EUHT0TTueirFFrOn+5mHMoE+tCCVQeoO4coWu51TicavWQJXfjtN+XxglCtwA4dqOJzz5l1e4y9X+B9BRF3iLIffPppdT3sqafM6uk3yGYX/NBD5NeokRLg1uX6CH0jaBrBy8YzKIhK3XSTGtNSQPziypV0fs4cVa9YiRLk17ix8r7xb95cd2X1iNDGo6++SqgX+vjjZnXOsxD4xWXLqBLreJWsXZsSzpyhE6NHU9nevcmjVCmKmDyZ4g4fVmQJ2gYzyXRl40Y6++236ujNYX/l7rqLQp980tSv1T6OHCGfqlWpXN++VGHgQFNdnPhUq0ahrCEW0KaNWbkzb068957KFqjnb2wDzy7sZVCvXlTu9tspNSGBIqdMoSvr19N1Foz39PengHbtCMRQibJljU0znSOzI4TlES7qFXKDDE5NSqLDfH/41qpFlVno32gYG3uLrIbwnPJv1YoqvfiiGlfXS4mLU+GAMX/8QcmXLqm9h0cV7jttaA9xe+19hfLi7PlXltd0dsYMdQ8W98oclqzby1EQEAQEAUFAEBAEBAFBQBAQBAo/AoWKwILmlS0rbu+irUZuVN6nU2369IeNKixwHouRG0mNvUfP02Em72D3dL0R0la3Wjla+GnmbHDhlYOo7y116NvfttPRiBsZ53JjubMW76ArVxNY58qbJozsYaY/BY+qFx5pSzsPnqMd/Prxj92KwIJO19W4RDWd0PLpHmN4A+2rb0f3VaGGxQz7eSk2XtXFGLZMX7vIoZauMuAOjzhrBoKtAuuV2TN4v70yaTnFXktfa5kAH4JOFzIqQrttP+u4wfPOuNf2+nN0DZ57B5hYOceEAMyDyY001qy6uHSpCtNCBkJtyFKXcPIkpTL5gPjMczNnqkvl7r5bVzE7BjBxETBrllkZ3qSxBxfCwKJ++EFd8yxThpJjYwkeSWemTqUGv/xCpTt3VtcOMjmGMpieG7ShQMhUffttqsYvW4a5n/niC0pm8smSwIrdsIHOfPkllecMdyCwks6fV+8vMVkG4grrg/bStR076NJff9Fl9iQDeQUyCKTJte3bCeRL/KlTVJ2JL5i1PkCGoW40EzpxTGZVHzPGNN0aH3xgOs/qCYhEzB+EXi1DBkj0AyLuyrp1VOGxxwhecDu6daO4A+lkticTVte47eV//iHsZ8s9e9R6bI0fzWuM4j2sNHy4GYGVlpysxod2lyawsK/IBInQP1hxX1/+zMYpnEA43bR6tSLzcM/tZhLq0ooVqk4xxvPqf//ROR6nIYg3DjeFPlgKE5DYG0sDqXV2+nSKO3iQ/Bo2tLws7wUBQUAQEAQEAUFAEBAEBAFBoAghUKhCCGtVLUvBQX6Zti+Mw+ZqVi6TqbwgFQT4eVOP9jXVlFduOsYi6DeImAWr9qvyMCZ72jSulGlZJ85cUkQLQgahK/X6pytox4H0UDp4AOVmeOX+o+mkSKWQANp75Dz9u+2k2WstkzhacF6Tab4+Jag27yXsoxnraOj/FtOcZXsUSVfC04M1xc2ZylgWcYchTNKW+WVci2VBe1fZVtbTAp7WXgdPRtsdBqTeW1NWKvIKmRPXfDuQVn3zGK2YOoBubVNDkVd2O8jGRZAgIK+8KlakxsuXU/vLl6kDEwf12eMp8exZSmHvGG2t9u2jjteuUcm6dRW5g3O8shoeGPn554q88uV+mnO2vfacxRBjIqthKc5WiBcskokrkFfW5gYy68Q771AME22usOI+6ckLQIoEseB8Oya02jPRU23sWNV9JHtk+bdoQe0YE6y5ARMtELKPmDhREX6oZLUPXls9EDqc+fIUh72lXL3qiulSaIbXWxRrQRkzFV7n+YO8gpca9gXYle7ShSq//DK1v3iR2jOp14q9sALatqV4JuqQ0c9VBq81kFfYv0ZMfGFPW7AXVciAAZRw/Dgd4f2FXd+7V5FX/i1bUlvGE/tfh8nBkvXqUYngYFXnGteB+dZJD31WbzL+4P6DXef7UUwQEAQEAUFAEBAEBAFBQBAQBIo2AoXKAwvZ+T5+sTuNZM2rsxfSHx6h+fQRi7iD+CjohjBChJUh0+DvHDL4KAu1g3z6Yy17kbDdyURI8eI3yB1kH5wwa71NLyGNB3SotL6ULsvOkZ0tMhnCOmF7mLx65v0lma4bCyLOcRZFngt0vMY+01URVwj/hKeS1uqCKP9jfW+i/rdxqFoGkaUzHl5nDTRbdi3Do8vPt4StKlkut5eFsIGDcNVlG44owfsW9cPonSGdTWODzHv/+W50LHKeyavOdDGHJyfHjVM91GNvKGQRVMbZ3aA1BG8jeEq52k5++KEifzAmwgZhHuytEz5hgtlQJ99/X723NzfM3xUC8cU80/+3B6+huuxZpkPrqjDxA4+mNMaiNpNpuhwhgYGdOtFl9ipK5PBD70qVTGGSln0Es5fXaV5bLIcgwrtLr9lssVl848dkTyB7qWF8ZHoMydgneInBdGgjPg+12VvNaN4c0ojQRRVSmEEUGa9n9/zU+PGqaThrVwVyiCLMr0EDwnt4e13gsE2EdeK+guGYzOQVMlnCWwwvbSC5YNY8sBBuCrvGBFbBDQBXS5A/goAgIAgIAoKAICAICAKCgCCQQwQKFYEFLBrVCuGwuQfpyCkOjWMup2alMoWCvMLaGoYHU70a5WgfezX9snKfIrBWbT6mQvRAXCEs0GhPj11Euw5FqSKImMOrKbxKEAVzVj54CH3+02Zj9RydI2vg5avpoXzGjqBXBQvlcLp6Dkgd1FNC8Mw1Yp6LJ/en5RuOKvIK2SVBSkKUf/x36wjk3FP3tkATKs2hdzB4Ndkyfa20f3pdW/WyUp6TLIQ65BOhoZYGAq97m5ouJbCS2CMHIYHe1ardIK8MA0P36YCFdpThcrZOk5iwSOSwNp/wcPJvmjlzpu5UzY29dhzN7SqH5yEkTROXun12j6VYL6tEuXKm5iC2QFqlcIijJZkCDavLXBNzBYGlzbIPlENzCgQW6rrKwoYMUQQWPNVAYCH0E2F4INBCHn7YNAzGPPHuu8pbLf7YMUpj/TJtCHt0hel9RV/HXn89U5eYG+w6hzJi30uxNxvCBjfWqKG8xUozGRjCGlj+Gd53KkyV62uySjXO+KPnr+sYr8m5ICAICAKCgCAgCAgCgoAgIAgULQQKHYGF7YO3FTSECqPBCwshayciLxNIHS3e3qFpFQoJuqG5FBF1xURejWIPH3hnGU1rTBnL7J2DVNF2gkMSLQXTj0degpRQJgOBCOIJYZwTXuqR6bq9Auxjrw611Av1dh0+R69O/IsiomJp/l/7TARWOfZagp3J8LpTbyz+nGbvLpgWuLe4nOdvQcDBfL2tfwRLutBTDOMkZ5Apnpwl0JqBvIFotisNgt0wD9aXsmcgjGC26qm5lSypiKU0FhSHjlJWTM/Dso03i7NbGnSmdHig8VoxDgu0Ztb6KM59uNqgPVaChdWv/Puv8kZKYHH9RNaOCmYyC0L8MAjpb2FSLolD9UAalu3TR4WAgnBC+Gh2zRI//b4Y3y/WwiThiQWDJxv27qZVq+jMtGlKbP4K65FBawxZBxFKCDF3HSao71HjPBEmCdN1jNfkXBAQBAQBQUAQEAQEAUFAEBAEihYC1p/KihYGbrdakBua4LCc3G3tw01aT1/M2Uwbdp5WVZDBz2jQltLWqpF5xkKU/8WeTVkx6GtpW7fjRt+67Kelu/Wp2bEJZx6Ebdl7xhQGaFaB3yzncDp4khkNpNeeI+neY7q8UXgIe5mlE3EILdTaXfBMg23bf0ZXzXSESDysXnX3CESqxR5msM17ItXR8s+m3RGWRTl671O9OhVnkXF4xYDQsLTr+/crgsiyPCfv4bVUnIknW2Pqvr0rV1ai7RA+tzk3JsOUHpcN8grEEyz+aOb7GhnurBqHT+bYXNGHE5MAKVZh0CBVE1phluGDuIDwQpBXlThTYGvWvmrAoXzVWdcLmfycMU28xVlgaImf2lf2/ALmN7FAfHP2rrL20lkGIW5f6fnnFZHVgYnU6v/7nxLOP806YTDoYcHgIWhp0CmDlaxf3/KSvBcEBIFCggCyIeN14PiNRCKFZGmyDEHAJQjEcZKUTz75hB7hH63asZf3vffeS6fZwz2ndp49s8exPANeZ1gioajaWk7eAww+Z91WMUFAEHB/BITAcrM9Wr/zFHUdPINueeI7lY3OcnoQOO9zc3rYGUghhNxBuL5DsypmVRGyp+37xTtV6BXeo/60X7cyYXRcX3bqGFK2FCFLHmzesr10LvqqOo9LSKKv5v2nPKJUAf+BjpW2h3s3NgnrvzxxOS1ac9B0/cyFWJr80yYaOWE5jRj/J81loXYYPMseeGUeDXx7gaofz1kJYfD8WvxP+gNtDfbs0rpdCI+EwTPrXEz6vFRBxh+ENh49nR7O1aJBmPFSnpzHsTbX3OV7CKLv2jq1qMaegsUZt73057p0DTN9DYL1a7ac0G9NR3iggSi0JDdB9OG+uZIhZm9qYDhB2F3Z3r0pLT6eDg0bRqmG0DJkBTz49NOG2q45hdcSRNIx5mEmMHRoGXq/umuXSVQccwtibyFHc7NHxHiHhSlCJZbJlMRz6WQlxrnIWQUhdK7Mmotg+hW3+ntl0yaK4C9R0JAyWhhrWUEg/sw33yhvJgjjl+Ysfdpit2xRp14GzzKEXDrrfQViChazeLE64g/uk1P8pU5ZBn5qX2+7jVJZpP7Iiy+a/t+COsB+F99n0Rl9pFy/TkdeekllZcR1eLcFZ4Q86vX51qypvOous3eZpWkPLOiAiQkCgkDhRAAZlvHafdj8R6vCuVpZlSCQNQSioqIUafUC/zg1m5O5rF+/nubzD1SpnA04pwbS6rXXXlMvVxBiOZ1PfrVfwZmSgcP/8AObmCAgCLg9Atbjl9x+2oV3gis2HqOExHQNmWXrjlBnJjos7d5b6ysiQ5dD+8rDIsSpOYuDV6kQSCfPXqbvl+yihUwcwesHoYcXLl0nZAXUYXUgWEoyMWbPEEL45N3N6cPv1tIRJoN6Dp1N5VlLC32BFMN1Xx9PlVVPzx/9oV+EML40YZkiXt6cvFKFQKL8UuwNzSx4eN3cvKqagrcXMg3ywzAL1KP+qC9XE8IEtTA/Kt3b7YZHRmApH6pTrSz/ehtNi9ccokF3must/ck4wrBmoyeZKszBH2R/tOf1NWFkDxXWOX/FPpVNEUkGVk17lMMGS1C1sNL0XP/W9PHM9fQKh0XOZpIRYZmHWJsM6/DnrInGjIkp/EVl2P+WKJ0v4DbkvhZq5sB+6NjFrD+WQAsmPkDIVmnLarK4+MVly+g8Z6O7tnMnle7aVelJXViwQIUYwlvK1VaTM/dd5C8GyKAHse4y3bsTtJjOc+ZDhJ8hLK7MLbdQONe7xPWszQ3hciBrqr79ts3pFYMYPQuoR33/PW3iuuXvuUcRZlEsHq9NC4rr9+54BMm3i8khCJ4ncRbBapx9URsIJojYxyxJT4agxdv1dZBZUayLdYqF85M5w6Q3ZyWEoPolDuGDpXL4pT2DmP9x1s9C5kjojSET46XVq9W9otpnCLLjvCZ7T13kTJZnvviCrm7dSmW6daME/jUYmSKTmMTyYLF2EKYQtIen1dnvviOEQXpVqKD2CH2U4fsPhjBD39q1KYbvTawfewlL43seIZPKQ4+9uMQEAUFAEBAEBIGihsDH/G/odv43GXY7e1Q34DD948ePU2X2XhcTBAQBQaAoIiAeWG6269B8QqY8H9ZG6n1zLauzC68cRNrrCETPXV0yeyeAIPr89V7U7qb0f+AgYg6PLXjp3NKyGs14705T3xcNRJIxi6EWYNcVH7ytIb04oC2BYIIzBsL4QKCAjPnyrT7UsGZ6KF+KwQMLbTGHuR/dR20aVyL0CWJKk1dlS/vy/OvS9+/fTfDygiFUcNbYu5VgPdaHrIuavIK32SsD21P/Xo1UXf3n7owQSnhxgewx2rzl6VnOHr29ibE42+fFMSk2EEzIrmjrlZLCILGBOIS3FbzGQGJpe6RPE/ryzT6ceCCYDp6IVt5m0ZfiWJy/Cb3AOMP0foCgrMe6biAKdfghrsP7CuQVCLyqvA/2DF5KzbdtozK33koIGYxkHaKIyZOVkHlj9lQyipOb+uFxNaFgKsvCiU+VKmrM0kxwgBSBN89Z1kMCaVGLM+aBvIJ5BQdTc74OEiWOw9/U3D79VHn0hD71FDVj7SRkLzSZlXnVZPf6MkzwpHC4IcY4x6RJ6c6dqRqH0cG0ILhiR00dWTlxJiww4x6w0lqtDeXZwQ1tSrG4OcLz/BqZ3+PoM5TF3GHQAaswYIA6138qPPEEVRwxQpFXJ8eMoUPsVYdMiI3++ENVASmmTWt6GeeIEM26jBnIpyvsTh8xaZIK66vDWHqxcL3Raw9kGvYL2RHh9XaSMT43YwalJSdTNc7kiGySsCpvvEFVWOg95do1Ovv113TyvfconglJ7HM4968tlBMIQPA/euFCXURRP/6o7oXgBx80lcmJICAICAKCgCBQlBCYydmSYf369aPff/+d3ueszT/yv4+uSmhTlLCUtQoCgkDhQKAYh5ikP2UXjvUUilXAIyqVt8XP18sl6wHRdIo9sUCGQC8K4ug5MWQchCcXwvUqcKhijYplnP6HFG2RgQ9EGrL4ORJVR4giMkqifkhZP+WlZBSU1+u4FpdI3Z6aSXHxyTT22S7Uu2NtdQkaYUPGLFIi8vBQyuna9XhZPSLsD8SkrS8cIN0uxyaY8EBY5hdz/qNJL/ckhBtqi72ewN5ZN7ysoIP21bwtypvL0vNMt7F2hPcTSCzfWrXIlrC7tXYI+1rLQvDQYwKxkRVDOBnGLBEURN5Vq9rEAkQJdLOgyYT5GUkWZ8ZLio5WxA08kKyScs50kod1TjORc2T4cKUnpXWj4EGVlX0xThd7BOIKGRV9GOesGkgohO6B8FO6Yxz2Z8/UvrJ3HbyrbOENzyoQkyCyoMeGe8BoqRxmupFDCeFt1ZTDI5gZp838K3Mihze0PnYsU31jWzkXBASBgo3ATfenJ5l4a/DNdI/Bu7pgr0pmLwjkHIFE/nfYh/8NxqMaiCxoYGXF/uMfmI6yrmU5zrjcpUuXTE13sjd+kybpP+5uYvmCli1bZqpTFApG8w9v77DHexj/0BvBCXLEBAFBwL0RuOEO4t7zLFKzg86VKw1eS3i5ykAChbNXEV5ZNbStV6O8080QbqdF2u01AtmHsMJZi3YqLY2urWtwWGUxGjc9XVfnaQ65yy/yCvMuxSGBlrZ2+0n2nCqnwiPhYaXJPHi1Lfn3kKoO7zajGckrlGux/h7tahqrOTyHsDZCxLJr8KJB6CEEuEty+Jcz5sEhiv7sXeTIirN3USkr3keO2unrIG7wcneDXpTKysd6YJaWXfIK/XiyB5UzOFuOqd/DO84vC6Lpal8d3EsgIUGG2TJoY8FT6/Azz5AK++Qv63FMYlYdNUrIK1ugSbkgIAgIAoJAoUYAIuvazyDI4ocfZxb+BYf5T58+ndq2bUvrtB6oMw2ljiAgCAgCboxAcTeem0xNEMgSAtCFAlF3Lvoa/cC6XxBDPx55iapXLE29OtbKUl+5XRlC9c9/sJQeeHkerdh0lMMRE9SQEVFX6IWP/lQebh2aVrEbFohQTIRz3t6pNlUMDsjtKaf3nxE6B72qPXfeSRdYY0ksewhAdB0YItxRjMMjOQTSm0MT4UEH/Ssv/iUUGRXFBAFBQBAQBASBooiAUai9BHuliwkCgoAgIAjwj/UCgiBQWBCAF9bIx9rRz0v3UM/24Upvat32U3Qna2xZitzn95qrs2dVZ9Yi+2vDUXrxo2VqOtA9i09Iz7gI0u21xzvYnSayME4b1dduHVdf9PT3pzasVaQzCnqWNvcQc/V4hbk/ZGhszZ5s2rxY0L4oW3Fvb2q5Zw/BowtWntOE6/OijIusXRDIbwQQ+n+dpQ2QMMVZgycxtC61Z7Gz7XKzHuYUcyWO/NjL3ZanezQnpoHHtLdBr9KZOQEfZGC2l0jFsp+LPBeMlZ/e4ZZzsnx/leUGkjmsvHQW/62P5h8iQL6UL++8x70eG2PiFcL/JlqTXbjOcgTXOBw9q33Hc6h6XFwclSlTRg/l8JjAyUswl7Iu9Oq+zBIBIKNK5kLiHIcLcrJCdvcd3cNrDN5iHs7oiTo5H1S7wIltcB96spe4s+aOWOfW/Y3PG7BHuKiz2OfG/e3s3kg9QSAnCIgHVk7Qk7Zuh8CtbWrSN6PuUNkG8cX589d7E8rczcpyVsWPXuhOk1/rpUTbOzarQnVZpP2OznUUcTVn/H1551WVRXCgLQVxdrwQriaWPQQQVqdxxBEETlE3I2FlPC/quMj63QuB/ccvKG3Fzo9/R3e/8DN9u2BbpuQh7jXjrM8G5MrYb9bQfS/NobaPTKNOg76jboNn0tNjFxF+GLJmIHEm/bCBHnptPrUd8A11eXIGdXhsOj329m80c+EORfBYa2erbCrrO6Kv8Zz92Ja99ulfqs68v9KTteh6H3z7r6n8yOkY5dnc+uGv1RraDphG/V+dTxt3nVbVoef5zherqMfTs6grr7EdX7+X171i41HdnekIDU/M6eHXf1F7jgzCvZ75XrW5eeC31H3ILNUXdDutGe4dZGXGGLc8MYPaPzqdHn3zV/pxaeZQcmvtc6ts9+7d1KpVK2rdujWlsGbhRM4MXKNGDfLnH61A+FTiRB6Pc7KNS5wkxZbN5mzDXTm7bDAnZcFDNI543c8Zgo+xlqGl2RszNDRUjTuCE5PggR/27bffUufOnVU5+gWBNYCTmcQYEpRYjhEVFUVDOPlJw4YN1VpArGAtd911F+3bt8+yunqPh3qsv06dOopkwlqqsp4kRNRPnjxptY2jwtWrV6sMgugHJAxwrc3yCw888ADt4R9uLA3l2A9kHdT23HPPqTKU//3337o403Hjxo2mehB9h+1iqQK006/vOWOzpel9Dw8Pz9K+o585nFm6GyfrwZ5gb0qxTEULlhYYP368up8sx3L2/bx586gH/9gHMhN9+/n5UdOmTQn3xRXW+7RmWcXaWh+67DDriWrM9rLWpzXDeLqODvdEvdy8v59//nk15tSpUwnzupuzPIMQrcBapBr7hYakOMZ558b9bexfzgWBvEBARNzzAmUZQxAQBAQBQUAQEAQKPAInOSHK/S/NpfjEdG9ZvSBkjx3xcHr2WF1WUI9rtp6gd6asootX4m0u4d5b69PLj7UneALDNu+JoLc+X2XKGGytIbLlvv9cN5WR13jdlog7wulXbjpGCKfHjz3WrOfQ2WrMJ+9pRsP6tTJVeXzUApV5GdmPdx48pzzITBczTpAQ5oMR3WjKT5vpyOmLlpfV+1cGtacHe97ICIt1PvluerbULq2qq/lZaxhW3l9lXzYm49m2/4wiPhMSU6w1Ics1WK2US4V4CL8lIyswHoZ/+eUXqyNV4zBvCH+DgNEWGRlJAwcOpGXL0r3JdbnxiIdqkChor83ZMbt3764Ip6c5s641q8I/AOEhHuSG0UDegHSD5441gzj6Z5yN+QkOX9cGEuc+zpL766+/6iKzIwioVatWUXVORuKMgSx4hrUdp7FUgJHcMLb18vKiNzhj79tvv20qbsBJTGwRJqiE+d3JEgTWbO7cuYo0tHZNl4FYeumll9ReahF37M3x48d1FbOjtX1HhdjYWLX38+3ISbRp04ZApoAIdNbQ75NPPkk///yzzSbYi1mzZlHHjh1Vnexijca2RNydEbkHsTqIExvBcP8UZ01bWG7e3yByQWLeylnFN3CWbuBlzT7lbN7PPvus6ZKr729Tx3IiCOQxAumfsjweVIYTBAQBQUAQEAQEAUGgoCEAfUVL8gprmL1oJyVYkFoFbW2YL3QYX56wXJFXxYoRPdSrkSKPvnvvTnpxQFvOguullnXyzGWT1xkyHYNsOnsh3VOmW5sa9OGIW+n79++mMc90oaZ1K6g2B45Hq3p5gZNPRgggMhHDM6x1o4qmOT11b3M1H4T8IYQf5BXmCJLs29F9FZGErM2wr+dvNdtvhPprA7mGcZ7r35qmv9uXvn7ndrq5eXrm18jzscrrTNfFcdL3G/keSeHwRU96/YmO9NMH99KopztTlQqBqtrifw6pEEdjm7w6N4azgbzC+3HjxtGaNWsUYaM9gUBwfPzxx5mmdYizzMLwYD1jxgz1UP3dd+yhyGQYwgDhRfU6J+owmr0xQYaBxIHhHOSVr68vffDBBwQPIxAmN910k7oOr6ivvvpKnes/8Ph68MEHFXkVwJ7iY8eOpX///Ve1ncSZf0GmIKQQ5BK8bLSBnNLk1W233aZIiJUrV6p6qIOx4BXkrCGz3TfffKPIK3gQATtgunz5ckVYYU3INIh6wE3bDz/8QEuXLlVeZ7oMa0AZXu3atdPFmY4gdCzr1eOEO7oMx3s5RN/SsLdZ3feXX35Z7QX6AgEK7LZv305Lliyhvn3TJS5AsLzyyiuWw9l9j/qavKrPSWVAAGLfcW/qfs9xIhyj9112sbY7kRxczM37W/eN+wjkFbzf4AWHrJNffvkl4Z6HgRS9ePEGOe/q+zsH8EhTQSBnCPAvAmKCgCAgCAgCgoAgIAgIAg4QeP6DP9Ka3PeF1dexiIsOWrv/ZQ4RNK3tn60nMk34xJlLaZ/9uDEtMSnZdO25D5aY2vy0dJepXJ+kpKSmcUifqc7E2ev1JXXUeM5bvsesfMT4parNsP8tNis3vuGwP1Vn8k8bjcVpwz+8sU8vfvxnWnJKitl19KnHfeSNXzJd/3r+FtP17QfOmNruP3beVN6s35dpe45Ema7hBON0eGyaqnP/yDmma6wjltb8ga9U+ec/bzKV4+RsdGzaFC67HpdoVp6Xb5h0SOOnCfVijaE0fhA2G551sNI4lFBd5xAus2t4w4RRGpNKmcpRwCF8qh2HzplddzTmpk2bTHPC3BYvNr8POIQsjbWpVB320jLrm8POVDl7fqVxqKDZNWx1evcAAEAASURBVLw5evRoGq6hXw4nNF1/9913VRkwYI8eUzlOmBhIYwLArMzem82bN6exFpHqj0MY086ePZupOubGxJaqA3zOnLlxr6EyE2bqGub5559/ZmrvqIA9g1R7zkJoteqOHTtM/Wd139euXZvG5KRqz55uVvsfOnSouo562G9nbP369aZ+u3TpksZ6Z2bNWOspbcKECWn//POPqTynWOt9DwsLM/WJEyM+uB+tGWd5NGHIHk6mKrl5f7P3nWlMJiPT8Pk0GvDRn+cFCxaYLul1uuL+NnUqJ4JAPiAgHlj8CRcTBAQBQUAQEAQEAUHAEQIVypWyWsWDPXYQNlaQ7er1RJO+Vfd2NVXonuV64C30zAOtTMLjcQlJtGbLCVWtbZNK1K9HQ8smHFJTjIY/1MbkafTn+iOZ6ri6wCj+Paxfy0yJXFo1rGga8sm7m2W6juy+2pDZWJux31vb1qT6NcxFypEwpm3jyqr66XM3NHoQrqgF7ZeuPUw7Dp7VXVJIUCl6+v6WNoXlTRVz8cS4LoTQNW+e7qWmh4QoNMKVYEeOZN4/hJjB28poEJWG5xWTJ6oY+llGDS1HY7Zs2VLp+aAxznv1Mg8jRRijDqM7zclltMEjRYczjhw5kurWrasvmY4IAUSIGgyhXtqYwFCnEK5/7733CCLg2p566inlYabfOzrCSwwhW1gntIqg42RpmBu8ymDARs/bsl5evM/qvsMbip9bVegmQtWsGbzGsH7Us6fbZWyLEEjURyge+tXeRroO+oMGVocONxIduSPWuXV/AwfdN464Ty1F23v27KnhMvu8uvL+Ng0gJ4JAPiBwwxc6HwaXIQUBQUAQEAQEAUFAECgoCPTnkLrfVu03ZYzV836kTxOTHpQuK2jHQyejTVPu1rqG6dzeyaETMfywmV6jd8cbpI9lG2hl3dq2Bk37dRtFRsUSRM6zkrHPsj9n34NUrF4xc9a5MgE3MirWZm0uSytf5oaeki1B9nZN0okqy7bN64fSMibprsUlcSY+PIinhyN2Z8ILou8Iv3z0zd8U4YnQxZZMpnVpWZ0CSnlbdpXp/ZQpU1RIX6YLdgpABOhwLDvVTJcgmm3NOnXqpMKUIJ4Nckpr/ei627ZtI8wPoV7s4aQyBepr+oiwL4iYW5qtMRF2BxJM6zRZtoMgO8wYJgWtLRAgMPY+Udpb6o3FH4hsw9AW2dswFvS2MD+QSWPGjKGPPvpIiWXffPPNikDTZJxFV1bfAg8YxPDttUOoI8g0kF1oA2H6/DBbe2Br36EPBcO8H330UZtT1ntx4MABm3WMF3S/IPd0GKnxurVzd8faFrbZub+N64cOmDWCFiGj6Bv3tfGz4cr72zgPORcE8hoBIbDyGnEZTxAQBAQBQUAQEAQKJALwQIIe1Cez1tO+YxeobKCvyh474PYmBXI9xklDoF5bqA1PM31dH0+zZpY2R20qZ2g9of6JyEvUqFZmjxTdl7NHR3patjzmvDM0sjBOKd90XS/jmCCd8AIBZcuc6dvYdsQjbRTJ+fOfuxW5BZ0svKB99dGMdUoUH5mI7RmHTWVJgwl9WXpn2Osf1yCKbs2g12TNkpKSiEOTlCcRPJeyY47G1Jo+ln1zKJRlER08eNBUtnXrVsLLkXEIpHrgxzygK4SMfxzKpnSyoFmFFwgt6DzB2weZGR0ZSDxY5crWiU7dHmLyFTm7M/S19u/fr4vz/OhoDywnpHGGlpgzumDA2BnTemq25mOtj/zEGut3ZLbWoj9TWbm/jWPZ6hd1dN+W9V11fxv7lXNBIK8RyPx//ryegYwnCAgCgoAgIAgIAoJAAUGgbrVy9NVbtxeQ2To/zeCgG15HCJtrVMtx23KlS5oqXYq1/yAHsXdttsgffd14TGFvH2uWmJRiN1Mi2pT0KWGtqVmZ9iAzK3TijTN9G7tBeCEE3xGyuGXfGfpvTySt3X6SDp2MIYRvvvvlaoI3GO4vW4aQuQoV0kXxbdWxLLf0lLK8bvkeGQOzYhMnTlQi6WjTrFkzevHFF6l9+/YUHBysHqIhgt61a1e7XToaU3vx2O0k46IOk8JbeAbZEzzX/cGTRVuLFi1o3bp1ikxizSsVYsj6W8qjDO/hLeUMYYN9AhkTHX3Ds1GPYTzCgwmeaTB7hISxTW6cO9oDyzGB84kTJ5RgOLIaOjLtLeeoHsg89GsMC3XUJi+wxj5ZM2fm6QjbrNzfxjk46tdYV5+76v7W/clREMgPBITAyg/UZUxBQBAQBAQBQUAQEATcCIFaVW6E0v3LxAqyCTqyOobwu3+3naSudkIP1+04pbpD+J4xRM/WGDqT4L6jF8xC8XR9FlDXpwXq6MukWoemVdRr+MNt6Kelu2nc9H85q2MarWeM7BFY/fr1I7zcyTSZA+IBmf4sPT9YqDxPp8uC6abxQGwMHjzY9D4rJwjNwgsZEBGK1ZkzLO7du5dYTN1qCKVl38iSCI85eFUhw1811gmzZiDFWDBeXdKZFa3Vy0kZQj5dbcAZXmqY+/333281NDQ7YzZq1MhEIMJrC3pljiy3sDbqb7GIO7Vp0ybTVBAyWxAtp/d3QVyzzLnwICAi7oVnL2UlgoAgIAgIAoKAICAI2EUgOSWVVv93nIweUWgAb6oaldJDoxawzteuw+leIcbOINq+fMMNEe/AUj5Ut3q6xxC0wbbtP2Osbjr/beV+2r4/Xbhci5ybLto4qRiSLooPz669R8+b1YLHwvTf0jWGzC648RtojIGssjRoY2m7HJtOZOj3BeGovYdAXCEczmjwWvn666+NRbl+Ds8grZ00adIkRTpZGxTi6fAWQwikNsz3448/VhpeugxH6Al17NhRFXFWPIqLizNetnquRe/R/7Bhw8haeCX0vRCuCEM4JEIUXWne3t6qO6MOkqv6h54SDATW888/b7VbhPb16dOHOEug1evWCjnzoCoGXsOHD1dkoWU9CMKDFNSWW1jDM0+H4IK4tDSsa8WKFZbFbvvelfe32y5SJlYkEBACq0hssyxSEBAEBAFBQBAQBAQBomffX0LDP1xKtw2dTcdZi8porz+R/pCOsLonRy2kucv3UMzlOEK43s6D5+jxd36nkROW0yez15uajRrSmbP4IdMY0eDRC+m737crbSfoR6H/8d+tpVEcHgcLZKHyFwe0VeeO/jSrF2qqMnH2BlOfxyIu0sufLKd/tp40XU9Odr2HialzF5z8zYThI6//qjytRn/1N4cNRiuh8TMXYmnM12tMIzSqFWw6LygnWmD98OHD9M0335gIIQihP/TQQ7Rjxw7TUnLDE8jUueFk8uTJ6h30iUA8zZo1S2UUBPkEr6iHH36YXn31VZowYYIpGyGIJohtv/TSSyoE8tdff1Vi7iBS5syZQz/88IPqE55Hfn5+htGsn95+++10zz33qItLlixR84CHGsgvZDdEWCI8h7SHGuZjTZDbeu/OlQYFBamKCGVctGiRuuciIiJcorV17733Kq80DDBz5kyVhRIeathjEFczZsyg1q1bq3ViD5wVcYc3lyaxfv/9dyWsDx0z7APC9UAwduvWTeGp+8wtrEuUKKHWgDX+9ddfap2JiYlq/5At0VKcHdfc1Vx9f7vrOmVeRQMBCSEsGvssqxQEBAFBQBAQBASBIo5AUnIK/bc3UqGAkLXNuyOoWtiNrHAt6ofR4Hub09R5Wyg+MZnGfv2PenG2dkVQafgOHI9WpBayC8ID6+WB7Wk8C5EnMZEEsgkvSxF0/5JeNOaZLlTWoJul+7N2hKcW5oP54tVr2PdmfWLs0v4+ypMMc3VnC+VsiB4eDCLbLyv2qZenZ3F+KL9BvNWqEkRtGqdn1XPntVjObejQoYqkgHcHwvVGjBhBgYGBStcJZSC4NIkFAikvDOF+b731lhJej4mJMWX2K8Y3slFvKDQ0VNXDnEBWaMH1s2fPKkIG9eGBY/SegteWs4asjAiDAwGzYcMGRbpAkwxzMM6jd+/epnk427cz9eDRNXbsWDUWSB4vLy8CyfLGG28obJzpw16dqVOnEuYOggyEH15YnyVRCQ+tOnXq2OvK7Br67dmzJ4EUhYdT8+bNM/ULghQElu43t7AGfsARuEFTbeDAgWb7Fx4eruaJBYCctPRCNFtYPr7Jjfs7H5cjQxdxBMQDq4jfALJ8QUAQEAQEAUFAECgaCJTw9KB+PdM1gpA1sKsVnauh97ek6e/2pdpVb2hiwbsKpj2ovnijt8qol15K1K9HQ/r5w3upZcMw8vRI/2oJDyyYt5cHIUzul0/6UcdmVXUT0xHeWzDMzdImvtyTet98Q01e94m5TRt1BzUMT/dY0uW6PcgzWAkmiayZrXJjXV1HH3FN94tzYzne2zPMF5g2rVvBhI8mr4BXz/bh9MWbfcjPSkZEe/266poOk0J/IDmyYvBC+fnnnwkP8jCQVJGRkcpLCQ/8q1evJhBBMGhJaXNmTEdz0df1UfeN4+jRo5XXDDSVtJC9Jo1AXA0aNIi2b99ONWveCOFEuCPaQYAehvqavKpVq5bywMGanDX0A+2kDz/80NQnyB09D+g7zZ49W3lHWVuDMxjZmwuIF6MGmPYQArEIy2n/wGTbtm00ZMgQRVqiT01eIXwRxBM8lRCumRXDnoD0BPGlM/TpfhFq2alTJ7V3d9xxh6nbnGCtcdAhl6ZO+QRkKDzocM/A9P4hZBZk5k8//aTK8UffKzjXfeLc2t7aK8c1mG6nj+mlN/q2LNfXbR1dfX/bGkfKBYHcRqAY/08042tJbg8l/QsCgoAgIAgIAoKAICAI5DcC5y9eo6BAXw79s07w6PnFxSepLHmx1xMonD2EQoIcZ6iDl9exiEt09sJVqhIaSFUqBJoRP7rvrByv8zwOc7a+y1fjqVJIAFWvmK7VlZU+3KUu8EFoZWRULAWV9qWqFUpTAIdWFnQDKQKPGXgclS1bVmUkND7E5+f6oDUFsgp6TY0bN1aaVo7mA22v3bt3K8IC2QFr165tIuIctbV1HX3u2rVLEROYR+nSN7wfbbVxRfmRI0eUFhjIH+g61a9f3xXdmvWBx0mEDkK0HnjVq1dP6XqZVcrGG/SLrIQITwwJCVH6Zs54Obkaa8wDulsI+YSHIUJJcSyolhv3d0HFQuZd8BAQAqvg7ZnMWBAQBAQBQUAQEAQEAUFAEBAEBAFBQBAQBASBIoWA/Z/eihQUslhBQBAQBAQBQUAQEAQEAUFAEBAEBAFBQBAQBAQBd0RARNzdcVeK2JwuLFyoVlyOBSaNlhgVRRfmz6fr7I7sU60aVWJhUDFBwIhACocFXOAsNSXZtd+/RQvjJTkXBAQBQUAQEAQEAUFAEBAEBAFBQBAoRAhICGEh2kx3WspeToMb9uyzVJpT5zqyjSwCmXThAnW4eNFUNZ7j3be1b0+JnO4XVrJBA0oxZK+pPHIkVeTMN9rOz5tHqZwhJKR/f11UaI6X/v6b4jjDSyBjWZKzuFxas4b2G0REG7BApruTNxd++42Sr1yhCgMGqH06xymXQUqW4VTI1izhzBm6zOuO/e8/urZnD3lXrEilON00MCjFGY20xbHewiYW+yz/wANU/8cfdXG2jhc5002JcuXM+nemoxTOOhP1PWfHYsHSkEceoTjWmri0ahX5sDhrma5d1XqPcFru0jffTOU57XRBMf0ZLsaaGafGjaMGnF2omAO9nIKyNpmnICAICAKCgCAgCAgCgoAgIAgUPAQkhLDg7Znbz/jCggV0nkmVmEWLsj3X05MmKfKqIntdtWTBxNqcUjeBxRPxMF3uzjvJzyBAmciimHuZwIiYODHb47lzw0PPPEMHn3ySEpnUgYFkAQY+LMQJTFLj4915+pTMqY739utHpzgLDyzmzz/VeuA5Zc3OfPMNbWKPqn0PPkinP/6YLi5dSmenTaPDTIhuadaMTrz3HqVxFh9X2uV162gnk2lbW7emJAOR6swYlzjDEvYn4rPPVPXIL79U7y/+9Zd6n5acTBd++YWOcUpvV8/bmfllp47xMxzLGZSiea+iDJl2stOntBEEBAFBQBAQBAQBQUAQEAQEAUEgJwgIgZUT9KRtJgRUlg5+UC/u50eV2Osku3Z1yxbidC9UbdQoKlm3Lvlxtg8YvFjCP/mESnfurN7jD8gy4uw3ZTiVc2GzBPZAu85ZcLw4fW8grx0G8g4YlLvrrgKx3PNM3qSxd1xQxv6c53TbsKCePTPNf99DDynyJ5VDA0PYW6s+t23NGY0ar1xJlV54ATmt6fjbb9NR9sBzpZXgjEm4Z704w41HyZJZ6voiE3IweIHBYphwgwUzaQdDf9X/9z+K41BYeGq5u1l+hsPY09GXPf9OvPsupWWk3nb3Ncj8BAFBQBAQBAQBQUAQEAQEAUGg8CEgBFbh29N8XRHIiWucIhgPvV7ly2d7LknR0VSMQ7I8AwIc9hFlhxBx2NjNK8BbCVb+vvsKbPiWJqxAMCLcDt482FsjCYk1wsMn6ocfqDgTPvX4vO6MGVSeSToVanjLLVSTvbEacChi2LBhVI29sFxpCM1sx558rTgFOEIBs2Jqj5hsDeawWU04gvBByKM2hBb6cqjs8dGjCR5Z7myWn+HiJUpQ1TffpLiDB+nc7NnuPHWZmyAgCAgCgoAgIAgIAoKAICAIFGIEhMAqxJubH0tDGBU8WaBRlSPjELFiHh4Ou0g4fZqurF1LHoGBFMDhX4XNLL17Ctr6Es+fp4vsPVXc11d5z8UsWUIpsbEU2KGDmacT9LEODx+ulleVPay095LlesvdcQfVmjzZrK1lney+9+D7FmRNVgxabfCsCmjXjrwrVaKLy5ap5pbzL8YEV9jTT1M8E2S2QiezMm5u1rX2GQaBWoIJaYR0igkCgoAgIAgIAoKAICAICAKCgCCQHwhIFsL8QN3OmBClhoYOQq5Cn3qK/OrVs1Pb/S5d43A3CG1b876KZvICYt7w0PIsXVqRGBWfe85sEcfY0wPeVyAGIMp+kB/6YWGMhTVLiIykYA4782vUSOlj6Tpnvv6aYrdupRoffECnPvqILjGJQkyK+bEAeJXXXyefypV1VXVMTUigyClT6Mr69XSdBdM9/f0VKQEiDuFlMAiLn2APmrK9e5NHqVIUwURKHBMSeLAPffxxCuYQsisbN9LZb79VR28O+0OYXyjrI1kaiJ0I1vmK5VDJZF4vROpDeB2WoubwPgodPJgC2rSx7KJAvE/E/jAuyBJY3MeHgHPwww9nCn8E7knsAeVTo0a2s01eZOH0yM8/VyLq0Acr17cvVRg40ISTrf0LZ+00eIMdYo0tiMVXefVVUxuIyGOfISSPezqAEwtU5tBY7aWVzHpZWI8WZy/m5aXeo8zSyrGA+xEOg7y6bRuVv/tuy8tm77N9P7KAvLW1QzcMnxVk8sReGA2fy2jOBBrUqxchE6i1zzDWW5avnWWvOHwui/M6xQQBQUAQEAQEAUFAEBAEBAFBQBDISwQkC2Feou1gLIhHb+AH6FQOs1LGGb+g/+NTpYqDlu5xGeFTG9gLBaRUOJMz2qCpc4CJhHP88AvzYHIIWjqp16+TL+tbJZ49q8qRhXATE3YJJ0+mY8DtEE4GQ+jYru7dqcKgQVSHBb0d2R4mCC5w1rSSrJ0FDaniTDhhPJBYnkFBShjeKzhYdQMvrh0s4B134IB678mEFUglmE94OLVk8gIP7Fd37qQtTID5MgEA4gp6TPA2g14TLIzF1kFegXxAfTUel1dhTbDqTHxpQ1bBPUxmJHPmReh8IZwuLUOIveo77yjdL13X3hFC90fYa+mmf/5RZKC1utAHw7wdGs9DzxEEIvrG+hxZ6S5dqAyH9+XUTo0fT0dffpkqMBFYh0XcnTWdhdCDCdGUy5dVM5CL8PKCVXnjDao+Zow6z7R/GULwjdhrKujWW+lvxqBUixbUfPNmVR+eY7tYpystKYlKsDZWUlSUwqQM34cNmfDJDomzgQlJZIxswFkzbVlO7kdbaz/MxBWSHFh+NjGHra1aUSyvuemGDcqLzNpnGPXOfved+hy3YAJaa9KhXEwQEAQEAUFAEBAEBAFBQBAQBASBvEBAPLDyAmUnx4DAs4m8Qht+wIYnUXUX6/04OZ0sV7u2d69qA/0fo51hjzKQV15MztXlh+DSXbuqtSEz2wH2LkrhLHUgIGCtOOMgbDMLlcczkdUxgxxCiFlWrBh7+8Di2aOt/vz5yuMnnsnAw0wyxfzxB0V8+qmJ2MC8QMTAY6fKa68p7zAQVPtZRByeQdBmqsDn8CCCQQso6LbbqO6sWYqMg4fXcSZKItlTJ7BTJ2rA48FrC5nc9rAHFoiDakxMISQyhdeDfkFeQccJQuXIKghdqMPPP68y7JXlefg3barGyumfqDlz6IIdssTYvyawQCiedPKeQ1ZIVxBYV5kUgWWXGME9pPfEk8NJIRyPLIanOOQNHlUgdoz7BxKq1hdfKMKmGBPF1iySr4O8qse6XMHcVyITWHvuuUcRUCAes2NISHA94x631T4n96OttYcNGaLuw3N8z8IrUWMBzzKQV/BgRAhuzPLlalqWn2EUYu4wzD+7+6Q6kD+CgCAgCAgCgoAgIAgIAoKAICAIZAMBIbCyAVpuNSmR4RFk7N+rQgXjW7c+v55BYFmGKJ0cN07NG0QAsggqYzIHujrwVtrPAteuNhArMIjJ63AtXw5PgwcKCCyESWmDPlFtDh80mjeHoCF0T4UUZqxL9wk9p7ozZ5pCC6uw5xBCC9N4LbWnTjWVgxADoXV59WpK5PBDaCRBcB4eZiBQIIytDWF2IBNOsrdQFAtlu4rAAuZpGZ5veixHRz8OZ+xw7Zqjaup6sSxqRtnqtESZMupScoYXla16tsot9wSC6qcnTKBYDukEGQlBdb1/6COctdpwP9gz7CcsiclGCK/DY68pe7vlxOD9h3BW9Gecj7HPnN6P1tYOkXoQx5dWrKDzTLAiXBUGj0FYhSeeUEdbn2FcxNxh15jAyn56BtWF/BEEBAFBQBAQBAQBQUAQEAQEAUEgywgIgZVlyHKvAfSSSnIInfbQ8GadJnjoFBTT3mP6QRfzRlgkCBtvDp0ykVeGBYG4OcBhY7llQRwCZjSIbcOgXWQ0zPPEu+9SzNKlBE8taJBpS2K9KqOVat5ceU3pMhAR8LhC2JoleQcNKwS2oX8QWNcywvmus/D3dtZdMloia0DBcM1VBoF7Fe7oRIehGSQGvN3Os+eWMwYsXEG2QZsMZiQWnRlf17HcE5Rjr0FgAXujwcPJcp+M1/V5CIe9Ri9eTIeZ9Dw+ahQFsv4VvLygq6U9mHRdZ4+4r0BepbJnl0cGyWqtbU7uR/Rnbe0QkQeBBa9OEFiYB7IKwlsRWRJh1j7D6gL/0Z8JXUeXy1EQEAQEAUFAEBAEBAFBQBAQBASBvEBACKy8QNnJMZABrQV7BoFEgWcSBJVteWk42WWeVtMhRkZySJ8jtMmaYX1aENva9ZyWebGQutGseQxB3HoLEzFJHDoHzauyffqocKmkmBhC+KOleVv0ievo1xqpYRmepskUHU5o7BtZ8EDEGAlA4/XsnCOjHEI1nTFNYEFA/6AV4XlrfVRlYscVBBY8pGC497Ef3mFh1oazWWZtT2xlFAxgzSdnrDwTyk05hPTMV1+pTIoQOscLoYUox35l1RB+Cu8+D/bis2WuuB+trR0egV6M62XWYLvO8wBRCuH84P79SXvAWfsM63miDUzX0eVyFAQEAUFAEBAEBAFBQBAQBAQBQSAvEBACKy9QzsIYIDzKcjawgmjwHoPB40qbT/XqSkD9OgukgxAqkRGGpK/jIRqeS1oDS5e76giiyJFB6BzkVSXOEFeTNZO0ITubNQKLnOhT92F51FklIUZvDCG0rOeq9+HQ+ho7NkvdwTuppQOdJt0h9LtcYf7NmplC3JCprz7rjtkyiOD7M9EHXSuTZWFPIJrvrIHs0oQXQjwhvo8smjF//mkKTXW2LyQzgDdcaQei97l1P4IsRkZMeBqeYaH8eCQiYDNmybT2GdbrA/kGK8n6dGKCgCAgCAgCgoAgIAgIAoKAICAI5DUC1tWL83oWMl6hQMC3Zk0qxtn3Lv/7r2k90PMp27u3yrJ3aNgwSjWE5iUzcXWQw5ry22K3bFFTMHprgWywSl7lcLIIQSMmKSH8DlLPaAjt2sehXcDFVeaNcDkW33bmpceER5wz9VHHVQQWxoZ+GLJOnmedMJWlkYXZLe0Ek3E7mADaxuF8KTpbp2UlF72/+NdfdPLDD029QRssoG1b9T4li0kF0Cjh1CkVomckgFJYayySPbwuGbS1cvN+VGQVE1m4t6MXLSLfWrWUTptepLXPsL6mPbA0CavL5SgICAKCgCAgCAgCgoAgIAgIAoJAXiAgHlh5gXIRGQMeHr7svROzbBmlpaSorHtYek0W077IZefZqwYaUBCTBrGFLH0IMQRpkZ9WumNHiuLsbKeYrICIOEgfCF1fWrVKTQt6Ra4yhMqFMZEXyaF9CFsMefhhlfXwCms1QewdnmgV2dMnoE0bVw1ZYPqBqHp91t46wBpTFzLwh+4UMuIlclghBPWhTwYPqkrDh9sNw8vpohHquZczDyJbZAzrYJVmvbK4I0coikXxES4aqJMRZGEghO7BtJcTzkFaHhkxQn0G2rHWmgd/FnLzfsS9Xe6OO0xhpRVYfw6fRW22PsNpnBH1ChPT0OUz83zTDeUoCAgCgoAgIAgIAoKAICAICAKCQC4jIB5YuQxwUes+lB+IE0+fVlpBeu3QM2q+bRuVufVWpbsD8iZi8mTlvdOYvVwgbp7J2EvJmfC/TO0yCowP5cY6SpOKH9iNfSMDW0UmEUBeIQvgIfYKQ6hXI85WCEvm0Edlhgf99AKLv06GsYVPmkQ1P/lEaX9BX+nUBx/QZfbA8W/dmpoxkVUUySuNJLz1WjCBV57JI3jrQXPqNHurgTiKZw8mPyYAmzCxCCF1ZXb2BGQMzLTXduqqioZ7DppQyDgIb6nLa9aoLJNR33+vCJx67CHmKIOh6s/wBwQQvMeKc9hjWda20+bXqJEi5DAOMinCXHE/Zlq7HpCPoUOGpL9jfCo89pjhSvqptc9w1I8/UtyhQxTM+yImCAgCgoAgIAgIAoKAICAICAKCQH4gUIxDpdLyY2AZs3AikBofTxs5lBCeGhC6tiSSUq5eVSQWQpdsCbtbQwaZ8dayEDy0o+pMm2atSo7LMAaIK2QU9GGh7bywOPYoSuZQOYRlWROBtzeH00yEHWFPpJuYaAns0MFe1QJ5DaQPdJegPYX7qVTjxlnGyBULhzcW5gFxfRBXJkIsC52fY/JrP3vbVXnjDarOJKnRcN95+Ptn+qzk1v0IofxdHMqKrKcNrAj8W36GifdhM4dPJp45Q635frXUsTOuRc4FAUFAEBAEBAFBQBAQBAQBQUAQyC0EJIQwt5Atov2ChKny+ut0+JlnlNdMCGs6GQ3hR/4tWhiLsnSODHkIPUQYFsTGXWmeAQEEMfG8NF8Wuc+qJXLmuCsbNigx8ay2LUj14S2ntbjyc97wxirB3nHZNYTTnhg9WoWHVn7ppUzd4L6zZrl1P5799ls1XAUbmSYtP8ME8XnWa0PGSSGvrO2UlAkCgoAgIAgIAoKAICAICAKCQF4gICGEeYFyERsjlEPyvKtVo6ToaNetPCP869KKFbTnzjuVRpLrOi9YPUHkGxiczSVPtIKFhvvPFkLtnkyCVR45Uumd5ceM4c0GQ/bE8/PmkQ97SQb16GFzKsbPMNp6cRgwsnSKCQKCgCAgCAgCgoAgIAgIAoKAIJBfCEgIYX4hX8jHTbl+XQlSu3KZCRERShwefXqy2LktzxVXjumOfcGjB1ho8woJUXpa+r0c3Q+BtORkdmRKo+IsAJ8fhmyf5+fOpeQMUrkea1oFP/CA3akYP8PGc7uN5KIgIAgIAoKAICAICAKCgCAgCAgCuYSAhBDmErBFvVtkU3O1IYOaWLoouU+VKgJFAUIAouo3cv3l/cR92CPSl72uEAoZzGG9jsgrzND4GTae5/3sZURBQBAQBAQBQUAQEAQEAUFAEBAE+FlYRNzlNhAEBAFBQBAQBAQBQUAQEAQEAUFAEBAEBAFBQBBwZwREA8udd0fmJggIAoKAICAICAKCgCAgCAgCgoAgIAgIAoKAIEBCYMlNIAgIAoKAICAICAKCgCAgCAgCgoAgIAgIAoKAIODWCAiB5dbbI5MTBAQBQUAQEAQEAUFAEBAEBAFBQBAQBAQBQUAQEAJL7gFBQBAQBAQBQUAQEAQEAUFAEBAEBAFBQBAQBAQBt0ZACCy33h6ZnCAgCAgCgoAgIAgIAoKAICAICAKCgCAgCAgCgoAQWHIPCAKCgCAgCAgCgoAgIAgIAoKAICAICAKCgCAgCLg1Ap5uPTuZnCAgCAgCgoAgIAgIAoKA2yEQcyWOflu5X83r9k61qXwZP7ebY2Gf0Pnz52natGlqmY8++iiFhoYW9iW7ZH1xcXH05Zdf0tatW+nIkSMUFhZGEydOpEqVKrmkf+kkfxFYu3Yt/fPPP+Tv70/Dhg3L38nI6IKAIOByBIqlsbm8V+lQEBAEBAFBQBAQBAQBQaDQInDwRDTdP3KuWt/s/91NDcODC+1a3XVhO3fupCZNmqjpbdq0iVq2bOl2U92zZw8lJydT48aNqVixYmp+hw8fpqtXr1K9evXI29s7T+ccFRVFPXr0oO3bt5uNe+LECapSpYpZma0348ePp5SUFHrllVdMa7JVV8rzHoHRo0fTO++8o4jJiIiIvJ+Am42YkJBAb775pvq8DRo0yM1mJ9MRBLKOgHhgZR0zaSEICAKCgCAgCAgCgoAgIAgIAnYQwG/kLVq0oPj4eNq3bx/VrVtX1b7rrrto9+7dtGDBArrjjjvs9OD6Sx9//LGJvLr99tupQYMGdPz4capcubJTgx08eJDeeustAikAwqt///5OtZNKgkB+ITBlyhT66KOPqHTp0tSnTx8KDpYfG/JrL2Rc1yAgBJZrcJReBAFBQBAQBAQBQUAQEAQEAUEgA4HTp08r8gqeV9WqVVOlILUQtgerWbOmOubln5kzZ6rh+vXrRz/99FOWh3766acVeVWnTh269957s9xeGggCeY3A448/TuPGjSN4H7744os0a9asvJ6CjCcIuBQBEXF3KZzSmSAgCAgCgoAgIAgIAoKAIJBzBP777z+aM2cOrVy5Mued5UMPCBWEQVvKx8dHnSOkCxpUILVq1KihyvLqT2JiIp07d04N17t37ywPu27dOtNefP755+Tl5ZXlPqSBIJDXCAQEBNCYMWPUsN9//z3pz2Vez0PGEwRchYAQWK5CUvoRBAQBQUAQEAQEAUFAEBAEXITAF198QfAUgn5NQbRDhw6padeqVcs0ff3wXLFiRfL19TWV58UJRO+19G9QUFCWh/zss89Um5tvvpm6du2a5fbSQBDILwTghQUvSNz/SGAgJggUZASEwCrIuydzFwQEAUFAEBAEBAFBQBAQBNwQAU1WhYeHm2ZnjdQyXczlk9TUVNMIJUqUMJ07cwLPrfnz56uqTz31lDNNpI4g4DYIFC9enBD+Cvv2229VaK/bTE4mIghkEQEhsLIImFQXBAQBQUAQEAQEAUGgsCOQmJRCl2Ljs7zM6/FJdOVaQpbaJSWnUFTMNUpITM5SO105jsfEuNm1mCtxlGIgN7Lbj7u0Q4a/S5cuZWs68FJChr3sGoTZhw8frl6///676ubff/81lU2fPl2V7d+/31QWGRmZ3eHo8uXLdP369Wy3d7bhsmXLKCkpSQlh33PPPU41wz4AT3uWV/O3NwcI0kdHR9ur4tJrCOWMiYnJUp8gH6Hh5E6GOZ09e5auXbtmc1ogPpHEIKuWnc/whQsX1D1qayx4YYG4BfZr1661VU3KBQG3R0BE3N1si/Clb8rPmwlf5rQ9dsdNVLlCoH6bb0e4nX743VrCl1pYMf7vzi51i3zq7CsbNlD0okVUkgU9Qx55JFf3Jy/HsrWQeM7Wc37ePIpjEVYPPz8qx9mEAtu3t1Vdygs5Avj/woVffqHYzZspmR+YfDlUJIx/5fMoWTJbK3eHezxbE5dGRQaB/ccv0MTZG2j/sQsUFOhLt3eqTQNub0Ie/At3QTf8+z5n2R71OnX2MoebEFUoV4oa1wqhEY+0odBy/laXmJqaRrMX76Sflu6m0+euqDrBQX7UtkklenFAOwrw887UDoTVF3M2085D5+hE5GVKTkllDItReJUgurtrPbq/ewOlk2Rs+N7UvxXuXVpVpwd6NuT2/9HmPRF06GQMYQ6VKwRQ3Wrl6Ml7mlPtqmWNTTOd/7nuMM3/ax8dPBGtiDqvEh5Us3IZ6tEunB7p0zjf9nPjxo307LPPqvkeO3ZMHXft2kWtWrUyreH555+nhx56yPQeJyCdJk6cSJMnTzaJpCNMr0ePHoTMe8hAZsugszV16lTasWMH4SEYelXIzofwxRdeeIE8PDxsNc1U/vfff9OkSZPMyvfu3Ut4Ge3MmTOmeoMGDaKwsDDjZbvnq1evVmvauXMnnTx5kuBdAkH4Zs2aqQyBmLvRHnjgATp69CiBONH23HPPEbSBYOPHj6dOnTrpS1aPWBesY8eO5O1tfj8joyLWAF0v6GQh1PDTTz8lvX8g6EJDQ039ZnX+r776qtLewnyXL1+e6XMBUlCHhWHs1q1bm8bCCbDu27evKoP3GIgMkFYIUcULnnIgY5BVsU2bNgoPnLvScF+9/fbbijhBRkqQgcCkcePGNGLECHWfWo4HEmfs2LG0YsUKlbUS2mmBgYHUqFEjuvPOOwmfA09P5x9l33vvPVq4cCG15++sn3zyieVw6j0+V/ASfOKJJ2jw4MGmOhhr/fr1qrxDhw4qrHfJkiUKR+x78+bNlVA6Qkuh84a1Yq9OnTql5livXj0aNWoU3X333aY+ceLo3nH0Gd6+fbvC6M8//6TY2Fj12cXn4MEHH6RnnnnGbKyyZcuqeW7g55Y1a9ZIGKwZOvKmICHg/Ke+IK2qAM9196Eo9QXQuITOLaplIrBAcOFL9M6DzOwnJFODmsFUv2Z5q18SjX1ZOz8Xc5U27YqgM+evUhr/V4XJsub1wwhfPo2Wwl8O8eUUX2i1eXt5ZIvAilm6lJL4V6my/A+qZ8YXiKv8xekafxkJaNeOfPMhM41eU1aPp/iLDx7gg267LdcJrLwcyxoO53/9lfbzP+6p/CVC27U9eyicv6we57TSafwFqBZ/efKqUEFfdotjPH/BvcQiuDjiBvblcIaynLrb09/6w5hbTLoATCKVvwDv5Iejyxlf7PWUA/nLXYDFF2h9zdExP+/xFP4V9TJ7CqTxF2ttxfjLsSd/6fPjB6LsknK6r7w6prA3wmX+cpqWbMObhR/2gnr2pGKFgHDJK0z1OCeZ1Hnszd8oPsNTCB5Kk77fqAiQEQ+31dUK5BEeSK9O+otWbkonTfQizl64SnjtYqLpm1F3UMXg9Id+fR1HtIs8H2ssUh5VC1YdoM27I2nuR/eRn+8NwevfVu6nj2auo6vXbxAKaIzvGQeOR9P70/6lo6cv0muPdzTrE9f2HDlP3l6etGjNQToWYe5ldOrsFcJr1ebjNJhJrMH3NjdrjzfX4hLp7SmraMVG83WCvNt39IJ6rdh4lD595TYqE5C3Gk2YHwiZzfyDgNHwIG8sAyFhaXhgPc4/MBkND9IgNyACD7LH3+LfPDzwDhw40BQap9vCY2TLli3q9Qt/v8FDf7ly5fRlu0cQZhgHhIgWjh42bBjh4Rn2/vvvK/IC89XaWCEhIXb71BdBuuChfNq0aUrLR5djLJAOeP3K31PeeOMNRSDo6yAALQm0AwcO6Mt08eJF07mtE01ggfywNJAzen/uv/9+AmZGA+kCy+78odel+8e+tGjRwtg9ffXVV6bryLJoSWCBaNHtQS6C7AT+wMpouPfwAom6atUqql69uvFyts8XL16sCD5LDyrcx3iBfBkyZIgiYDU5CJLv0UcfVfMxDgyPNXj04TV79mz64YcfCOSQM7Zt2zaFQ/ny5W1WR7/AoCf/G2k0kLvAEETwSy+9pMgifR0/5CHhwm38HPDzzz8rEnUPfzfWlsz/FuMehOceCEYjseTo3rH3GcZcu3fvrpIi6LHw2QWJihfwHj16tL6kjiBgNYFldkHeCAIFCAEhsNxss0AgwXx9POmbd+5Q55a/Im7dd4ae++CPTF/8PD2K07jnu1G3NjVUO0d/8MXx/Wn/0JJ/D5mRUmjnw18On+vfmvr3amTqBv3P/eh+5eL/2Y+baMPO0xmzNVVx6iSBv1Dt6tVLEQlt8MtEBoG19777KI6/fNTlDBkFicCK5S8TsFL8i0dOLZm/TKbyw6eXjS9zprGaNs3pUFlun8hu0Af4F0aQV77sbRb65JOEspK1a9Np/tX3PP+CC6vEv9bmBoHlCBtrC4KX2CH+4nyRvxxZWgn+AtOQPecCDL9qW9aR9/YROM6/Jiryin99DOVfKuGFGLt1K5WsW9dmQ5CcIK89+AHHGiGUn/f4kZEj6Qz/Gm3VmOwp26cP1fjwQ7VOq3WyUegIj2x0SUdfeYUi2QvDnrXnhwD9/1579eSaOQI/LNllIq+MV2Yv2klD72+piBVjeUE6B9Gkyav2N1WmgXc2VV5NKMOPV2eYxFq+4SjBK9zSQF7hewMIo5vqVFDheLMYkzVbTihia+bCHfQ046MNIXv4DlLSpwQ9zN5OTWqHqPZrt5+ipWsPqzZzl++lfj0aUo1KZXQz0xHfg2DlSpekQTzPejXKURz/mLdlbyRhrKTkVJrC3l0VQ/ypd8fapnY4+YS95zR51bJBGD14WyMm5fzp/MXrNI/HXP3fcSbromji9xvo3advMWubF2/wgLmUf+SD4eHz/+2dCbwdVZXui5CRJJCEDCQkZICQhHmKEkAICNqi8OQ9xAEcULvbRnxti6CoYbARRBFpFEThCWI/RUFEHLARnyDTY54FQggEQgKBDCQhc3L6++9b62TfulXn1D33JjnXu9bvd06dU7Vr166v9qlT+9trfYuBKAP02GNkku61WYO82kaer3h+HKSJQEiKiy++OJBPbMMLCw+Q2M4444wqeXX44YcneCVBWuAxBClCOCCD3S/pngJpVMYgsHjNnTu3SmBdeOGFSX95bGOcB943HHuffdr2pVrHOPvss5OrrroqFIGEwDNp6tSpgRi68847g+cQXjqUGzt2bCBAKAzJQagXZAmEHYZnD14z2L51nqkgKIwczJJH7A/uZpBXiNOfcsopyd577x3CG217o+2H+OAaYL/Tc0vcBtp1//332+GTG+Qhj/dX7DUHgYTh5YaHFR5NRl5BulA3JCBtx4MPAod6Ttd/YkeN9kHqEeaJpxx9DNIFUg+ijD5OuCvko4Wu0v/wVDJi8fjjjw910Dfx3rryyisTrjfeR5SDmLIslx1tb9H+dg3xqsKOPPLI4KFFm7gmnAf92jys+B2feeaZwcsPgu78888P5wepiwecJTCweqkT/Ple9jdM/6e/DxgwIPmWnk24tmACSQyeEHx4c8aEnfWdmMDl2G6OQJdCQDdltyZC4K5H5lT2/sAPKgd//P/ktkqu8pW3n3hlKDPto1dV/u3bf6yc84O/VA5Refbb94NXVP7f/bNz982uvP5PT4V92O/jM35dOe/KOyqnXvD76rp9TvhB5ZFn5md3C99P/+6todyFV9+Vu73WyrmXXlq5XfTVQ1OnVoste/zxsO6OXr0qaxcvrq5v9g9rXn89tJvzWXDjjR1qLnVx/tS16Lbb2tTV6li/+lWb7Zt6hV23O/r2rayaO7fV4WZ+7nOh3fdNmlRZv3Jlq22d8aUeNkXHePzoo0O7/tqvX+WJY46pPH3yyZV7d9qpes0e3H//ol19fR0ENqxbV7l72LCAJde/rD33+c+HfR4+5JA2u2zpPn7/lCmhbfeMGlWhfQ8deGDlnpEjq/2F3+btPXtW5InYpu2NrqiFR6N13r/HHqHNXB/6ePb15HHHNVp1t9/vXy+8pfofyX9n/Hrhla7z35V3Ia+4/oFwPvvpOWLN2nWtivzy1icr9z/Z+r7/7ItvVM+ffZ56fkGrfdatX1855BMtzyYnnP7LVtv48vs7Z1YWLFreZv0rC5ZWpn7kR6Hu//z9Y622n3jmr6rH/PCXbqgsXtr2/4Z28QzFtTnsk1dXlizbWIZnGrtmZ+vZKc++ceVfq2WeeeH1vCKbbZ3C0pjVrEybNi33mPIKCdspo1CqirxAWpWT50dl8ODBoYxImlbbpIFTUehT2KYBdatt9kUkTNhOOQ2MbXWppTyWwr477LBDtbz0gMI62rt06dLq+jIf5P1SESkT9t9D9zgRUm12E7lR0WA9lJGnTEWEVasyImaqxxep0GpbrS/SDKruJ0+aNkXBhnPiJY2higilNmU62n6RYaF+kW6t6hZxUT22teG26BlSXl8VERyhjDzhwr7nnntu+E6fYXtsCkWsyPsqXtWhz/JkCseiD8kTrE1dIloq8pirKLyzuu3YY4+tntNll11WXW8fRHRVFNJXLSMCzjaFpZ2fCLtW64/Tfx8YHa1nwyJT6GQoM2PGjFZFFLJYPZ4INTk4t75HUqfhz+81u12EaXW7SOlq3XHfac9vWGRZ6GscU4RXtT4+iDyuiCytyHOz1Xq+iLwM7aCfujkCXRWBri/YoF9ud7Lvy/OJ0IXB2/ZNbrrkQ8nFX3x3cvZnpic3fOeEsA4NiJ9o9rGMoUlxkGZZf/ntDyTXfP39yVc/fWjyvS8fnZx36hFhd0IFb5MbfWcb+knYUM2omL2RZnYZdMQRSc8aOg1WvlmWeJuYDUxn8ux7e5fL5H5soUt4smSt1bE6wdsrW3+97+h8YUOOOirpI12N2CZqtu8dcu1/m0RZe0g7o7OtHjaFx1Mn3knpxw+U198eEpOdrFCKA+fMSfqmIarLNVO1IdLEKKzHN7RBYKlmfPGkwnb4xCfCsszbUmlIYM3Wx9crRGdFGlIyRp4B+2p2dz+1dZpmgvFWYp2ELJJEoQAzpSGyViEjnWG18GikfsIHV2iGGqPN++u+kn3tnglvaeQ43XUf9KDyDO2mUcO6dkjysMEtHjKE8f3ohoeSZStWV0/1A0ftnkzdvfV9v7pRH46atnOy24Rh8aqgITVtrzFhnelixQWOPmRiYse09YTxDdimd/CIYt0rC1qHJVq5HsL77M8clgwa2Pb/Bq/1z36wxduLEE+8xc0IDcT69umZfOnktqFgbDv1wxu1ph7623xWdQn7gLzYzaPIGowXzlH6z8ael0dybHh7aPASPKPw2MkzvJTQ96GchdDllctbh+YUhjaVmbUBj5BsOKOVKVqSARAPHdqDXlde2OFkef/i7YXh1YPwemcYYV5mhPNljTaZ4W2EV1jWOtp+E45/WM+deJKZoV+G4S1lmF533XW2OVw3QlAxq8P0xghtQxeKsDwzNLKmT59uXzu0FElZ9SYEF7y9skaGSrySLCsknlp4NGF48uHJljU8ubjOFoJqGGTLdeZ3u8YswSz2cOM4R2j8YvY1PXdmt3/sYx+zzcE70b5YvXxvz29YZFcyfPjwUA3XG30uM3Sz8LY0r0dbz9JCefEWi697XMY/OwLNjoCexv/+jGw0T0tclf+TyeOHJv36tC9VbrMigqDqo8++GpqHKGqsUTVi+wESHd07ufRn9yWPPiM36TeWFYqt2vm9Sw+cvLL2vkN3Tc6/6s6Q0WeutCQ6y9CXYcCLxgw2RH9MrMNeTwmswXIrRlenR58+YX29t5UvvJCs0kPSALmh90r1FcLAUhffvlMHda5RLHhv3eypGyFyBqv9FP7WLyfGv2y9y9PwwZ7ShugrwcsN+kNYIaFSznOb3XZL+pQQJSWEiMGzDWTR29laYZXr9Me/lbKFbC1XdKx6LD089R03ruVYCGHasSKB0LBD5g2s0atCaJuwP+ooY/KoSjQ1FkS6KU+oJG3jB2YaUmAOEZQ9XzDHwH2D4vIDEaUHYcL24mtMWOmKmTODJg9aQ71SrY2y2ISD5LztKd2HPBuoh8tVepgH361KiNO2t/+s08MgJAI4IWoO1vFDCue1RsQIZJ+da9zOgJvK5IViykMx9Jc+ut7oM8VWhGNcptZn2rVKvylCLyGSt1HYil1j28+uyZsieLCtdA599RviXHuor/YoSE0OsUIfQOsOI8ww9CN93lru7+gxbak+TnsgMxVDwcckS0YTajdBD8tb6d7xkh5c16pfL9AD444ZgVT25Typi/DI/hKn5bz4bbBPL4UGGz5l8KA+s9L3JM5DgzxsQB1Svb39umwbsvXy/S2JHHO9B0h8N+7zFbX1Ld0z12hA1p975ujRdsq5y0bvY7mVNbCSsPqb/vJM0J6Md+f/FxHwrmwIrg8UebRMoX1X3vhwmAzbY5fhyf5TRiaH7LeTwvyKtQ0P2ruFqMqe//67jUxuvfd56U6tDeGIEE9maHkiGE+YIXpXC99cGcrYdpYLl6yIv1Y/7zJmSDJJYu1FRtjghVe3ZNlCpB1hdgyxd4zJvhmX/SV8rvX24rwltTaHDHPo2RB+1R5DVNzIhPbsV6ssg/08Q5ycAT5kAu1k8I+hiYVBCqE1VGSQV1iZkCN5/oTQPMoThoahG0R4ImZEEJn5bB2hhHnERtgheiNMDJswYUIiD5doS+uPaDv9oyQOOC/2iYmD1iXLf4vF33v33qjllldD0XXoaPsJoyO0jOtBSCAi45CEaC9hnCf4Xn311SEU7fLLLw+kkIUPomF26KGHhrKE8KHlBMkHeXTRRReFJAFslydRTXxDBSXf0H0yK9vf6Zf2ezrppJNs9zZLtLIgfAjNQyyfc6mVqKBNBQ2uIDQVojRrcZgeoaNZgzTkOZDrZ6GR2TJFfafoNwwpSEjuTD0/EzY8Ts+aCMxDpiFyL+/L7CFaid7H/bpNQV/hCDQxAq1HP03c0LJNe1D6B2d890/JIj0IYcMGb5N8+wvvCpoMZeto1nKIkpqhT5G1d+gBEwILY9bwfYe2zAajX4Gmw0Rl9uEhu56tXL22qvGBvkRn2HxpJ8zUn21sD+VoH8w+7bRkvmbW8OSpZW9IUPQ5CT5CAgTTn8IgPSCNkt7R36QV0FuzD9Okv2D2jLIDvn799cl4/dFBXL32k5+ETT11cz84SuXb3npNr2dbESKvXnNN8oKEQ6tt0kPiGOkKTNAxaxkaTfOvuKJaZJ1SGd+dCn720Z/RgfpjxuxYAyXeCZ6IpjPoC6ZjjdPAeuxXvtLyPXpncPi8UlovluaBngqqW7ZTfP4ktbmfHgaLDGLqXg0o5WNeLTLn3HMTXtg0aWBR5sE048/+evBggIpBlj24xx6BjNsd8Xc9XK0RUYXtLBHR0dJBWCr9g+f08L88fQALG3Uu6CntKi2istiE/Uq+QcgtlaYIRlvLEFhl+89SPajPlrgnAtqx9dPDDuczaPr0sHrBz3+ePMODmQioQ0XqxG1YpBnjJ9KByP4iewaIBDFbJc24+yBc9WC+mwYkw/TwhtXD0fYvWoLJXGmlvCwNhfUa5FRN7dtR/XO8ZuHJOInN1mBjrrRUzCoIhqYz0qM0UzrxsstsU3W5Wr/F+9TPzMOQDbM1W8wLox/uoAHUlujjoQF6s2NrdBcIcVsfL3eS3sRL/J4hXSKBVspAWs5U9sWgBaftGET0LhJsfU3nt0SCuLtKt2Ok7oNl8aCO9t6TjASEYB5Yx1OzbL9ubxvQylsgzZkJ6icQdi9KG2Sd7hMYJOCuusfvoPsB92R0x1bLK7Jl41bJWN3XxqX3l5aVLe8duY/F9XT0M0lOrvn39yff/em9YaJs++36JcdOnxTmdKXPAAAqC0lEQVSyEHa07i29PxkGr5jxvkD8kCAGbyi0pnhBaKEX9Z3T3p1sO6DtBFORZxpi63n29OzXkxkSUp+VEkp5ZWqtG7F9y/2oqAxt5LV0+epkzvyN3iVzUkKKc7tNel71TOGMNYuQjr4R74+8AW7NA5XYWJQ1zrR2slUw6MUQfUbvqJ5ZRr1a5RCNRnw7NgbJ2XVst3VlCSbz6Bozpu3zb3w8tJDwQIFAe6bOs2S8X63PsYA95EP8Pbvf6AISvqPtRweNFxpQeChBYF2veyiGJprCKgMRCYFFv0SrCTLKvJnIQmheQfQVtqNHhecOfYCsdLwgtCAX8RjLI0Cy51vrOzpMZkX907bb0nDie7198N4yg2DNitfbtvYswaKWFbUp/p1Zdsu4HohjXhCrRVam7nhfsmfS3xVmGQjqFzU5zwvtKzI7ItifJafpGxhkWp43YVy/f3YEmhWB/CeLZm1tnXbheRWTVxRHlJN1v/veR7r87OhrC1tcgEeP2DY3M87YkYMYs4jdTxLpQlTR+uEND4asPmwj7XSvnrVniS//xQPiOVpm3Jh17QxjBh6PJLyTMAimnilJs1IzSAyCt9Z3QtPwwqpl8yQsCnmF4UHTW7MaDIDIMscLw4snNsKdsDkaiG9Ivb4YqPbRTIrZPJFIz2kAGkwDd9rSpl6dQ2w26IV0WHTLLWFTbz284G2B19LLElIcrJmQwRJ7LDIIIIi0dWkWnB7y3DDvJIgxMzvWYh2LF0b7EVIHvxc1MzdCpAieYGaLJBz55DHHBOKAwfRAeT6t05/Xcs1K4kHztGaB94vEP20/W0qTKHiSrIsILNqK4SmBJ8Ui83ISZtvI28hsWZpFCY+JJ9773tBG66B91W68fB7XtYYwwTMFAhJvsiV6+DVvtLLY2DHrLSFqIFJXpzPDY4VZGSvTf/Ai/JtSjkNuQEz114MmM20r5HmyUg/RT0gAHGIW3LgWweS+zznHnlYvp+EPbF8twiomsCAFQv3yGttWs2xYGRxDwYI3PIEeV4iJkXqI2/cV2bRSgxv65Ct6AOKmQqZJrM01wetKD1DYthIQzbM1Es/Fy8r6OP2gGiqs3yH3BmxL9HFrrx2b0Ebammd4VfWW59saEXLWhyiHZ9HD+m2BGUZ/JhkDffvZyLPBzrMsHh25JxEma/fY0KictzL9upE2WL3z9FCNhyzWS5lJ16ofQIbPUjpyiP4XJHAbtgmvtbqP0c/miIgfIcxiYr2j97FwkE58myzPnx/OOKYTa2yeqshofO15xym73+LkgafmJQ/q9deH5wSPM76f+8PbA4mVbTFi7GWNLICnfvMP8q5aqTDDrQL5d8TbxydjRmwXMinjpXXyWTclj8ibvMjeFDFVy5iIW/ZWS5kd5KFuNkzZlRGj79+vV/JvH51mqwuXIzLZmLMFCeH5ghKXmMdIdnvR97fpftHZhpBzewyPkDl6dmKwzUC4nhURM/F+CFcTmoghHk0GNYSm7XzxlsFjiEE1hApmXkHhS403aWkFYeqFmuSrZRAE0toKRYoIgVr7520j7Mq8Zzi+ha7llS26Dp3RfryYIJjwdCOjoZGneGdhYDlu3LhAYpANj/BNC9s0cXFrM2LeJAiA5JPmVSAU8dZ6S89sfMeLrQyxafXlLSESzRD1L0MwgZOZeezZ9+yS/mXWnmtdRCKBKd6Btazo+sb7mNdivK7M5zJ1x/VASPKbIusm5COkMAkg8GIjPBCSE7I8TpZgvx/ISSM04zr9syPQFRD4uyKwcA03z6sY/AWL3kpmvbyojT5DXKYrfCZrD7Zdzuwn6wlfGChdK2Yc0X0wI3sgFocw2TZmIe946EWNiSvJqyLI8NQiBBEjlHD6AePC546+7SjPjOEiS+7RQAUNmb1ErBjJ9LAGvcvkiQOZMEYPgrUMr4dZ8ibCtlUq4z1uuimQKJBgkCQQBVgcOsOA22b4Ia/whtlNf+wQCYTuYczuz9JsBbat3HB3V729NZBvU2+UunitHmJWa6YjmB6Y8JbaXbOYhB8t15/HQ3g/aP3repirRWDtrhk0SKh70z/tKcrCOFSuv7G1OpY2hGOJMMHDYqEIpCd17hyLMB0jsFZo5ovMjni9DHrnO5MpIj8I5cPwemJwSUgfpI6FKYaN0RskDB5qszXQfPmb3wzExttFPMVm2lyE/xiRwXYjBGgXYUJ4iJGhEMKFss/L244Bfh8RbgfI08gIDTDnfLEy2ISCBW8rZ80KWfEgEwjpI+wrEA8iTXaWdwhZ5epZmf5DWNzTH/lIuAYD1Ed2k4dVv3RmkOuPVyB9D/J1vHCg75lBZhiBBWZGwrK96mGXFl6gvoENUXpnQgixV+ThUw/HULDgDW+ZQF6lmOyoGVnC3iBlyBa69O67k1fUV8i+B7E6+ZprQpjcXZBwuq676pxGyMOxluE1SD/CQwlvQ0LrDiDULbIt1cetCea5FN87bFu8tBBACHAzfk+QVxDqeFnhTUY4MeSfeZnpSbHq2VUGj0buSbSH3zTGb5fMnVkL4ZoiEMv060bagCca4bkY5FVf/Q7Q3MLbcY4etF/Ug/Z6hXpAXkGWTtG9eLDIa7wSw29IJBb3MSOwOuM+lsXAv9dHYPyOgxNeJ7xr94Rnj0+fc3MI87vnsZfDBFccCli/ttYlIKYgrzDkEOJsx1byhVdqh+5JqF0TlG+10dCy/e99TFmSW+bhkjiTM6GH5l2GhAJaoB0xBoFk99vU1l6CrEx78NjB+4ZBO6FInRF+hXeUeUiZZ9UHNbFjA2i0g7D36plFgtplmlktQx1knoNwwcsEoibPIF84J8yOm1euPevQG0Jzi0yGePqQ7a291hntNwILkgkdMPSwMCOweM7/qP6PwfkmPcdatkoy/pE1L88Ih+P1L3gQi7yZLk/xv+mZmMx5cchp3r711u2ZeuRT7hZN8pYJI4yvGftkibf4mLQRg0geWUdGg3KW8e8hPWvlnRvhro2ST9S/pQytK8JweaENhkcWoc1onKEDF2PKtcVionBLtduP6wg0isDGJ/BGa2ii/XTfLrQetTYW7tVcG4yc20Yzh0VGGmsMvQmzMyRUSmrrCz9/ZBvvK2UNSk6/+E/Jl//jtuQSpZY28mrPicOTUz640fvH6urIcqFEtCGvIJCMvCIkalnqATRMg/x6RvgO3kZ4ARGWZloqDHb20HezWMPGCBa24T2xj2Yp8GrphZZU6q30kjyzqvWm5BXly9bLQAzBZzsu9aPLheF1UM+qZI8KMrjNWnwO6G2FY6XhQQPiWHt7YlcFeGSt1wAWgmh3kV1GXlH3BpFWGO2OSaewMufNBsV5bSsa+Nt6qgvhjYhayoPFwvZMCwmNKCOvKAvmeZ5nbMs7PuuLbKZCEZ/Ww/OzJ58cwuPMa2aSxNxHp0Ro0b62Psa+qP/MVqgoHnd4meypGUwjr6hjmFI8b5N6BK7Ugy/WNwqBgMAyezkzC77aQmRVYKlSmb+V6knsINLJrCyOVj5evqk++7oIBGzcOecETCCvMHSfqhiJqIJ4NMODD/IKg7Ara9Yn8q5jjPPm7uN4Ca5IyW/7Deedk9IKJXa97PdESPICuetjiKZDXmEQXWMUTjpMA0MMPTH6f2y18GjknoQ3nZ3HQoVZ361rmH0t/M1vQhNivIv6dSNtCPWm9yE80fbVDL+FFRO2bIZ22t533BHIK9bF26rMg9Z35n3Mjt3dl+vWbwiTVUzuxbZeIebX/vaxJCu4PmTbfsl+k1sI85Wr1iWrlUimI7bwzRXV3fPCEQntiyfhqoWjD6vXrA+hjuYtHm1Klsrz6qJr7wmrevbskaDDZYbOF7Z23YbkW6lGlm2zJef/OXmIPTlrga3aYkt0frAizZyONAwdJAyyRxndcqsinOt9muhhYN8ewwPKhMPjMC/zBorXla3XxOgRn1Y2vTA4z+7LMQmLwyCdTGcrW66R7wdr0hTD06UR64z2Q0SgAYbZeeJlFRMURhyieYZnDsY1jLW78ECCeI3D9SiHjhNedBgk2cr0WTGs0Bt9hRfXoIxBkuyWelgT2qjsjG12Q7Q99vQirG2/9Pn2x3pWuyvVzc3uGG8zbLNlst8NOzy7ILFig7iyBADx+mb+jMYYZFXW0AYzM48r+67so+EjmllujkBXRaBlpNJVW59p90RlnomFzW3zqOEDk53HDLavXXZpM55r9OBWZMbT4ZZvhvDqKSdMTY46cGdbVV0SdoinFdmADtxrdBW/J55bkHzgi78M4qrVwh38YNkHY6LqDVzN9aeBqDZhZbUMDw00U7BRmlnAQyq2eLAfD5BtkEjZXZRpJ7tfqDfVf0BDK7u9Vb2RKHKreuUFY1401ia8Mcqa1dVLs0ixd47tb9v5TihXfKxVaTgc2wxD2hy0eLSOsEFCevA+ekleVHi8vaqHAgzNojzPvLAxeluezvJlvVPwrAri1yob6+2E9alYd38RbGgHZc1IniXS5sKDBY+QPLNzL8Imbx9bN0gzjsMVVknGy0C0pD8QCK25l1xixWou7fgUyus/eIwtTmcBx0jPx4iNuNKtBw4MX/HKwSBeGcBj5mWFQDa/EfoN7Y638fkVCbJihI0OTUMv+F4WR8pmbZ50uTCITNqeNWs362P9KiNceyhkJS+bYLYevnPueCZieSRRK5w3cx+PBdyzfTw0OH3jd2Tk74B99w1r0ezjHkboL5p3WbPrmz3nWng0fE+KBNyz7QjfNaCDSMNa4d2Z98XUA4xjoIcW309NA49t6FzhJWa2ev58+7jJ7mPVA3TzD5+74A/J57/1x+Q9p/xnYiLlCKr/y3m/Ty6WttfHZ/w6+fP9swMRBNn1X/fMSv5w13MBtV2kpdmvHeGCeVBPGju0uhrCLCbSEHQ/78qNBEHKhVbLxx8guj597s3BowpSDe9zND9POP36ZF6avfDTx+2njIbyFk2N56ADdhsVvv3urzOTL1z0X8nzcxcFrzKIq5tvfzY56Ss3Jnc+/FIIYzR8bP/NvTSNGrSE0DJikE3YVGdoO+G1g7cNdu211wZPF7wz8EyB2PiJtEIJ+SKsDFKjjIh7qExvs+T9jOG1ZGFR6GNBqmCNEFjHSA7BPHj+IM9z2gS5AclCuBTthMhBIwojdDFPbDtsbODNQh3bm43RDtVZ7TcMrF7zvrLvYJslJ2IvJsgnxMK/qAkWSLlfa/IXAXS8dQhJ/BlSBTI89OIsdvQ79JZ4ZY9px85bIibPcyb9CkLxh/Lapi9AhP1/TcwhUA7hgpi/2VVXXRUISPbBc4wQV8Jd+U4/RN+J8DiM8M6yXpBGzrEfx7M6+T3hKWh6YWxvdoHz32qSCk9APK3+SZO1kFncH9B++0wqs8J5xGGbEJeWrdB++5RxcwS6GgI9u1qDa7UX76PvnPau5HRpXr0qjQNsR5FXF0nEvZ7uU616m2WbpYtergxBRbZydcvM6BAJy5Yxyp136hHVosxm8qB6zg9uD15cX/3+n5Ob/+PDuZpb1Z1qfGCQ9oYG5WhgLZZgJEZGrlf1sIQhfI4xoH9Nf5rDlT2miFBBs8kG0cP1R5M1tJOwkBEwIsPM06CPvF6G5nh5hXrVJqxmvfqTjDP32SAePS/zsgiVpG8m5o5XTj2zumLiLd7HtuMpQShmbMEbRisgRMjshgWs9UePgT+v2MBorGbmqh428cbMZ4gVdLOw7CAcbw/C87B44B+v31E6GNlseZQnnPANPTghWk84I31hJ4UV7SQh+rgP2LkXYUNdRZYVtcdb6TGFU3LMF3QcPJnwNKpl9frPIukNmI0gjDDHDD+8/szQWCPUyjx65iqTDF5Nw1QHROQSaVxYH2Jwb4Qk1ywWfS+Lox3XljzoGPHG7yLPE8/azT49o7Yb+YGXoXlsWb1FyxUK/7VkAHleW3adt0Qft2MTFjgwJabyzoP+ajYoTZkdkiNo5RC57mczNuLZVfVejMhv6qiFR6P3JLsu+gElB6mP52lg2fWq168bbYNhiRbgUHkfxmbHRMh9lFK1x2Yk+Va9e1c10TrzPhYfqzt/hqgi2Q22Xv/3Dzz5SjJu1KDwjGRC7IT3nXbRraEMk2GUM/tYiUQwVrZoOXGsPCyU2RBxeDIEvuszP9UzRt9AIqFt1UteU4jlv6TMy2hZ5dlhB4xNyJJMHR/72q/p8vDIrewgJbv51HEtRHO8YcY/H5p87oJbQv0QXrzy9j/x6L0CNvG+m/szA/5v4CGuk4MAwYuGgTWeNedJC6mjRhga4XwQZBAZvBCahiiIDQ8tC0eL1xd9NgIrJqpsHeFeA9NJnaL9i9ZDhiAmT+gc5AeEBO0FH15mnNMMJYToTLMQPLzICGWMyZCyx+mM9kNgxZpleWQSXljoW2GEzf2DZAfMeuEdnHqBExIJucUzF3pIkFhmp0nmITa0lczyjmnbsksIKq4FYY14W0Gu8Mr2s0c1AQOphdfhvvofRoAcoop1kE28aGOsX0XYK+QrRGkZw1NrukhbtKJ4jVMYalwn5BwC/eh1Zb3PytS/OcuQDREvQ+xKSRfwsvuDtWMvRYPE3mmQvHhzcr3Bwc0R6KoI9OiqDS9q954TRyS/vfTDyXUXHp9c963jk5su+VAyZUJrT52ifZt9vRFYiyN9q7jNKyRizwwkVpbAivfnM15eeGSd/P6W8Ldlb62pPuxmy5b5jp4PuiZ4vBBihc3VTArCxrzeSnVwEEAnK1tVYD2nchsIIoBtYshxMQuFij2B2G6DOjK2xcSI7VutVw9UFupl21gacVBYr2Yxs/Wu1kyVhavF4XBxvfFnG/TFJFC83c5hKMfq0fpna9sIWzSiyOoLnjXyChl79tkhGxp6M/tKb+wgPbSUIa9og9XP5yyBZceJ9X0oV12vP9fsIJbtGN4XB4hQQrCZ/bn2LyrM0ISdW0ptrKsIGytXZkm4JVngMDxpVklHo57Z+Rf1H7S1MDyjYs84qxdvmpVpJp64f0GoYhBYlHlVmSUxPKH6SFwXM++duUpxDfnTUyTqDp/6VNhmb2VxtPK2hJwi2QC2rWbZ84wQQ2xrPSRam/hu17c9pKLtg4dZLExPfZjhvCX7eL9ddy0UcCehgXmsDVB4AzpuEPMW1pknYE8YX9VjK0Ng1cKj0XuS7UdYbi+FWXOvyL5a0N6Id1G/trrwwov7re1fdF+0/Ybl3BftGg9R6FKWXDM8+kszpUfv3uEwtq4z7mPW7u6+ZDLvg/+wR4Bh5NAByTsPnFCF5Kx/Pix4a0MmmRl5BaHEZBcZF83MK5zvkE5lbWv1y++e/u7kmMP0e9MzB7Z46aoE8mrC6MHJpV9+T/JOibrb+vAh80aG5KvOOTZ5zyG7hOediLsI38/81CHJZWcenTt5ief5L/R8ePxRuyUDtmnpa7Y/5zFlwlBlrz4q+fxJB2aOuvm/QmDhXWFmXiE2iI9FmOMQMStfb4kY+SMKCYdQQCcJM/IKImF/3bfIdNfe0CoIACwmsPLWhULteIP8IgztW9Jk5DNGe428Gj9+fMjAhidNHh4dwYtQOPNsyoZtla23o+3nfBHENwIKEgMx9qzhTWThp5BXpv1k5SA7vq7ssIYh+Bl5RZ+AFMpmrzMCC5Ln/RmdVqu3aHmuPG7xXENQ3J6XrZ+ZBxV6VtZm6jlFEQL0zSM0WQTphlm/J+Mfum14DJJpMWt2PeL6rMxvFEaPTpi1w+qkbZBaU9PkSbbe9rM68/oVZYrW2/5xmbis1Rtvj/cp+gw5RTgrRKrhY/cHvn9YDgFgGpPFeL9haGXFAvtFx/D1jkCzItBC3TZr6xpsFw9ok8dvdFFvsJqm223Y4P6hTWhhzZm/JOEhLLZYryG7LS5X5vOeu2yczTBSrMx+2TKINY8955xkvm6aDMbJMIhIOrZYHiZL5f7NYGv4iSeG0Lmi7F+UN08VQuzsj4f12ELNKlgGsHhQvVaD9FWarcMsa1v4Er1V6xWh0KZeuambblFMoMT1bqesL1kL2eJYqVkO89TIlrHva0QikNUMi9tu2+NjDdIfVdZswNiqfWkGHgaDExQ22BGz+kNWMxEZsdmANOj76IHCzNYzyGcgXWR4ISEKPlozfU8pLI5r9arCFqzN9bApqrfWenTBzCzbo33PLmPsi/qPkUB5oYPU9xr6SOnoCC8dMwsVpf/N06wynmxsRy/IMrcRChq2pw8deM1lvXyorx6Odsx4CbZmhGdmDXLGSAoIB/P6CnpRKWmXJTSzdcTfjYzor7CELO4xzlukj6daGEXnQ0jsTGVkMoIdQhgjg6RGT+Gzhe+GL3qraH01TDUScLfttfBo5J5EvVZnfC+w48XLGO+ift1IG9YpDMX67nZplkw7LgMk88DKO6bdM+J7YMhMqAo64z5m7fBlknxRwukfP2bvQPRAJpmR8AW9TF4Ll6wIyW826LqNHDpQzxvbtfl/RBD90V9+xnbPXb7/8MkJr6xtN6Bv8u+fPSL54scPSubMe1Pk1aqEDIg2+TZtrzHJv55Ym0AaLG2uC/73kaFqsia+orDBiQpxHBFlHcwe174TBvm1fzw0+eqn3xE0v16Yt0TnOSAI11viGyu7JZd4qTDoxPuEwToeF5AWpiu0u/QVjbwpaufJmkDkVWSEif1A4eR4BxE6SDgVGd2maJLJPDyK9i1aj4eY6S9ZGQgHXh01Bvyna6KHF1pbhE5BCDCgrydET+bFenjVah+kCp5NZFrEo8wIujLXwertSPupg+dUwsRqGTiskl5skXFd8YriBYZPKnEGhBLXfVdN5GSfhSG3/pRGUUB+xKRI0TGy6yFa8LJCW4trRtgiIu+1iBT6+Z8lMwExQ7/kvCHYePHbKLK8/mdlyboJQUd/57wXaZyANpaFm1oWTStvS4jcWkZWzXp9Cw+0rJXpO0W/YUg3SCzCQsHnRU3K4o0GPiSYiO0pecEbCUmGUDdHoCsj0LMrN767tf3wqeOSS392XzhtXN5P/h+tXeN/c/szYRsPYftO3qEVPGQbJEthbIQSFIVWIu5uRnhBo0amtDEiJ9BewsbLFd4GKG9qNgbDo2SnHO2YsDHnzTwabBPeKzOjcJR48GZhKZQtGpwaubAh82cf6o1mPuP943rxDoiNweHLaVaiIZoZyg5s47J8fivVBeIzA7WsxcfKhl7RZjKFYXH7CMPB0PZBeNo8s8LKdr7ZoNiuW7x7dVuBd0l8LeL9sp8hbUbI5X2OZuni61sPm2w9fIc40NNXmwcwtuEZ91qayQ+B6X4SP61lMfYxvvE+eARiZJLMGuteVkYYjEyQseaPeWBB2ln4KyLgWG/zwNL+s6XjAXFC5kk0y2pZEY55+8Shk0ZWxOVeUruNQCAM1CzWi8rrE1Yuu7Rr2Wx9PBY+z7vGZGN8Ttp4Jn4+VJmzhh57bDi9+GE1e/94WR4CZFfFCO3NCrjXwqORe1K98wgNSd/K9OtG2hAIqpSszWIJsUX2QSy7jbByMg9mt3XmfSxU7m9VBGxCrLoi82F7eTjx2tQGkbXXrn07fBjLmtjeihioj5F3Ga9mNoS6eW1KA4vNcZzOPAcG62XDxzrjuITOnUlWZiUgQkOKTH8dsc3d/ry2lmkD4ZrojGEfyshY5NVZax2EaXuzOBpBCUnZWYY2W3vb0VnH7ux68LiCDIyzPmaPAfkKSQlhhgaamyPQlREopq+78ln9nbadB7RJ47YPZ3f5Lx5I7n70pcD2M4i67o9PJr//a4vIKiGA8ezJWZf/JXnbiVcm//MLvwjlDZ4PfemG5FSJuZIWm+xDGHX99o5nkx/f9Ej4TihBR0MwF8qLiQx/hFjZgJdwnCWaNcAYEJaxeMC/WGmSMbyDHlb4UywOHA+OjGAh9MoyDmaPZZ4wDLCWpKRaXr0xGWOeBNRFiKR9h7B4UrMwYeDPTGnqqZE9ZvwdoszMNI/i0DarGw2ifnKPjy1koEs1C+Lz3kYzaBhhYvOkccEA0QzPG/Sm4uPatrxl1TMiQ1JBFFUF3KNtrdanmWTiet+U192zCuODTDIDNxPoj8PZ4jbmYWP7x8vnpa31oP7IFyhcEi8iDBIPj79Hp09P1qcPYWSIq0fslek/JmJOyKgJrXNMdMCe0Ewlnodo/kzIZBi0frdM2Z3w4kJsf5Dah1XD9dTu1+SRhu188cWtPJfag2OoIPMGSWYi7ehvGQGHtxHZECETMULMYm8awwQBd0LuyppdS/DgPoO3Di9sS/bx0Id1zlhfzcLSzhUK+eS+NUeE+30aNFqWQbxHJ6cZBynfG90N/c4xPAfBDg+12dJXi0Nh499mKKy3WnhY32jPPSk+j7zj2XFZ2jXs9PtiKuDOvSrWC4yPyWdCMGMjDNNCzGOSvjPvY/Hx/LMj4Ag4Ao0gQEjapUp6gRGK9pf0WbSRurrSPrdI5gODfCKjoVvXQgBhfsueiedZPEbsWmfirXUEWhBwD6wu1hO+/MlDks+e/4cEvSuWeFXh7s537O177ph8MiNa+rfZCnORzZ67OMETq4/E7s3ueuSlhBe6D8zIEp64Kk2Rrcm4oHmxTQczDr3xq1+Fw8VaSMGbQYM9tFVskGJtKlqiqTLnnHPC5sclxIggdgjh0ZoeCl/Dcycr4F4lXzIDpvgYDNDnSAsAe0yx9gy+1qUZ8fpNmhRCCLPkkdXLPoT/PSwCh2MH0euUDJwgD5Yy+lexhxYECyF3EC4Hi3zC7FjZQR/bbCAKQRLr1KAr9ZI8QDYopfQseY8wmEb/CU+blWQHEoEwVWFgvUTs1TIy7K2T4CMWE3h8X6FMMBZSFW8LAu4axGN5bUbvDL0nBvy0CfFwBt/UxXWcIL0ns3rYWLl4yaAfgeynNUuI3hKi4JAzJiBOWby9CFusZ4Z9Vv8s3g8heLyV6DNgjccVx6Ud4Iy+15Sf/7yNOLgRslZXnAUwECO4x6d9iSQBwzJEb3twtGPESx5gRovEmyOSdYW8X+4TOUqYKETc+jRTFKFek0R2xmYhpYidZ/XY4nLZz1zLlSL1EOa+RyGLEIlc69FKeW445/WXTd3H7di096kiXQ9dC/rLeInQxuGPaDUN1T4kSSCb5t26BxAKChnD/YDrT8IAI+5jTGrh0cg9ya4L3od5OMbHtnOu1a8baUO13ojQtuPaNkjCbFhxfI0JMTXrrPuY1edLR8ARcAQ6igD6T5A48zUZQ8hddzA8fI7TMwiaaFk9re5w/l39HPfTGIiskuh7WTbNrn5O3v7ujYBGSG5dCYF9J49MfnTWMckeuwzXxH+PQEhBXpE9CEHS73356KRfn16tTslCAIcP6d8qjPAbp74zCKX27dMzWbtuQzLv9WWBvIIQm7b36OTnEsI/eJ+O/zlb9sHhkfaBZW7Ly97XqvHRl/4iuyYycyCyhmxtkFd4kUyUPsSwNCth1vNgxcyZoYZtp02Lamr9kQHTrvJSgjyBMICIgPSYKE0Iwh+x7P5W724auJLBDcIikF7av6+IgN01MzdGnkBlDPHn4RKwDybiivMaogw6ZhBF2HapdpitZxnrfvVQG8zwNttTAtIWrgUhQVYxxMQh43ZURiHLWGj75C3jQXEWW9MGAzey0ZlZm7LrbTvXCm8jKYYG4mLp3XeHQT8hdvvIO4swOLN62Fi5eDle4arb6wGT8COyVkLIGHkFIQOZNFnkWZkZKLvO2esfHw8ida9bb632EY5HdkGIq8EST91f2ZKy5BP7h/DFVMOB6xQTvHiGmRcOWS53+f7340OGz+3Bsc3O6YqdFJ44TuRtD82qQgBDZNFXyJw5QWGwe4uUyYa+LU+9bGJPmaL64/VjzzorMa0tfiv8jgcpOxG2Jfs4ZHHWwKOvUpGjbzf+gguSt4uM3FmEcExe2T4TlUHTdP0IkaPP4VW6n8IHrfxA/cazVguPRu5JliiAfePw0Oxx+V6mXzfSBruOeb+XWse0ewb3mE1xH8vDwNc5Ao6AI9AoAv9XUgT3KsnJpg7rbLR9nb3fOZo8Rhsqq2vW2cfx+jYNAuh7PSBv/+/nPEtumiN6rY7ApkVgK4VyyEXArVkQICwQzyoy49x1zSdrNgsNq+dfXhxETyGniozwQNJiEw6Yp3lFPZBXby5bHcqMHDYweHUV1cf6My75U3LrPc8nHzl6z+SMTxxcq2iyXl5AdLNYfBq9GMLa6g208ipmPzK/9VBq4EACyOMA75HVc+YkDArHpaFP7BuOo2P1zIiP59XLQPYtee5szeBVnigQHLQbT5GtlZ0nJjwITaM8Ze047AvpELxn8g5QZx0hdYRXMciPwx1rnQMhS2j0gKOJbGcPQ8ggIWrUQ914/sTnki0ff3/u1FOTeRqg99Of39tS4e54OyFgEFU2ULdtRettO0vaBdkDkdFPZMHWEIgFVoRNQfGwmmuEtxn4QDJxbex61dov3lYL+7icfUb/DCKBZAQkJ7BsarY9u1wv0ohjkJEt681EPyccrda1pb724Jg9vn2nL68U6Ya3HR4yRYL0HOtekVt4Fk257rpkeEocWz31lpwr4XkQxSHjX3rNa+G8qft4vTaX3Q42q3QPIqTU7mvoUunHVti3i/CwY7bnnlQGJ6u3Ft5WxpbtaUOtejeI2OO/IK+vl2k7+DZ6H7Nz8WXXR+Ckr9yYkLDmfx05JZnxTy0EeNc/Kz8DR8ARcAQcAUfAESiLgBNYZZHaTOXaQ2BtpiblHqY9BFZuBQ2sZAYfkiYrvD3/xz9OZkoIHjtAguaxUHYDh/FdUgQgftD/wVsGcXFCIt26NwJzzj8/eVHZpfA4PEiegpARbo6AI+AIbC4EVsrjHJkDpBA6Km+wudrsx3EEHAFHwBFwBByBzkNgoxhS59XpNXUCAstXrAmi61T19VMODyGDnVBth6rAk+vEM28MYYuvLVzeoboa2flZaQ0tlcv2IOlUoSnDIJpwpjgc0cmrRpBtvQ/C1euXLUsW3nxzIK+2kkYVOk9u3RMBBNYXyNsK75fXfvrTAAIhr05edc/+4GftCGxJBPpJk5OXmyPgCDgCjoAj4Ah0TwScwGqy646W1cD+vZO1a6VJtWBZaF2zRHlulWyVQFytXNWiGYN21vhRgzYbgr0JXRKJtkTZ5HhVTXpBI5QJEB0rt44hQAjQizNmtIiPqyrCA9ECs0x7Havd9+6KCJAdcm6UQRE9p12UtdDNEXAEHAFHwBFwBBwBR8ARcAQcgc2JgIcQbk60/VgdRmD5448H4W80kdBd6iOxcgSU+0rXya3jCECWzr/iipC1D2wHS1g9zgTY8SN4DV0NAX5zC3/3uwRhecTmh0iYvqyGWlc7V2+vI+AIOAKOgCPgCDgCjoAj4Ag0LwJOYDXvtfGWOQKOgCPgCDgCjoAj4Ag4Ao6AI+AIOAKOgCPgCAiBHo6CI+AIOAKOgCPgCDgCjoAj4Ag4Ao6AI+AIOAKOgCPQzAg4gdXMV8fb5gg4Ao6AI+AIOAKOgCPgCDgCjoAj4Ag4Ao6AI+AeWN4HHAFHwBFwBBwBR8ARcAQcAUfAEXAEHAFHwBFwBJobAffAau7r461zBBwBR8ARcAQcAUfAEXAEHAFHwBFwBBwBR6DbI+AEVrfvAg6AI+AIOAKOgCPgCDgCjoAj4Ag4Ao6AI+AIOALNjYATWM19fbx1joAj4Ag4Ao6AI+AIOAKOgCPgCDgCjoAj4Ah0ewScwOr2XcABcAQcAUfAEXAEHAFHwBFwBBwBR8ARcAQcAUeguRFwAqu5r4+3zhFwBBwBR8ARcAQcAUfAEXAEHAFHwBFwBByBbo+AE1jdvgs4AI6AI+AIOAKOgCPgCDgCjoAj4Ag4Ao6AI+AINDcCTmA19/Xx1jkCjoAj4Ag4Ao6AI+AIOAKOgCPgCDgCjoAj0O0RcAKr23cBB8ARcAQcAUfAEXAEHAFHwBFwBBwBR8ARcAQcgeZGwAms5r4+3jpHwBFwBBwBR8ARcAQcAUfAEXAEHAFHwBFwBLo9Ak5gdfsu4AA4Ao6AI+AIOAKOgCPgCDgCjoAj4Ag4Ao6AI9DcCDiB1dzXx1vnCDgCjoAj4Ag4Ao6AI+AIOAKOgCPgCDgCjkC3R8AJrG7fBRwAR8ARcAQcAUfAEXAEHAFHwBFwBBwBR8ARcASaGwEnsJr7+njrHAFHwBFwBBwBR8ARcAQcAUfAEXAEHAFHwBHo9gg4gdXtu4AD4Ag4Ao6AI+AIOAKOgCPgCDgCjoAj4Ag4Ao5AcyPgBFZzXx9vnSPgCDgCjoAj4Ag4Ao6AI+AIOAKOgCPgCDgC3R4BJ7C6fRdwABwBR8ARcAQcAUfAEXAEHAFHwBFwBBwBR8ARaG4EnMBq7uvjrXMEHAFHwBFwBBwBR8ARcAQcAUfAEXAEHAFHoNsj4ARWt+8CDoAj4Ag4Ao6AI+AIOAKOgCPgCDgCjoAj4Ag4As2NwH8D6beMkfmTHu8AAAAASUVORK5CYII=)\n",
    "\n",
    "(source: https://harvard-iacs.github.io/2020-CS109A/)"
   ]
  },
  {
   "cell_type": "markdown",
   "metadata": {},
   "source": [
    "## 7 Other Functions in pandas"
   ]
  },
  {
   "cell_type": "markdown",
   "metadata": {},
   "source": [
    "### 1- Importing Data\n",
    "\n"
   ]
  },
  {
   "cell_type": "code",
   "execution_count": 16,
   "metadata": {},
   "outputs": [
    {
     "data": {
      "text/html": [
       "<div>\n",
       "<style scoped>\n",
       "    .dataframe tbody tr th:only-of-type {\n",
       "        vertical-align: middle;\n",
       "    }\n",
       "\n",
       "    .dataframe tbody tr th {\n",
       "        vertical-align: top;\n",
       "    }\n",
       "\n",
       "    .dataframe thead th {\n",
       "        text-align: right;\n",
       "    }\n",
       "</style>\n",
       "<table border=\"1\" class=\"dataframe\">\n",
       "  <thead>\n",
       "    <tr style=\"text-align: right;\">\n",
       "      <th></th>\n",
       "      <th>title</th>\n",
       "      <th>rating</th>\n",
       "      <th>year</th>\n",
       "      <th>runtime</th>\n",
       "    </tr>\n",
       "  </thead>\n",
       "  <tbody>\n",
       "    <tr>\n",
       "      <th>0</th>\n",
       "      <td>Almost Famous</td>\n",
       "      <td>R</td>\n",
       "      <td>2000</td>\n",
       "      <td>122.0</td>\n",
       "    </tr>\n",
       "    <tr>\n",
       "      <th>1</th>\n",
       "      <td>American Pie</td>\n",
       "      <td>R</td>\n",
       "      <td>1999</td>\n",
       "      <td>95.0</td>\n",
       "    </tr>\n",
       "    <tr>\n",
       "      <th>2</th>\n",
       "      <td>Back to the Future</td>\n",
       "      <td>PG</td>\n",
       "      <td>1985</td>\n",
       "      <td>116.0</td>\n",
       "    </tr>\n",
       "    <tr>\n",
       "      <th>3</th>\n",
       "      <td>Blade Runner</td>\n",
       "      <td>R</td>\n",
       "      <td>1982</td>\n",
       "      <td>117.0</td>\n",
       "    </tr>\n",
       "    <tr>\n",
       "      <th>4</th>\n",
       "      <td>Blood for Dracula</td>\n",
       "      <td>R</td>\n",
       "      <td>1974</td>\n",
       "      <td>106.0</td>\n",
       "    </tr>\n",
       "    <tr>\n",
       "      <th>5</th>\n",
       "      <td>Blue Velvet</td>\n",
       "      <td>R</td>\n",
       "      <td>1986</td>\n",
       "      <td>120.0</td>\n",
       "    </tr>\n",
       "    <tr>\n",
       "      <th>6</th>\n",
       "      <td>The Breakfast Club</td>\n",
       "      <td>R</td>\n",
       "      <td>1985</td>\n",
       "      <td>97.0</td>\n",
       "    </tr>\n",
       "    <tr>\n",
       "      <th>7</th>\n",
       "      <td>Clueless</td>\n",
       "      <td>PG-13</td>\n",
       "      <td>1995</td>\n",
       "      <td>NaN</td>\n",
       "    </tr>\n",
       "    <tr>\n",
       "      <th>8</th>\n",
       "      <td>Cool Hand Luke</td>\n",
       "      <td>GP</td>\n",
       "      <td>1967</td>\n",
       "      <td>127.0</td>\n",
       "    </tr>\n",
       "    <tr>\n",
       "      <th>9</th>\n",
       "      <td>The Craft</td>\n",
       "      <td>R</td>\n",
       "      <td>1996</td>\n",
       "      <td>101.0</td>\n",
       "    </tr>\n",
       "    <tr>\n",
       "      <th>10</th>\n",
       "      <td>Doctor Zhivago</td>\n",
       "      <td>PG-13</td>\n",
       "      <td>1965</td>\n",
       "      <td>197.0</td>\n",
       "    </tr>\n",
       "    <tr>\n",
       "      <th>11</th>\n",
       "      <td>el Topo</td>\n",
       "      <td>Not Rated</td>\n",
       "      <td>1970</td>\n",
       "      <td>125.0</td>\n",
       "    </tr>\n",
       "    <tr>\n",
       "      <th>12</th>\n",
       "      <td>Evil Dead</td>\n",
       "      <td>NC-17</td>\n",
       "      <td>1981</td>\n",
       "      <td>85.0</td>\n",
       "    </tr>\n",
       "    <tr>\n",
       "      <th>13</th>\n",
       "      <td>Ghostbusters</td>\n",
       "      <td>PG</td>\n",
       "      <td>1984</td>\n",
       "      <td>105.0</td>\n",
       "    </tr>\n",
       "    <tr>\n",
       "      <th>14</th>\n",
       "      <td>Grease</td>\n",
       "      <td>PG-13</td>\n",
       "      <td>1978</td>\n",
       "      <td>110.0</td>\n",
       "    </tr>\n",
       "    <tr>\n",
       "      <th>15</th>\n",
       "      <td>Heathers</td>\n",
       "      <td>R</td>\n",
       "      <td>1988</td>\n",
       "      <td>103.0</td>\n",
       "    </tr>\n",
       "    <tr>\n",
       "      <th>16</th>\n",
       "      <td>Labyrinth</td>\n",
       "      <td>PG</td>\n",
       "      <td>1986</td>\n",
       "      <td>101.0</td>\n",
       "    </tr>\n",
       "    <tr>\n",
       "      <th>17</th>\n",
       "      <td>The Lost Boys</td>\n",
       "      <td>R</td>\n",
       "      <td>1987</td>\n",
       "      <td>97.0</td>\n",
       "    </tr>\n",
       "    <tr>\n",
       "      <th>18</th>\n",
       "      <td>Mean Girls</td>\n",
       "      <td>PG-13</td>\n",
       "      <td>2004</td>\n",
       "      <td>97.0</td>\n",
       "    </tr>\n",
       "    <tr>\n",
       "      <th>19</th>\n",
       "      <td>Millennium Actress</td>\n",
       "      <td>PG</td>\n",
       "      <td>2001</td>\n",
       "      <td>87.0</td>\n",
       "    </tr>\n",
       "    <tr>\n",
       "      <th>20</th>\n",
       "      <td>My Neighbor Totoro</td>\n",
       "      <td>G</td>\n",
       "      <td>1988</td>\n",
       "      <td>86.0</td>\n",
       "    </tr>\n",
       "    <tr>\n",
       "      <th>21</th>\n",
       "      <td>Napoleon Dynamite</td>\n",
       "      <td>PG</td>\n",
       "      <td>2004</td>\n",
       "      <td>96.0</td>\n",
       "    </tr>\n",
       "    <tr>\n",
       "      <th>22</th>\n",
       "      <td>Pee-wee's Big Adventure</td>\n",
       "      <td>PG</td>\n",
       "      <td>1985</td>\n",
       "      <td>91.0</td>\n",
       "    </tr>\n",
       "    <tr>\n",
       "      <th>23</th>\n",
       "      <td>Pretty in Pink</td>\n",
       "      <td>PG-13</td>\n",
       "      <td>1986</td>\n",
       "      <td>97.0</td>\n",
       "    </tr>\n",
       "    <tr>\n",
       "      <th>24</th>\n",
       "      <td>The Princess Bride</td>\n",
       "      <td>PG</td>\n",
       "      <td>1987</td>\n",
       "      <td>98.0</td>\n",
       "    </tr>\n",
       "    <tr>\n",
       "      <th>25</th>\n",
       "      <td>Psycho</td>\n",
       "      <td>R</td>\n",
       "      <td>1960</td>\n",
       "      <td>NaN</td>\n",
       "    </tr>\n",
       "    <tr>\n",
       "      <th>26</th>\n",
       "      <td>Stand by Me</td>\n",
       "      <td>R</td>\n",
       "      <td>1986</td>\n",
       "      <td>89.0</td>\n",
       "    </tr>\n",
       "    <tr>\n",
       "      <th>27</th>\n",
       "      <td>Super 8</td>\n",
       "      <td>PG-13</td>\n",
       "      <td>2011</td>\n",
       "      <td>112.0</td>\n",
       "    </tr>\n",
       "    <tr>\n",
       "      <th>28</th>\n",
       "      <td>superbad</td>\n",
       "      <td>R</td>\n",
       "      <td>2007</td>\n",
       "      <td>113.0</td>\n",
       "    </tr>\n",
       "    <tr>\n",
       "      <th>29</th>\n",
       "      <td>WarGames</td>\n",
       "      <td>PG</td>\n",
       "      <td>1983</td>\n",
       "      <td>114.0</td>\n",
       "    </tr>\n",
       "  </tbody>\n",
       "</table>\n",
       "</div>"
      ],
      "text/plain": [
       "                      title     rating  year  runtime\n",
       "0             Almost Famous          R  2000    122.0\n",
       "1              American Pie          R  1999     95.0\n",
       "2        Back to the Future         PG  1985    116.0\n",
       "3              Blade Runner          R  1982    117.0\n",
       "4         Blood for Dracula          R  1974    106.0\n",
       "5               Blue Velvet          R  1986    120.0\n",
       "6        The Breakfast Club          R  1985     97.0\n",
       "7                  Clueless      PG-13  1995      NaN\n",
       "8            Cool Hand Luke         GP  1967    127.0\n",
       "9                 The Craft          R  1996    101.0\n",
       "10           Doctor Zhivago      PG-13  1965    197.0\n",
       "11                  el Topo  Not Rated  1970    125.0\n",
       "12                Evil Dead      NC-17  1981     85.0\n",
       "13             Ghostbusters         PG  1984    105.0\n",
       "14                   Grease      PG-13  1978    110.0\n",
       "15                 Heathers          R  1988    103.0\n",
       "16                Labyrinth         PG  1986    101.0\n",
       "17            The Lost Boys          R  1987     97.0\n",
       "18               Mean Girls      PG-13  2004     97.0\n",
       "19       Millennium Actress         PG  2001     87.0\n",
       "20       My Neighbor Totoro          G  1988     86.0\n",
       "21        Napoleon Dynamite         PG  2004     96.0\n",
       "22  Pee-wee's Big Adventure         PG  1985     91.0\n",
       "23           Pretty in Pink      PG-13  1986     97.0\n",
       "24       The Princess Bride         PG  1987     98.0\n",
       "25                   Psycho          R  1960      NaN\n",
       "26              Stand by Me          R  1986     89.0\n",
       "27                  Super 8      PG-13  2011    112.0\n",
       "28                 superbad          R  2007    113.0\n",
       "29                 WarGames         PG  1983    114.0"
      ]
     },
     "execution_count": 16,
     "metadata": {},
     "output_type": "execute_result"
    }
   ],
   "source": [
    "path = 'movies.csv'\n",
    "data = pd.read_csv(path)\n",
    "data"
   ]
  },
  {
   "cell_type": "code",
   "execution_count": null,
   "metadata": {},
   "outputs": [],
   "source": [
    "pd.read_excel(filename)\t#From an Excel file    .xlsx format"
   ]
  },
  {
   "cell_type": "markdown",
   "metadata": {},
   "source": [
    "### 2- Viewing/Inspecting (exploring) Data"
   ]
  },
  {
   "cell_type": "code",
   "execution_count": 17,
   "metadata": {},
   "outputs": [],
   "source": [
    "df = data.copy()   # copy because not to overwrite orignial data"
   ]
  },
  {
   "cell_type": "code",
   "execution_count": null,
   "metadata": {},
   "outputs": [],
   "source": [
    "# df = data     # Forbidden"
   ]
  },
  {
   "cell_type": "code",
   "execution_count": 18,
   "metadata": {},
   "outputs": [
    {
     "data": {
      "text/html": [
       "<div>\n",
       "<style scoped>\n",
       "    .dataframe tbody tr th:only-of-type {\n",
       "        vertical-align: middle;\n",
       "    }\n",
       "\n",
       "    .dataframe tbody tr th {\n",
       "        vertical-align: top;\n",
       "    }\n",
       "\n",
       "    .dataframe thead th {\n",
       "        text-align: right;\n",
       "    }\n",
       "</style>\n",
       "<table border=\"1\" class=\"dataframe\">\n",
       "  <thead>\n",
       "    <tr style=\"text-align: right;\">\n",
       "      <th></th>\n",
       "      <th>title</th>\n",
       "      <th>rating</th>\n",
       "      <th>year</th>\n",
       "      <th>runtime</th>\n",
       "    </tr>\n",
       "  </thead>\n",
       "  <tbody>\n",
       "    <tr>\n",
       "      <th>0</th>\n",
       "      <td>Almost Famous</td>\n",
       "      <td>R</td>\n",
       "      <td>2000</td>\n",
       "      <td>122.0</td>\n",
       "    </tr>\n",
       "    <tr>\n",
       "      <th>1</th>\n",
       "      <td>American Pie</td>\n",
       "      <td>R</td>\n",
       "      <td>1999</td>\n",
       "      <td>95.0</td>\n",
       "    </tr>\n",
       "    <tr>\n",
       "      <th>2</th>\n",
       "      <td>Back to the Future</td>\n",
       "      <td>PG</td>\n",
       "      <td>1985</td>\n",
       "      <td>116.0</td>\n",
       "    </tr>\n",
       "    <tr>\n",
       "      <th>3</th>\n",
       "      <td>Blade Runner</td>\n",
       "      <td>R</td>\n",
       "      <td>1982</td>\n",
       "      <td>117.0</td>\n",
       "    </tr>\n",
       "    <tr>\n",
       "      <th>4</th>\n",
       "      <td>Blood for Dracula</td>\n",
       "      <td>R</td>\n",
       "      <td>1974</td>\n",
       "      <td>106.0</td>\n",
       "    </tr>\n",
       "  </tbody>\n",
       "</table>\n",
       "</div>"
      ],
      "text/plain": [
       "                title rating  year  runtime\n",
       "0       Almost Famous      R  2000    122.0\n",
       "1        American Pie      R  1999     95.0\n",
       "2  Back to the Future     PG  1985    116.0\n",
       "3        Blade Runner      R  1982    117.0\n",
       "4   Blood for Dracula      R  1974    106.0"
      ]
     },
     "execution_count": 18,
     "metadata": {},
     "output_type": "execute_result"
    }
   ],
   "source": [
    "df.head() #First n rows of the DataFrame"
   ]
  },
  {
   "cell_type": "code",
   "execution_count": 19,
   "metadata": {},
   "outputs": [
    {
     "data": {
      "text/html": [
       "<div>\n",
       "<style scoped>\n",
       "    .dataframe tbody tr th:only-of-type {\n",
       "        vertical-align: middle;\n",
       "    }\n",
       "\n",
       "    .dataframe tbody tr th {\n",
       "        vertical-align: top;\n",
       "    }\n",
       "\n",
       "    .dataframe thead th {\n",
       "        text-align: right;\n",
       "    }\n",
       "</style>\n",
       "<table border=\"1\" class=\"dataframe\">\n",
       "  <thead>\n",
       "    <tr style=\"text-align: right;\">\n",
       "      <th></th>\n",
       "      <th>title</th>\n",
       "      <th>rating</th>\n",
       "      <th>year</th>\n",
       "      <th>runtime</th>\n",
       "    </tr>\n",
       "  </thead>\n",
       "  <tbody>\n",
       "    <tr>\n",
       "      <th>25</th>\n",
       "      <td>Psycho</td>\n",
       "      <td>R</td>\n",
       "      <td>1960</td>\n",
       "      <td>NaN</td>\n",
       "    </tr>\n",
       "    <tr>\n",
       "      <th>26</th>\n",
       "      <td>Stand by Me</td>\n",
       "      <td>R</td>\n",
       "      <td>1986</td>\n",
       "      <td>89.0</td>\n",
       "    </tr>\n",
       "    <tr>\n",
       "      <th>27</th>\n",
       "      <td>Super 8</td>\n",
       "      <td>PG-13</td>\n",
       "      <td>2011</td>\n",
       "      <td>112.0</td>\n",
       "    </tr>\n",
       "    <tr>\n",
       "      <th>28</th>\n",
       "      <td>superbad</td>\n",
       "      <td>R</td>\n",
       "      <td>2007</td>\n",
       "      <td>113.0</td>\n",
       "    </tr>\n",
       "    <tr>\n",
       "      <th>29</th>\n",
       "      <td>WarGames</td>\n",
       "      <td>PG</td>\n",
       "      <td>1983</td>\n",
       "      <td>114.0</td>\n",
       "    </tr>\n",
       "  </tbody>\n",
       "</table>\n",
       "</div>"
      ],
      "text/plain": [
       "          title rating  year  runtime\n",
       "25       Psycho      R  1960      NaN\n",
       "26  Stand by Me      R  1986     89.0\n",
       "27      Super 8  PG-13  2011    112.0\n",
       "28     superbad      R  2007    113.0\n",
       "29     WarGames     PG  1983    114.0"
      ]
     },
     "execution_count": 19,
     "metadata": {},
     "output_type": "execute_result"
    }
   ],
   "source": [
    "df.tail() #Last n rows of the DataFrame"
   ]
  },
  {
   "cell_type": "code",
   "execution_count": 22,
   "metadata": {},
   "outputs": [
    {
     "data": {
      "text/html": [
       "<div>\n",
       "<style scoped>\n",
       "    .dataframe tbody tr th:only-of-type {\n",
       "        vertical-align: middle;\n",
       "    }\n",
       "\n",
       "    .dataframe tbody tr th {\n",
       "        vertical-align: top;\n",
       "    }\n",
       "\n",
       "    .dataframe thead th {\n",
       "        text-align: right;\n",
       "    }\n",
       "</style>\n",
       "<table border=\"1\" class=\"dataframe\">\n",
       "  <thead>\n",
       "    <tr style=\"text-align: right;\">\n",
       "      <th></th>\n",
       "      <th>title</th>\n",
       "      <th>rating</th>\n",
       "      <th>year</th>\n",
       "      <th>runtime</th>\n",
       "    </tr>\n",
       "  </thead>\n",
       "  <tbody>\n",
       "    <tr>\n",
       "      <th>22</th>\n",
       "      <td>Pee-wee's Big Adventure</td>\n",
       "      <td>PG</td>\n",
       "      <td>1985</td>\n",
       "      <td>91.0</td>\n",
       "    </tr>\n",
       "    <tr>\n",
       "      <th>27</th>\n",
       "      <td>Super 8</td>\n",
       "      <td>PG-13</td>\n",
       "      <td>2011</td>\n",
       "      <td>112.0</td>\n",
       "    </tr>\n",
       "    <tr>\n",
       "      <th>3</th>\n",
       "      <td>Blade Runner</td>\n",
       "      <td>R</td>\n",
       "      <td>1982</td>\n",
       "      <td>117.0</td>\n",
       "    </tr>\n",
       "    <tr>\n",
       "      <th>24</th>\n",
       "      <td>The Princess Bride</td>\n",
       "      <td>PG</td>\n",
       "      <td>1987</td>\n",
       "      <td>98.0</td>\n",
       "    </tr>\n",
       "    <tr>\n",
       "      <th>11</th>\n",
       "      <td>el Topo</td>\n",
       "      <td>Not Rated</td>\n",
       "      <td>1970</td>\n",
       "      <td>125.0</td>\n",
       "    </tr>\n",
       "  </tbody>\n",
       "</table>\n",
       "</div>"
      ],
      "text/plain": [
       "                      title     rating  year  runtime\n",
       "22  Pee-wee's Big Adventure         PG  1985     91.0\n",
       "27                  Super 8      PG-13  2011    112.0\n",
       "3              Blade Runner          R  1982    117.0\n",
       "24       The Princess Bride         PG  1987     98.0\n",
       "11                  el Topo  Not Rated  1970    125.0"
      ]
     },
     "execution_count": 22,
     "metadata": {},
     "output_type": "execute_result"
    }
   ],
   "source": [
    "df.sample(5)"
   ]
  },
  {
   "cell_type": "code",
   "execution_count": 23,
   "metadata": {},
   "outputs": [
    {
     "data": {
      "text/plain": [
       "(30, 4)"
      ]
     },
     "execution_count": 23,
     "metadata": {},
     "output_type": "execute_result"
    }
   ],
   "source": [
    "df.shape   #Number of rows and columns"
   ]
  },
  {
   "cell_type": "code",
   "execution_count": 24,
   "metadata": {},
   "outputs": [
    {
     "name": "stdout",
     "output_type": "stream",
     "text": [
      "<class 'pandas.core.frame.DataFrame'>\n",
      "RangeIndex: 30 entries, 0 to 29\n",
      "Data columns (total 4 columns):\n",
      " #   Column   Non-Null Count  Dtype  \n",
      "---  ------   --------------  -----  \n",
      " 0   title    30 non-null     object \n",
      " 1   rating   30 non-null     object \n",
      " 2   year     30 non-null     int64  \n",
      " 3   runtime  28 non-null     float64\n",
      "dtypes: float64(1), int64(1), object(2)\n",
      "memory usage: 1.1+ KB\n"
     ]
    }
   ],
   "source": [
    "df.info() #Index, Datatype and Memory information"
   ]
  },
  {
   "cell_type": "code",
   "execution_count": 25,
   "metadata": {},
   "outputs": [
    {
     "data": {
      "text/plain": [
       "rating\n",
       "R            12\n",
       "PG            8\n",
       "PG-13         6\n",
       "GP            1\n",
       "Not Rated     1\n",
       "NC-17         1\n",
       "G             1\n",
       "Name: count, dtype: int64"
      ]
     },
     "execution_count": 25,
     "metadata": {},
     "output_type": "execute_result"
    }
   ],
   "source": [
    "df['rating'].value_counts() # calculate every unique values"
   ]
  },
  {
   "cell_type": "code",
   "execution_count": 26,
   "metadata": {},
   "outputs": [
    {
     "data": {
      "text/plain": [
       "rating\n",
       "R            0.400000\n",
       "PG           0.266667\n",
       "PG-13        0.200000\n",
       "GP           0.033333\n",
       "Not Rated    0.033333\n",
       "NC-17        0.033333\n",
       "G            0.033333\n",
       "Name: proportion, dtype: float64"
      ]
     },
     "execution_count": 26,
     "metadata": {},
     "output_type": "execute_result"
    }
   ],
   "source": [
    "df['rating'].value_counts(normalize =True)"
   ]
  },
  {
   "cell_type": "markdown",
   "metadata": {},
   "source": [
    "R rating is the most repeated"
   ]
  },
  {
   "cell_type": "markdown",
   "metadata": {},
   "source": [
    "task\n",
    "\n",
    "1- read dataframe\n",
    "\n",
    "2- display information\n",
    "\n",
    "3- print last 5 rows\n",
    "\n",
    "4- print shape of it\n",
    "\n",
    "5- value counts for categorical features (column)"
   ]
  },
  {
   "cell_type": "code",
   "execution_count": 27,
   "metadata": {},
   "outputs": [
    {
     "data": {
      "text/plain": [
       "title      30\n",
       "rating      7\n",
       "year       22\n",
       "runtime    24\n",
       "dtype: int64"
      ]
     },
     "execution_count": 27,
     "metadata": {},
     "output_type": "execute_result"
    }
   ],
   "source": [
    "df.nunique()"
   ]
  },
  {
   "cell_type": "markdown",
   "metadata": {},
   "source": [
    "### 3- Statistics"
   ]
  },
  {
   "cell_type": "code",
   "execution_count": 28,
   "metadata": {},
   "outputs": [
    {
     "data": {
      "text/html": [
       "<div>\n",
       "<style scoped>\n",
       "    .dataframe tbody tr th:only-of-type {\n",
       "        vertical-align: middle;\n",
       "    }\n",
       "\n",
       "    .dataframe tbody tr th {\n",
       "        vertical-align: top;\n",
       "    }\n",
       "\n",
       "    .dataframe thead th {\n",
       "        text-align: right;\n",
       "    }\n",
       "</style>\n",
       "<table border=\"1\" class=\"dataframe\">\n",
       "  <thead>\n",
       "    <tr style=\"text-align: right;\">\n",
       "      <th></th>\n",
       "      <th>title</th>\n",
       "      <th>rating</th>\n",
       "      <th>year</th>\n",
       "      <th>runtime</th>\n",
       "    </tr>\n",
       "  </thead>\n",
       "  <tbody>\n",
       "    <tr>\n",
       "      <th>21</th>\n",
       "      <td>Napoleon Dynamite</td>\n",
       "      <td>PG</td>\n",
       "      <td>2004</td>\n",
       "      <td>96.0</td>\n",
       "    </tr>\n",
       "  </tbody>\n",
       "</table>\n",
       "</div>"
      ],
      "text/plain": [
       "                title rating  year  runtime\n",
       "21  Napoleon Dynamite     PG  2004     96.0"
      ]
     },
     "execution_count": 28,
     "metadata": {},
     "output_type": "execute_result"
    }
   ],
   "source": [
    "df.sample()"
   ]
  },
  {
   "cell_type": "code",
   "execution_count": 29,
   "metadata": {},
   "outputs": [
    {
     "data": {
      "text/plain": [
       "rating\n",
       "R            12\n",
       "PG            8\n",
       "PG-13         6\n",
       "GP            1\n",
       "Not Rated     1\n",
       "NC-17         1\n",
       "G             1\n",
       "Name: count, dtype: int64"
      ]
     },
     "execution_count": 29,
     "metadata": {},
     "output_type": "execute_result"
    }
   ],
   "source": [
    "df['rating'].value_counts()"
   ]
  },
  {
   "cell_type": "code",
   "execution_count": 32,
   "metadata": {},
   "outputs": [
    {
     "data": {
      "text/html": [
       "<div>\n",
       "<style scoped>\n",
       "    .dataframe tbody tr th:only-of-type {\n",
       "        vertical-align: middle;\n",
       "    }\n",
       "\n",
       "    .dataframe tbody tr th {\n",
       "        vertical-align: top;\n",
       "    }\n",
       "\n",
       "    .dataframe thead th {\n",
       "        text-align: right;\n",
       "    }\n",
       "</style>\n",
       "<table border=\"1\" class=\"dataframe\">\n",
       "  <thead>\n",
       "    <tr style=\"text-align: right;\">\n",
       "      <th></th>\n",
       "      <th>title</th>\n",
       "      <th>rating</th>\n",
       "      <th>year</th>\n",
       "      <th>runtime</th>\n",
       "    </tr>\n",
       "  </thead>\n",
       "  <tbody>\n",
       "    <tr>\n",
       "      <th>count</th>\n",
       "      <td>30</td>\n",
       "      <td>30</td>\n",
       "      <td>30.000000</td>\n",
       "      <td>28.000000</td>\n",
       "    </tr>\n",
       "    <tr>\n",
       "      <th>unique</th>\n",
       "      <td>30</td>\n",
       "      <td>7</td>\n",
       "      <td>NaN</td>\n",
       "      <td>NaN</td>\n",
       "    </tr>\n",
       "    <tr>\n",
       "      <th>top</th>\n",
       "      <td>Almost Famous</td>\n",
       "      <td>R</td>\n",
       "      <td>NaN</td>\n",
       "      <td>NaN</td>\n",
       "    </tr>\n",
       "    <tr>\n",
       "      <th>freq</th>\n",
       "      <td>1</td>\n",
       "      <td>12</td>\n",
       "      <td>NaN</td>\n",
       "      <td>NaN</td>\n",
       "    </tr>\n",
       "    <tr>\n",
       "      <th>mean</th>\n",
       "      <td>NaN</td>\n",
       "      <td>NaN</td>\n",
       "      <td>1987.000000</td>\n",
       "      <td>107.285714</td>\n",
       "    </tr>\n",
       "    <tr>\n",
       "      <th>std</th>\n",
       "      <td>NaN</td>\n",
       "      <td>NaN</td>\n",
       "      <td>12.406895</td>\n",
       "      <td>21.308766</td>\n",
       "    </tr>\n",
       "    <tr>\n",
       "      <th>min</th>\n",
       "      <td>NaN</td>\n",
       "      <td>NaN</td>\n",
       "      <td>1960.000000</td>\n",
       "      <td>85.000000</td>\n",
       "    </tr>\n",
       "    <tr>\n",
       "      <th>25%</th>\n",
       "      <td>NaN</td>\n",
       "      <td>NaN</td>\n",
       "      <td>1982.250000</td>\n",
       "      <td>96.750000</td>\n",
       "    </tr>\n",
       "    <tr>\n",
       "      <th>50%</th>\n",
       "      <td>NaN</td>\n",
       "      <td>NaN</td>\n",
       "      <td>1986.000000</td>\n",
       "      <td>102.000000</td>\n",
       "    </tr>\n",
       "    <tr>\n",
       "      <th>75%</th>\n",
       "      <td>NaN</td>\n",
       "      <td>NaN</td>\n",
       "      <td>1995.750000</td>\n",
       "      <td>114.500000</td>\n",
       "    </tr>\n",
       "    <tr>\n",
       "      <th>max</th>\n",
       "      <td>NaN</td>\n",
       "      <td>NaN</td>\n",
       "      <td>2011.000000</td>\n",
       "      <td>197.000000</td>\n",
       "    </tr>\n",
       "  </tbody>\n",
       "</table>\n",
       "</div>"
      ],
      "text/plain": [
       "                title rating         year     runtime\n",
       "count              30     30    30.000000   28.000000\n",
       "unique             30      7          NaN         NaN\n",
       "top     Almost Famous      R          NaN         NaN\n",
       "freq                1     12          NaN         NaN\n",
       "mean              NaN    NaN  1987.000000  107.285714\n",
       "std               NaN    NaN    12.406895   21.308766\n",
       "min               NaN    NaN  1960.000000   85.000000\n",
       "25%               NaN    NaN  1982.250000   96.750000\n",
       "50%               NaN    NaN  1986.000000  102.000000\n",
       "75%               NaN    NaN  1995.750000  114.500000\n",
       "max               NaN    NaN  2011.000000  197.000000"
      ]
     },
     "execution_count": 32,
     "metadata": {},
     "output_type": "execute_result"
    }
   ],
   "source": [
    "df.describe(include='all')   #Summary statistics for all columns"
   ]
  },
  {
   "cell_type": "markdown",
   "metadata": {},
   "source": [
    "**Insights**\n",
    "\n",
    "- 1- title feature has 30 values with 30 unique values\n",
    "- 2- Rating Feature has 30 values with 7 unique values\n",
    "- 3- Rating Feature has the most freq value is R with 12 times\n",
    "- 4- min and max of year feature is 1960 and 2011 respectively.\n",
    "- 5- runtime feature has 28 values with 2 missing nulls.\n",
    "- 6- the average of time of movies is almost 107 mintues\n",
    "- 7- the shortest movie is 85 minute with it is name  .....\n",
    "- 8- the longest movie with 197 mintue is ....."
   ]
  },
  {
   "cell_type": "markdown",
   "metadata": {},
   "source": [
    "task 1 :\n",
    "\n",
    "apply this 4 insights on Ecommerce data "
   ]
  },
  {
   "cell_type": "markdown",
   "metadata": {},
   "source": [
    "Task  2 :\n",
    "\n",
    "1- find the shortest and longest movie name\n",
    "\n"
   ]
  },
  {
   "cell_type": "code",
   "execution_count": 33,
   "metadata": {},
   "outputs": [
    {
     "data": {
      "text/plain": [
       "85.0"
      ]
     },
     "execution_count": 33,
     "metadata": {},
     "output_type": "execute_result"
    }
   ],
   "source": [
    "df['runtime'].min()"
   ]
  },
  {
   "cell_type": "code",
   "execution_count": 34,
   "metadata": {},
   "outputs": [
    {
     "data": {
      "text/html": [
       "<div>\n",
       "<style scoped>\n",
       "    .dataframe tbody tr th:only-of-type {\n",
       "        vertical-align: middle;\n",
       "    }\n",
       "\n",
       "    .dataframe tbody tr th {\n",
       "        vertical-align: top;\n",
       "    }\n",
       "\n",
       "    .dataframe thead th {\n",
       "        text-align: right;\n",
       "    }\n",
       "</style>\n",
       "<table border=\"1\" class=\"dataframe\">\n",
       "  <thead>\n",
       "    <tr style=\"text-align: right;\">\n",
       "      <th></th>\n",
       "      <th>title</th>\n",
       "      <th>rating</th>\n",
       "      <th>year</th>\n",
       "      <th>runtime</th>\n",
       "    </tr>\n",
       "  </thead>\n",
       "  <tbody>\n",
       "    <tr>\n",
       "      <th>12</th>\n",
       "      <td>Evil Dead</td>\n",
       "      <td>NC-17</td>\n",
       "      <td>1981</td>\n",
       "      <td>85.0</td>\n",
       "    </tr>\n",
       "  </tbody>\n",
       "</table>\n",
       "</div>"
      ],
      "text/plain": [
       "        title rating  year  runtime\n",
       "12  Evil Dead  NC-17  1981     85.0"
      ]
     },
     "execution_count": 34,
     "metadata": {},
     "output_type": "execute_result"
    }
   ],
   "source": [
    "df[ df['runtime'] == df['runtime'].min() ]"
   ]
  },
  {
   "cell_type": "code",
   "execution_count": 35,
   "metadata": {},
   "outputs": [
    {
     "data": {
      "text/html": [
       "<div>\n",
       "<style scoped>\n",
       "    .dataframe tbody tr th:only-of-type {\n",
       "        vertical-align: middle;\n",
       "    }\n",
       "\n",
       "    .dataframe tbody tr th {\n",
       "        vertical-align: top;\n",
       "    }\n",
       "\n",
       "    .dataframe thead th {\n",
       "        text-align: right;\n",
       "    }\n",
       "</style>\n",
       "<table border=\"1\" class=\"dataframe\">\n",
       "  <thead>\n",
       "    <tr style=\"text-align: right;\">\n",
       "      <th></th>\n",
       "      <th>title</th>\n",
       "      <th>rating</th>\n",
       "      <th>year</th>\n",
       "      <th>runtime</th>\n",
       "    </tr>\n",
       "  </thead>\n",
       "  <tbody>\n",
       "    <tr>\n",
       "      <th>10</th>\n",
       "      <td>Doctor Zhivago</td>\n",
       "      <td>PG-13</td>\n",
       "      <td>1965</td>\n",
       "      <td>197.0</td>\n",
       "    </tr>\n",
       "  </tbody>\n",
       "</table>\n",
       "</div>"
      ],
      "text/plain": [
       "             title rating  year  runtime\n",
       "10  Doctor Zhivago  PG-13  1965    197.0"
      ]
     },
     "execution_count": 35,
     "metadata": {},
     "output_type": "execute_result"
    }
   ],
   "source": [
    "df[df['runtime'] == df['runtime'].max() ]"
   ]
  },
  {
   "cell_type": "markdown",
   "metadata": {},
   "source": [
    "Task\n",
    "\n",
    "2- which movie is the oldest and newest"
   ]
  },
  {
   "cell_type": "code",
   "execution_count": 36,
   "metadata": {},
   "outputs": [
    {
     "data": {
      "text/html": [
       "<div>\n",
       "<style scoped>\n",
       "    .dataframe tbody tr th:only-of-type {\n",
       "        vertical-align: middle;\n",
       "    }\n",
       "\n",
       "    .dataframe tbody tr th {\n",
       "        vertical-align: top;\n",
       "    }\n",
       "\n",
       "    .dataframe thead th {\n",
       "        text-align: right;\n",
       "    }\n",
       "</style>\n",
       "<table border=\"1\" class=\"dataframe\">\n",
       "  <thead>\n",
       "    <tr style=\"text-align: right;\">\n",
       "      <th></th>\n",
       "      <th>title</th>\n",
       "      <th>rating</th>\n",
       "      <th>year</th>\n",
       "      <th>runtime</th>\n",
       "    </tr>\n",
       "  </thead>\n",
       "  <tbody>\n",
       "    <tr>\n",
       "      <th>25</th>\n",
       "      <td>Psycho</td>\n",
       "      <td>R</td>\n",
       "      <td>1960</td>\n",
       "      <td>NaN</td>\n",
       "    </tr>\n",
       "  </tbody>\n",
       "</table>\n",
       "</div>"
      ],
      "text/plain": [
       "     title rating  year  runtime\n",
       "25  Psycho      R  1960      NaN"
      ]
     },
     "execution_count": 36,
     "metadata": {},
     "output_type": "execute_result"
    }
   ],
   "source": [
    "df[df['year'] == df['year'].min() ]"
   ]
  },
  {
   "cell_type": "code",
   "execution_count": 37,
   "metadata": {},
   "outputs": [
    {
     "data": {
      "text/html": [
       "<div>\n",
       "<style scoped>\n",
       "    .dataframe tbody tr th:only-of-type {\n",
       "        vertical-align: middle;\n",
       "    }\n",
       "\n",
       "    .dataframe tbody tr th {\n",
       "        vertical-align: top;\n",
       "    }\n",
       "\n",
       "    .dataframe thead th {\n",
       "        text-align: right;\n",
       "    }\n",
       "</style>\n",
       "<table border=\"1\" class=\"dataframe\">\n",
       "  <thead>\n",
       "    <tr style=\"text-align: right;\">\n",
       "      <th></th>\n",
       "      <th>title</th>\n",
       "      <th>rating</th>\n",
       "      <th>year</th>\n",
       "      <th>runtime</th>\n",
       "    </tr>\n",
       "  </thead>\n",
       "  <tbody>\n",
       "    <tr>\n",
       "      <th>27</th>\n",
       "      <td>Super 8</td>\n",
       "      <td>PG-13</td>\n",
       "      <td>2011</td>\n",
       "      <td>112.0</td>\n",
       "    </tr>\n",
       "  </tbody>\n",
       "</table>\n",
       "</div>"
      ],
      "text/plain": [
       "      title rating  year  runtime\n",
       "27  Super 8  PG-13  2011    112.0"
      ]
     },
     "execution_count": 37,
     "metadata": {},
     "output_type": "execute_result"
    }
   ],
   "source": [
    "df[df['year'] == df['year'].max() ]"
   ]
  },
  {
   "cell_type": "code",
   "execution_count": 38,
   "metadata": {},
   "outputs": [
    {
     "data": {
      "text/plain": [
       "107.28571428571429"
      ]
     },
     "execution_count": 38,
     "metadata": {},
     "output_type": "execute_result"
    }
   ],
   "source": [
    "df['runtime'].mean()\t#Returns the mean of all columns"
   ]
  },
  {
   "cell_type": "code",
   "execution_count": 39,
   "metadata": {},
   "outputs": [
    {
     "data": {
      "text/plain": [
       "28"
      ]
     },
     "execution_count": 39,
     "metadata": {},
     "output_type": "execute_result"
    }
   ],
   "source": [
    "df['runtime'].count()\t#Returns the number of non-null values in each DataFrame column"
   ]
  },
  {
   "cell_type": "code",
   "execution_count": 40,
   "metadata": {},
   "outputs": [
    {
     "data": {
      "text/plain": [
       "197.0"
      ]
     },
     "execution_count": 40,
     "metadata": {},
     "output_type": "execute_result"
    }
   ],
   "source": [
    "df['runtime'].max()\t#Returns the highest value in each column"
   ]
  },
  {
   "cell_type": "code",
   "execution_count": 41,
   "metadata": {},
   "outputs": [
    {
     "data": {
      "text/plain": [
       "85.0"
      ]
     },
     "execution_count": 41,
     "metadata": {},
     "output_type": "execute_result"
    }
   ],
   "source": [
    "df['runtime'].min()\t#Returns the lowest value in each column"
   ]
  },
  {
   "cell_type": "code",
   "execution_count": 42,
   "metadata": {},
   "outputs": [
    {
     "data": {
      "text/plain": [
       "102.0"
      ]
     },
     "execution_count": 42,
     "metadata": {},
     "output_type": "execute_result"
    }
   ],
   "source": [
    "df['runtime'].median()\t#Returns the median of each column"
   ]
  },
  {
   "cell_type": "code",
   "execution_count": 43,
   "metadata": {},
   "outputs": [
    {
     "data": {
      "text/plain": [
       "21.308765615668406"
      ]
     },
     "execution_count": 43,
     "metadata": {},
     "output_type": "execute_result"
    }
   ],
   "source": [
    "df['runtime'].std()\t#Returns the standard deviation of each column"
   ]
  },
  {
   "cell_type": "code",
   "execution_count": 44,
   "metadata": {},
   "outputs": [
    {
     "data": {
      "text/html": [
       "<div>\n",
       "<style scoped>\n",
       "    .dataframe tbody tr th:only-of-type {\n",
       "        vertical-align: middle;\n",
       "    }\n",
       "\n",
       "    .dataframe tbody tr th {\n",
       "        vertical-align: top;\n",
       "    }\n",
       "\n",
       "    .dataframe thead th {\n",
       "        text-align: right;\n",
       "    }\n",
       "</style>\n",
       "<table border=\"1\" class=\"dataframe\">\n",
       "  <thead>\n",
       "    <tr style=\"text-align: right;\">\n",
       "      <th></th>\n",
       "      <th>year</th>\n",
       "      <th>runtime</th>\n",
       "    </tr>\n",
       "  </thead>\n",
       "  <tbody>\n",
       "    <tr>\n",
       "      <th>year</th>\n",
       "      <td>1.000000</td>\n",
       "      <td>-0.450278</td>\n",
       "    </tr>\n",
       "    <tr>\n",
       "      <th>runtime</th>\n",
       "      <td>-0.450278</td>\n",
       "      <td>1.000000</td>\n",
       "    </tr>\n",
       "  </tbody>\n",
       "</table>\n",
       "</div>"
      ],
      "text/plain": [
       "             year   runtime\n",
       "year     1.000000 -0.450278\n",
       "runtime -0.450278  1.000000"
      ]
     },
     "execution_count": 44,
     "metadata": {},
     "output_type": "execute_result"
    }
   ],
   "source": [
    "df.corr(numeric_only=True)\t#Returns the correlation between columns in a DataFrame"
   ]
  },
  {
   "cell_type": "markdown",
   "metadata": {},
   "source": [
    "- -1 <   < 1\n",
    "\n",
    "- 1   positive corr >> f1 increase f2 increase\n",
    "\n",
    "- -1  negative corr >> f1 incr  f2 decr\n",
    "\n",
    "- 0   no relation "
   ]
  }
 ],
 "metadata": {
  "kernelspec": {
   "display_name": "base",
   "language": "python",
   "name": "python3"
  },
  "language_info": {
   "codemirror_mode": {
    "name": "ipython",
    "version": 3
   },
   "file_extension": ".py",
   "mimetype": "text/x-python",
   "name": "python",
   "nbconvert_exporter": "python",
   "pygments_lexer": "ipython3",
   "version": "3.11.5"
  }
 },
 "nbformat": 4,
 "nbformat_minor": 2
}
