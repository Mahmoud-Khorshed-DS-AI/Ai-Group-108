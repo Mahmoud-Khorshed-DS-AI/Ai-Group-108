{
 "cells": [
  {
   "cell_type": "markdown",
   "metadata": {},
   "source": [
    "# Session 3"
   ]
  },
  {
   "cell_type": "markdown",
   "metadata": {},
   "source": [
    "If Condition :"
   ]
  },
  {
   "cell_type": "code",
   "execution_count": 1,
   "metadata": {},
   "outputs": [
    {
     "data": {
      "text/plain": [
       "True"
      ]
     },
     "execution_count": 1,
     "metadata": {},
     "output_type": "execute_result"
    }
   ],
   "source": [
    "x = 5   # Assigning \n",
    "\n",
    "x == 5  # Question logical  answer ( True - False)"
   ]
  },
  {
   "cell_type": "code",
   "execution_count": 3,
   "metadata": {},
   "outputs": [
    {
     "name": "stdout",
     "output_type": "stream",
     "text": [
      "var not equal 0\n"
     ]
    }
   ],
   "source": [
    "var = 3\n",
    "# if  condition  :  #indentation  محازاة\n",
    "if var == 0:\n",
    "    print('var = 0')\n",
    "else:\n",
    "    print('var not equal 0')    "
   ]
  },
  {
   "cell_type": "code",
   "execution_count": 6,
   "metadata": {},
   "outputs": [
    {
     "name": "stdout",
     "output_type": "stream",
     "text": [
      "var = 0\n"
     ]
    }
   ],
   "source": [
    "var = 0\n",
    "\n",
    "if var == 0:  \n",
    "    print('var = 0')\n",
    "elif var == 1:  #else if   >> elif\n",
    "    print('var equal 1')\n",
    "else:\n",
    "    print ('var not 1 or 0')        "
   ]
  },
  {
   "cell_type": "markdown",
   "metadata": {},
   "source": [
    "task  \n",
    "\n",
    "var = number\n",
    "\n",
    "if var  > 0 print postive\n",
    "\n",
    "elif negative  <0  print negative\n",
    "\n",
    "else  = print 0"
   ]
  },
  {
   "cell_type": "code",
   "execution_count": 9,
   "metadata": {},
   "outputs": [
    {
     "name": "stdout",
     "output_type": "stream",
     "text": [
      " var is 0\n"
     ]
    }
   ],
   "source": [
    "var = 0\n",
    "\n",
    "if var > 0:\n",
    "    print('positive')\n",
    "elif var < 0:\n",
    "    print('Negative')\n",
    "else:\n",
    "    print(' var is 0')"
   ]
  },
  {
   "cell_type": "markdown",
   "metadata": {},
   "source": [
    "#### Loops"
   ]
  },
  {
   "cell_type": "code",
   "execution_count": 10,
   "metadata": {},
   "outputs": [
    {
     "name": "stdout",
     "output_type": "stream",
     "text": [
      "my animal is cat\n",
      "my animal is dog\n",
      "my animal is monkey\n"
     ]
    }
   ],
   "source": [
    "print('my animal is cat')\n",
    "\n",
    "print('my animal is dog')\n",
    "\n",
    "print('my animal is monkey')"
   ]
  },
  {
   "cell_type": "markdown",
   "metadata": {},
   "source": [
    "You can loop over the elements of a list like this:"
   ]
  },
  {
   "cell_type": "code",
   "execution_count": 1,
   "metadata": {},
   "outputs": [
    {
     "name": "stdout",
     "output_type": "stream",
     "text": [
      "my animal is cat\n",
      "my animal is dog\n",
      "my animal is monkey\n"
     ]
    }
   ],
   "source": [
    "animals = ['cat', 'dog', 'monkey']\n",
    "\n",
    "for animal in animals: # for animal >> iterator  in  list :\n",
    "\n",
    "    print(f'my animal is {animal}')  # String formatting"
   ]
  },
  {
   "cell_type": "markdown",
   "metadata": {},
   "source": [
    "task\n",
    "\n",
    "1- create list with 4 name family \n",
    "    \n",
    "2- using for loop print every element\n",
    "\n",
    " my family has  ."
   ]
  },
  {
   "cell_type": "code",
   "execution_count": 14,
   "metadata": {},
   "outputs": [
    {
     "name": "stdout",
     "output_type": "stream",
     "text": [
      "1\n",
      "2\n",
      "3\n",
      "4\n"
     ]
    }
   ],
   "source": [
    "for i in range(1,5): # iterator  >> i  # start = 0 (default) ,step = 1 (default)  \n",
    "    print(i)"
   ]
  },
  {
   "cell_type": "markdown",
   "metadata": {},
   "source": [
    "If you want access to the index of each element within the body of a loop, use the built-in `enumerate` function:"
   ]
  },
  {
   "cell_type": "code",
   "execution_count": 16,
   "metadata": {},
   "outputs": [
    {
     "name": "stdout",
     "output_type": "stream",
     "text": [
      "# 0 : cat\n",
      "# 1 : dog\n",
      "# 2 : monkey\n"
     ]
    }
   ],
   "source": [
    "animals = ['cat', 'dog', 'monkey']\n",
    "\n",
    "for idx, animal in enumerate(animals): # idx , animal are iterators\n",
    "    print(f'# {idx} : {animal}')\n"
   ]
  },
  {
   "cell_type": "code",
   "execution_count": 3,
   "metadata": {},
   "outputs": [
    {
     "name": "stdout",
     "output_type": "stream",
     "text": [
      "[0, 3, 6, 9, 12]\n"
     ]
    }
   ],
   "source": [
    "nums = [0, 1, 2, 3, 4]\n",
    "squares = []\n",
    "for x in nums:\n",
    "    squares.append(x * 3)\n",
    "    # print(squares)\n",
    "\n",
    "print(squares)"
   ]
  },
  {
   "cell_type": "markdown",
   "metadata": {},
   "source": [
    "List comprehension"
   ]
  },
  {
   "cell_type": "code",
   "execution_count": 4,
   "metadata": {},
   "outputs": [
    {
     "data": {
      "text/plain": [
       "[9, 12]"
      ]
     },
     "execution_count": 4,
     "metadata": {},
     "output_type": "execute_result"
    }
   ],
   "source": [
    "squares = [x * 3 for x in nums if x > 2]   # operation    For loop   condition \n",
    "squares  #  x = 3  , 4"
   ]
  },
  {
   "cell_type": "markdown",
   "metadata": {},
   "source": [
    "task \n",
    "\n",
    "write list   range  5 to 25\n",
    "\n",
    "divide elemnets  / 3  and save in another list\n",
    "\n",
    "but only even numbers "
   ]
  },
  {
   "cell_type": "code",
   "execution_count": 21,
   "metadata": {},
   "outputs": [
    {
     "name": "stdout",
     "output_type": "stream",
     "text": [
      "[1.6666666666666667, 2.0, 2.3333333333333335, 2.6666666666666665, 3.0, 3.3333333333333335, 3.6666666666666665, 4.0, 4.333333333333333, 4.666666666666667, 5.0, 5.333333333333333, 5.666666666666667, 6.0, 6.333333333333333, 6.666666666666667, 7.0, 7.333333333333333, 7.666666666666667, 8.0, 8.333333333333334]\n"
     ]
    }
   ],
   "source": [
    "result =[]\n",
    "for i in range(5,26):\n",
    "    result.append(i/3)\n",
    "\n",
    "print(result)"
   ]
  },
  {
   "cell_type": "markdown",
   "metadata": {},
   "source": [
    "#### 2- Dictionaries"
   ]
  },
  {
   "cell_type": "markdown",
   "metadata": {},
   "source": [
    "A dictionary stores (key, value) pairs, similar to a `Map` in Java or an object in Javascript. You can use it like this:"
   ]
  },
  {
   "cell_type": "code",
   "execution_count": 2,
   "metadata": {},
   "outputs": [
    {
     "data": {
      "text/plain": [
       "{'cat': 'cute', 'dog': 'furry'}"
      ]
     },
     "execution_count": 2,
     "metadata": {},
     "output_type": "execute_result"
    }
   ],
   "source": [
    "d = {'cat': 'cute', 'dog': 'furry'}  # Create a new dictionary with some data\n",
    "d"
   ]
  },
  {
   "cell_type": "code",
   "execution_count": 23,
   "metadata": {},
   "outputs": [
    {
     "name": "stdout",
     "output_type": "stream",
     "text": [
      "cute\n",
      "furry\n"
     ]
    }
   ],
   "source": [
    "print(d['cat'])       # Get an entry from a dictionary; prints \"cute\"\n",
    "print(d['dog'])"
   ]
  },
  {
   "cell_type": "code",
   "execution_count": 25,
   "metadata": {},
   "outputs": [
    {
     "name": "stdout",
     "output_type": "stream",
     "text": [
      "wet\n",
      "{'cat': 'cute', 'dog': 'furry', 'fish': 'wet'}\n"
     ]
    }
   ],
   "source": [
    "d['fish'] = 'wet'    # Set an entry in a dictionary\n",
    "print(d['fish'])      # Prints \"wet\"\n",
    "print (d)"
   ]
  },
  {
   "cell_type": "markdown",
   "metadata": {},
   "source": [
    "task \n",
    "\n",
    "create dictionary \n",
    "\n",
    " 3 key  >> NAME  Job\n",
    "\n",
    " print last value \n",
    "\n",
    " add another key \n",
    "\n"
   ]
  },
  {
   "cell_type": "code",
   "execution_count": 26,
   "metadata": {},
   "outputs": [
    {
     "name": "stdout",
     "output_type": "stream",
     "text": [
      "Accountant\n"
     ]
    }
   ],
   "source": [
    "dict2 = {'Mahmoud':'Data Scientist',\n",
    "         'Sara':'Assitant ENg',\n",
    "         'Rania':'Accountant'}\n",
    "\n",
    "print(dict2['Rania'])"
   ]
  },
  {
   "cell_type": "code",
   "execution_count": 27,
   "metadata": {},
   "outputs": [],
   "source": [
    "dict2['Ali'] = 'Manager'  # write dict + new key + new value"
   ]
  },
  {
   "cell_type": "code",
   "execution_count": 28,
   "metadata": {},
   "outputs": [
    {
     "data": {
      "text/plain": [
       "{'Mahmoud': 'Data Scientist',\n",
       " 'Sara': 'Assitant ENg',\n",
       " 'Rania': 'Accountant',\n",
       " 'Ali': 'Manager'}"
      ]
     },
     "execution_count": 28,
     "metadata": {},
     "output_type": "execute_result"
    }
   ],
   "source": [
    "dict2"
   ]
  },
  {
   "cell_type": "code",
   "execution_count": 3,
   "metadata": {},
   "outputs": [
    {
     "data": {
      "text/plain": [
       "{'cat': 'cute', 'dog': 'furry'}"
      ]
     },
     "execution_count": 3,
     "metadata": {},
     "output_type": "execute_result"
    }
   ],
   "source": [
    "d"
   ]
  },
  {
   "cell_type": "code",
   "execution_count": 6,
   "metadata": {},
   "outputs": [
    {
     "name": "stdout",
     "output_type": "stream",
     "text": [
      "long\n"
     ]
    }
   ],
   "source": [
    "# check validation \n",
    "if 'giraph' not in d:\n",
    "   d['giraph'] = 'long' #Add it\n",
    "else:\n",
    "   print(d['giraph']) # print\n",
    "    \n"
   ]
  },
  {
   "cell_type": "code",
   "execution_count": 5,
   "metadata": {},
   "outputs": [
    {
     "name": "stdout",
     "output_type": "stream",
     "text": [
      "{'cat': 'cute', 'dog': 'furry', 'giraph': 'long'}\n"
     ]
    }
   ],
   "source": [
    "print(d)"
   ]
  },
  {
   "cell_type": "code",
   "execution_count": 8,
   "metadata": {},
   "outputs": [
    {
     "data": {
      "text/plain": [
       "{'cat': 'cute', 'dog': 'furry', 'giraph': 'long'}"
      ]
     },
     "execution_count": 8,
     "metadata": {},
     "output_type": "execute_result"
    }
   ],
   "source": [
    "d"
   ]
  },
  {
   "cell_type": "code",
   "execution_count": 10,
   "metadata": {},
   "outputs": [
    {
     "name": "stdout",
     "output_type": "stream",
     "text": [
      "long\n",
      "no key monkey\n"
     ]
    }
   ],
   "source": [
    "print(d.get('giraph', 'another default'))    # Get an element with a default; prints \"wet\"\n",
    "print(d.get('monkey', 'no key monkey'))  # Get an element with a default; prints \"N/A\"\n"
   ]
  },
  {
   "cell_type": "markdown",
   "metadata": {},
   "source": [
    "## Reference & Credits:\n",
    "\n",
    "The tutorial above is a combination of the code/instructions created by \n",
    "\n",
    "Eng/ Mahmoud Khorshed"
   ]
  }
 ],
 "metadata": {
  "kernelspec": {
   "display_name": "base",
   "language": "python",
   "name": "python3"
  },
  "language_info": {
   "codemirror_mode": {
    "name": "ipython",
    "version": 3
   },
   "file_extension": ".py",
   "mimetype": "text/x-python",
   "name": "python",
   "nbconvert_exporter": "python",
   "pygments_lexer": "ipython3",
   "version": "3.11.5"
  }
 },
 "nbformat": 4,
 "nbformat_minor": 2
}
