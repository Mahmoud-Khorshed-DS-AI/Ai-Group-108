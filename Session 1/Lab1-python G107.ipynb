{
 "cells": [
  {
   "cell_type": "markdown",
   "metadata": {
    "id": "qVrTo-LhL9eS"
   },
   "source": [
    "## Introduction"
   ]
  },
  {
   "cell_type": "markdown",
   "metadata": {
    "id": "9t1gKp9PL9eV"
   },
   "source": [
    "Python is a great general-purpose programming language on its own, but with the help of a few popular libraries (numpy, scipy, matplotlib) it becomes a powerful environment for scientific computing.\n",
    "\n",
    "We expect that many of you will have some experience with Python; for the rest of you, this section will serve as a quick crash course both on the Python programming language and on the use of Python for scientific computing."
   ]
  },
  {
   "cell_type": "markdown",
   "metadata": {
    "id": "U1PvreR9L9eW"
   },
   "source": [
    "In this tutorial, we will cover:\n",
    "\n",
    "* Basic Python: Basic data types (Containers, Lists, Dictionaries, Sets, Tuples), Functions, Classes"
   ]
  },
  {
   "cell_type": "markdown",
   "metadata": {
    "id": "nxvEkGXPM3Xh"
   },
   "source": [
    "## A Brief Note on Python Versions\n",
    "\n",
    "As of Janurary 1, 2020, Python has [officially dropped support](https://www.python.org/doc/sunset-python-2/) for `python2`. We'll be using Python 3.7 for this iteration of the course. You can check your Python version at the command line by running `python --version`. In Colab, we can enforce the Python version by clicking `Runtime -> Change Runtime Type` and selecting `python3`. Note that as of April 2020, Colab uses Python 3.6.9 which should run everything without any errors."
   ]
  },
  {
   "cell_type": "code",
   "execution_count": 1,
   "metadata": {
    "colab": {
     "base_uri": "https://localhost:8080/"
    },
    "executionInfo": {
     "elapsed": 341,
     "status": "ok",
     "timestamp": 1644194379530,
     "user": {
      "displayName": "Steven Ding",
      "photoUrl": "https://lh3.googleusercontent.com/a-/AOh14GjJ1wifoAlDie6EVH7FiNxOje0AIs0q1vkuL8x46w=s64",
      "userId": "05817880025136816974"
     },
     "user_tz": 300
    },
    "id": "1L4Am0QATgOc",
    "outputId": "66c13d0c-2b08-416f-ab93-04790e1105f5"
   },
   "outputs": [
    {
     "name": "stdout",
     "output_type": "stream",
     "text": [
      "Python 3.9.15\n"
     ]
    }
   ],
   "source": [
    "!python --version"
   ]
  },
  {
   "cell_type": "markdown",
   "metadata": {
    "id": "JAFKYgrpL9eY"
   },
   "source": [
    "## Basics of Python"
   ]
  },
  {
   "cell_type": "markdown",
   "metadata": {
    "id": "NwS_hu4xL9eo"
   },
   "source": [
    "### Basic data types"
   ]
  },
  {
   "cell_type": "markdown",
   "metadata": {
    "id": "DL5sMSZ9L9eq"
   },
   "source": [
    "#### 1- Numbers"
   ]
  },
  {
   "cell_type": "markdown",
   "metadata": {
    "id": "MGS0XEWoL9er"
   },
   "source": [
    "Integers and floats work as you would expect from other languages:"
   ]
  },
  {
   "cell_type": "code",
   "execution_count": 2,
   "metadata": {
    "colab": {
     "base_uri": "https://localhost:8080/"
    },
    "executionInfo": {
     "elapsed": 140,
     "status": "ok",
     "timestamp": 1644194382956,
     "user": {
      "displayName": "Steven Ding",
      "photoUrl": "https://lh3.googleusercontent.com/a-/AOh14GjJ1wifoAlDie6EVH7FiNxOje0AIs0q1vkuL8x46w=s64",
      "userId": "05817880025136816974"
     },
     "user_tz": 300
    },
    "id": "KheDr_zDL9es",
    "outputId": "e0e2dc6d-8213-4406-882a-ca6dbcf37e43"
   },
   "outputs": [
    {
     "name": "stdout",
     "output_type": "stream",
     "text": [
      "3\n"
     ]
    }
   ],
   "source": [
    "x = 3 \n",
    "print(x)"
   ]
  },
  {
   "cell_type": "code",
   "execution_count": 2,
   "metadata": {},
   "outputs": [
    {
     "name": "stdout",
     "output_type": "stream",
     "text": [
      "<class 'int'>\n"
     ]
    }
   ],
   "source": [
    "print(type(x))"
   ]
  },
  {
   "cell_type": "code",
   "execution_count": 3,
   "metadata": {
    "colab": {
     "base_uri": "https://localhost:8080/"
    },
    "executionInfo": {
     "elapsed": 146,
     "status": "ok",
     "timestamp": 1644194384908,
     "user": {
      "displayName": "Steven Ding",
      "photoUrl": "https://lh3.googleusercontent.com/a-/AOh14GjJ1wifoAlDie6EVH7FiNxOje0AIs0q1vkuL8x46w=s64",
      "userId": "05817880025136816974"
     },
     "user_tz": 300
    },
    "id": "sk_8DFcuL9ey",
    "outputId": "f53d04f6-ad42-4c22-ddef-123752030f3b"
   },
   "outputs": [
    {
     "name": "stdout",
     "output_type": "stream",
     "text": [
      "4\n",
      "2\n",
      "6\n",
      "9\n"
     ]
    }
   ],
   "source": [
    "print(x + 1)   # Addition \n",
    "print(x - 1)   # Subtraction\n",
    "print(x * 2)   # Multiplication\n",
    "print(x ** 2)  # Exponentiation"
   ]
  },
  {
   "cell_type": "code",
   "execution_count": 4,
   "metadata": {},
   "outputs": [
    {
     "name": "stdout",
     "output_type": "stream",
     "text": [
      "3\n"
     ]
    }
   ],
   "source": [
    "print(x)"
   ]
  },
  {
   "cell_type": "code",
   "execution_count": 5,
   "metadata": {
    "colab": {
     "base_uri": "https://localhost:8080/"
    },
    "executionInfo": {
     "elapsed": 141,
     "status": "ok",
     "timestamp": 1644194388837,
     "user": {
      "displayName": "Steven Ding",
      "photoUrl": "https://lh3.googleusercontent.com/a-/AOh14GjJ1wifoAlDie6EVH7FiNxOje0AIs0q1vkuL8x46w=s64",
      "userId": "05817880025136816974"
     },
     "user_tz": 300
    },
    "id": "U4Jl8K0tL9e4",
    "outputId": "c666ab11-2b0b-4bed-f6a8-65f71ef8c784"
   },
   "outputs": [
    {
     "name": "stdout",
     "output_type": "stream",
     "text": [
      "4\n"
     ]
    }
   ],
   "source": [
    "x = x + 1  # Assigning \n",
    "print(x)\n"
   ]
  },
  {
   "cell_type": "code",
   "execution_count": 6,
   "metadata": {},
   "outputs": [
    {
     "name": "stdout",
     "output_type": "stream",
     "text": [
      "8\n"
     ]
    }
   ],
   "source": [
    "x = x * 2\n",
    "print(x)"
   ]
  },
  {
   "cell_type": "code",
   "execution_count": 5,
   "metadata": {
    "colab": {
     "base_uri": "https://localhost:8080/"
    },
    "executionInfo": {
     "elapsed": 127,
     "status": "ok",
     "timestamp": 1644194391214,
     "user": {
      "displayName": "Steven Ding",
      "photoUrl": "https://lh3.googleusercontent.com/a-/AOh14GjJ1wifoAlDie6EVH7FiNxOje0AIs0q1vkuL8x46w=s64",
      "userId": "05817880025136816974"
     },
     "user_tz": 300
    },
    "id": "w-nZ0Sg_L9e9",
    "outputId": "f7e16933-faff-4cf0-e86c-4ec82b736825"
   },
   "outputs": [
    {
     "name": "stdout",
     "output_type": "stream",
     "text": [
      "<class 'float'>\n",
      "2.5\n"
     ]
    }
   ],
   "source": [
    "y = 2.5       #float\n",
    "print(type(y))\n",
    "print(y)\n"
   ]
  },
  {
   "cell_type": "code",
   "execution_count": null,
   "metadata": {},
   "outputs": [],
   "source": [
    "print(y , y + 1, y * 2, y ** 2)"
   ]
  },
  {
   "cell_type": "markdown",
   "metadata": {},
   "source": [
    "task \n",
    "\n",
    "y = 2\n",
    "\n",
    "print   y "
   ]
  },
  {
   "cell_type": "markdown",
   "metadata": {
    "id": "EqRS7qhBL9fC"
   },
   "source": [
    "#### Booleans"
   ]
  },
  {
   "cell_type": "markdown",
   "metadata": {
    "id": "Nv_LIVOJL9fD"
   },
   "source": [
    "Python implements all of the usual operators for Boolean logic, but uses English words rather than symbols (`&&`, `||`, etc.):"
   ]
  },
  {
   "cell_type": "code",
   "execution_count": 7,
   "metadata": {
    "colab": {
     "base_uri": "https://localhost:8080/"
    },
    "executionInfo": {
     "elapsed": 150,
     "status": "ok",
     "timestamp": 1644194393431,
     "user": {
      "displayName": "Steven Ding",
      "photoUrl": "https://lh3.googleusercontent.com/a-/AOh14GjJ1wifoAlDie6EVH7FiNxOje0AIs0q1vkuL8x46w=s64",
      "userId": "05817880025136816974"
     },
     "user_tz": 300
    },
    "id": "RvoImwgGL9fE",
    "outputId": "080c1cf6-4565-4ea7-c52f-134e883109c6"
   },
   "outputs": [
    {
     "name": "stdout",
     "output_type": "stream",
     "text": [
      "<class 'bool'>\n"
     ]
    }
   ],
   "source": [
    "t , f = True , False\n",
    "print(type(t))"
   ]
  },
  {
   "cell_type": "code",
   "execution_count": 12,
   "metadata": {},
   "outputs": [
    {
     "name": "stdout",
     "output_type": "stream",
     "text": [
      "False\n"
     ]
    }
   ],
   "source": [
    "print(f)"
   ]
  },
  {
   "cell_type": "markdown",
   "metadata": {
    "id": "YQgmQfOgL9fI"
   },
   "source": [
    "Now we let's look at the operations:"
   ]
  },
  {
   "cell_type": "code",
   "execution_count": 11,
   "metadata": {
    "colab": {
     "base_uri": "https://localhost:8080/"
    },
    "executionInfo": {
     "elapsed": 135,
     "status": "ok",
     "timestamp": 1644194398925,
     "user": {
      "displayName": "Steven Ding",
      "photoUrl": "https://lh3.googleusercontent.com/a-/AOh14GjJ1wifoAlDie6EVH7FiNxOje0AIs0q1vkuL8x46w=s64",
      "userId": "05817880025136816974"
     },
     "user_tz": 300
    },
    "id": "6zYm7WzCL9fK",
    "outputId": "f581b89a-b412-4fdd-8d7b-9a3d82474e78"
   },
   "outputs": [
    {
     "name": "stdout",
     "output_type": "stream",
     "text": [
      "True\n"
     ]
    }
   ],
   "source": [
    "print(t and f)   # Logical AND;  t *  f   = 0    t = 1   , f = 0\n",
    "print(t or f)  # Logical OR;   t   +  f \n",
    "print(not t)   # Logical NOT;  #reverse \n",
    "print(t != f)  # Logical XOR; #  1 notequal ? 0   =  true "
   ]
  },
  {
   "cell_type": "code",
   "execution_count": 17,
   "metadata": {},
   "outputs": [
    {
     "name": "stdout",
     "output_type": "stream",
     "text": [
      "True\n"
     ]
    }
   ],
   "source": [
    "#task\n",
    "print( (t != f) and (t) )"
   ]
  },
  {
   "cell_type": "markdown",
   "metadata": {
    "id": "UQnQWFEyL9fP"
   },
   "source": [
    "#### Strings"
   ]
  },
  {
   "cell_type": "code",
   "execution_count": 13,
   "metadata": {
    "colab": {
     "base_uri": "https://localhost:8080/"
    },
    "executionInfo": {
     "elapsed": 140,
     "status": "ok",
     "timestamp": 1644194401130,
     "user": {
      "displayName": "Steven Ding",
      "photoUrl": "https://lh3.googleusercontent.com/a-/AOh14GjJ1wifoAlDie6EVH7FiNxOje0AIs0q1vkuL8x46w=s64",
      "userId": "05817880025136816974"
     },
     "user_tz": 300
    },
    "id": "AijEDtPFL9fP",
    "outputId": "836d460c-811e-4e3d-b95e-bb2dc50eb9d8"
   },
   "outputs": [
    {
     "name": "stdout",
     "output_type": "stream",
     "text": [
      "hello1\n"
     ]
    }
   ],
   "source": [
    "hello = 'hello1'   # String literals can use single quotes\n",
    "world = \"world\"   # or double quotes; it does not matter \n",
    "print(hello)\n",
    "# print(len(hello))  #length   طول"
   ]
  },
  {
   "cell_type": "code",
   "execution_count": 16,
   "metadata": {
    "colab": {
     "base_uri": "https://localhost:8080/"
    },
    "executionInfo": {
     "elapsed": 142,
     "status": "ok",
     "timestamp": 1644194402979,
     "user": {
      "displayName": "Steven Ding",
      "photoUrl": "https://lh3.googleusercontent.com/a-/AOh14GjJ1wifoAlDie6EVH7FiNxOje0AIs0q1vkuL8x46w=s64",
      "userId": "05817880025136816974"
     },
     "user_tz": 300
    },
    "id": "saDeaA7hL9fT",
    "outputId": "0fe6d338-e360-4b9a-d68f-769ec863057c"
   },
   "outputs": [
    {
     "name": "stdout",
     "output_type": "stream",
     "text": [
      "hello1 world\n"
     ]
    }
   ],
   "source": [
    "hw = hello + ' ' + world  # String concatenation\n",
    "print(hw)"
   ]
  },
  {
   "cell_type": "markdown",
   "metadata": {},
   "source": [
    "- Create System takes name and age of the student \n",
    "- then print them in fixed statment"
   ]
  },
  {
   "cell_type": "code",
   "execution_count": 7,
   "metadata": {},
   "outputs": [
    {
     "name": "stdout",
     "output_type": "stream",
     "text": [
      " this student with name mahmoud has 28 years old\n"
     ]
    }
   ],
   "source": [
    "name = input(\"Enter your name\")\n",
    "age = int(input(\"enter your age\"))\n",
    "\n",
    "print(f' this student with name {name} has {age} years old')"
   ]
  },
  {
   "cell_type": "code",
   "execution_count": 8,
   "metadata": {},
   "outputs": [
    {
     "name": "stdout",
     "output_type": "stream",
     "text": [
      "<class 'int'>\n"
     ]
    }
   ],
   "source": [
    "print(type(age))"
   ]
  }
 ],
 "metadata": {
  "colab": {
   "authorship_tag": "ABX9TyOVFdEqDlWd1x5Z8wxSlpML",
   "collapsed_sections": [],
   "name": "873-python.ipynb",
   "provenance": [],
   "toc_visible": true
  },
  "kernelspec": {
   "display_name": "Python 3 (ipykernel)",
   "language": "python",
   "name": "python3"
  },
  "language_info": {
   "codemirror_mode": {
    "name": "ipython",
    "version": 3
   },
   "file_extension": ".py",
   "mimetype": "text/x-python",
   "name": "python",
   "nbconvert_exporter": "python",
   "pygments_lexer": "ipython3",
   "version": "3.11.5"
  }
 },
 "nbformat": 4,
 "nbformat_minor": 1
}
