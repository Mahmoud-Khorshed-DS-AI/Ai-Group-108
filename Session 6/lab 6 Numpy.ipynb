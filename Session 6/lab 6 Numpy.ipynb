{
  "cells": [
    {
      "cell_type": "markdown",
      "metadata": {
        "id": "lXxvWQzXSdrv"
      },
      "source": [
        "# Session 6"
      ]
    },
    {
      "cell_type": "markdown",
      "metadata": {
        "id": "hwaS7A_vSdrx"
      },
      "source": [
        "### Array indexing"
      ]
    },
    {
      "cell_type": "markdown",
      "metadata": {
        "id": "CG9pFdW5Sdry"
      },
      "source": [
        "Numpy offers several ways to index into arrays."
      ]
    },
    {
      "cell_type": "markdown",
      "metadata": {
        "id": "Z3jaiT6KSdry"
      },
      "source": [
        "Slicing: Similar to Python lists, numpy arrays can be sliced. Since arrays may be multidimensional, you must specify a slice for each dimension of the array:"
      ]
    },
    {
      "cell_type": "code",
      "execution_count": 1,
      "metadata": {
        "colab": {
          "base_uri": "https://localhost:8080/"
        },
        "id": "veFApYQ6Sdry",
        "outputId": "6fa759d8-2bfc-4a1e-a35b-551d29c2d885"
      },
      "outputs": [
        {
          "name": "stdout",
          "output_type": "stream",
          "text": [
            "[[ 1  2  3  4]\n",
            " [ 5  6  7  8]\n",
            " [ 9 10 11 12]]\n"
          ]
        }
      ],
      "source": [
        "import numpy as np\n",
        "\n",
        "# Create the following rank 2 array with shape (3, 4)\n",
        "# [[ 1  2  3  4]\n",
        "#  [ 5  6  7  8]\n",
        "#  [ 9 10 11 12]]\n",
        "a = np.array([\n",
        "              [1,2,3,4],\n",
        "              [5,6,7,8],\n",
        "              [9,10,11,12]\n",
        "              ])\n",
        "print(a)\n"
      ]
    },
    {
      "cell_type": "code",
      "execution_count": 2,
      "metadata": {
        "colab": {
          "base_uri": "https://localhost:8080/"
        },
        "id": "iKPpzvQsSdr0",
        "outputId": "2832f869-1e7e-4126-cfaf-be9520651cc6"
      },
      "outputs": [
        {
          "data": {
            "text/plain": [
              "(3, 4)"
            ]
          },
          "execution_count": 2,
          "metadata": {},
          "output_type": "execute_result"
        }
      ],
      "source": [
        "a.shape"
      ]
    },
    {
      "cell_type": "code",
      "execution_count": 3,
      "metadata": {
        "colab": {
          "base_uri": "https://localhost:8080/"
        },
        "id": "g5O3CVlJSdr0",
        "outputId": "6f7cfd00-6bfb-469f-da12-a6bda764da93"
      },
      "outputs": [
        {
          "data": {
            "text/plain": [
              "array([[ 1,  2,  3,  4],\n",
              "       [ 5,  6,  7,  8],\n",
              "       [ 9, 10, 11, 12]])"
            ]
          },
          "execution_count": 3,
          "metadata": {},
          "output_type": "execute_result"
        }
      ],
      "source": [
        "a"
      ]
    },
    {
      "cell_type": "code",
      "execution_count": 4,
      "metadata": {
        "colab": {
          "base_uri": "https://localhost:8080/"
        },
        "id": "hRbd1E6IZkxf",
        "outputId": "a5daf24e-2a9a-476c-ef63-e252991b3f98"
      },
      "outputs": [
        {
          "data": {
            "text/plain": [
              "11"
            ]
          },
          "execution_count": 4,
          "metadata": {},
          "output_type": "execute_result"
        }
      ],
      "source": [
        "a[2 , 2]"
      ]
    },
    {
      "cell_type": "code",
      "execution_count": 5,
      "metadata": {
        "colab": {
          "base_uri": "https://localhost:8080/"
        },
        "id": "2kjJJawRSdr0",
        "outputId": "7f66f634-9099-46b4-e870-62db666e1513"
      },
      "outputs": [
        {
          "data": {
            "text/plain": [
              "array([[ 6,  7],\n",
              "       [10, 11]])"
            ]
          },
          "execution_count": 5,
          "metadata": {},
          "output_type": "execute_result"
        }
      ],
      "source": [
        "a[ 1:  , 1:3 ]  # last is exclusive"
      ]
    },
    {
      "cell_type": "code",
      "execution_count": 6,
      "metadata": {
        "colab": {
          "base_uri": "https://localhost:8080/"
        },
        "id": "9NM7Y6jeceRv",
        "outputId": "1e0e3fda-9c87-4876-a2a5-50d056531af1"
      },
      "outputs": [
        {
          "data": {
            "text/plain": [
              "array([[10, 11, 12]])"
            ]
          },
          "execution_count": 6,
          "metadata": {},
          "output_type": "execute_result"
        }
      ],
      "source": [
        "a[2: , 1:5]"
      ]
    },
    {
      "cell_type": "code",
      "execution_count": null,
      "metadata": {
        "id": "ukciu70zdwv6"
      },
      "outputs": [],
      "source": [
        "4\n",
        "8"
      ]
    },
    {
      "cell_type": "code",
      "execution_count": 7,
      "metadata": {
        "colab": {
          "base_uri": "https://localhost:8080/"
        },
        "id": "chLC-hjTe3Vw",
        "outputId": "5452d17d-a29f-4fe8-cc66-f546bd22e1e3"
      },
      "outputs": [
        {
          "data": {
            "text/plain": [
              "array([[4],\n",
              "       [8]])"
            ]
          },
          "execution_count": 7,
          "metadata": {},
          "output_type": "execute_result"
        }
      ],
      "source": [
        "a[:2,3:]"
      ]
    },
    {
      "cell_type": "markdown",
      "metadata": {
        "id": "SwSxQ0ojSdr1"
      },
      "source": [
        "A slice of an array is a view into the same data, so modifying it will modify the original array."
      ]
    },
    {
      "cell_type": "code",
      "execution_count": 8,
      "metadata": {
        "colab": {
          "base_uri": "https://localhost:8080/"
        },
        "id": "n8dVLso3Sdr1",
        "outputId": "34b27c87-8014-4655-ae33-e7788c1b7bc7"
      },
      "outputs": [
        {
          "name": "stdout",
          "output_type": "stream",
          "text": [
            "[[ 1  2  3  4]\n",
            " [ 5  6  7  8]\n",
            " [ 9 10 11 12]]\n",
            "[[77  2  3  4]\n",
            " [ 5  6  7  8]\n",
            " [ 9 10 11 12]]\n"
          ]
        }
      ],
      "source": [
        "# print(a[0, 1])\n",
        "print(a)\n",
        "a[0, 0] = 77    # b[0, 0] is the same piece of data as a[0, 1]\n",
        "print(a)\n",
        "# print(a[0, 1])"
      ]
    },
    {
      "cell_type": "code",
      "execution_count": null,
      "metadata": {
        "id": "sD22ju3dfRJh"
      },
      "outputs": [],
      "source": [
        "change 10 to 20"
      ]
    },
    {
      "cell_type": "code",
      "execution_count": 9,
      "metadata": {
        "colab": {
          "base_uri": "https://localhost:8080/"
        },
        "id": "sf78AmBvfv3P",
        "outputId": "f7bb72d6-ec95-41eb-bddb-b2f403536ff2"
      },
      "outputs": [
        {
          "data": {
            "text/plain": [
              "array([[77,  2,  3,  4],\n",
              "       [ 5,  6,  7,  8],\n",
              "       [ 9, 20, 11, 12]])"
            ]
          },
          "execution_count": 9,
          "metadata": {},
          "output_type": "execute_result"
        }
      ],
      "source": [
        "a[2 , 1] = 20\n",
        "a"
      ]
    },
    {
      "cell_type": "markdown",
      "metadata": {
        "id": "MUWiqpZNSdr1"
      },
      "source": [
        "You can also mix integer indexing with slice indexing. However, doing so will yield an array of lower rank than the original array. Note that this is quite different from the way that MATLAB handles array slicing:"
      ]
    },
    {
      "cell_type": "code",
      "execution_count": 10,
      "metadata": {
        "colab": {
          "base_uri": "https://localhost:8080/"
        },
        "id": "S-EYoyXSSdr2",
        "outputId": "93deedda-ab2e-489d-aa54-952f74ce5550"
      },
      "outputs": [
        {
          "name": "stdout",
          "output_type": "stream",
          "text": [
            "[[ 1  2  3  4]\n",
            " [ 5  6  7  8]\n",
            " [ 9 10 11 12]]\n"
          ]
        }
      ],
      "source": [
        "# Create the following rank 2 array with shape (3, 4)\n",
        "a = np.array([[1,2,3,4], [5,6,7,8], [9,10,11,12]])\n",
        "print(a)"
      ]
    },
    {
      "cell_type": "markdown",
      "metadata": {
        "id": "7vukYz2nSdr2"
      },
      "source": [
        "One useful trick with integer array indexing is selecting or mutating one element from each row of a matrix:"
      ]
    },
    {
      "cell_type": "code",
      "execution_count": 11,
      "metadata": {
        "colab": {
          "base_uri": "https://localhost:8080/"
        },
        "id": "uc_i-6xMSdr2",
        "outputId": "2324d471-4432-4e9e-b60a-24d65fb35728"
      },
      "outputs": [
        {
          "name": "stdout",
          "output_type": "stream",
          "text": [
            "[[ 1  2  3]\n",
            " [ 4  5  6]\n",
            " [ 7  8  9]\n",
            " [10 11 12]]\n"
          ]
        }
      ],
      "source": [
        "# Create a new array from which we will select elements\n",
        "a = np.array([[1,2,3], [4,5,6], [7,8,9], [10, 11, 12]])\n",
        "print(a)"
      ]
    },
    {
      "cell_type": "code",
      "execution_count": 12,
      "metadata": {
        "colab": {
          "base_uri": "https://localhost:8080/"
        },
        "id": "d28LqKXaSdr2",
        "outputId": "c5f23ec6-4748-4bd7-fb75-6cef0fb492d7"
      },
      "outputs": [
        {
          "data": {
            "text/plain": [
              "(4, 3)"
            ]
          },
          "execution_count": 12,
          "metadata": {},
          "output_type": "execute_result"
        }
      ],
      "source": [
        "a.shape"
      ]
    },
    {
      "cell_type": "code",
      "execution_count": null,
      "metadata": {
        "id": "fzd-KpJzSdr2",
        "outputId": "429c6b40-de36-4c9d-8272-011bb194b95c"
      },
      "outputs": [
        {
          "data": {
            "text/plain": [
              "array([[4, 5, 6],\n",
              "       [7, 8, 9]])"
            ]
          },
          "metadata": {},
          "output_type": "display_data"
        }
      ],
      "source": [
        "a[ 1:3 ]"
      ]
    },
    {
      "cell_type": "markdown",
      "metadata": {
        "id": "Ga4JHZR0Sdr3"
      },
      "source": [
        "Boolean array indexing: Boolean array indexing lets you pick out arbitrary elements of an array. Frequently this type of indexing is used to select the elements of an array that satisfy some condition. Here is an example:"
      ]
    },
    {
      "cell_type": "code",
      "execution_count": 14,
      "metadata": {
        "colab": {
          "base_uri": "https://localhost:8080/"
        },
        "id": "dXBZ1DrGSdr3",
        "outputId": "eac393c6-661d-4af1-bb78-60579b4534a0"
      },
      "outputs": [
        {
          "name": "stdout",
          "output_type": "stream",
          "text": [
            "[[1 2]\n",
            " [3 4]\n",
            " [5 6]]\n",
            "[[False False]\n",
            " [ True  True]\n",
            " [ True  True]]\n"
          ]
        }
      ],
      "source": [
        "import numpy as np\n",
        "\n",
        "a = np.array([[1,2], [3, 4], [5, 6]])\n",
        "print(a)\n",
        "bool_idx = (a > 2)  # Find the elements of a that are bigger than 2;\n",
        "# #                     # this returns a numpy array of Booleans of the same\n",
        "# #                     # shape as a, where each slot of bool_idx tells\n",
        "# #                     # whether that element of a is > 2.\n",
        "\n",
        "print(bool_idx)"
      ]
    },
    {
      "cell_type": "code",
      "execution_count": 15,
      "metadata": {
        "colab": {
          "base_uri": "https://localhost:8080/"
        },
        "id": "zF9eqwqASdr3",
        "outputId": "346a695e-5faa-4d09-973d-dbe150543000"
      },
      "outputs": [
        {
          "name": "stdout",
          "output_type": "stream",
          "text": [
            "[3 4 5 6]\n"
          ]
        }
      ],
      "source": [
        "# We use boolean array indexing to construct a rank 1 array\n",
        "# consisting of the elements of a corresponding to the True values\n",
        "# of bool_idx\n",
        "# print(a[bool_idx])\n",
        "\n",
        "# We can do all of the above in a single concise statement:\n",
        "print(a[a > 2])"
      ]
    },
    {
      "cell_type": "code",
      "execution_count": 16,
      "metadata": {
        "colab": {
          "base_uri": "https://localhost:8080/"
        },
        "id": "WPFTQMjySdr3",
        "outputId": "ee8a3754-81c3-4c74-8242-fcee3035fb37"
      },
      "outputs": [
        {
          "data": {
            "text/plain": [
              "array([[1, 2],\n",
              "       [3, 4],\n",
              "       [5, 6]])"
            ]
          },
          "execution_count": 16,
          "metadata": {},
          "output_type": "execute_result"
        }
      ],
      "source": [
        "a"
      ]
    },
    {
      "cell_type": "code",
      "execution_count": null,
      "metadata": {
        "id": "kl7dm79GSdr3",
        "outputId": "02d224f3-c7e2-4d96-89e1-a69097298c24"
      },
      "outputs": [
        {
          "data": {
            "text/plain": [
              "array([1, 2, 3, 4])"
            ]
          },
          "metadata": {},
          "output_type": "display_data"
        }
      ],
      "source": [
        "a[a < 5]"
      ]
    },
    {
      "cell_type": "code",
      "execution_count": 17,
      "metadata": {
        "colab": {
          "base_uri": "https://localhost:8080/"
        },
        "id": "5_JfeR-Cg2w9",
        "outputId": "24fa88db-b9bc-44e5-c7f1-5419af72b2bb"
      },
      "outputs": [
        {
          "data": {
            "text/plain": [
              "array([], dtype=int64)"
            ]
          },
          "execution_count": 17,
          "metadata": {},
          "output_type": "execute_result"
        }
      ],
      "source": [
        "a[ a>6 ]"
      ]
    },
    {
      "cell_type": "code",
      "execution_count": null,
      "metadata": {
        "id": "V0yD88FoSdr3"
      },
      "outputs": [],
      "source": [
        "task\n",
        "\n",
        "1- create array 2d   shape 3 , 4\n",
        "\n",
        "2- print > 5\n",
        "\n",
        "3-  print row 2 col 3"
      ]
    },
    {
      "cell_type": "markdown",
      "metadata": {
        "id": "E08yh8V3Sdr4"
      },
      "source": [
        "For brevity we have left out a lot of details about numpy array indexing; if you want to know more you should read the documentation."
      ]
    },
    {
      "cell_type": "code",
      "execution_count": 2,
      "metadata": {},
      "outputs": [
        {
          "name": "stdout",
          "output_type": "stream",
          "text": [
            "[[ 9 14  6  6  4]\n",
            " [16 12 10 15 19]\n",
            " [19  7 22 22 24]\n",
            " [20  2 24 10  2]]\n"
          ]
        }
      ],
      "source": [
        "import numpy as np\n",
        "# Create the following rank 2 array with shape (3, 4)\n",
        "a = np.random.randint(2,25,(4,5))\n",
        "print(a)"
      ]
    },
    {
      "cell_type": "code",
      "execution_count": null,
      "metadata": {},
      "outputs": [],
      "source": [
        "[22 22 24\n",
        " \n",
        " 24 10 2]"
      ]
    },
    {
      "cell_type": "code",
      "execution_count": 4,
      "metadata": {},
      "outputs": [
        {
          "data": {
            "text/plain": [
              "array([[22, 22, 24],\n",
              "       [24, 10,  2]])"
            ]
          },
          "execution_count": 4,
          "metadata": {},
          "output_type": "execute_result"
        }
      ],
      "source": [
        "a[2:,2:]"
      ]
    },
    {
      "cell_type": "markdown",
      "metadata": {
        "id": "NTvItANVSdr4"
      },
      "source": [
        "### Array math"
      ]
    },
    {
      "cell_type": "markdown",
      "metadata": {
        "id": "vkJklfAtSdr5"
      },
      "source": [
        "Basic mathematical functions operate elementwise on arrays, and are available both as operator overloads and as functions in the numpy module:"
      ]
    },
    {
      "cell_type": "code",
      "execution_count": 18,
      "metadata": {
        "colab": {
          "base_uri": "https://localhost:8080/"
        },
        "id": "iX5sVCTuSdr5",
        "outputId": "afb12e87-7119-42a7-c54d-0647aa675b95"
      },
      "outputs": [
        {
          "name": "stdout",
          "output_type": "stream",
          "text": [
            "[[1 2]\n",
            " [3 4]]\n",
            "[[5 6]\n",
            " [7 8]]\n"
          ]
        }
      ],
      "source": [
        "x = np.array([[1,2],[3,4]])\n",
        "y = np.array([[5,6],[7,8]])\n",
        "\n",
        "print(x)\n",
        "print(y)"
      ]
    },
    {
      "cell_type": "code",
      "execution_count": 19,
      "metadata": {
        "colab": {
          "base_uri": "https://localhost:8080/"
        },
        "id": "dCoTXz-uSdr5",
        "outputId": "9e54d638-0dc5-4448-ffbd-9595c357c888"
      },
      "outputs": [
        {
          "name": "stdout",
          "output_type": "stream",
          "text": [
            "[[ 6  8]\n",
            " [10 12]]\n"
          ]
        }
      ],
      "source": [
        "# Elementwise sum; both produce the array\n",
        "# print(x + y)\n",
        "print(np.add(x, y))"
      ]
    },
    {
      "cell_type": "code",
      "execution_count": 20,
      "metadata": {
        "colab": {
          "base_uri": "https://localhost:8080/"
        },
        "id": "yd81XBybSdr5",
        "outputId": "09f0b4d2-3ef1-4bd3-c5aa-c04b75c66b40"
      },
      "outputs": [
        {
          "name": "stdout",
          "output_type": "stream",
          "text": [
            "[[-4 -4]\n",
            " [-4 -4]]\n"
          ]
        }
      ],
      "source": [
        "# Elementwise difference; both produce the array\n",
        "# print(x - y)\n",
        "print(np.subtract(x, y))"
      ]
    },
    {
      "cell_type": "code",
      "execution_count": 22,
      "metadata": {
        "colab": {
          "base_uri": "https://localhost:8080/"
        },
        "id": "_INrfCDvSdr5",
        "outputId": "35bed4fe-e3d8-4056-81b4-86bf3c5eb06d"
      },
      "outputs": [
        {
          "name": "stdout",
          "output_type": "stream",
          "text": [
            "[[ 5 12]\n",
            " [21 32]]\n"
          ]
        }
      ],
      "source": [
        "# Elementwise product; both produce the array\n",
        "# print(x * y)\n",
        "print(np.multiply(x, y))"
      ]
    },
    {
      "cell_type": "code",
      "execution_count": 23,
      "metadata": {
        "colab": {
          "base_uri": "https://localhost:8080/"
        },
        "id": "M6VAJpvnSdr6",
        "outputId": "ff0dea59-3616-4107-c5ec-c9cdd1b1ebd9"
      },
      "outputs": [
        {
          "name": "stdout",
          "output_type": "stream",
          "text": [
            "[[0.2        0.33333333]\n",
            " [0.42857143 0.5       ]]\n"
          ]
        }
      ],
      "source": [
        "# Elementwise division; both produce the array\n",
        "# [[ 0.2         0.33333333]\n",
        "#  [ 0.42857143  0.5       ]]\n",
        "# print(x / y)\n",
        "print(np.divide(x, y))"
      ]
    },
    {
      "cell_type": "markdown",
      "metadata": {
        "id": "6ekLXSxWSdr6"
      },
      "source": [
        "Task\n",
        "\n",
        "1- create function takes two arrays  size of array (3,3)\n",
        "\n",
        "2- print multiply two arrays\n",
        "\n",
        "3- print subtract 2 arrays\n",
        "\n",
        "4- return sub array size 2,2 from result of mutliply\n"
      ]
    },
    {
      "cell_type": "code",
      "execution_count": 25,
      "metadata": {
        "colab": {
          "base_uri": "https://localhost:8080/"
        },
        "id": "TQhnuSoRpP1d",
        "outputId": "696ed373-425d-4860-f42e-cbe6f6f8b825"
      },
      "outputs": [
        {
          "name": "stdout",
          "output_type": "stream",
          "text": [
            "[[ 1  4  9]\n",
            " [16 25 36]\n",
            " [49 64 81]]\n",
            "[[0 0 0]\n",
            " [0 0 0]\n",
            " [0 0 0]]\n"
          ]
        },
        {
          "data": {
            "text/plain": [
              "array([[ 1,  4],\n",
              "       [16, 25]])"
            ]
          },
          "execution_count": 25,
          "metadata": {},
          "output_type": "execute_result"
        }
      ],
      "source": [
        "def calc(l1,l2):\n",
        "    print(np.multiply(l1,l2))\n",
        "    print(np.subtract(l1,l2))\n",
        "\n",
        "    m = np.multiply(l1,l2)\n",
        "\n",
        "    return m[:2,:2]\n",
        "\n",
        "arr1 = np.array([\n",
        "                [1,2,3],\n",
        "                [4,5,6],\n",
        "                [7,8,9]\n",
        "                ])\n",
        "arr2 = np.array([[1,2,3],[4,5,6],[7,8,9]])\n",
        "\n",
        "result = calc(arr1,arr2) # Call function\n",
        "result"
      ]
    },
    {
      "cell_type": "code",
      "execution_count": 26,
      "metadata": {
        "id": "ALHrso3xSdr6"
      },
      "outputs": [],
      "source": [
        "import numpy as np"
      ]
    },
    {
      "cell_type": "code",
      "execution_count": 27,
      "metadata": {
        "colab": {
          "base_uri": "https://localhost:8080/"
        },
        "id": "5xXEZpM9Sdr-",
        "outputId": "a26dc177-ce05-46ab-b940-8f4f1aae8a37"
      },
      "outputs": [
        {
          "data": {
            "text/plain": [
              "array([[1, 2],\n",
              "       [3, 4]])"
            ]
          },
          "execution_count": 27,
          "metadata": {},
          "output_type": "execute_result"
        }
      ],
      "source": [
        "x = np.array([[1 ,2],[3 , 4]])\n",
        "x"
      ]
    },
    {
      "cell_type": "code",
      "execution_count": 28,
      "metadata": {
        "colab": {
          "base_uri": "https://localhost:8080/"
        },
        "id": "o0dkDxj3Sdr_",
        "outputId": "0a27bb78-e0b1-4092-c0c1-5da6f4412d45"
      },
      "outputs": [
        {
          "name": "stdout",
          "output_type": "stream",
          "text": [
            "[[1.         1.41421356]\n",
            " [1.73205081 2.        ]]\n"
          ]
        }
      ],
      "source": [
        "# Elementwise square root; produces the array\n",
        "# [[ 1.          1.41421356]\n",
        "#  [ 1.73205081  2.        ]]\n",
        "print(np.sqrt(x))"
      ]
    },
    {
      "cell_type": "markdown",
      "metadata": {
        "id": "Pykc_NRNSdr_"
      },
      "source": [
        "Note that unlike MATLAB, `*` is elementwise multiplication, not matrix multiplication. We instead use the dot function to compute inner products of vectors, to multiply a vector by a matrix, and to multiply matrices. dot is available both as a function in the numpy module and as an instance method of array objects:"
      ]
    },
    {
      "cell_type": "code",
      "execution_count": null,
      "metadata": {
        "id": "QPj4FNjrSdr_",
        "outputId": "ae502b22-30e2-435c-eb06-deedde5ab4d8"
      },
      "outputs": [
        {
          "name": "stdout",
          "output_type": "stream",
          "text": [
            "[ 9 10]\n",
            "[11 12]\n",
            "219\n",
            "219\n"
          ]
        }
      ],
      "source": [
        "# x = np.array([[1,2],[3,4]])\n",
        "# y = np.array([[5,6],[7,8]])\n",
        "\n",
        "v = np.array([9,10])\n",
        "w = np.array([11, 12])   # 9 * 11 + 10*12  = 99 + 120 = 219\n",
        "\n",
        "print (v)\n",
        "print(w)\n",
        "# Inner product of vectors; both produce 219\n",
        "print(v.dot(w))\n",
        "print(np.dot(v, w))"
      ]
    },
    {
      "cell_type": "markdown",
      "metadata": {
        "id": "Y7FYhkoJSdr_"
      },
      "source": [
        "Numpy provides many useful functions for performing computations on arrays; one of the most useful is `sum`:"
      ]
    },
    {
      "cell_type": "code",
      "execution_count": 33,
      "metadata": {
        "colab": {
          "base_uri": "https://localhost:8080/"
        },
        "id": "pGxwpF4ZSdr_",
        "outputId": "69c25e19-9ec3-41de-eb8d-0ff731a8d951"
      },
      "outputs": [
        {
          "name": "stdout",
          "output_type": "stream",
          "text": [
            "[[1 2 3]\n",
            " [6 3 8]\n",
            " [8 3 4]]\n",
            "38\n",
            "[15  8 15]\n"
          ]
        }
      ],
      "source": [
        "x = np.array([[1,2,3],[6,3,8],[8,3,4]])\n",
        "print(x)\n",
        "print(np.sum(x))        # Compute sum of all elements; prints\n",
        "print(np.sum(x, axis=0))  # Compute sum of each column; prints\n",
        "# print(np.sum(x, axis=1))  # Compute sum of each row; prints"
      ]
    },
    {
      "cell_type": "code",
      "execution_count": null,
      "metadata": {
        "id": "KP1160jsSdr_",
        "outputId": "f0906940-2a4e-45ac-fe15-b300778e2154"
      },
      "outputs": [
        {
          "name": "stdout",
          "output_type": "stream",
          "text": [
            "[[1 2 3]\n",
            " [4 5 6]]\n"
          ]
        },
        {
          "data": {
            "text/plain": [
              "array([5, 7, 9])"
            ]
          },
          "metadata": {},
          "output_type": "display_data"
        }
      ],
      "source": [
        "x=np.arange(1,7).reshape(2,3)\n",
        "print(x)\n",
        "np.sum(x,axis = 0)"
      ]
    },
    {
      "cell_type": "code",
      "execution_count": null,
      "metadata": {
        "id": "vnCHLaxJszYg"
      },
      "outputs": [],
      "source": [
        "Task\n",
        "\n",
        "create array with random int values  3*3\n",
        "\n",
        "sum all every columns\n"
      ]
    },
    {
      "cell_type": "code",
      "execution_count": 41,
      "metadata": {
        "colab": {
          "base_uri": "https://localhost:8080/"
        },
        "id": "4Iuglh3ovwzw",
        "outputId": "755afee4-34e9-40ba-f9f4-9ff3cdbc0011"
      },
      "outputs": [
        {
          "data": {
            "text/plain": [
              "array([[1, 3, 6],\n",
              "       [3, 9, 4],\n",
              "       [2, 4, 7]])"
            ]
          },
          "execution_count": 41,
          "metadata": {},
          "output_type": "execute_result"
        }
      ],
      "source": [
        "cm = np.random.randint(1,10,(3,3))#.reshape(3,3)\n",
        "cm"
      ]
    },
    {
      "cell_type": "code",
      "execution_count": 43,
      "metadata": {
        "colab": {
          "base_uri": "https://localhost:8080/"
        },
        "id": "u5pX-ufAwS6W",
        "outputId": "fbc3f08f-d0f8-45ce-8af8-6b47db381279"
      },
      "outputs": [
        {
          "data": {
            "text/plain": [
              "array([[7, 9, 4],\n",
              "       [2, 8, 8],\n",
              "       [6, 4, 4]])"
            ]
          },
          "execution_count": 43,
          "metadata": {},
          "output_type": "execute_result"
        }
      ],
      "source": [
        "np.random.randint(1,10,9).reshape(3,3)"
      ]
    },
    {
      "cell_type": "code",
      "execution_count": 35,
      "metadata": {
        "colab": {
          "base_uri": "https://localhost:8080/"
        },
        "id": "OH5SO1EEv2I4",
        "outputId": "a5ee9bd8-9ac2-47eb-bbe8-7cc55354e76f"
      },
      "outputs": [
        {
          "data": {
            "text/plain": [
              "array([14, 13, 10])"
            ]
          },
          "execution_count": 35,
          "metadata": {},
          "output_type": "execute_result"
        }
      ],
      "source": [
        "cm.sum(axis = 0)"
      ]
    },
    {
      "cell_type": "markdown",
      "metadata": {
        "id": "jmBQZwr2Sdr_"
      },
      "source": [
        "You can find the full list of mathematical functions provided by numpy in the [documentation](http://docs.scipy.org/doc/numpy/reference/routines.math.html).\n",
        "\n",
        "Apart from computing mathematical functions using arrays, we frequently need to reshape or otherwise manipulate data in arrays. The simplest example of this type of operation is transposing a matrix; to transpose a matrix, simply use the T attribute of an array object:"
      ]
    },
    {
      "cell_type": "code",
      "execution_count": 44,
      "metadata": {
        "colab": {
          "base_uri": "https://localhost:8080/"
        },
        "id": "lpZVuYOJSdr_",
        "outputId": "82c1075c-2904-477e-c221-c73ab4a50318"
      },
      "outputs": [
        {
          "name": "stdout",
          "output_type": "stream",
          "text": [
            "[[1 2 3]\n",
            " [6 3 8]\n",
            " [8 3 4]]\n",
            "transpose\n",
            " [[1 6 8]\n",
            " [2 3 3]\n",
            " [3 8 4]]\n"
          ]
        }
      ],
      "source": [
        "print(x)\n",
        "print(\"transpose\\n\",\n",
        "        x.T\n",
        "        )  # T is capital   Transpose"
      ]
    },
    {
      "cell_type": "code",
      "execution_count": 45,
      "metadata": {
        "colab": {
          "base_uri": "https://localhost:8080/"
        },
        "id": "EKDXKdsXSdsA",
        "outputId": "df25c96f-ab40-49d6-ba31-a7a47279a133"
      },
      "outputs": [
        {
          "name": "stdout",
          "output_type": "stream",
          "text": [
            "[[1 2 3]]\n",
            "transpose\n",
            " [[1]\n",
            " [2]\n",
            " [3]]\n"
          ]
        }
      ],
      "source": [
        "v = np.array([[1,2,3]])\n",
        "print( v )\n",
        "print( \"transpose\\n\", v.T   )"
      ]
    },
    {
      "cell_type": "markdown",
      "metadata": {
        "id": "ypgjoJ_NSdsA"
      },
      "source": [
        " 2 3 6 1 2 5\n",
        "\n",
        " n = 6\n",
        "\n",
        " sum = 19\n",
        "\n",
        " mean = sum / n    >> Average\n"
      ]
    },
    {
      "cell_type": "code",
      "execution_count": 47,
      "metadata": {
        "colab": {
          "base_uri": "https://localhost:8080/"
        },
        "id": "Uis6nEwj0rlf",
        "outputId": "98a75dc1-401b-4c1f-ee33-0aa991d32876"
      },
      "outputs": [
        {
          "data": {
            "text/plain": [
              "array([1, 2, 3, 4, 5, 6])"
            ]
          },
          "execution_count": 47,
          "metadata": {},
          "output_type": "execute_result"
        }
      ],
      "source": [
        "x=np.arange(1,7)\n",
        "x"
      ]
    },
    {
      "cell_type": "code",
      "execution_count": 48,
      "metadata": {
        "colab": {
          "base_uri": "https://localhost:8080/"
        },
        "id": "OrLyyc4i198-",
        "outputId": "c238a9ce-df38-4f2d-fbe1-3603b0b46d6a"
      },
      "outputs": [
        {
          "data": {
            "text/plain": [
              "6"
            ]
          },
          "execution_count": 48,
          "metadata": {},
          "output_type": "execute_result"
        }
      ],
      "source": [
        "n = len(x)\n",
        "n"
      ]
    },
    {
      "cell_type": "code",
      "execution_count": 49,
      "metadata": {
        "colab": {
          "base_uri": "https://localhost:8080/"
        },
        "id": "D0SyAINx2DDG",
        "outputId": "1b721f2a-c175-4f4e-d494-946a27004d1b"
      },
      "outputs": [
        {
          "data": {
            "text/plain": [
              "21"
            ]
          },
          "execution_count": 49,
          "metadata": {},
          "output_type": "execute_result"
        }
      ],
      "source": [
        "sum = np.sum(x)\n",
        "sum"
      ]
    },
    {
      "cell_type": "code",
      "execution_count": 50,
      "metadata": {
        "colab": {
          "base_uri": "https://localhost:8080/"
        },
        "id": "Z6N7IlNu2Ha_",
        "outputId": "01c03d56-7230-45f4-f9d8-06dbf8a0bfaf"
      },
      "outputs": [
        {
          "data": {
            "text/plain": [
              "3.5"
            ]
          },
          "execution_count": 50,
          "metadata": {},
          "output_type": "execute_result"
        }
      ],
      "source": [
        "mean = sum / n\n",
        "mean"
      ]
    },
    {
      "cell_type": "code",
      "execution_count": 51,
      "metadata": {
        "colab": {
          "base_uri": "https://localhost:8080/"
        },
        "id": "294V4T722O9X",
        "outputId": "93c1b6b8-5f63-4c5b-86d2-dc49e75e07c7"
      },
      "outputs": [
        {
          "data": {
            "text/plain": [
              "3.5"
            ]
          },
          "execution_count": 51,
          "metadata": {},
          "output_type": "execute_result"
        }
      ],
      "source": [
        "np.mean(x)"
      ]
    },
    {
      "cell_type": "code",
      "execution_count": 52,
      "metadata": {
        "colab": {
          "base_uri": "https://localhost:8080/"
        },
        "id": "JlbkYirWSdsA",
        "outputId": "b7d3ba78-d17f-4794-bd47-0af5cb1682c7"
      },
      "outputs": [
        {
          "data": {
            "text/plain": [
              "array([[1, 2, 3],\n",
              "       [4, 5, 6]])"
            ]
          },
          "execution_count": 52,
          "metadata": {},
          "output_type": "execute_result"
        }
      ],
      "source": [
        "x=np.arange(1,7).reshape(2,3)\n",
        "x"
      ]
    },
    {
      "cell_type": "code",
      "execution_count": null,
      "metadata": {
        "id": "uLx4e7L3SdsA",
        "outputId": "aed45f55-a562-4341-f131-298ef7f5142f"
      },
      "outputs": [
        {
          "data": {
            "text/plain": [
              "array([2.5, 3.5, 4.5])"
            ]
          },
          "metadata": {},
          "output_type": "display_data"
        }
      ],
      "source": [
        "np.mean(x, axis = 0)  # mean over columns"
      ]
    },
    {
      "cell_type": "code",
      "execution_count": null,
      "metadata": {
        "id": "e0ANSbqBSdsA",
        "outputId": "99a57b78-1276-4e84-811c-eb17efce3e93"
      },
      "outputs": [
        {
          "data": {
            "text/plain": [
              "array([2.5, 3.5, 4.5])"
            ]
          },
          "metadata": {},
          "output_type": "display_data"
        }
      ],
      "source": [
        "np.median(x, axis = 0)"
      ]
    },
    {
      "cell_type": "code",
      "execution_count": 53,
      "metadata": {
        "colab": {
          "base_uri": "https://localhost:8080/"
        },
        "id": "fTRi1Dw1SdsA",
        "outputId": "bae07418-7520-4f07-e7ae-d9873fa0c3a6"
      },
      "outputs": [
        {
          "data": {
            "text/plain": [
              "array([1, 2, 3])"
            ]
          },
          "execution_count": 53,
          "metadata": {},
          "output_type": "execute_result"
        }
      ],
      "source": [
        "np.min(x,axis=0)"
      ]
    },
    {
      "cell_type": "code",
      "execution_count": 54,
      "metadata": {
        "colab": {
          "base_uri": "https://localhost:8080/"
        },
        "id": "aHKteOdISdsA",
        "outputId": "908f75f3-a117-4c4c-e9da-cb9063c81a17"
      },
      "outputs": [
        {
          "data": {
            "text/plain": [
              "array([4, 5, 6])"
            ]
          },
          "execution_count": 54,
          "metadata": {},
          "output_type": "execute_result"
        }
      ],
      "source": [
        "np.max(x,axis=0)"
      ]
    },
    {
      "cell_type": "markdown",
      "metadata": {
        "id": "0YEYEN5gSdsA"
      },
      "source": [
        "## Exercise"
      ]
    },
    {
      "cell_type": "markdown",
      "metadata": {
        "id": "xlYvu-jQSdsA"
      },
      "source": [
        "calculate mean of array 4 * 3 with integr random\n",
        "\n",
        "\n",
        "\n",
        "1- print  sum total array\n",
        "\n",
        "2- print mean every columns\n",
        "\n",
        "3- print median every columns\n",
        "\n",
        "4- print min every columns\n",
        "\n"
      ]
    },
    {
      "cell_type": "code",
      "execution_count": null,
      "metadata": {
        "id": "gHGEDOyaSdsB",
        "outputId": "834fa6a6-4a9c-4109-e11e-dae678e18a65"
      },
      "outputs": [
        {
          "data": {
            "text/plain": [
              "array([[ 0,  1,  2,  3,  4],\n",
              "       [ 5,  6,  7,  8,  9],\n",
              "       [10, 11, 12, 13, 14],\n",
              "       [15, 16, 17, 18, 19]])"
            ]
          },
          "metadata": {},
          "output_type": "display_data"
        }
      ],
      "source": [
        "x = np.array([\n",
        "            [0,1,2,3,4],\n",
        "            [5,6,7,8,9],\n",
        "            [10,11,12,13,14],\n",
        "            [15,16,17,18,19]\n",
        "            ])\n",
        "x"
      ]
    },
    {
      "cell_type": "markdown",
      "metadata": {
        "id": "WwOH9EleSdsB"
      },
      "source": [
        "1-"
      ]
    },
    {
      "cell_type": "code",
      "execution_count": null,
      "metadata": {
        "id": "kO4tdFd_SdsB",
        "outputId": "5dd7d145-c98a-414a-b698-c618c15e68b3"
      },
      "outputs": [
        {
          "name": "stdout",
          "output_type": "stream",
          "text": [
            "9.5\n"
          ]
        }
      ],
      "source": [
        "print(np.mean(x))"
      ]
    },
    {
      "cell_type": "markdown",
      "metadata": {
        "id": "_0Cg84Z-SdsB"
      },
      "source": [
        "2-"
      ]
    },
    {
      "cell_type": "code",
      "execution_count": null,
      "metadata": {
        "id": "1rhfXqGzSdsB",
        "outputId": "a3d7a5ec-7147-4ddc-832a-2435552b0ccd"
      },
      "outputs": [
        {
          "name": "stdout",
          "output_type": "stream",
          "text": [
            "[ 7.5  8.5  9.5 10.5 11.5]\n"
          ]
        }
      ],
      "source": [
        "print(np.mean(x,axis = 0))"
      ]
    },
    {
      "cell_type": "markdown",
      "metadata": {
        "id": "i0DTCfk2SdsB"
      },
      "source": [
        "3-\n"
      ]
    },
    {
      "cell_type": "code",
      "execution_count": null,
      "metadata": {
        "id": "NJdUEk8ASdsB",
        "outputId": "7c8662ef-815e-4fea-e8b4-f01d48fb1600"
      },
      "outputs": [
        {
          "name": "stdout",
          "output_type": "stream",
          "text": [
            "[ 7.5  8.5  9.5 10.5 11.5]\n"
          ]
        }
      ],
      "source": [
        "print(np.median(x,axis = 0))"
      ]
    },
    {
      "cell_type": "markdown",
      "metadata": {
        "id": "FRPBQXjJSdsB"
      },
      "source": [
        "## Reference & Credits:\n",
        "\n",
        "The tutorial above is a combination of the code/instructions created by\n",
        "\n",
        "Eng / Mahmoud Khorshed"
      ]
    }
  ],
  "metadata": {
    "colab": {
      "collapsed_sections": [
        "hwaS7A_vSdrx",
        "NTvItANVSdr4",
        "0YEYEN5gSdsA"
      ],
      "provenance": []
    },
    "kernelspec": {
      "display_name": "Python 3",
      "name": "python3"
    },
    "language_info": {
      "codemirror_mode": {
        "name": "ipython",
        "version": 3
      },
      "file_extension": ".py",
      "mimetype": "text/x-python",
      "name": "python",
      "nbconvert_exporter": "python",
      "pygments_lexer": "ipython3",
      "version": "3.11.5"
    }
  },
  "nbformat": 4,
  "nbformat_minor": 0
}
